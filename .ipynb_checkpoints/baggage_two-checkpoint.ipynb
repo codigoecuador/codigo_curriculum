{
 "cells": [
  {
   "cell_type": "code",
   "execution_count": 147,
   "metadata": {},
   "outputs": [],
   "source": [
    "from typing import NamedTuple, List\n",
    "from dataclasses import dataclass\n",
    "import datetime"
   ]
  },
  {
   "cell_type": "markdown",
   "metadata": {},
   "source": [
    "Let's start our packing exercise by looking at what we cannot change. When we are packing our items, we cannot change how big or heavy they are. Let's use a NamedTuple class to create an item."
   ]
  },
  {
   "cell_type": "code",
   "execution_count": 148,
   "metadata": {},
   "outputs": [],
   "source": [
    "class Item(NamedTuple):\n",
    "    weight: int = 0\n",
    "    length: float = 0\n",
    "    width: float = 0\n",
    "    height: float = 0\n",
    "    \n",
    "    @property\n",
    "    def volume(self): #It is a normal class so we can create properties\n",
    "        return self.length * self.width * self.height"
   ]
  },
  {
   "cell_type": "code",
   "execution_count": 149,
   "metadata": {},
   "outputs": [],
   "source": [
    "shoe = Item(weight=1, length=7, width=3, height=4)"
   ]
  },
  {
   "cell_type": "markdown",
   "metadata": {},
   "source": [
    "Now let's create a box that we can use to store the items."
   ]
  },
  {
   "cell_type": "code",
   "execution_count": 150,
   "metadata": {},
   "outputs": [],
   "source": [
    "class Box:\n",
    "    \n",
    "    def __init__(self, label: str, length: float, width: float, height: float, items: list() = [],\n",
    "                is_closed: bool = False):\n",
    "        self.label = label\n",
    "        self.length = length\n",
    "        self.width = width\n",
    "        self.height = height\n",
    "        self.items = items\n",
    "        self.volume = length * width * height\n",
    "        self.__free_space = self.volume - sum([i.volume for i in items])\n",
    "        self.is_closed = is_closed\n",
    "        \n",
    "    def add_item(self, item):\n",
    "        if self.free_space <= 0:\n",
    "            print('Warning: box is full')\n",
    "        #if type(item) == 'Item': #make sure it is an item\n",
    "        self.items.append(item)\n",
    "        self.__free_space -= item.volume\n",
    "\n",
    "    def remove_item(self, item):\n",
    "        self.items.pop(item)\n",
    "        self.__free_space += item.volume\n",
    "        \n",
    "    def close_box(self):\n",
    "        if self.__free_space <= 0:\n",
    "            raise Exception('Box is full! Remove items to close.')\n",
    "        else:\n",
    "            self.is_closed = True\n",
    "            print('Box closed')\n",
    "            \n",
    "    @property\n",
    "    def weight(self):\n",
    "        return sum([i.weight for i in self.items])\n",
    "\n",
    "    @property\n",
    "    def free_space(self):\n",
    "        return self.__free_space\n",
    "        \n",
    "    @property\n",
    "    def baggage_fee(self):\n",
    "        if self.weight <= 35:\n",
    "            return 10\n",
    "        else:\n",
    "            return 15"
   ]
  },
  {
   "cell_type": "code",
   "execution_count": 151,
   "metadata": {},
   "outputs": [],
   "source": [
    "box_one = Box(label='Shoes', length=15.0, width=15.0, height=15.0)"
   ]
  },
  {
   "cell_type": "code",
   "execution_count": 152,
   "metadata": {},
   "outputs": [
    {
     "data": {
      "text/plain": [
       "3375.0"
      ]
     },
     "execution_count": 152,
     "metadata": {},
     "output_type": "execute_result"
    }
   ],
   "source": [
    "box_one.volume"
   ]
  },
  {
   "cell_type": "code",
   "execution_count": 153,
   "metadata": {},
   "outputs": [],
   "source": [
    "box_one.add_item(shoe)"
   ]
  },
  {
   "cell_type": "code",
   "execution_count": 154,
   "metadata": {},
   "outputs": [
    {
     "data": {
      "text/plain": [
       "3291.0"
      ]
     },
     "execution_count": 154,
     "metadata": {},
     "output_type": "execute_result"
    }
   ],
   "source": [
    "box_one.free_space #now we have less free space than before, because we added a shoe to the box"
   ]
  },
  {
   "cell_type": "code",
   "execution_count": 155,
   "metadata": {},
   "outputs": [],
   "source": [
    "box_one.add_item(shoe)"
   ]
  },
  {
   "cell_type": "code",
   "execution_count": 156,
   "metadata": {},
   "outputs": [
    {
     "data": {
      "text/plain": [
       "3207.0"
      ]
     },
     "execution_count": 156,
     "metadata": {},
     "output_type": "execute_result"
    }
   ],
   "source": [
    "box_one.free_space"
   ]
  },
  {
   "cell_type": "code",
   "execution_count": 157,
   "metadata": {},
   "outputs": [
    {
     "data": {
      "text/plain": [
       "2"
      ]
     },
     "execution_count": 157,
     "metadata": {},
     "output_type": "execute_result"
    }
   ],
   "source": [
    "box_one.weight"
   ]
  },
  {
   "cell_type": "code",
   "execution_count": 197,
   "metadata": {},
   "outputs": [],
   "source": [
    "@dataclass\n",
    "class Passenger:\n",
    "    __ticket_types = {'regular': 10, 'first class':15}\n",
    "    name: str\n",
    "    ticket_type: str = 'regular'\n",
    "    baggage = []\n",
    "    \n",
    "    def add_box(self, box: Box) -> None: #type hints show we are using a Box as the argument\n",
    "        if box.is_closed == True:\n",
    "            self.baggage.append(box)\n",
    "        else:\n",
    "            print('You cannot pack an open box')\n",
    "        \n",
    "        \n",
    "    @property\n",
    "    def ticket_price(self):\n",
    "        if self.ticket_type in self.__ticket_types.keys():\n",
    "            return self.__ticket_types[self.ticket_type]\n",
    "        \n",
    "    @property\n",
    "    def baggage_fee(self):\n",
    "        fees = [i.baggage_fee for i in self.baggage]\n",
    "        total_fees = sum(fees)\n",
    "        return total_fees"
   ]
  },
  {
   "cell_type": "code",
   "execution_count": 198,
   "metadata": {},
   "outputs": [],
   "source": [
    "ts = Passenger(name = 'Thomas Sullivan', ticket_type='regular')"
   ]
  },
  {
   "cell_type": "code",
   "execution_count": 199,
   "metadata": {},
   "outputs": [
    {
     "data": {
      "text/plain": [
       "10"
      ]
     },
     "execution_count": 199,
     "metadata": {},
     "output_type": "execute_result"
    }
   ],
   "source": [
    "ts.ticket_price"
   ]
  },
  {
   "cell_type": "code",
   "execution_count": 200,
   "metadata": {},
   "outputs": [
    {
     "data": {
      "text/plain": [
       "10"
      ]
     },
     "execution_count": 200,
     "metadata": {},
     "output_type": "execute_result"
    }
   ],
   "source": [
    "ts.baggage.append(box_one)\n",
    "ts.baggage_fee"
   ]
  },
  {
   "cell_type": "code",
   "execution_count": 201,
   "metadata": {},
   "outputs": [],
   "source": [
    "@dataclass\n",
    "class Vehicle:\n",
    "    vehicle_type: str\n",
    "    seats: int"
   ]
  },
  {
   "cell_type": "code",
   "execution_count": 202,
   "metadata": {},
   "outputs": [],
   "source": [
    "@dataclass\n",
    "class Trip:\n",
    "    \n",
    "    driver: str\n",
    "    start_location: str\n",
    "    end_location: str\n",
    "    departure_time: datetime.datetime\n",
    "    arrival_time: datetime.datetime\n",
    "    passengers: List[Passenger]\n",
    "        \n",
    "    @property\n",
    "    def duration(self):\n",
    "        td = self.arrival_time - self.departure_time\n",
    "        return td.days, td.seconds//3600, (td.seconds//60)%60\n",
    "    \n",
    "    @property\n",
    "    def ticket_earnings(self):\n",
    "        earnings = [passenger.ticket_price for passenger in self.passengers]\n",
    "        return sum(earnings)\n",
    "    \n",
    "    @property\n",
    "    def baggage_earnings(self):\n",
    "        baggage_earnings = [passenger.baggage_fee for passenger in self.passengers]\n",
    "        return sum(baggage_earnings)\n",
    "    \n",
    "    @property\n",
    "    def total_revenue(self):\n",
    "        total_revenue = self.baggage_earnings + self.ticket_earnings\n",
    "        return total_revenue\n",
    "    "
   ]
  },
  {
   "cell_type": "code",
   "execution_count": 203,
   "metadata": {},
   "outputs": [],
   "source": [
    "now = datetime.datetime.now()"
   ]
  },
  {
   "cell_type": "code",
   "execution_count": 204,
   "metadata": {},
   "outputs": [],
   "source": [
    "now2 = datetime.timedelta(hours=6)"
   ]
  },
  {
   "cell_type": "code",
   "execution_count": 205,
   "metadata": {},
   "outputs": [],
   "source": [
    "new_trip = Trip(driver='Isaac Smith', start_location='Quito', end_location='Villcabamba', \n",
    "               departure_time = now, arrival_time = now+now2, passengers = [ts]) "
   ]
  },
  {
   "cell_type": "code",
   "execution_count": 206,
   "metadata": {},
   "outputs": [
    {
     "data": {
      "text/plain": [
       "(0, 6, 0)"
      ]
     },
     "execution_count": 206,
     "metadata": {},
     "output_type": "execute_result"
    }
   ],
   "source": [
    "new_trip.duration"
   ]
  },
  {
   "cell_type": "code",
   "execution_count": 207,
   "metadata": {},
   "outputs": [
    {
     "data": {
      "text/plain": [
       "10"
      ]
     },
     "execution_count": 207,
     "metadata": {},
     "output_type": "execute_result"
    }
   ],
   "source": [
    "new_trip.ticket_earnings"
   ]
  },
  {
   "cell_type": "code",
   "execution_count": 215,
   "metadata": {},
   "outputs": [
    {
     "data": {
      "text/plain": [
       "20"
      ]
     },
     "execution_count": 215,
     "metadata": {},
     "output_type": "execute_result"
    }
   ],
   "source": [
    "new_trip.baggage_earnings"
   ]
  },
  {
   "cell_type": "code",
   "execution_count": 209,
   "metadata": {},
   "outputs": [
    {
     "data": {
      "text/plain": [
       "20"
      ]
     },
     "execution_count": 209,
     "metadata": {},
     "output_type": "execute_result"
    }
   ],
   "source": [
    "new_trip.total_revenue"
   ]
  },
  {
   "cell_type": "code",
   "execution_count": 210,
   "metadata": {},
   "outputs": [],
   "source": [
    "box_two = Box(label='Books', length=15.0, width=15.0, height=15.0)"
   ]
  },
  {
   "cell_type": "code",
   "execution_count": 211,
   "metadata": {},
   "outputs": [],
   "source": [
    "box_two.add_item(Item(weight=2.2, height=8, width=6, length=2))"
   ]
  },
  {
   "cell_type": "code",
   "execution_count": 212,
   "metadata": {},
   "outputs": [
    {
     "name": "stdout",
     "output_type": "stream",
     "text": [
      "You cannot pack an open box\n"
     ]
    }
   ],
   "source": [
    "ts.add_box(box_two)"
   ]
  },
  {
   "cell_type": "code",
   "execution_count": 213,
   "metadata": {},
   "outputs": [
    {
     "name": "stdout",
     "output_type": "stream",
     "text": [
      "Box closed\n"
     ]
    }
   ],
   "source": [
    "box_two.close_box()"
   ]
  },
  {
   "cell_type": "code",
   "execution_count": 214,
   "metadata": {},
   "outputs": [],
   "source": [
    "ts.add_box(box_two)"
   ]
  },
  {
   "cell_type": "markdown",
   "metadata": {},
   "source": [
    "We can now calculate the total revenue for the trip, but what if we want to calculate the earnings, or profit. We have to add attributes to the Trip object that will help to determine the total cost."
   ]
  },
  {
   "cell_type": "code",
   "execution_count": null,
   "metadata": {},
   "outputs": [],
   "source": []
  }
 ],
 "metadata": {
  "kernelspec": {
   "display_name": "Python 3",
   "language": "python",
   "name": "python3"
  },
  "language_info": {
   "codemirror_mode": {
    "name": "ipython",
    "version": 3
   },
   "file_extension": ".py",
   "mimetype": "text/x-python",
   "name": "python",
   "nbconvert_exporter": "python",
   "pygments_lexer": "ipython3",
   "version": "3.7.5"
  }
 },
 "nbformat": 4,
 "nbformat_minor": 4
}
