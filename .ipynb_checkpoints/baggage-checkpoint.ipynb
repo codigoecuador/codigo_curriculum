{
 "cells": [
  {
   "cell_type": "markdown",
   "metadata": {},
   "source": [
    "You are scheduled to take a flight, and you have five boxes to take with you. The airline's fees\n",
    "for checked bags are:\n",
    "\n",
    "31.00 for a carry on bag\n",
    "26.00 for the first checked bag\n",
    "36.00 for the second checked bag\n",
    "76.00 for the third to fifth checked bags\n",
    "\n",
    "Create classes for bags and baggage fees to calculate the total baggage fee for the flight.\n",
    "\n",
    "There is no single right answer. You can use custom objects and any combination of the data structures we have learned so far."
   ]
  },
  {
   "cell_type": "code",
   "execution_count": 1,
   "metadata": {},
   "outputs": [],
   "source": [
    "from typing import NamedTuple, List, Dict, Generic, TypeVar\n",
    "from dataclasses import dataclass"
   ]
  },
  {
   "cell_type": "code",
   "execution_count": 2,
   "metadata": {},
   "outputs": [],
   "source": [
    "BaggageItem = TypeVar('BagggageItem')"
   ]
  },
  {
   "cell_type": "code",
   "execution_count": 3,
   "metadata": {},
   "outputs": [],
   "source": [
    "@dataclass\n",
    "class Bag(Generic[BaggageItem]):\n",
    "    #initial weight limit is 40, higher weight limit is 50\n",
    "    weight_limit: int = 40 #weight limit for all bags\n",
    "    weight: int = 0\n",
    "    base_cost: int = 26\n",
    "    is_carryon: bool = False\n",
    "    \n",
    "    @property\n",
    "    def is_overweight(self) -> bool:\n",
    "        if self.weight >= self.weight_limit:\n",
    "            return True\n",
    "        else:\n",
    "            return False"
   ]
  },
  {
   "cell_type": "code",
   "execution_count": 20,
   "metadata": {},
   "outputs": [],
   "source": [
    "@dataclass\n",
    "class Baggage(Generic[BaggageItem]):\n",
    "    surcharges = {1: 10, 2: 40, 3: 40, 4: 40, 5: 40}\n",
    "    baggage_surcharges: Dict[int, Bag]\n",
    "    bags: List[Bag]\n",
    "    \n",
    "    @property\n",
    "    def checked_weight(self):\n",
    "        checked_weights = [i.weight for i in checked_bags]\n",
    "        return sum(checked_weights)\n",
    "    \n",
    "    def __fee_before_addons(self):\n",
    "        paid_bags = [i for i in self.bags if i.is_carryon == False]\n",
    "        total_cost = sum([i.base_cost for i in paid_bags])\n",
    "        return total_cost\n",
    "        \n",
    "    @property\n",
    "    def baggage_fee(self):\n",
    "        base_cost = self.__fee_before_addons()\n",
    "        num_bags = len(base_cost)\n",
    "        for i in range(1, num_bags+1):\n",
    "            base_cost += surcharges[i]\n",
    "        return base_cost"
   ]
  },
  {
   "cell_type": "code",
   "execution_count": 21,
   "metadata": {},
   "outputs": [],
   "source": [
    "bag_one = Bag(weight = 39, is_carryon=False)"
   ]
  },
  {
   "cell_type": "code",
   "execution_count": 22,
   "metadata": {},
   "outputs": [
    {
     "data": {
      "text/plain": [
       "False"
      ]
     },
     "execution_count": 22,
     "metadata": {},
     "output_type": "execute_result"
    }
   ],
   "source": [
    "bag_one.is_overweight"
   ]
  },
  {
   "cell_type": "code",
   "execution_count": 23,
   "metadata": {},
   "outputs": [],
   "source": [
    "bag_two = Bag(weight = 45)"
   ]
  },
  {
   "cell_type": "code",
   "execution_count": 24,
   "metadata": {},
   "outputs": [
    {
     "data": {
      "text/plain": [
       "True"
      ]
     },
     "execution_count": 24,
     "metadata": {},
     "output_type": "execute_result"
    }
   ],
   "source": [
    "bag_two.is_overweight"
   ]
  },
  {
   "cell_type": "code",
   "execution_count": 25,
   "metadata": {},
   "outputs": [
    {
     "data": {
      "text/plain": [
       "Bag(weight_limit=40, weight=39, base_cost=26, is_carryon=False)"
      ]
     },
     "execution_count": 25,
     "metadata": {},
     "output_type": "execute_result"
    }
   ],
   "source": [
    "bag_one"
   ]
  },
  {
   "cell_type": "code",
   "execution_count": 27,
   "metadata": {},
   "outputs": [
    {
     "ename": "TypeError",
     "evalue": "__init__() missing 1 required positional argument: 'baggage_surcharges'",
     "output_type": "error",
     "traceback": [
      "\u001b[0;31m---------------------------------------------------------------------------\u001b[0m",
      "\u001b[0;31mTypeError\u001b[0m                                 Traceback (most recent call last)",
      "\u001b[0;32m<ipython-input-27-37c5a7f8841f>\u001b[0m in \u001b[0;36m<module>\u001b[0;34m\u001b[0m\n\u001b[0;32m----> 1\u001b[0;31m \u001b[0mbags_for_trip\u001b[0m \u001b[0;34m=\u001b[0m \u001b[0mBaggage\u001b[0m\u001b[0;34m(\u001b[0m\u001b[0mbags\u001b[0m\u001b[0;34m=\u001b[0m\u001b[0;34m[\u001b[0m\u001b[0mbag_one\u001b[0m\u001b[0;34m]\u001b[0m\u001b[0;34m)\u001b[0m\u001b[0;34m\u001b[0m\u001b[0;34m\u001b[0m\u001b[0m\n\u001b[0m",
      "\u001b[0;31mTypeError\u001b[0m: __init__() missing 1 required positional argument: 'baggage_surcharges'"
     ]
    }
   ],
   "source": [
    "bags_for_trip = Baggage(bags=[bag_one])"
   ]
  },
  {
   "cell_type": "code",
   "execution_count": 105,
   "metadata": {},
   "outputs": [
    {
     "data": {
      "text/plain": [
       "26"
      ]
     },
     "execution_count": 105,
     "metadata": {},
     "output_type": "execute_result"
    }
   ],
   "source": [
    "bags_for_trip.baggage_fee"
   ]
  },
  {
   "cell_type": "code",
   "execution_count": null,
   "metadata": {},
   "outputs": [],
   "source": []
  }
 ],
 "metadata": {
  "kernelspec": {
   "display_name": "Python 3",
   "language": "python",
   "name": "python3"
  },
  "language_info": {
   "codemirror_mode": {
    "name": "ipython",
    "version": 3
   },
   "file_extension": ".py",
   "mimetype": "text/x-python",
   "name": "python",
   "nbconvert_exporter": "python",
   "pygments_lexer": "ipython3",
   "version": "3.7.4"
  }
 },
 "nbformat": 4,
 "nbformat_minor": 4
}
