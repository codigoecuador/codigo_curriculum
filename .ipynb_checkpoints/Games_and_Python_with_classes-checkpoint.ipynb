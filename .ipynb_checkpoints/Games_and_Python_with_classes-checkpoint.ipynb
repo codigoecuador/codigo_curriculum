{
 "cells": [
  {
   "cell_type": "code",
   "execution_count": 1,
   "metadata": {},
   "outputs": [],
   "source": [
    "#This exercise will use Python to solve a surprisingly tricky question about\n",
    "#6 sided dice. \n",
    "\n",
    "#Write a program to calculate the possibility of getting a 7 when\n",
    "#you roll two dice.\n",
    "\n",
    "#Calculate the possibility that ONE of the dice is not a 4"
   ]
  },
  {
   "cell_type": "code",
   "execution_count": 33,
   "metadata": {},
   "outputs": [
    {
     "name": "stdout",
     "output_type": "stream",
     "text": [
      "Dice roll result: 3\n",
      "Max roll value: 12\n",
      "Min roll value: 2\n",
      "Result range for 2 dice is: 10\n"
     ]
    }
   ],
   "source": [
    "import random\n",
    "\n",
    "#rng = random.systemrandom\n",
    "#roll = rng.randint(0, 7)\n",
    "\n",
    "def roll_dice():\n",
    "    rng = random.SystemRandom()\n",
    "    roll = rng.randint(1, 6)\n",
    "    return roll\n",
    "\n",
    "def max_roll_value(num_dice, dice_sides):\n",
    "    assert num_dice >= 0, 'number of dice must be zero or higher'\n",
    "    return num_dice * dice_sides\n",
    "\n",
    "def min_roll_value(num_dice):\n",
    "    '''The lowest you can get on any dice is a 1, so we just need to return the number\n",
    "    of dice'''\n",
    "    assert num_dice >=0\n",
    "    return num_dice\n",
    "\n",
    "def result_range(num_dice, dice_sides):\n",
    "    '''Calculates the range of results you will get if you roll any number of dice \n",
    "    with any number of sides. For example two dice with 6 sides is result_range(2, 6)'''\n",
    "    \n",
    "    result = max_roll_value(num_dice, dice_sides) - min_roll_value(num_dice)\n",
    "    return result\n",
    "\n",
    "#Potential to teach multithreading.\n",
    "#Mathematics of rolling the dice.\n",
    "    \n",
    "dice_roll = roll_dice()\n",
    "    \n",
    "print('Dice roll result: {0}'.format(dice_roll))\n",
    "print('Max roll value: {0}'.format(max_roll_value(2, 6)))\n",
    "print('Min roll value: {0}'.format(min_roll_value(2)))\n",
    "print('Result range for 2 dice is: {0}'.format(result_range(2, 6)))"
   ]
  },
  {
   "cell_type": "code",
   "execution_count": 44,
   "metadata": {},
   "outputs": [],
   "source": [
    "#Let's use the dice to illustrate the concept of object oriented programming.\n",
    "import random\n",
    "\n",
    "class Dice:\n",
    "    def __init__(self, sides=6, current_value=1):\n",
    "        self.num_sides = sides\n",
    "        #self.min_value = min_value\n",
    "        #self.max_value = max_value\n",
    "        self.current_value = current_value #default current value = 1\n",
    "    \n",
    "    def roll_dice(self):\n",
    "        old_value = self.current_value\n",
    "        new_value = random.randint(min_value, max_value)\n",
    "        self.current_value = new_value"
   ]
  },
  {
   "cell_type": "code",
   "execution_count": 45,
   "metadata": {},
   "outputs": [],
   "source": [
    "dice = Dice()"
   ]
  },
  {
   "cell_type": "code",
   "execution_count": null,
   "metadata": {},
   "outputs": [],
   "source": [
    "class Roll:\n",
    "    def __init__(self, num_dice, sides):\n",
    "        self.nu"
   ]
  }
 ],
 "metadata": {
  "kernelspec": {
   "display_name": "Python 3",
   "language": "python",
   "name": "python3"
  },
  "language_info": {
   "codemirror_mode": {
    "name": "ipython",
    "version": 3
   },
   "file_extension": ".py",
   "mimetype": "text/x-python",
   "name": "python",
   "nbconvert_exporter": "python",
   "pygments_lexer": "ipython3",
   "version": "3.7.4"
  }
 },
 "nbformat": 4,
 "nbformat_minor": 4
}
