{
 "cells": [
  {
   "cell_type": "markdown",
   "metadata": {},
   "source": [
    "Welcome to sql and python lesson 2. Last lesson, we created a basic database, added some data, tested it around, and deleted it. We used an in-memory database because we did not intend to keep the data.\n",
    "\n",
    "In this lesson, we will expand our sql database to save data to the\n",
    "disk, and to manipulate it using the Python REPL or terminal. We will stick to one table for this lesson. Next lesson, we will start learning how to use multiple tables.\n",
    "\n",
    "Let's start by importing the sqlite3 module again."
   ]
  },
  {
   "cell_type": "code",
   "execution_count": 1,
   "metadata": {},
   "outputs": [],
   "source": [
    "#Let's load the sqlite3 module\n",
    "import sqlite3 #imports the module sqlite3"
   ]
  },
  {
   "cell_type": "code",
   "execution_count": 2,
   "metadata": {},
   "outputs": [],
   "source": [
    "#this time, we will create a file in our working directory to store the database.\n",
    "db = sqlite3.connect('cities.db') #be sure the file ends with .db or .sql"
   ]
  },
  {
   "cell_type": "markdown",
   "metadata": {},
   "source": [
    "Note: If you're using Jupyter notebooks, you should see the 'tool_cooperative.db' file in your left panel. If you are using an IDE, you can find the file using the `os` and `glob` modules.\n",
    "\n",
    "Now let's create a cursor to connect to the database."
   ]
  },
  {
   "cell_type": "code",
   "execution_count": 3,
   "metadata": {},
   "outputs": [],
   "source": [
    "cur = db.cursor()"
   ]
  },
  {
   "cell_type": "markdown",
   "metadata": {},
   "source": [
    "Let's use this occasion to execute the SQL statements that will create the database ourselves. Let us first delete the \"cities\" table if it exists so we can create a new one."
   ]
  },
  {
   "cell_type": "code",
   "execution_count": 4,
   "metadata": {},
   "outputs": [],
   "source": [
    "#primary key is the key we will use to retrieve items for the database.\n",
    "\n",
    "sql_create_statement = ['create table cities (id integer primary key, name text not null, province text, \\\n",
    "                         country text not null, population integer)']\n",
    "\n",
    "#'not null' means we have to have a value for that field. \n",
    "\n",
    "#Note: you can use capital letters if you want. Much SQL code you'll encounter is in capitals\n",
    "#but using them is not required"
   ]
  },
  {
   "cell_type": "markdown",
   "metadata": {},
   "source": [
    "Now that we have our sql statement, let's execute it with the `cur.execute()` statement to run it and create the cities table in the database"
   ]
  },
  {
   "cell_type": "code",
   "execution_count": 5,
   "metadata": {},
   "outputs": [
    {
     "data": {
      "text/plain": [
       "<sqlite3.Cursor at 0x10473e880>"
      ]
     },
     "execution_count": 5,
     "metadata": {},
     "output_type": "execute_result"
    }
   ],
   "source": [
    "cur.execute(sql_create_statement[0])"
   ]
  },
  {
   "cell_type": "markdown",
   "metadata": {},
   "source": [
    "Now let's add Villcabamba as our first city. As you all know its in Loja province, Ecuador, with a \n",
    "population of approximately 4000."
   ]
  },
  {
   "cell_type": "code",
   "execution_count": 6,
   "metadata": {},
   "outputs": [
    {
     "data": {
      "text/plain": [
       "<sqlite3.Cursor at 0x10473e880>"
      ]
     },
     "execution_count": 6,
     "metadata": {},
     "output_type": "execute_result"
    }
   ],
   "source": [
    "cur.execute('insert into cities (ID, name, province, country, population) values (1, \"Villcabamba\", \"Loja\", \"Ecuador\", 4000)')"
   ]
  },
  {
   "cell_type": "markdown",
   "metadata": {},
   "source": [
    "We're about to retrieve the data on Villcabamba in a second, but before that, let's add Loja."
   ]
  },
  {
   "cell_type": "code",
   "execution_count": 7,
   "metadata": {},
   "outputs": [
    {
     "data": {
      "text/plain": [
       "<sqlite3.Cursor at 0x10473e880>"
      ]
     },
     "execution_count": 7,
     "metadata": {},
     "output_type": "execute_result"
    }
   ],
   "source": [
    "cur.execute('insert into cities (ID, name, province, country, population) values (2, \"Loja\", \"Loja\", \"Ecuador\", 4000)')"
   ]
  },
  {
   "cell_type": "markdown",
   "metadata": {},
   "source": [
    "Now we have two cities in our database. Let's commit the changes to make them permanent with `db.commit()`"
   ]
  },
  {
   "cell_type": "code",
   "execution_count": 12,
   "metadata": {},
   "outputs": [],
   "source": [
    "db.commit() #When we run db.commit, it saves the changes to the database.\n",
    "#You don't have to run it now, but its good practice to run it when you want to save changes"
   ]
  },
  {
   "cell_type": "code",
   "execution_count": 24,
   "metadata": {},
   "outputs": [
    {
     "name": "stdout",
     "output_type": "stream",
     "text": [
      "[(1, 'Villcabamba', 'Loja', 'Ecuador', 4000)]\n"
     ]
    }
   ],
   "source": [
    "#Now let's get the data for Villcambamba. We will start out with a simple query that retrieves all the \n",
    "#fields for it. Note that the ID field is a primary key and is created automatically.\n",
    "\n",
    "sql = 'select * from cities where name = \"Villcabamba\"'\n",
    "villcabamba = cur.execute(sql)\n",
    "print(villcabamba.fetchall())"
   ]
  },
  {
   "cell_type": "code",
   "execution_count": 27,
   "metadata": {},
   "outputs": [
    {
     "name": "stdout",
     "output_type": "stream",
     "text": [
      "[(2, 'Loja', 'Loja', 'Ecuador', 4000)]\n"
     ]
    }
   ],
   "source": [
    "#Let's suppose we only wanted to select Loja\n",
    "sql = 'select * from cities where name = \"Loja\"'\n",
    "loja = cur.execute(sql)\n",
    "print(loja.fetchall())"
   ]
  },
  {
   "cell_type": "code",
   "execution_count": 29,
   "metadata": {},
   "outputs": [
    {
     "name": "stdout",
     "output_type": "stream",
     "text": [
      "[('Villcabamba', 'Ecuador')]\n"
     ]
    }
   ],
   "source": [
    "#Now let's print only the names and country of Villcabamba\n",
    "sql = 'select name, country from cities where name = \"Villcabamba\"'\n",
    "villcabamba2 = cur.execute(sql)\n",
    "print(villcabamba2.fetchall())"
   ]
  },
  {
   "cell_type": "code",
   "execution_count": 36,
   "metadata": {},
   "outputs": [],
   "source": [
    "#Now let's create functions to search for items in the database. Note that we leave the connection open\n",
    "#after we add an item to the database.\n",
    "def add_city(name: str, province: str, country: str, population: int) -> None: #doesn't return anything\n",
    "    sql = '''insert into cities (name, province, country, population) values (?,?,?,?)'''\n",
    "    cur.execute(sql, (name, province, country, population))\n",
    "    "
   ]
  },
  {
   "cell_type": "code",
   "execution_count": 38,
   "metadata": {},
   "outputs": [],
   "source": [
    "add_city('Quito', 'Pichincha', 'Ecuador', 2700000)"
   ]
  },
  {
   "cell_type": "code",
   "execution_count": 41,
   "metadata": {},
   "outputs": [],
   "source": [
    "#Now let's look up cities with their cityID.\n",
    "def find_city(id: int):\n",
    "    sql = '''select id, name, province, country, population from cities\n",
    "    where id = ?'''\n",
    "    return cur.execute(sql, (id,)).fetchall()[0]"
   ]
  },
  {
   "cell_type": "code",
   "execution_count": 42,
   "metadata": {},
   "outputs": [
    {
     "data": {
      "text/plain": [
       "(1, 'Villcabamba', 'Loja', 'Ecuador', 4000)"
      ]
     },
     "execution_count": 42,
     "metadata": {},
     "output_type": "execute_result"
    }
   ],
   "source": [
    "find_city(1)"
   ]
  },
  {
   "cell_type": "code",
   "execution_count": 43,
   "metadata": {},
   "outputs": [
    {
     "data": {
      "text/plain": [
       "(2, 'Loja', 'Loja', 'Ecuador', 4000)"
      ]
     },
     "execution_count": 43,
     "metadata": {},
     "output_type": "execute_result"
    }
   ],
   "source": [
    "find_city(2)"
   ]
  },
  {
   "cell_type": "code",
   "execution_count": 44,
   "metadata": {},
   "outputs": [
    {
     "data": {
      "text/plain": [
       "(3, 'Quito', 'Pichincha', 'Ecuador', 2700000)"
      ]
     },
     "execution_count": 44,
     "metadata": {},
     "output_type": "execute_result"
    }
   ],
   "source": [
    "find_city(3)"
   ]
  },
  {
   "cell_type": "code",
   "execution_count": 45,
   "metadata": {},
   "outputs": [
    {
     "data": {
      "text/plain": [
       "(4, 'Quito', 'Pichincha', 'Ecuador', 2700000)"
      ]
     },
     "execution_count": 45,
     "metadata": {},
     "output_type": "execute_result"
    }
   ],
   "source": [
    "find_city(4)"
   ]
  },
  {
   "cell_type": "markdown",
   "metadata": {},
   "source": [
    "Let's have a function to delete a city from our database. Be very careful when deleting things in SQL, because there is no going back after you have committed the transaction."
   ]
  },
  {
   "cell_type": "code",
   "execution_count": 50,
   "metadata": {},
   "outputs": [],
   "source": [
    "def delete_city(id: int) -> None: #type hints are optional\n",
    "    sql = '''delete from cities where id = ?'''\n",
    "    cur.execute(sql, (id,))"
   ]
  },
  {
   "cell_type": "markdown",
   "metadata": {},
   "source": [
    "We found a mistake. It turns out we listed the inhabitants of the regions around Quito in its population instead of the city's population. Let's delete Quito and add it back with the new values."
   ]
  },
  {
   "cell_type": "code",
   "execution_count": 52,
   "metadata": {},
   "outputs": [],
   "source": [
    "delete_city(3) "
   ]
  },
  {
   "cell_type": "code",
   "execution_count": 53,
   "metadata": {},
   "outputs": [],
   "source": [
    "add_city('Quito', 'Pichincha', 'Ecuador', 1978376)"
   ]
  },
  {
   "cell_type": "code",
   "execution_count": 54,
   "metadata": {},
   "outputs": [
    {
     "data": {
      "text/plain": [
       "(3, 'Quito', 'Pichincha', 'Ecuador', 1978376)"
      ]
     },
     "execution_count": 54,
     "metadata": {},
     "output_type": "execute_result"
    }
   ],
   "source": [
    "#use find city to make sure its added\n",
    "find_city(3)"
   ]
  },
  {
   "cell_type": "markdown",
   "metadata": {},
   "source": [
    "That was somewhat complicated. We had to delete Quito and create it again. In the next lesson. we will learn how to update values in SQL. In the meantime, be sure and close the database properly with the `cur.close()`, `db.commit()`, and `db.close()`."
   ]
  },
  {
   "cell_type": "code",
   "execution_count": 55,
   "metadata": {},
   "outputs": [],
   "source": [
    "cur.close()\n",
    "db.commit()\n",
    "db.close()"
   ]
  },
  {
   "cell_type": "code",
   "execution_count": null,
   "metadata": {},
   "outputs": [],
   "source": []
  }
 ],
 "metadata": {
  "kernelspec": {
   "display_name": "Python 3",
   "language": "python",
   "name": "python3"
  },
  "language_info": {
   "codemirror_mode": {
    "name": "ipython",
    "version": 3
   },
   "file_extension": ".py",
   "mimetype": "text/x-python",
   "name": "python",
   "nbconvert_exporter": "python",
   "pygments_lexer": "ipython3",
   "version": "3.7.4"
  }
 },
 "nbformat": 4,
 "nbformat_minor": 4
}
