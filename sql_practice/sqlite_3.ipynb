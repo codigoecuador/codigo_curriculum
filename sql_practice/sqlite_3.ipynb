{
 "cells": [
  {
   "cell_type": "markdown",
   "metadata": {},
   "source": [
    "This lesson is optional, but very useful if you want a quick way to make a command line app with a database. My goal in creating it is to give you what I wish I had when I first started learning Python. The cmd library and sql can be combined to create a console application that can gather, process, and display data. \n",
    "\n",
    "In this lesson, we will show you how to construct a command line interface with sqlite and the cmd module. You can build a simple fully fledged data storage application using only the Python standard library!\n",
    "\n",
    "Don't try to memorize this lesson. Think of it as a template that you can cut and paste.\n",
    "\n",
    "We are going to keep our file from the previous database, cities.db. If you want, you can make a copy and use that one."
   ]
  },
  {
   "cell_type": "code",
   "execution_count": 1,
   "metadata": {},
   "outputs": [],
   "source": [
    "#The module that Python uses for the command line is called cmd, lets cut and paste some basic text here.\n",
    "#Let's also import sys, because this module needs to use it to quit.\n",
    "import cmd, sys\n",
    "import sqlite3"
   ]
  },
  {
   "cell_type": "code",
   "execution_count": 2,
   "metadata": {},
   "outputs": [],
   "source": [
    "class CitiesCMD(cmd.Cmd):\n",
    "    '''\n",
    "    This is the command line interface. Everything below this is for command\n",
    "    line items.\n",
    "    '''\n",
    "       \n",
    "    #all commands are prefixed with do_ or help_\n",
    "    #to enter the search command at the cli you type \"search\"\n",
    "    #to get help on it you enter \"help search\"\n",
    "    \n",
    "    intro = \"CityDBShell automates the process of collecting city data.\"\n",
    "    prompt = \"(CityDBShell) \"\n",
    "    entry = \"\"\n",
    "    \n",
    "    \n",
    "    def do_search(self, command):\n",
    "        print('we need to implement the search function')\n",
    "           \n",
    "    def help_search(self):\n",
    "        print('''Search function for finding cities.\n",
    "             ''')\n",
    "    \n",
    "    def do_quit(self, arg):\n",
    "        print(\"Quitting the program\")\n",
    "        sys.exit()\n",
    "        \n",
    "    def help_quit(self):\n",
    "        print('Exits the program')\n",
    "\n",
    "    def default(self, line):       \n",
    "        \"\"\"Called on an input line when the command prefix is not recognized.\n",
    "           In that case we execute the line as Python code.\n",
    "        \"\"\"\n",
    "        try:\n",
    "            exec(line) in self._locals, self._globals\n",
    "        except Exception as e:\n",
    "            print(e.__class__, \":\", e)  \n",
    "\n",
    "def main():\n",
    "    app = CitiesCMD().cmdloop()"
   ]
  },
  {
   "cell_type": "markdown",
   "metadata": {},
   "source": [
    "Confused about what the code above does? Let me tell you a secret. I am confused about it too. So let's test it. We start it by calling the `main()` function."
   ]
  },
  {
   "cell_type": "code",
   "execution_count": 3,
   "metadata": {},
   "outputs": [
    {
     "name": "stdout",
     "output_type": "stream",
     "text": [
      "CityDBShell automates the process of collecting city data.\n"
     ]
    },
    {
     "name": "stdin",
     "output_type": "stream",
     "text": [
      "(CityDBShell)  \n",
      "(CityDBShell)  \n",
      "(CityDBShell)  \n",
      "(CityDBShell)  exit\n"
     ]
    },
    {
     "name": "stdout",
     "output_type": "stream",
     "text": [
      "<class 'AttributeError'> : 'CitiesCMD' object has no attribute '_locals'\n"
     ]
    },
    {
     "name": "stdin",
     "output_type": "stream",
     "text": [
      "(CityDBShell)  quit\n"
     ]
    },
    {
     "name": "stdout",
     "output_type": "stream",
     "text": [
      "Quitting the program\n"
     ]
    },
    {
     "ename": "SystemExit",
     "evalue": "",
     "output_type": "error",
     "traceback": [
      "An exception has occurred, use %tb to see the full traceback.\n",
      "\u001b[0;31mSystemExit\u001b[0m\n"
     ]
    },
    {
     "name": "stderr",
     "output_type": "stream",
     "text": [
      "/Users/thomassullivan/data_science/anaconda3/envs/cy_practice/lib/python3.7/site-packages/IPython/core/interactiveshell.py:3334: UserWarning: To exit: use 'exit', 'quit', or Ctrl-D.\n",
      "  warn(\"To exit: use 'exit', 'quit', or Ctrl-D.\", stacklevel=1)\n"
     ]
    }
   ],
   "source": [
    "#Let's test it out, open it up and type \"search\", \"help search\", \"help\", and then \"quit\".\n",
    "main()"
   ]
  },
  {
   "cell_type": "markdown",
   "metadata": {},
   "source": [
    "Notice how `cmd` uses do_search for the search command function. Then it uses help_search for the search help function"
   ]
  },
  {
   "cell_type": "markdown",
   "metadata": {},
   "source": [
    "Notice how the CMD module creates a default structure for help commands!"
   ]
  },
  {
   "cell_type": "markdown",
   "metadata": {},
   "source": [
    "Let's keep this simple by copying all the functions into our cmd module from the previous lesson. We will start with the database connection. We create two global variables for cursor and db, to allow the cmd module to use those variables. We connect to the database with the db. We will also add the search function to the cmd module."
   ]
  },
  {
   "cell_type": "code",
   "execution_count": 4,
   "metadata": {},
   "outputs": [],
   "source": [
    "import cmd, sys\n",
    "import sqlite3\n",
    "\n",
    "cursor = None #global variable\n",
    "db = None #global variable\n",
    "\n",
    "def find_city(id: int):\n",
    "    sql = '''select name, province, country, population from cities\n",
    "    where id = ?''' #\n",
    "    return cur.execute(sql, (id,)).fetchall()[0]\n",
    "\n",
    "#Notice how we add 'find_city' outside of the CMD function.\n",
    "\n",
    "class CitiesCMD(cmd.Cmd):\n",
    "    '''\n",
    "    This is the command line interface. Everything below this is for command\n",
    "    line items.\n",
    "    '''\n",
    "       \n",
    "    #all commands are prefixed with do_ or help_\n",
    "    #to enter the search command at the cli you type \"search\"\n",
    "    #to get help on it you enter \"help search\"\n",
    "    \n",
    "    intro = \"CityDBShell automates the process of collecting city data.\"\n",
    "    prompt = \"(CityDBShell) \"\n",
    "    entry = \"\"\n",
    "    \n",
    "    def do_search(self, command): #we are only implementing the search function for now.\n",
    "        result = find_city(id=command)\n",
    "        print(result)\n",
    "           \n",
    "    def help_search(self):\n",
    "        print('''Search function for finding cities.\n",
    "             ''')\n",
    "    \n",
    "    def do_quit(self, arg):\n",
    "        print(\"Quitting the program\")\n",
    "        sys.exit()\n",
    "        \n",
    "    def help_quit(self):\n",
    "        print('Exits the program')\n",
    "\n",
    "    def default(self, line):       \n",
    "        \"\"\"Called on an input line when the command prefix is not recognized.\n",
    "           In that case we execute the line as Python code.\n",
    "        \"\"\"\n",
    "        try:\n",
    "            exec(line) in self._locals, self._globals\n",
    "        except Exception as e:\n",
    "            print(e.__class__, \":\", e)  \n",
    "\n",
    "def main():\n",
    "    global cur, db #writes to a global variable from within a function\n",
    "    db = sqlite3.connect('cities.db') #we connected to the database!\n",
    "    cur = db.cursor() #we created the cursor!\n",
    "    app = CitiesCMD().cmdloop()"
   ]
  },
  {
   "cell_type": "markdown",
   "metadata": {},
   "source": [
    "First, let's connect to the database automatically by adding the commands to connect to the main() function."
   ]
  },
  {
   "cell_type": "code",
   "execution_count": 5,
   "metadata": {},
   "outputs": [
    {
     "name": "stdout",
     "output_type": "stream",
     "text": [
      "CityDBShell automates the process of collecting city data.\n"
     ]
    },
    {
     "name": "stdin",
     "output_type": "stream",
     "text": [
      "(CityDBShell)  search 2\n"
     ]
    },
    {
     "name": "stdout",
     "output_type": "stream",
     "text": [
      "('Quito', 'Pichincha', 'Ecuador', 2000000)\n"
     ]
    },
    {
     "name": "stdin",
     "output_type": "stream",
     "text": [
      "(CityDBShell)  search 1\n"
     ]
    },
    {
     "name": "stdout",
     "output_type": "stream",
     "text": [
      "('Quito', 'Pichincha', 'Ecuador', 2000000)\n"
     ]
    },
    {
     "name": "stdin",
     "output_type": "stream",
     "text": [
      "(CityDBShell)  exit\n"
     ]
    },
    {
     "name": "stdout",
     "output_type": "stream",
     "text": [
      "<class 'AttributeError'> : 'CitiesCMD' object has no attribute '_locals'\n"
     ]
    },
    {
     "name": "stdin",
     "output_type": "stream",
     "text": [
      "(CityDBShell)  quit\n"
     ]
    },
    {
     "name": "stdout",
     "output_type": "stream",
     "text": [
      "Quitting the program\n"
     ]
    },
    {
     "ename": "SystemExit",
     "evalue": "",
     "output_type": "error",
     "traceback": [
      "An exception has occurred, use %tb to see the full traceback.\n",
      "\u001b[0;31mSystemExit\u001b[0m\n"
     ]
    }
   ],
   "source": [
    "main()"
   ]
  },
  {
   "cell_type": "markdown",
   "metadata": {},
   "source": [
    "As you can see, we've now gotten the program to print out the information for us just by typing in a command. We've made an app. A simple one for sure but sometimes simple is best. Let's add some functionality to our app by adding the add and delete functions."
   ]
  },
  {
   "cell_type": "code",
   "execution_count": 6,
   "metadata": {},
   "outputs": [],
   "source": [
    "import cmd, sys\n",
    "import sqlite3\n",
    "\n",
    "cursor = None #global variable\n",
    "db = None #global variable\n",
    "\n",
    "def add_city(name: str, province: str, country: str, population: int) -> None: #doesn't return anything\n",
    "    sql = '''insert into cities (name, province, country, population) values (?,?,?,?)'''\n",
    "    cur.execute(sql, (name, province, country, population))\n",
    "\n",
    "def find_city(id: int):\n",
    "    sql = '''select name, province, country, population from cities\n",
    "    where id = ?''' #\n",
    "    return cur.execute(sql, (id,)).fetchall()[0]\n",
    "\n",
    "#Notice how we add 'find_city' outside of the CMD function.\n",
    "\n",
    "class CitiesCMD(cmd.Cmd):\n",
    "    '''\n",
    "    This is the command line interface. Everything below this is for command\n",
    "    line items.\n",
    "    '''\n",
    "       \n",
    "    #all commands are prefixed with do_ or help_\n",
    "    #to enter the search command at the cli you type \"search\"\n",
    "    #to get help on it you enter \"help search\"\n",
    "    \n",
    "    intro = \"CityDBShell automates the process of collecting city data.\"\n",
    "    prompt = \"(CityDBShell) \"\n",
    "    entry = \"\"\n",
    "    \n",
    "    def do_search(self, command): #we are only implementing the search function for now.\n",
    "        result = find_city(id=command)\n",
    "        print(result)\n",
    "           \n",
    "    def help_search(self):\n",
    "        print('''Search function for finding cities.\n",
    "             ''')\n",
    "        \n",
    "    def do_add(self, command):\n",
    "        command=command.split() #split the command string into multiple parts\n",
    "        add_city(name=command[0], province=command[1], country=command[2], population=command[3])\n",
    "    \n",
    "    def do_quit(self, arg):\n",
    "        print(\"Quitting the program\")\n",
    "        cur.close() #close the cursor\n",
    "        db.commit() #commit the changes to the database\n",
    "        db.close() #close the database\n",
    "        sys.exit() #exit the program with sys.exit()\n",
    "        \n",
    "    def help_quit(self):\n",
    "        print('Exits the program')\n",
    "\n",
    "    def default(self, line):       \n",
    "        \"\"\"Called on an input line when the command prefix is not recognized.\n",
    "           In that case we execute the line as Python code.\n",
    "        \"\"\"\n",
    "        try:\n",
    "            exec(line) in self._locals, self._globals\n",
    "        except Exception as e:\n",
    "            print(e.__class__, \":\", e)  \n",
    "\n",
    "def main():\n",
    "    global cur, db #writes to a global variable from within a function\n",
    "    db = sqlite3.connect('cities.db') #we connected to the database!\n",
    "    cur = db.cursor() #we created the cursor!\n",
    "    app = CitiesCMD().cmdloop()"
   ]
  },
  {
   "cell_type": "code",
   "execution_count": 7,
   "metadata": {},
   "outputs": [
    {
     "name": "stdout",
     "output_type": "stream",
     "text": [
      "CityDBShell automates the process of collecting city data.\n"
     ]
    },
    {
     "name": "stdin",
     "output_type": "stream",
     "text": [
      "(CityDBShell)  search 1\n"
     ]
    },
    {
     "name": "stdout",
     "output_type": "stream",
     "text": [
      "('Quito', 'Pichincha', 'Ecuador', 2000000)\n"
     ]
    },
    {
     "name": "stdin",
     "output_type": "stream",
     "text": [
      "(CityDBShell)  exit\n"
     ]
    },
    {
     "name": "stdout",
     "output_type": "stream",
     "text": [
      "<class 'AttributeError'> : 'CitiesCMD' object has no attribute '_locals'\n"
     ]
    },
    {
     "name": "stdin",
     "output_type": "stream",
     "text": [
      "(CityDBShell)  quit\n"
     ]
    },
    {
     "name": "stdout",
     "output_type": "stream",
     "text": [
      "Quitting the program\n"
     ]
    },
    {
     "ename": "SystemExit",
     "evalue": "",
     "output_type": "error",
     "traceback": [
      "An exception has occurred, use %tb to see the full traceback.\n",
      "\u001b[0;31mSystemExit\u001b[0m\n"
     ]
    }
   ],
   "source": [
    "#Let's run the main function\n",
    "#then type \"add Lima Lima Peru 2000000\"\n",
    "#then type search 4 to find Lima by its ID\n",
    "main()"
   ]
  },
  {
   "cell_type": "markdown",
   "metadata": {},
   "source": [
    "Let us continue building our our application by adding commands to edit and delete cities from the database, as well as another function to view every city."
   ]
  },
  {
   "cell_type": "markdown",
   "metadata": {},
   "source": [
    "We will add the delete function in the code below. Notice that it is copied and pasted from the previous lesson:\n",
    "\n",
    "`def delete_city(id: int) -> None: #type hints are optional\n",
    "    sql = '''delete from cities where id = ?'''\n",
    "    cur.execute(sql, (id,))`\n",
    "    \n",
    "And we will add a delete command to make sure it is accessible from the console:\n",
    "\n",
    "`def do_delete(self, command):\n",
    "    delete_city(id=command)`\n",
    "        \n",
    "The delete console command takes its input and feeds it to the `delete_city` function, with the city ID provided as user input.\n",
    "\n",
    "When we create the delete function, we raise the possibility we might search for an article we deleted. We might also delete articles that no longer exist in the database. We protect against this by using a try...except construction. It raises an `IndexError` when we search for an item that does not exist."
   ]
  },
  {
   "cell_type": "code",
   "execution_count": 31,
   "metadata": {},
   "outputs": [],
   "source": [
    "import cmd, sys\n",
    "import sqlite3\n",
    "\n",
    "cursor = None #global variable\n",
    "db = None #global variable\n",
    "\n",
    "def add_city(name: str, province: str, country: str, population: int) -> None: #doesn't return anything\n",
    "    sql = '''insert into cities (name, province, country, population) values (?,?,?,?)'''\n",
    "    cur.execute(sql, (name, province, country, population))\n",
    "\n",
    "def find_city(id: int):\n",
    "    sql = '''select name, province, country, population from cities\n",
    "    where id = ?''' #\n",
    "    return cur.execute(sql, (id,)).fetchall()[0]\n",
    "\n",
    "def find_all_cities(): #takes no argument because we are displaying all the cities.\n",
    "    sql = '''select id, name, province, country, population from cities'''\n",
    "    return cur.execute(sql).fetchall()\n",
    "\n",
    "#Let's copy the delete_city function from chapter 2\n",
    "    \n",
    "def delete_city(id: int) -> None: #type hints are optional\n",
    "    sql = '''delete from cities where id = ?'''\n",
    "    cur.execute(sql, (id,))\n",
    "    \n",
    "#Notice how we add 'find_city' outside of the CMD function.\n",
    "\n",
    "class CitiesCMD(cmd.Cmd):\n",
    "    '''\n",
    "    This is the command line interface. Everything below this is for command\n",
    "    line items.\n",
    "    '''\n",
    "       \n",
    "    #all commands are prefixed with do_ or help_\n",
    "    #to enter the search command at the cli you type \"search\"\n",
    "    #to get help on it you enter \"help search\"\n",
    "    \n",
    "    intro = \"CityDBShell automates the process of collecting city data.\"\n",
    "    prompt = \"(CityDBShell) \"\n",
    "    entry = \"\"\n",
    "    \n",
    "    def do_search(self, command): #we are only implementing the search function for now.\n",
    "        try:\n",
    "            result = find_city(id=command)\n",
    "            print(result)\n",
    "        except IndexError:\n",
    "            print('City does not exist')\n",
    "        \n",
    "    def help_search(self):\n",
    "        print('''Search function for finding cities.\n",
    "             ''')\n",
    "        \n",
    "    def do_find_all(self, command):\n",
    "        result = find_all_cities()\n",
    "        for item in result:\n",
    "            print(item)\n",
    "        \n",
    "    def do_add(self, command):\n",
    "        try:\n",
    "            command=command.split() #split the command string into multiple parts\n",
    "            add_city(name=command[0], province=command[1], country=command[2], population=command[3])    \n",
    "        except IndexError:\n",
    "            print('Add command entered incorrectly')\n",
    "    \n",
    "    def do_delete(self, command):\n",
    "        try:\n",
    "            delete_city(id=command)\n",
    "        except IndexError:\n",
    "            print('City does not exist')\n",
    "    \n",
    "    def do_quit(self, arg):\n",
    "        print(\"Quitting the program\")\n",
    "        cur.close() #close the cursor\n",
    "        db.commit() #commit the changes to the database\n",
    "        db.close() #close the database\n",
    "        sys.exit() #exit the program with sys.exit()\n",
    "        \n",
    "    def help_quit(self):\n",
    "        print('Exits the program')\n",
    "\n",
    "    def default(self, line):       \n",
    "        \"\"\"Called on an input line when the command prefix is not recognized.\n",
    "           In that case we execute the line as Python code.\n",
    "        \"\"\"\n",
    "        try:\n",
    "            exec(line) in self._locals, self._globals\n",
    "        except Exception as e:\n",
    "            print(e.__class__, \":\", e)  \n",
    "\n",
    "def main():\n",
    "    global cur, db #writes to a global variable from within a function\n",
    "    db = sqlite3.connect('cities.db') #we connected to the database!\n",
    "    cur = db.cursor() #we created the cursor!\n",
    "    app = CitiesCMD().cmdloop()"
   ]
  },
  {
   "cell_type": "code",
   "execution_count": 25,
   "metadata": {},
   "outputs": [
    {
     "name": "stdout",
     "output_type": "stream",
     "text": [
      "CityDBShell automates the process of collecting city data.\n"
     ]
    },
    {
     "name": "stdin",
     "output_type": "stream",
     "text": [
      "(CityDBShell)  add villcabamba loja ecuador d\n",
      "(CityDBShell)  search 4\n"
     ]
    },
    {
     "name": "stdout",
     "output_type": "stream",
     "text": [
      "('villcabamba', 'loja', 'ecuador', 'd')\n"
     ]
    },
    {
     "name": "stdin",
     "output_type": "stream",
     "text": [
      "(CityDBShell)  quit\n"
     ]
    },
    {
     "name": "stdout",
     "output_type": "stream",
     "text": [
      "Quitting the program\n"
     ]
    },
    {
     "ename": "SystemExit",
     "evalue": "",
     "output_type": "error",
     "traceback": [
      "An exception has occurred, use %tb to see the full traceback.\n",
      "\u001b[0;31mSystemExit\u001b[0m\n"
     ]
    }
   ],
   "source": [
    "main()"
   ]
  },
  {
   "cell_type": "markdown",
   "metadata": {},
   "source": [
    "So typing in `find_all` displays all of the information about the cities in a Tuple. For a short database like this, it is enough to be able to search for and edit entries specifically. What happens if we ask for help with `find_all` or `add_city`."
   ]
  },
  {
   "cell_type": "markdown",
   "metadata": {},
   "source": [
    "Now let's create an update function."
   ]
  },
  {
   "cell_type": "code",
   "execution_count": 16,
   "metadata": {},
   "outputs": [],
   "source": [
    "#Try deleting a city and then searching for it, you should get a printed message that the city does not exist"
   ]
  },
  {
   "cell_type": "markdown",
   "metadata": {},
   "source": [
    "Now that we have the add function completed, we need to do two more things to finish our cmd/sqlite command line interface.\n",
    "\n",
    "1) Add an update function.\n",
    "2) Document the commands.\n",
    "\n",
    "To illustrate what I mean by documenting commands, let's go back to our app and display the help menu."
   ]
  },
  {
   "cell_type": "code",
   "execution_count": 18,
   "metadata": {},
   "outputs": [
    {
     "name": "stdout",
     "output_type": "stream",
     "text": [
      "CityDBShell automates the process of collecting city data.\n"
     ]
    },
    {
     "name": "stdin",
     "output_type": "stream",
     "text": [
      "(CityDBShell)  search 4\n"
     ]
    },
    {
     "name": "stdout",
     "output_type": "stream",
     "text": [
      "City does not exist\n"
     ]
    },
    {
     "name": "stdin",
     "output_type": "stream",
     "text": [
      "(CityDBShell)  exit 4\n"
     ]
    },
    {
     "name": "stdout",
     "output_type": "stream",
     "text": [
      "<class 'SyntaxError'> : invalid syntax (<string>, line 1)\n"
     ]
    },
    {
     "name": "stdin",
     "output_type": "stream",
     "text": [
      "(CityDBShell)  quit 4\n"
     ]
    },
    {
     "name": "stdout",
     "output_type": "stream",
     "text": [
      "Quitting the program\n"
     ]
    },
    {
     "ename": "SystemExit",
     "evalue": "",
     "output_type": "error",
     "traceback": [
      "An exception has occurred, use %tb to see the full traceback.\n",
      "\u001b[0;31mSystemExit\u001b[0m\n"
     ]
    }
   ],
   "source": [
    "main() #calls the most recent version of the app in a Jupyter notebook. "
   ]
  },
  {
   "cell_type": "markdown",
   "metadata": {},
   "source": [
    "Notice how the `help` command displays certain commands as \"undocumented commands.\" These are because there is no help function associated with them. Let's add the help functions to this program."
   ]
  },
  {
   "cell_type": "code",
   "execution_count": 35,
   "metadata": {},
   "outputs": [],
   "source": [
    "import cmd, sys\n",
    "import sqlite3\n",
    "\n",
    "cursor = None #global variable\n",
    "db = None #global variable\n",
    "\n",
    "def add_city(name: str, province: str, country: str, population: int) -> None: #doesn't return anything\n",
    "    sql = '''insert into cities (name, province, country, population) values (?,?,?,?)'''\n",
    "    cur.execute(sql, (name, province, country, population))\n",
    "\n",
    "def find_city(id: int):\n",
    "    sql = '''select name, province, country, population from cities\n",
    "    where id = ?''' #\n",
    "    return cur.execute(sql, (id,)).fetchall()[0]\n",
    "\n",
    "def find_all_cities(): #takes no argument because we are displaying all the cities.\n",
    "    sql = '''select id, name, province, country, population from cities'''\n",
    "    return cur.execute(sql).fetchall()\n",
    "\n",
    "#Let's copy the delete_city function from chapter 2\n",
    "    \n",
    "def delete_city(id: int) -> None: #type hints are optional\n",
    "    sql = '''delete from cities where id = ?'''\n",
    "    cur.execute(sql, (id,))\n",
    "    \n",
    "#Notice how we add 'find_city' outside of the CMD function.\n",
    "\n",
    "class CitiesCMD(cmd.Cmd):\n",
    "    '''\n",
    "    This is the command line interface. Everything below this is for command\n",
    "    line items.\n",
    "    '''\n",
    "       \n",
    "    #all commands are prefixed with do_ or help_\n",
    "    #to enter the search command at the cli you type \"search\"\n",
    "    #to get help on it you enter \"help search\"\n",
    "    \n",
    "    intro = \"CityDBShell automates the process of collecting city data.\"\n",
    "    prompt = \"(CityDBShell) \"\n",
    "    entry = \"\"\n",
    "    \n",
    "    def do_search(self, command): #we are only implementing the search function for now.\n",
    "        try:\n",
    "            result = find_city(id=command)\n",
    "            print(result)\n",
    "        except IndexError:\n",
    "            print('City does not exist')\n",
    "        \n",
    "    def help_search(self):\n",
    "        print('''Search function for finding cities.\n",
    "             ''')\n",
    "        \n",
    "    def do_find_all(self, command):\n",
    "        result = find_all_cities()\n",
    "        for item in result:\n",
    "            print(item)\n",
    "        \n",
    "    def do_add(self, command):\n",
    "        try:\n",
    "            command=command.split() #split the command string into multiple parts\n",
    "            add_city(name=command[0], province=command[1], country=command[2], population=command[3])\n",
    "        except IndexError:\n",
    "            print('Add command entered incorrectly')\n",
    "        \n",
    "    def help_add(self): #we don't include any arguments in the help_add function.\n",
    "        print('Adds a new city to the database')\n",
    "        print('Example: add [name] [province] [country] [population]')\n",
    "        print('Name, province, and country are strings, population is an integer')\n",
    "        print('An exception will NOT be raised if the user enters a string for population.')\n",
    "        \n",
    "    def update_name(self, command):\n",
    "        command=command.split()\n",
    "        \n",
    "    def do_delete(self, command):\n",
    "        try:\n",
    "            delete_city(id=command)\n",
    "        except IndexError:\n",
    "            print('City does not exist')\n",
    "    \n",
    "    def do_quit(self, arg):\n",
    "        print(\"Quitting the program\")\n",
    "        cur.close() #close the cursor\n",
    "        db.commit() #commit the changes to the database\n",
    "        db.close() #close the database\n",
    "        sys.exit() #exit the program with sys.exit()\n",
    "        \n",
    "    def help_quit(self):\n",
    "        print('Exits the program')\n",
    "\n",
    "    def default(self, line):       \n",
    "        \"\"\"Called on an input line when the command prefix is not recognized.\n",
    "           In that case we execute the line as Python code.\n",
    "        \"\"\"\n",
    "        try:\n",
    "            exec(line) in self._locals, self._globals\n",
    "        except Exception as e:\n",
    "            print(e.__class__, \":\", e)  \n",
    "\n",
    "def main():\n",
    "    global cur, db #writes to a global variable from within a function\n",
    "    db = sqlite3.connect('cities.db') #we connected to the database!\n",
    "    cur = db.cursor() #we created the cursor!\n",
    "    app = CitiesCMD().cmdloop()"
   ]
  },
  {
   "cell_type": "code",
   "execution_count": 34,
   "metadata": {},
   "outputs": [
    {
     "name": "stdout",
     "output_type": "stream",
     "text": [
      "CityDBShell automates the process of collecting city data.\n"
     ]
    },
    {
     "name": "stdin",
     "output_type": "stream",
     "text": [
      "(CityDBShell)  exit\n"
     ]
    },
    {
     "name": "stdout",
     "output_type": "stream",
     "text": [
      "<class 'AttributeError'> : 'CitiesCMD' object has no attribute '_locals'\n"
     ]
    },
    {
     "name": "stdin",
     "output_type": "stream",
     "text": [
      "(CityDBShell)  quit\n"
     ]
    },
    {
     "name": "stdout",
     "output_type": "stream",
     "text": [
      "Quitting the program\n"
     ]
    },
    {
     "ename": "SystemExit",
     "evalue": "",
     "output_type": "error",
     "traceback": [
      "An exception has occurred, use %tb to see the full traceback.\n",
      "\u001b[0;31mSystemExit\u001b[0m\n"
     ]
    }
   ],
   "source": [
    "#Now let's run it again and see how the help function works now.\n",
    "main()"
   ]
  },
  {
   "cell_type": "markdown",
   "metadata": {},
   "source": [
    "Now that we have added the help functions, we have only one more thing to do. The update function. To make it simplier, we will have four commands, one for each of the attributes of the city. `update_name` updates the name, while the other commands update their respective fields. Let's also go ahead and add help for these functions."
   ]
  },
  {
   "cell_type": "code",
   "execution_count": null,
   "metadata": {},
   "outputs": [],
   "source": [
    "import cmd, sys\n",
    "import sqlite3\n",
    "\n",
    "cursor = None #global variable\n",
    "db = None #global variable\n",
    "\n",
    "def add_city(name: str, province: str, country: str, population: int) -> None: #doesn't return anything\n",
    "    sql = '''insert into cities (name, province, country, population) values (?,?,?,?)'''\n",
    "    cur.execute(sql, (name, province, country, population))\n",
    "\n",
    "def find_city(id: int):\n",
    "    sql = '''select name, province, country, population from cities\n",
    "    where id = ?''' #\n",
    "    return cur.execute(sql, (id,)).fetchall()[0]\n",
    "\n",
    "def find_all_cities(): #takes no argument because we are displaying all the cities.\n",
    "    sql = '''select id, name, province, country, population from cities'''\n",
    "    return cur.execute(sql).fetchall()\n",
    "\n",
    "#Notice how we have copied the update_city function from chapter 2, but pasted it outside the cmd class.\n",
    "\n",
    "def update_city(id, name=None, province=None, country=None, population=None):\n",
    "    sql = '''\n",
    "    update cities set name =?, province=?, country=?, population=? where id =?'''\n",
    "    data = find_city(id) #we are calling \"find_city\" to get info on the city we want to update.\n",
    "    if not name: name=data[0]\n",
    "    if not province: province = data[1]\n",
    "    if not country: country = data[2]\n",
    "    if not population: population = data[3]\n",
    "    cur.execute(sql, (name, province, country, population, id))\n",
    "\n",
    "#Let's copy the delete_city function from chapter 2\n",
    "    \n",
    "def delete_city(id: int) -> None: #type hints are optional\n",
    "    sql = '''delete from cities where id = ?'''\n",
    "    cur.execute(sql, (id,))\n",
    "    \n",
    "#Notice how we add 'find_city' outside of the CMD function.\n",
    "\n",
    "class CitiesCMD(cmd.Cmd):\n",
    "    '''\n",
    "    This is the command line interface. Everything below this is for command\n",
    "    line items.\n",
    "    '''\n",
    "       \n",
    "    #all commands are prefixed with do_ or help_\n",
    "    #to enter the search command at the cli you type \"search\"\n",
    "    #to get help on it you enter \"help search\"\n",
    "    \n",
    "    intro = \"CityDBShell automates the process of collecting city data.\"\n",
    "    prompt = \"(CityDBShell) \"\n",
    "    entry = \"\"\n",
    "    \n",
    "    def do_search(self, command): #we are only implementing the search function for now.\n",
    "        try:\n",
    "            result = find_city(id=command)\n",
    "            print(result)\n",
    "        except IndexError:\n",
    "            print('City does not exist')\n",
    "        \n",
    "    def help_search(self):\n",
    "        print('''Search function for finding cities.\n",
    "             ''')\n",
    "        \n",
    "    def do_find_all(self, command):\n",
    "        result = find_all_cities()\n",
    "        for item in result:\n",
    "            print(item)\n",
    "        \n",
    "    def do_add(self, command):\n",
    "        try:\n",
    "            command=command.split() #split the command string into multiple parts\n",
    "            add_city(name=command[0], province=command[1], country=command[2], population=command[3])\n",
    "        except IndexError:\n",
    "            print('Add command entered incorrectly')\n",
    "        \n",
    "    def help_add(self): #we don't include any arguments in the help_add function.\n",
    "        print('Adds a new city to the database')\n",
    "        print('Example: add [name] [province] [country] [population]')\n",
    "        print('Name, province, and country are strings, population is an integer')\n",
    "        print('An exception will NOT be raised if the user enters a string for population.')\n",
    "        \n",
    "    def do_update_name(self, command):\n",
    "        command=command.split()\n",
    "        print(command)\n",
    "        update_city(id=command[0], name=command[1])\n",
    "        \n",
    "    def help_update_name(self):\n",
    "        print('updates the name of an entry')\n",
    "        print('Example:')\n",
    "        print('update_name [id] [new_name]')\n",
    "        print('update_name 4 Villcabamba')\n",
    "        \n",
    "    def do_update_province(self, command):\n",
    "        command=command.split()\n",
    "        print(command)\n",
    "        update_city(id=command[0], province=command[1])\n",
    "        \n",
    "    def help_update_province(self):\n",
    "        print('updates the province of an entry')\n",
    "        print('Example:')\n",
    "        print('update_name [id] [new_name]')\n",
    "        print('update_name 4 Loja')\n",
    "        \n",
    "    def do_update_country(self, command):\n",
    "        command=command.split()\n",
    "        print(command)\n",
    "        update_city(id=command[0], country=command[1])\n",
    "        \n",
    "    def help_update_country(self, command):\n",
    "        print('updates the country of an entry')\n",
    "        print('Example:')\n",
    "        print('update_name [id] [new_name]')\n",
    "        print('update_name 4 Villcabamba')\n",
    "        \n",
    "    def do_update_population(self, command):\n",
    "        command=command.split()\n",
    "        print(command)\n",
    "        update_city(id=command[0], population=command[1])\n",
    "        \n",
    "    def help_update_population(self, command):\n",
    "        print('updates the population of an entry')\n",
    "        print('Example:')\n",
    "        print('update_population [id] [new_name]')\n",
    "        print('update_population 4 4000')\n",
    "        \n",
    "    def do_delete(self, command):\n",
    "        try:\n",
    "            delete_city(id=command)\n",
    "        except IndexError:\n",
    "            print('City does not exist')\n",
    "    \n",
    "    def do_quit(self, arg):\n",
    "        print(\"Quitting the program\")\n",
    "        cur.close() #close the cursor\n",
    "        db.commit() #commit the changes to the database\n",
    "        db.close() #close the database\n",
    "        sys.exit() #exit the program with sys.exit()\n",
    "        \n",
    "    def help_quit(self):\n",
    "        print('Exits the program')\n",
    "\n",
    "    def default(self, line):       \n",
    "        \"\"\"Called on an input line when the command prefix is not recognized.\n",
    "           In that case we execute the line as Python code.\n",
    "        \"\"\"\n",
    "        try:\n",
    "            exec(line) in self._locals, self._globals\n",
    "        except Exception as e:\n",
    "            print(e.__class__, \":\", e)  \n",
    "\n",
    "def main():\n",
    "    global cur, db #writes to a global variable from within a function\n",
    "    db = sqlite3.connect('cities.db') #we connected to the database!\n",
    "    cur = db.cursor() #we created the cursor!\n",
    "    app = CitiesCMD().cmdloop()"
   ]
  },
  {
   "cell_type": "code",
   "execution_count": 4,
   "metadata": {},
   "outputs": [
    {
     "name": "stdout",
     "output_type": "stream",
     "text": [
      "CityDBShell automates the process of collecting city data.\n"
     ]
    },
    {
     "name": "stdin",
     "output_type": "stream",
     "text": [
      "(CityDBShell)  help\n"
     ]
    },
    {
     "name": "stdout",
     "output_type": "stream",
     "text": [
      "\n",
      "Documented commands (type help <topic>):\n",
      "========================================\n",
      "add   quit    update_country  update_population\n",
      "help  search  update_name     update_province  \n",
      "\n",
      "Undocumented commands:\n",
      "======================\n",
      "delete  find_all\n",
      "\n"
     ]
    },
    {
     "name": "stdin",
     "output_type": "stream",
     "text": [
      "(CityDBShell)  exit\n"
     ]
    },
    {
     "name": "stdout",
     "output_type": "stream",
     "text": [
      "<class 'AttributeError'> : 'CitiesCMD' object has no attribute '_locals'\n"
     ]
    },
    {
     "name": "stdin",
     "output_type": "stream",
     "text": [
      "(CityDBShell)  quit\n"
     ]
    },
    {
     "name": "stdout",
     "output_type": "stream",
     "text": [
      "Quitting the program\n"
     ]
    },
    {
     "ename": "SystemExit",
     "evalue": "",
     "output_type": "error",
     "traceback": [
      "An exception has occurred, use %tb to see the full traceback.\n",
      "\u001b[0;31mSystemExit\u001b[0m\n"
     ]
    }
   ],
   "source": [
    "main()"
   ]
  },
  {
   "cell_type": "markdown",
   "metadata": {},
   "source": [
    "Now that we have the basic functions created, let's try to make an update function that works for any of the types of updates. This function is harder to write than it is to use."
   ]
  },
  {
   "cell_type": "code",
   "execution_count": 8,
   "metadata": {},
   "outputs": [],
   "source": [
    "import cmd, sys\n",
    "import sqlite3\n",
    "\n",
    "cursor = None #global variable\n",
    "db = None #global variable\n",
    "\n",
    "def add_city(name: str, province: str, country: str, population: int) -> None: #doesn't return anything\n",
    "    sql = '''insert into cities (name, province, country, population) values (?,?,?,?)'''\n",
    "    cur.execute(sql, (name, province, country, population))\n",
    "\n",
    "def find_city(id: int):\n",
    "    sql = '''select name, province, country, population from cities\n",
    "    where id = ?''' #\n",
    "    return cur.execute(sql, (id,)).fetchall()[0]\n",
    "\n",
    "def find_all_cities(): #takes no argument because we are displaying all the cities.\n",
    "    sql = '''select id, name, province, country, population from cities'''\n",
    "    return cur.execute(sql).fetchall()\n",
    "\n",
    "#Notice how we have copied the update_city function from chapter 2, but pasted it outside the cmd class.\n",
    "\n",
    "def update_city(id, name=None, province=None, country=None, population=None):\n",
    "    sql = '''\n",
    "    update cities set name =?, province=?, country=?, population=? where id =?'''\n",
    "    data = find_city(id) #we are calling \"find_city\" to get info on the city we want to update.\n",
    "    if not name: name=data[0]\n",
    "    if not province: province = data[1]\n",
    "    if not country: country = data[2]\n",
    "    if not population: population = data[3]\n",
    "    cur.execute(sql, (name, province, country, population, id))\n",
    "\n",
    "#Let's copy the delete_city function from chapter 2\n",
    "    \n",
    "def delete_city(id: int) -> None: #type hints are optional\n",
    "    sql = '''delete from cities where id = ?'''\n",
    "    cur.execute(sql, (id,))\n",
    "    \n",
    "#Notice how we add 'find_city' outside of the CMD function.\n",
    "\n",
    "class CitiesCMD(cmd.Cmd):\n",
    "    '''\n",
    "    This is the command line interface. Everything below this is for command\n",
    "    line items.\n",
    "    '''\n",
    "       \n",
    "    #all commands are prefixed with do_ or help_\n",
    "    #to enter the search command at the cli you type \"search\"\n",
    "    #to get help on it you enter \"help search\"\n",
    "    \n",
    "    intro = \"CityDBShell automates the process of collecting city data.\"\n",
    "    prompt = \"(CityDBShell) \"\n",
    "    entry = \"\"\n",
    "    \n",
    "    def do_search(self, command): #we are only implementing the search function for now.\n",
    "        try:\n",
    "            result = find_city(id=command)\n",
    "            print(result)\n",
    "        except IndexError:\n",
    "            print('City does not exist')\n",
    "        \n",
    "    def help_search(self):\n",
    "        print('''Search function for finding cities.\n",
    "             ''')\n",
    "        \n",
    "    def do_find_all(self, command):\n",
    "        result = find_all_cities()\n",
    "        for item in result:\n",
    "            print(item)\n",
    "        \n",
    "    def do_add(self, command):\n",
    "        try:\n",
    "            command=command.split() #split the command string into multiple parts\n",
    "            add_city(name=command[0], province=command[1], country=command[2], population=command[3])\n",
    "        except IndexError:\n",
    "            print('Add command entered incorrectly')\n",
    "        \n",
    "    def help_add(self): #we don't include any arguments in the help_add function.\n",
    "        print('Adds a new city to the database')\n",
    "        print('Example: add [name] [province] [country] [population]')\n",
    "        print('Name, province, and country are strings, population is an integer')\n",
    "        print('An exception will NOT be raised if the user enters a string for population.')\n",
    "        \n",
    "    def do_update(self, command):\n",
    "        command = command.split()\n",
    "        print(command) #we want to see the command as its being entered for testing purposes\n",
    "        #update_id = command[0]\n",
    "        update_type = command[1] #The second thing you enter is the type of update e.g. update 2 population 2000000 creates the variable\n",
    "                                #'command' as a list of three elements. The first element is the id of the city to update, the second is the \n",
    "                                #type of update e.g. description, while the third is the new value\n",
    "        #update_value = command[2]\n",
    "        if update_type == 'name':\n",
    "            update_city(id=command[0], name=command[2]) #we take the third element as the new value\n",
    "            print('city updated')\n",
    "        elif update_type == 'province':\n",
    "            update_city(id=command[0], province=command[2])\n",
    "        elif update_type == 'country':\n",
    "            update_city(id=command[0], country=command[2])\n",
    "        elif update_type == 'population':\n",
    "            update_city(id=command[0], population=command[2])\n",
    "        \n",
    "#    def do_update_name(self, command):\n",
    "#        command=command.split()\n",
    "#        print(command)\n",
    "#        update_city(id=command[0], name=command[1])\n",
    "        \n",
    "#    def help_update_name(self):\n",
    "#        print('updates the name of an entry')\n",
    "#        print('Example:')\n",
    "#        print('update_name [id] [new_name]')\n",
    "#        print('update_name 4 Villcabamba')\n",
    "        \n",
    "#    def do_update_province(self, command):\n",
    "#        command=command.split()\n",
    "#        print(command)\n",
    "#        update_city(id=command[0], province=command[1])\n",
    "        \n",
    "#    def help_update_province(self):\n",
    "#        print('updates the province of an entry')\n",
    "#        print('Example:')\n",
    "#        print('update_name [id] [new_name]')\n",
    "#        print('update_name 4 Loja')\n",
    "        \n",
    "#    def do_update_country(self, command):\n",
    "#        command=command.split()\n",
    "#        print(command)\n",
    "#        update_city(id=command[0], country=command[1])\n",
    "        \n",
    "#    def help_update_country(self, command):\n",
    "#        print('updates the country of an entry')\n",
    "#        print('Example:')\n",
    "#        print('update_name [id] [new_name]')\n",
    "#        print('update_name 4 Villcabamba')\n",
    "#        \n",
    "#    def do_update_population(self, command):\n",
    "#        command=command.split()\n",
    "#        print(command)\n",
    "#        update_city(id=command[0], population=command[1])\n",
    "        \n",
    "#    def help_update_population(self, command):\n",
    "#        print('updates the population of an entry')\n",
    "#        print('Example:')\n",
    "#        print('update_population [id] [new_name]')\n",
    "#        print('update_population 4 4000')\n",
    "        \n",
    "    def do_delete(self, command):\n",
    "        try:\n",
    "            delete_city(id=command)\n",
    "        except IndexError:\n",
    "            print('City does not exist')\n",
    "    \n",
    "    def do_quit(self, arg):\n",
    "        print(\"Quitting the program\")\n",
    "        cur.close() #close the cursor\n",
    "        db.commit() #commit the changes to the database\n",
    "        db.close() #close the database\n",
    "        sys.exit() #exit the program with sys.exit()\n",
    "        \n",
    "    def help_quit(self):\n",
    "        print('Exits the program')\n",
    "\n",
    "    def default(self, line):       \n",
    "        \"\"\"Called on an input line when the command prefix is not recognized.\n",
    "           In that case we execute the line as Python code.\n",
    "        \"\"\"\n",
    "        try:\n",
    "            exec(line) in self._locals, self._globals\n",
    "        except Exception as e:\n",
    "            print(e.__class__, \":\", e)  \n",
    "\n",
    "def main():\n",
    "    global cur, db #writes to a global variable from within a function\n",
    "    db = sqlite3.connect('cities.db') #we connected to the database!\n",
    "    cur = db.cursor() #we created the cursor!\n",
    "    app = CitiesCMD().cmdloop()"
   ]
  },
  {
   "cell_type": "code",
   "execution_count": 7,
   "metadata": {},
   "outputs": [
    {
     "name": "stdout",
     "output_type": "stream",
     "text": [
      "CityDBShell automates the process of collecting city data.\n"
     ]
    },
    {
     "name": "stdin",
     "output_type": "stream",
     "text": [
      "(CityDBShell)  help\n"
     ]
    },
    {
     "name": "stdout",
     "output_type": "stream",
     "text": [
      "\n",
      "Documented commands (type help <topic>):\n",
      "========================================\n",
      "add   quit    update_country  update_population\n",
      "help  search  update_name     update_province  \n",
      "\n",
      "Undocumented commands:\n",
      "======================\n",
      "delete  find_all  update\n",
      "\n"
     ]
    },
    {
     "name": "stdin",
     "output_type": "stream",
     "text": [
      "(CityDBShell)  update 1 province Loja\n"
     ]
    },
    {
     "name": "stdout",
     "output_type": "stream",
     "text": [
      "['1', 'province', 'Loja']\n"
     ]
    },
    {
     "name": "stdin",
     "output_type": "stream",
     "text": [
      "(CityDBShell)  search 1\n"
     ]
    },
    {
     "name": "stdout",
     "output_type": "stream",
     "text": [
      "('Villcabamba', 'Loja', 'Ecuador', 2000000)\n"
     ]
    },
    {
     "name": "stdin",
     "output_type": "stream",
     "text": [
      "(CityDBShell)  update 1 population 4000\n"
     ]
    },
    {
     "name": "stdout",
     "output_type": "stream",
     "text": [
      "['1', 'population', '4000']\n"
     ]
    },
    {
     "name": "stdin",
     "output_type": "stream",
     "text": [
      "(CityDBShell)  search 1\n"
     ]
    },
    {
     "name": "stdout",
     "output_type": "stream",
     "text": [
      "('Villcabamba', 'Loja', 'Ecuador', 4000)\n"
     ]
    },
    {
     "name": "stdin",
     "output_type": "stream",
     "text": [
      "(CityDBShell)  delete 4\n",
      "(CityDBShell)  quit\n"
     ]
    },
    {
     "name": "stdout",
     "output_type": "stream",
     "text": [
      "Quitting the program\n"
     ]
    },
    {
     "ename": "SystemExit",
     "evalue": "",
     "output_type": "error",
     "traceback": [
      "An exception has occurred, use %tb to see the full traceback.\n",
      "\u001b[0;31mSystemExit\u001b[0m\n"
     ]
    }
   ],
   "source": [
    "main()"
   ]
  },
  {
   "cell_type": "markdown",
   "metadata": {},
   "source": [
    "If we have written the update function correctly. We can now update the data directly from the command line. This means we can now comment out our existing update functions. The new update function is harder to write than the previous functions, but easier to use."
   ]
  },
  {
   "cell_type": "markdown",
   "metadata": {},
   "source": [
    "Let us rewrite our application one last time. This time, let's add some safety features to prevent the user from:\n",
    "\n",
    "1) Accidentally entering a string for population\n",
    "\n",
    "We can do this by converting the string input to an integer, which will raise a ValueError if we try to set it as an alphanumeric character.\n",
    "We can then catch the ValueError exception and inform the user with a prompt that they must enter an integer for population.\n",
    "\n",
    "2) Deleting a city when they don't really mean to do so."
   ]
  },
  {
   "cell_type": "code",
   "execution_count": 1,
   "metadata": {},
   "outputs": [],
   "source": [
    "import cmd, sys\n",
    "import sqlite3\n",
    "\n",
    "cursor = None #global variable\n",
    "db = None #global variable\n",
    "\n",
    "def add_city(name: str, province: str, country: str, population: int) -> None: #doesn't return anything\n",
    "    sql = '''insert into cities (name, province, country, population) values (?,?,?,?)'''\n",
    "    cur.execute(sql, (name, province, country, population))\n",
    "\n",
    "def find_city(id: int):\n",
    "    sql = '''select name, province, country, population from cities\n",
    "    where id = ?''' #\n",
    "    return cur.execute(sql, (id,)).fetchall()[0]\n",
    "\n",
    "def find_all_cities(): #takes no argument because we are displaying all the cities.\n",
    "    sql = '''select id, name, province, country, population from cities'''\n",
    "    return cur.execute(sql).fetchall()\n",
    "\n",
    "#Notice how we have copied the update_city function from chapter 2, but pasted it outside the cmd class.\n",
    "\n",
    "def update_city(id, name=None, province=None, country=None, population=None):\n",
    "    sql = '''\n",
    "    update cities set name =?, province=?, country=?, population=? where id =?'''\n",
    "    data = find_city(id) #we are calling \"find_city\" to get info on the city we want to update.\n",
    "    if not name: name=data[0]\n",
    "    if not province: province = data[1]\n",
    "    if not country: country = data[2]\n",
    "    if not population: population = data[3]\n",
    "    cur.execute(sql, (name, province, country, population, id))\n",
    "\n",
    "#Let's copy the delete_city function from chapter 2\n",
    "    \n",
    "def delete_city(id: int) -> None: #type hints are optional\n",
    "    sql = '''delete from cities where id = ?'''\n",
    "    cur.execute(sql, (id,))\n",
    "    \n",
    "#Notice how we add 'find_city' outside of the CMD function.\n",
    "\n",
    "class CitiesCMD(cmd.Cmd):\n",
    "    '''\n",
    "    This is the command line interface. Everything below this is for command\n",
    "    line items.\n",
    "    '''\n",
    "       \n",
    "    #all commands are prefixed with do_ or help_\n",
    "    #to enter the search command at the cli you type \"search\"\n",
    "    #to get help on it you enter \"help search\"\n",
    "    \n",
    "    intro = \"CityDBShell automates the process of collecting city data.\"\n",
    "    prompt = \"(CityDBShell) \"\n",
    "    entry = \"\"\n",
    "    \n",
    "    def do_search(self, command): #we are only implementing the search function for now.\n",
    "        try:\n",
    "            result = find_city(id=command)\n",
    "            print(result)\n",
    "        except IndexError:\n",
    "            print('City does not exist')\n",
    "        \n",
    "    def help_search(self):\n",
    "        print('''Search function for finding cities.\n",
    "             ''')\n",
    "        \n",
    "    def do_find_all(self, command):\n",
    "        result = find_all_cities()\n",
    "        for item in result:\n",
    "            print(item)\n",
    "        \n",
    "    def do_add(self, command):\n",
    "        try:\n",
    "            command=command.split() #split the command string into multiple parts\n",
    "            add_city(name=command[0], province=command[1], country=command[2], population=command[3])\n",
    "        except IndexError:\n",
    "            print('Add command entered incorrectly')\n",
    "        \n",
    "    def help_add(self): #we don't include any arguments in the help_add function.\n",
    "        print('Adds a new city to the database')\n",
    "        print('Example: add [name] [province] [country] [population]')\n",
    "        print('Name, province, and country are strings, population is an integer')\n",
    "        print('An exception will NOT be raised if the user enters a string for population.')\n",
    "        \n",
    "    def do_update(self, command):\n",
    "        try:\n",
    "            command = command.split()\n",
    "            print(command) #we want to see the command as its being entered for testing purposes\n",
    "            update_id = command[0]\n",
    "            update_type = command[1]\n",
    "            update_value = command[2]\n",
    "            if update_type == 'name':\n",
    "                update_city(id=command[0], name=command[2]) #we take the third element as the new value\n",
    "                print('city updated')\n",
    "            elif update_type == 'province':\n",
    "                update_city(id=update_id, province=update_value)\n",
    "            elif update_type == 'country':\n",
    "                update_city(id=update_id, country=update_value)\n",
    "            elif update_type == 'population':\n",
    "                try:\n",
    "                    update_value = int(update_value) #we convert it into an integer\n",
    "                    update_city(id=command[0], population=update_value)\n",
    "                except ValueError:\n",
    "                    print('Population must be a numeric value')\n",
    "        except IndexError:\n",
    "            print('Update command entered incorrectly')\n",
    "        \n",
    "    def do_delete(self, command):\n",
    "        try:\n",
    "            delete_city(id=command)\n",
    "        except IndexError:\n",
    "            print('City does not exist')\n",
    "    \n",
    "    def do_quit(self, arg):\n",
    "        print(\"Quitting the program\")\n",
    "        cur.close() #close the cursor\n",
    "        db.commit() #commit the changes to the database\n",
    "        db.close() #close the database\n",
    "        sys.exit() #exit the program with sys.exit()\n",
    "        \n",
    "    def help_quit(self):\n",
    "        print('Exits the program')\n",
    "\n",
    "    def default(self, line):       \n",
    "        \"\"\"Called on an input line when the command prefix is not recognized.\n",
    "           In that case we execute the line as Python code.\n",
    "        \"\"\"\n",
    "        try:\n",
    "            exec(line) in self._locals, self._globals\n",
    "        except Exception as e:\n",
    "            print(e.__class__, \":\", e)  \n",
    "\n",
    "def main():\n",
    "    global cur, db #writes to a global variable from within a function\n",
    "    db = sqlite3.connect('cities.db') #we connected to the database!\n",
    "    cur = db.cursor() #we created the cursor!\n",
    "    app = CitiesCMD().cmdloop()"
   ]
  },
  {
   "cell_type": "code",
   "execution_count": 16,
   "metadata": {},
   "outputs": [
    {
     "name": "stdout",
     "output_type": "stream",
     "text": [
      "CityDBShell automates the process of collecting city data.\n"
     ]
    },
    {
     "name": "stdin",
     "output_type": "stream",
     "text": [
      "(CityDBShell)  update 2 population f\n"
     ]
    },
    {
     "name": "stdout",
     "output_type": "stream",
     "text": [
      "['2', 'population', 'f']\n",
      "Population must be a numeric value\n"
     ]
    },
    {
     "name": "stdin",
     "output_type": "stream",
     "text": [
      "(CityDBShell)  exit\n"
     ]
    },
    {
     "name": "stdout",
     "output_type": "stream",
     "text": [
      "<class 'AttributeError'> : 'CitiesCMD' object has no attribute '_locals'\n"
     ]
    },
    {
     "name": "stdin",
     "output_type": "stream",
     "text": [
      "(CityDBShell)  quit\n"
     ]
    },
    {
     "name": "stdout",
     "output_type": "stream",
     "text": [
      "Quitting the program\n"
     ]
    },
    {
     "ename": "SystemExit",
     "evalue": "",
     "output_type": "error",
     "traceback": [
      "An exception has occurred, use %tb to see the full traceback.\n",
      "\u001b[0;31mSystemExit\u001b[0m\n"
     ]
    }
   ],
   "source": [
    "main()"
   ]
  },
  {
   "cell_type": "markdown",
   "metadata": {},
   "source": [
    "Let's do a few more final steps to get this basic application working.\n",
    "\n",
    "1) Complete the help for all functions.\n",
    "2) Manage any potential difficulties with incorrect data entry.\n",
    "3) Make sure the user really wants to delete something."
   ]
  },
  {
   "cell_type": "code",
   "execution_count": 7,
   "metadata": {},
   "outputs": [
    {
     "name": "stdout",
     "output_type": "stream",
     "text": [
      "CityDBShell automates the process of collecting city data.\n"
     ]
    },
    {
     "name": "stdin",
     "output_type": "stream",
     "text": [
      "(CityDBShell)  add washington dc usa 700000\n",
      "(CityDBShell)  exit\n"
     ]
    },
    {
     "name": "stdout",
     "output_type": "stream",
     "text": [
      "<class 'AttributeError'> : 'CitiesCMD' object has no attribute '_locals'\n"
     ]
    },
    {
     "name": "stdin",
     "output_type": "stream",
     "text": [
      "(CityDBShell)  quit\n"
     ]
    },
    {
     "name": "stdout",
     "output_type": "stream",
     "text": [
      "Quitting the program\n"
     ]
    },
    {
     "ename": "SystemExit",
     "evalue": "",
     "output_type": "error",
     "traceback": [
      "An exception has occurred, use %tb to see the full traceback.\n",
      "\u001b[0;31mSystemExit\u001b[0m\n"
     ]
    },
    {
     "name": "stderr",
     "output_type": "stream",
     "text": [
      "/Users/thomassullivan/data_science/anaconda3/lib/python3.7/site-packages/IPython/core/interactiveshell.py:3334: UserWarning: To exit: use 'exit', 'quit', or Ctrl-D.\n",
      "  warn(\"To exit: use 'exit', 'quit', or Ctrl-D.\", stacklevel=1)\n"
     ]
    }
   ],
   "source": [
    "main()"
   ]
  },
  {
   "cell_type": "code",
   "execution_count": 4,
   "metadata": {},
   "outputs": [],
   "source": [
    "import cmd, sys\n",
    "import sqlite3\n",
    "\n",
    "cursor = None #global variable\n",
    "db = None #global variable\n",
    "\n",
    "def add_city(name: str, province: str, country: str, population: int) -> None: #doesn't return anything\n",
    "    sql = '''insert into cities (name, province, country, population) values (?,?,?,?)'''\n",
    "    cur.execute(sql, (name, province, country, population))\n",
    "\n",
    "def find_city(id: int):\n",
    "    #with closing(cur()) as c:\n",
    "    sql = '''select name, province, country, population from cities\n",
    "    where id = ?''' #\n",
    "    return cur.execute(sql, (id,)).fetchall()[0]\n",
    "\n",
    "def find_all_cities(): #takes no argument because we are displaying all the cities.\n",
    "    sql = '''select id, name, province, country, population from cities'''\n",
    "    return cur.execute(sql).fetchall()\n",
    "\n",
    "#Notice how we have copied the update_city function from chapter 2, but pasted it outside the cmd class.\n",
    "\n",
    "def update_city(id, name=None, province=None, country=None, population=None):\n",
    "    sql = '''\n",
    "    update cities set name =?, province=?, country=?, population=? where id =?'''\n",
    "    data = find_city(id) #we are calling \"find_city\" to get info on the city we want to update.\n",
    "    if not name: name=data[0]\n",
    "    if not province: province = data[1]\n",
    "    if not country: country = data[2]\n",
    "    if not population: population = data[3]\n",
    "    cur.execute(sql, (name, province, country, population, id))\n",
    "\n",
    "#Let's copy the delete_city function from chapter 2\n",
    "    \n",
    "def delete_city(id: int) -> None: #type hints are optional\n",
    "    sql = '''delete from cities where id = ?'''\n",
    "    cur.execute(sql, (id,))\n",
    "    \n",
    "#Notice how we add 'find_city' outside of the CMD function.\n",
    "\n",
    "class CitiesCMD(cmd.Cmd):\n",
    "    '''\n",
    "    This is the command line interface. Everything below this is for command\n",
    "    line items.\n",
    "    '''\n",
    "       \n",
    "    #all commands are prefixed with do_ or help_\n",
    "    #to enter the search command at the cli you type \"search\"\n",
    "    #to get help on it you enter \"help search\"\n",
    "    \n",
    "    intro = \"CityDBShell automates the process of collecting city data.\"\n",
    "    prompt = \"(CityDBShell) \"\n",
    "    entry = \"\"\n",
    "    \n",
    "    def do_search(self, command): #we are only implementing the search function for now.\n",
    "        try:\n",
    "            result = find_city(id=command)\n",
    "            print(result)\n",
    "        except IndexError:\n",
    "            print('City does not exist')\n",
    "        \n",
    "    def help_search(self):\n",
    "        print('''Search function for finding cities.\n",
    "             ''')\n",
    "        \n",
    "    def do_find_all(self, command):\n",
    "        result = find_all_cities()\n",
    "        for item in result:\n",
    "            print(item)\n",
    "            \n",
    "    def help_find_all(self):\n",
    "        print('Displays all the cities in the database')\n",
    "        print('Enter \"find_all\" without any commands')\n",
    "        \n",
    "    def do_add(self, command):\n",
    "        try:\n",
    "            command=command.split() #split the command string into multiple parts\n",
    "            add_city(name=command[0], province=command[1], country=command[2], population=command[3])\n",
    "        except IndexError:\n",
    "            print('Add command entered incorrectly')\n",
    "        \n",
    "    def help_add(self): #we don't include any arguments in the help_add function.\n",
    "        print('Adds a new city to the database')\n",
    "        print('Example: add [name] [province] [country] [population]')\n",
    "        print('Name, province, and country are strings, population is an integer')\n",
    "        print('An exception will NOT be raised if the user enters a string for population.')\n",
    "        \n",
    "    def do_update(self, command):\n",
    "        try:\n",
    "            command = command.split()\n",
    "            print(command) #we want to see the command as its being entered for testing purposes\n",
    "            update_id = command[0]\n",
    "            update_type = command[1]\n",
    "            update_value = command[2]\n",
    "            if update_type == 'name':\n",
    "                update_city(id=command[0], name=command[2]) #we take the third element as the new value\n",
    "                print('city updated')\n",
    "            elif update_type == 'province':\n",
    "                update_city(id=update_id, province=update_value)\n",
    "            elif update_type == 'country':\n",
    "                update_city(id=update_id, country=update_value)\n",
    "            elif update_type == 'population':\n",
    "                try:\n",
    "                    update_value = int(update_value) #we convert it into an integer\n",
    "                    if update_value < 0: #we make sure it cannot be less than zero\n",
    "                        raise ValueError\n",
    "                    else:\n",
    "                        update_city(id=update_id, population=update_value)\n",
    "                except ValueError:\n",
    "                    print('Population must be a numeric value greater than zero')\n",
    "        except IndexError:\n",
    "            print('Update command entered incorrectly')\n",
    "    \n",
    "    def help_update(self):\n",
    "        print('''\n",
    "        Updates an entry in the database\n",
    "        example:\n",
    "        update [id] [update_type] [new_value]\n",
    "        \"update 3 province Loha\" changes the name of the province for entry 3 to Loha\n",
    "        ''')\n",
    "        \n",
    "    def do_delete(self, command): #Let's make sure the user really wants to delete something\n",
    "        try:\n",
    "            result = find_city(id=command)\n",
    "            input_decision = input('Are you sure you want to delete \"{0}\" from the database? (y/n)'.format(result[0]))\n",
    "            if input_decision == 'y':\n",
    "                delete_city(id=command)\n",
    "            else:\n",
    "                print('Delete cancelled, returning to main menu')\n",
    "        except IndexError:\n",
    "            print('City does not exist')\n",
    "            \n",
    "    def help_delete(self, command):\n",
    "        print('deletes a city from the database')\n",
    "        print('example:')\n",
    "        print('\"delete 4\" will delete the 4th city in the database')\n",
    "    \n",
    "    def do_quit(self, arg):\n",
    "        print(\"Quitting the program\")\n",
    "        cur.close() #close the cursor\n",
    "        db.commit() #commit the changes to the database\n",
    "        db.close() #close the database\n",
    "        sys.exit() #exit the program with sys.exit()\n",
    "        \n",
    "    def help_quit(self):\n",
    "        print('Exits the program')\n",
    "\n",
    "    def default(self, line):       \n",
    "        \"\"\"Called on an input line when the command prefix is not recognized.\n",
    "           In that case we execute the line as Python code.\n",
    "        \"\"\"\n",
    "        try:\n",
    "            exec(line) in self._locals, self._globals\n",
    "        except Exception as e:\n",
    "            print(e.__class__, \":\", e)  \n",
    "\n",
    "def main():\n",
    "    global cur, db #writes to a global variable from within a function\n",
    "    db = sqlite3.connect('cities.db') #we connected to the database!\n",
    "    cur = db.cursor() #we created the cursor!\n",
    "    app = CitiesCMD().cmdloop()"
   ]
  },
  {
   "cell_type": "code",
   "execution_count": 6,
   "metadata": {},
   "outputs": [
    {
     "name": "stdout",
     "output_type": "stream",
     "text": [
      "CityDBShell automates the process of collecting city data.\n"
     ]
    },
    {
     "name": "stdin",
     "output_type": "stream",
     "text": [
      "(CityDBShell)  search \n"
     ]
    },
    {
     "name": "stdout",
     "output_type": "stream",
     "text": [
      "City does not exist\n"
     ]
    },
    {
     "name": "stdin",
     "output_type": "stream",
     "text": [
      "(CityDBShell)  quit\n"
     ]
    },
    {
     "name": "stdout",
     "output_type": "stream",
     "text": [
      "Quitting the program\n"
     ]
    },
    {
     "ename": "SystemExit",
     "evalue": "",
     "output_type": "error",
     "traceback": [
      "An exception has occurred, use %tb to see the full traceback.\n",
      "\u001b[0;31mSystemExit\u001b[0m\n"
     ]
    }
   ],
   "source": [
    "main()"
   ]
  },
  {
   "cell_type": "code",
   "execution_count": null,
   "metadata": {},
   "outputs": [],
   "source": []
  },
  {
   "cell_type": "code",
   "execution_count": null,
   "metadata": {},
   "outputs": [],
   "source": []
  }
 ],
 "metadata": {
  "kernelspec": {
   "display_name": "Python 3",
   "language": "python",
   "name": "python3"
  },
  "language_info": {
   "codemirror_mode": {
    "name": "ipython",
    "version": 3
   },
   "file_extension": ".py",
   "mimetype": "text/x-python",
   "name": "python",
   "nbconvert_exporter": "python",
   "pygments_lexer": "ipython3",
   "version": "3.7.5"
  }
 },
 "nbformat": 4,
 "nbformat_minor": 4
}
