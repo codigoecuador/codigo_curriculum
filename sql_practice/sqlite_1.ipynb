{
 "cells": [
  {
   "cell_type": "markdown",
   "metadata": {},
   "source": [
    "# SQLite lesson 1\n",
    "\n",
    "Whenever we write programs, we need a way to store the data that they contain. One of the most popular ways of doing this is by using relational databases. Structured Query Language (SQL) is the language used by relational databases.\n",
    "\n",
    "SQL is a separate language from Python, but here we will be using them together. All the SQL statements are going to be fed to Python as string objects.\n",
    "\n",
    "A database is simply a collection of data about a particular topic, like riders on a bus or patients at a doctor's office, or customers at a store.\n",
    "\n",
    "Python comes with a module called sqlite3, which allows it to communicate with a relational database to store data and reopen it after a program is closed. This lesson will teach you the basics of working with SQL using Python. \n",
    "\n",
    "Let's start with a simple example where we will create a table, add data to it, and then delete the data and quit."
   ]
  },
  {
   "cell_type": "code",
   "execution_count": 1,
   "metadata": {},
   "outputs": [],
   "source": [
    "#Let's load the sqlite3 module\n",
    "import sqlite3 #imports the module sqlite3"
   ]
  },
  {
   "cell_type": "code",
   "execution_count": 3,
   "metadata": {},
   "outputs": [],
   "source": [
    "#to keep things simple, we will use a database in the computer's memory for this exercise\n",
    "db = sqlite3.connect(':memory:')"
   ]
  },
  {
   "cell_type": "markdown",
   "metadata": {},
   "source": [
    "What have we just done here? We've imported the module sqlite3. Then, we have created a connection object to create an in-memory database. Since the database doesn't exist, we have created a new one."
   ]
  },
  {
   "cell_type": "code",
   "execution_count": 5,
   "metadata": {},
   "outputs": [],
   "source": [
    "#Let's create a cursor that let's us communicate with the database\n",
    "cur = db.cursor()"
   ]
  },
  {
   "cell_type": "code",
   "execution_count": 9,
   "metadata": {},
   "outputs": [
    {
     "name": "stdout",
     "output_type": "stream",
     "text": [
      "<class 'sqlite3.Connection'>\n",
      "<class 'sqlite3.Cursor'>\n"
     ]
    }
   ],
   "source": [
    "#Let's look at the object types. As you can see, db is a connection to the database, while cur is a cursor.\n",
    "print(type(db))\n",
    "print(type(cur))"
   ]
  },
  {
   "cell_type": "markdown",
   "metadata": {},
   "source": [
    "Relational databases like SQL are made up of tables. Now that we've created a database, let's make a table. We do this using our cursor object, by calling the `cur.execute()` method. We feed a sql statement to the cursor. In this case, we will tell it to create a new table by feeding it `create table test (id_name)`."
   ]
  },
  {
   "cell_type": "code",
   "execution_count": 15,
   "metadata": {},
   "outputs": [
    {
     "data": {
      "text/plain": [
       "<sqlite3.Cursor at 0x1050c3dc0>"
      ]
     },
     "execution_count": 15,
     "metadata": {},
     "output_type": "execute_result"
    }
   ],
   "source": [
    "cur.execute('create table test(id, name)')\n",
    "#we have just created a new empty table with two fields."
   ]
  },
  {
   "cell_type": "markdown",
   "metadata": {},
   "source": [
    "Please note that if you try to create a table with the same name more than once in a database, the sqlite3 module will not allow it. You can delete a table with the `drop table` command. To erase the table and start over, type `cur.execute('drop table test')` and then run `create table test (id, name)` again."
   ]
  },
  {
   "cell_type": "code",
   "execution_count": 17,
   "metadata": {},
   "outputs": [
    {
     "data": {
      "text/plain": [
       "<sqlite3.Cursor at 0x1050c3dc0>"
      ]
     },
     "execution_count": 17,
     "metadata": {},
     "output_type": "execute_result"
    }
   ],
   "source": [
    "#Now let's insert some data\n",
    "cur.execute('insert into test (id, name) values (1, \"Thomas\")')"
   ]
  },
  {
   "cell_type": "code",
   "execution_count": 25,
   "metadata": {},
   "outputs": [
    {
     "name": "stdout",
     "output_type": "stream",
     "text": [
      "[(1, 'Thomas'), (2, 'Debra')]\n"
     ]
    }
   ],
   "source": [
    "#Now let's get the data that we added to it. We do this using the 'select' statement\n",
    "result = cur.execute('select * from test')\n",
    "#once we have selected the data, we display it using the fetchall() method\n",
    "print(result.fetchall()) #the fetchall method returns all the results"
   ]
  },
  {
   "cell_type": "code",
   "execution_count": 23,
   "metadata": {},
   "outputs": [
    {
     "data": {
      "text/plain": [
       "<sqlite3.Cursor at 0x1050c3dc0>"
      ]
     },
     "execution_count": 23,
     "metadata": {},
     "output_type": "execute_result"
    }
   ],
   "source": [
    "#Let's add some more data\n",
    "cur.execute('insert into test (id, name) values (2, \"Debra\")')"
   ]
  },
  {
   "cell_type": "code",
   "execution_count": 27,
   "metadata": {},
   "outputs": [
    {
     "name": "stdout",
     "output_type": "stream",
     "text": [
      "[(1, 'Thomas'), (2, 'Debra')]\n"
     ]
    }
   ],
   "source": [
    "cur.execute('select * from test')\n",
    "print(cur.fetchall())"
   ]
  },
  {
   "cell_type": "code",
   "execution_count": 32,
   "metadata": {},
   "outputs": [
    {
     "data": {
      "text/plain": [
       "[(2, 'Debra')]"
      ]
     },
     "execution_count": 32,
     "metadata": {},
     "output_type": "execute_result"
    }
   ],
   "source": [
    "#Now let's unlock the power of relational databases by performing a query that returns only one value\n",
    "#In this case we can return the value of the name \"Debra\" from this query.\n",
    "cur.execute('select * from test where name like ?', ('Debra',))\n",
    "cur.fetchall()"
   ]
  },
  {
   "cell_type": "markdown",
   "metadata": {},
   "source": [
    "What if we wanted to do more than that? Like by adding a function to add values to the database, and another function to delete values from it? How could we do that?"
   ]
  },
  {
   "cell_type": "code",
   "execution_count": 42,
   "metadata": {},
   "outputs": [],
   "source": [
    "#function to add data\n",
    "def add_entry(cursor: sqlite3.Connection.cursor, id: int, name: str):\n",
    "    cursor.execute('insert into test (id, name) values(?, ?)', (id, name))"
   ]
  },
  {
   "cell_type": "code",
   "execution_count": 43,
   "metadata": {},
   "outputs": [],
   "source": [
    "add_entry(cur, id=3, name='Deborah')"
   ]
  },
  {
   "cell_type": "markdown",
   "metadata": {},
   "source": [
    "The type hints in the function above are purely cosmetic. You can also write the code like this:\n",
    "\n",
    "`def add_entry(cursor, id, name):\n",
    "    cursor.execute('insert into test (id, name) values(?, ?)', (id, name))`"
   ]
  },
  {
   "cell_type": "code",
   "execution_count": 44,
   "metadata": {},
   "outputs": [
    {
     "data": {
      "text/plain": [
       "[(1, 'Thomas'), (2, 'Debra'), (3, 'Deborah')]"
      ]
     },
     "execution_count": 44,
     "metadata": {},
     "output_type": "execute_result"
    }
   ],
   "source": [
    "#We now have two entries where the names are similar. Let's fetch all the values to show this\n",
    "cur.execute('select * from test')\n",
    "cur.fetchall()"
   ]
  },
  {
   "cell_type": "code",
   "execution_count": 46,
   "metadata": {},
   "outputs": [
    {
     "data": {
      "text/plain": [
       "[]"
      ]
     },
     "execution_count": 46,
     "metadata": {},
     "output_type": "execute_result"
    }
   ],
   "source": [
    "#What happens if we try to select the entries that are similar to \"Deb\" in the database\n",
    "cur.execute('select * from test where name like \"Deb\"')\n",
    "cur.fetchall() #no values are returned"
   ]
  },
  {
   "cell_type": "markdown",
   "metadata": {},
   "source": [
    "Clearly, the like keyword doesn't work. As it turns out, sqlite lets us use `%` as a way of searching based on incomplete commands. This helps us to find results based on partial values. We place the % at the beginning or end of a query depending on what values we currently don't know."
   ]
  },
  {
   "cell_type": "code",
   "execution_count": 55,
   "metadata": {},
   "outputs": [
    {
     "data": {
      "text/plain": [
       "[(2, 'Debra'), (3, 'Deborah')]"
      ]
     },
     "execution_count": 55,
     "metadata": {},
     "output_type": "execute_result"
    }
   ],
   "source": [
    "cur.execute('select * from test where name like \"%deb%\"')\n",
    "cur.fetchall()"
   ]
  },
  {
   "cell_type": "code",
   "execution_count": 59,
   "metadata": {},
   "outputs": [],
   "source": [
    "#Let's create a function to do a search for us\n",
    "def findData(cursor: sqlite3.Connection.cursor, aString: str):\n",
    "    cursor.execute('select * from test where name like ?', (aString,))\n",
    "    return cur.fetchall()"
   ]
  },
  {
   "cell_type": "code",
   "execution_count": 61,
   "metadata": {},
   "outputs": [
    {
     "data": {
      "text/plain": [
       "[(2, 'Debra'), (3, 'Deborah')]"
      ]
     },
     "execution_count": 61,
     "metadata": {},
     "output_type": "execute_result"
    }
   ],
   "source": [
    "findData(cur, '%d%')"
   ]
  },
  {
   "cell_type": "code",
   "execution_count": 62,
   "metadata": {},
   "outputs": [
    {
     "data": {
      "text/plain": [
       "[(1, 'Thomas')]"
      ]
     },
     "execution_count": 62,
     "metadata": {},
     "output_type": "execute_result"
    }
   ],
   "source": [
    "findData(cur, '%t%')"
   ]
  },
  {
   "cell_type": "code",
   "execution_count": 63,
   "metadata": {},
   "outputs": [],
   "source": [
    "add_entry(cur, 4, 'Laura')"
   ]
  },
  {
   "cell_type": "code",
   "execution_count": 66,
   "metadata": {},
   "outputs": [
    {
     "name": "stdout",
     "output_type": "stream",
     "text": [
      "[]\n",
      "[(4, 'Laura')]\n"
     ]
    }
   ],
   "source": [
    "#Here's the difference in the use of % by position\n",
    "#before the string we use to search\n",
    "print(findData(cur, '%L')) #nothing found\n",
    "#after the string we use to search\n",
    "print(findData(cur, 'L%'))"
   ]
  },
  {
   "cell_type": "markdown",
   "metadata": {},
   "source": [
    "Now that we have experimented a bit with the database, feel free to create your own table. "
   ]
  },
  {
   "cell_type": "markdown",
   "metadata": {},
   "source": [
    "Since we are done for now, let's delete the tables and close the database. Note that these commands will raise an exception if you try to enter them more than once. Check the appendix for how to get around this with a try...except structure."
   ]
  },
  {
   "cell_type": "code",
   "execution_count": 86,
   "metadata": {},
   "outputs": [
    {
     "ename": "ProgrammingError",
     "evalue": "Cannot operate on a closed cursor.",
     "output_type": "error",
     "traceback": [
      "\u001b[0;31m---------------------------------------------------------------------------\u001b[0m",
      "\u001b[0;31mProgrammingError\u001b[0m                          Traceback (most recent call last)",
      "\u001b[0;32m<ipython-input-86-9a77fbf97a02>\u001b[0m in \u001b[0;36m<module>\u001b[0;34m\u001b[0m\n\u001b[1;32m      1\u001b[0m \u001b[0;31m#These commands will raise an exception if entered more than once\u001b[0m\u001b[0;34m\u001b[0m\u001b[0;34m\u001b[0m\u001b[0;34m\u001b[0m\u001b[0m\n\u001b[0;32m----> 2\u001b[0;31m \u001b[0mcur\u001b[0m\u001b[0;34m.\u001b[0m\u001b[0mexecute\u001b[0m\u001b[0;34m(\u001b[0m\u001b[0;34m'delete from test'\u001b[0m\u001b[0;34m)\u001b[0m\u001b[0;34m\u001b[0m\u001b[0;34m\u001b[0m\u001b[0m\n\u001b[0m\u001b[1;32m      3\u001b[0m \u001b[0mcur\u001b[0m\u001b[0;34m.\u001b[0m\u001b[0mexecute\u001b[0m\u001b[0;34m(\u001b[0m\u001b[0;34m'drop table test'\u001b[0m\u001b[0;34m)\u001b[0m\u001b[0;34m\u001b[0m\u001b[0;34m\u001b[0m\u001b[0m\n\u001b[1;32m      4\u001b[0m \u001b[0mcur\u001b[0m\u001b[0;34m.\u001b[0m\u001b[0mclose\u001b[0m\u001b[0;34m(\u001b[0m\u001b[0;34m)\u001b[0m\u001b[0;34m\u001b[0m\u001b[0;34m\u001b[0m\u001b[0m\n\u001b[1;32m      5\u001b[0m \u001b[0mdb\u001b[0m\u001b[0;34m.\u001b[0m\u001b[0mcommit\u001b[0m\u001b[0;34m(\u001b[0m\u001b[0;34m)\u001b[0m \u001b[0;31m#commit any changes\u001b[0m\u001b[0;34m\u001b[0m\u001b[0;34m\u001b[0m\u001b[0m\n",
      "\u001b[0;31mProgrammingError\u001b[0m: Cannot operate on a closed cursor."
     ]
    }
   ],
   "source": [
    "#These commands will raise an exception if entered more than once\n",
    "cur.execute('delete from test')\n",
    "cur.execute('drop table test')\n",
    "cur.close()\n",
    "db.commit() #commit any changes\n",
    "db.close() #close the connection"
   ]
  },
  {
   "cell_type": "markdown",
   "metadata": {},
   "source": [
    "# Avoid exceptions when closing a database\n",
    "\n",
    "To get around this, we can use a try...except structure. We can import the exceptions from the sqlite3 module.\n",
    "\n",
    "Keep in mind you do not have to do this. But it can help you prevent your program from crashing.\n",
    "`OperationalError` is for when an illegal operation is done in a database, like adding to a table that does not exist. `ProgrammingError` is for when we attempt to operate on a closed database."
   ]
  },
  {
   "cell_type": "code",
   "execution_count": 77,
   "metadata": {},
   "outputs": [
    {
     "name": "stdout",
     "output_type": "stream",
     "text": [
      "Cursor object already closed\n"
     ]
    }
   ],
   "source": [
    "from sqlite3 import ProgrammingError, OperationalError\n",
    "try:\n",
    "    cur.execute('delete from test') #we are emptying the test table\n",
    "except OperationalError:\n",
    "    print('table does not exist')\n",
    "except ProgrammingError:\n",
    "    print('Cursor object already closed')"
   ]
  },
  {
   "cell_type": "code",
   "execution_count": 79,
   "metadata": {},
   "outputs": [
    {
     "name": "stdout",
     "output_type": "stream",
     "text": [
      "cursor already closed\n"
     ]
    }
   ],
   "source": [
    "#now the test table is empty.\n",
    "try:\n",
    "    cur.execute('drop table test')\n",
    "except OperationalError:\n",
    "    print('table does not exist')\n",
    "except ProgrammingError:\n",
    "    print('cursor already closed')"
   ]
  },
  {
   "cell_type": "markdown",
   "metadata": {},
   "source": [
    "Now, we will perform the final two steps to close our connection to the database. First, we will close the cursor object we have been using. Second, we will commit any changes to the database. Finally, we will close the connection to the database itself. Since we have an in-memory database, this will delete the database for us."
   ]
  },
  {
   "cell_type": "code",
   "execution_count": 81,
   "metadata": {},
   "outputs": [
    {
     "name": "stdout",
     "output_type": "stream",
     "text": [
      "cursor already closed\n"
     ]
    }
   ],
   "source": [
    "try:\n",
    "    cur.close()\n",
    "except ProgrammingError:\n",
    "    print('cursor already closed')"
   ]
  },
  {
   "cell_type": "code",
   "execution_count": 82,
   "metadata": {},
   "outputs": [
    {
     "name": "stdout",
     "output_type": "stream",
     "text": [
      "Database already closed\n"
     ]
    }
   ],
   "source": [
    "try:\n",
    "    db.commit()\n",
    "except ProgrammingError:\n",
    "    print('Database already closed')"
   ]
  },
  {
   "cell_type": "code",
   "execution_count": 84,
   "metadata": {},
   "outputs": [],
   "source": [
    "db.close()"
   ]
  },
  {
   "cell_type": "code",
   "execution_count": null,
   "metadata": {},
   "outputs": [],
   "source": []
  }
 ],
 "metadata": {
  "kernelspec": {
   "display_name": "Python 3",
   "language": "python",
   "name": "python3"
  },
  "language_info": {
   "codemirror_mode": {
    "name": "ipython",
    "version": 3
   },
   "file_extension": ".py",
   "mimetype": "text/x-python",
   "name": "python",
   "nbconvert_exporter": "python",
   "pygments_lexer": "ipython3",
   "version": "3.7.5"
  }
 },
 "nbformat": 4,
 "nbformat_minor": 4
}
