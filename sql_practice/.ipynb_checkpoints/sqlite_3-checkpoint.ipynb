{
 "cells": [
  {
   "cell_type": "markdown",
   "metadata": {},
   "source": [
    "This lesson is optional, but very useful if you want a quick way to make a command line app with a database. My goal in creating it is to give you what I wish I had when I first started learning Python. The cmd library and sql can be combined to create a console application that can gather, process, and display data. \n",
    "\n",
    "In this lesson, we will show you how to construct a command line interface with sqlite and the cmd module. You can build a simple fully fledged data storage application using only the Python standard library!\n",
    "\n",
    "Don't try to memorize this lesson. Think of it as a template that you can cut and paste.\n",
    "\n",
    "We are going to keep our file from the previous database, cities.db. If you want, you can make a copy and use that one."
   ]
  },
  {
   "cell_type": "code",
   "execution_count": 1,
   "metadata": {},
   "outputs": [],
   "source": [
    "#The module that Python uses for the command line is called cmd, lets cut and paste some basic text here.\n",
    "#Let's also import sys, because this module needs to use it to quit.\n",
    "import cmd, sys\n",
    "import sqlite3"
   ]
  },
  {
   "cell_type": "code",
   "execution_count": 2,
   "metadata": {},
   "outputs": [],
   "source": [
    "class CitiesCMD(cmd.Cmd):\n",
    "    '''\n",
    "    This is the command line interface. Everything below this is for command\n",
    "    line items.\n",
    "    '''\n",
    "       \n",
    "    #all commands are prefixed with do_ or help_\n",
    "    #to enter the search command at the cli you type \"search\"\n",
    "    #to get help on it you enter \"help search\"\n",
    "    \n",
    "    intro = \"CityDBShell automates the process of collecting city data.\"\n",
    "    prompt = \"(CityDBShell) \"\n",
    "    entry = \"\"\n",
    "    \n",
    "    \n",
    "    def do_search(self, command):\n",
    "        print('we need to implement the search function')\n",
    "           \n",
    "    def help_search(self):\n",
    "        print('''Search function for finding cities.\n",
    "             ''')\n",
    "    \n",
    "    def do_quit(self, arg):\n",
    "        print(\"Quitting the program\")\n",
    "        sys.exit()\n",
    "        \n",
    "    def help_quit(self):\n",
    "        print('Exits the program')\n",
    "\n",
    "    def default(self, line):       \n",
    "        \"\"\"Called on an input line when the command prefix is not recognized.\n",
    "           In that case we execute the line as Python code.\n",
    "        \"\"\"\n",
    "        try:\n",
    "            exec(line) in self._locals, self._globals\n",
    "        except Exception as e:\n",
    "            print(e.__class__, \":\", e)  \n",
    "\n",
    "def main():\n",
    "    app = CitiesCMD().cmdloop()"
   ]
  },
  {
   "cell_type": "markdown",
   "metadata": {},
   "source": [
    "Confused about what the code above does? Let me tell you a secret. I am confused about it too. So let's test it. We start it by calling the `main()` function."
   ]
  },
  {
   "cell_type": "code",
   "execution_count": 3,
   "metadata": {},
   "outputs": [
    {
     "name": "stdout",
     "output_type": "stream",
     "text": [
      "CityDBShell automates the process of collecting city data.\n"
     ]
    },
    {
     "name": "stdin",
     "output_type": "stream",
     "text": [
      "(CityDBShell)  \n",
      "(CityDBShell)  \n",
      "(CityDBShell)  \n",
      "(CityDBShell)  exit\n"
     ]
    },
    {
     "name": "stdout",
     "output_type": "stream",
     "text": [
      "<class 'AttributeError'> : 'CitiesCMD' object has no attribute '_locals'\n"
     ]
    },
    {
     "name": "stdin",
     "output_type": "stream",
     "text": [
      "(CityDBShell)  quit\n"
     ]
    },
    {
     "name": "stdout",
     "output_type": "stream",
     "text": [
      "Quitting the program\n"
     ]
    },
    {
     "ename": "SystemExit",
     "evalue": "",
     "output_type": "error",
     "traceback": [
      "An exception has occurred, use %tb to see the full traceback.\n",
      "\u001b[0;31mSystemExit\u001b[0m\n"
     ]
    },
    {
     "name": "stderr",
     "output_type": "stream",
     "text": [
      "/Users/thomassullivan/data_science/anaconda3/envs/cy_practice/lib/python3.7/site-packages/IPython/core/interactiveshell.py:3334: UserWarning: To exit: use 'exit', 'quit', or Ctrl-D.\n",
      "  warn(\"To exit: use 'exit', 'quit', or Ctrl-D.\", stacklevel=1)\n"
     ]
    }
   ],
   "source": [
    "#Let's test it out, open it up and type \"search\", \"help search\", \"help\", and then \"quit\".\n",
    "main()"
   ]
  },
  {
   "cell_type": "markdown",
   "metadata": {},
   "source": [
    "Notice how `cmd` uses do_search for the search command function. Then it uses help_search for the search help function"
   ]
  },
  {
   "cell_type": "markdown",
   "metadata": {},
   "source": [
    "Notice how the CMD module creates a default structure for help commands!"
   ]
  },
  {
   "cell_type": "markdown",
   "metadata": {},
   "source": [
    "Let's keep this simple by copying all the functions into our cmd module from the previous lesson. We will start with the database connection. We create two global variables for cursor and db, to allow the cmd module to use those variables. We connect to the database with the db. We will also add the search function to the cmd module."
   ]
  },
  {
   "cell_type": "code",
   "execution_count": 4,
   "metadata": {},
   "outputs": [],
   "source": [
    "import cmd, sys\n",
    "import sqlite3\n",
    "\n",
    "cursor = None #global variable\n",
    "db = None #global variable\n",
    "\n",
    "def find_city(id: int):\n",
    "    sql = '''select name, province, country, population from cities\n",
    "    where id = ?''' #\n",
    "    return cur.execute(sql, (id,)).fetchall()[0]\n",
    "\n",
    "#Notice how we add 'find_city' outside of the CMD function.\n",
    "\n",
    "class CitiesCMD(cmd.Cmd):\n",
    "    '''\n",
    "    This is the command line interface. Everything below this is for command\n",
    "    line items.\n",
    "    '''\n",
    "       \n",
    "    #all commands are prefixed with do_ or help_\n",
    "    #to enter the search command at the cli you type \"search\"\n",
    "    #to get help on it you enter \"help search\"\n",
    "    \n",
    "    intro = \"CityDBShell automates the process of collecting city data.\"\n",
    "    prompt = \"(CityDBShell) \"\n",
    "    entry = \"\"\n",
    "    \n",
    "    def do_search(self, command): #we are only implementing the search function for now.\n",
    "        result = find_city(id=command)\n",
    "        print(result)\n",
    "           \n",
    "    def help_search(self):\n",
    "        print('''Search function for finding cities.\n",
    "             ''')\n",
    "    \n",
    "    def do_quit(self, arg):\n",
    "        print(\"Quitting the program\")\n",
    "        sys.exit()\n",
    "        \n",
    "    def help_quit(self):\n",
    "        print('Exits the program')\n",
    "\n",
    "    def default(self, line):       \n",
    "        \"\"\"Called on an input line when the command prefix is not recognized.\n",
    "           In that case we execute the line as Python code.\n",
    "        \"\"\"\n",
    "        try:\n",
    "            exec(line) in self._locals, self._globals\n",
    "        except Exception as e:\n",
    "            print(e.__class__, \":\", e)  \n",
    "\n",
    "def main():\n",
    "    global cur, db #writes to a global variable from within a function\n",
    "    db = sqlite3.connect('cities.db') #we connected to the database!\n",
    "    cur = db.cursor() #we created the cursor!\n",
    "    app = CitiesCMD().cmdloop()"
   ]
  },
  {
   "cell_type": "markdown",
   "metadata": {},
   "source": [
    "First, let's connect to the database automatically by adding the commands to connect to the main() function."
   ]
  },
  {
   "cell_type": "code",
   "execution_count": 5,
   "metadata": {},
   "outputs": [
    {
     "name": "stdout",
     "output_type": "stream",
     "text": [
      "CityDBShell automates the process of collecting city data.\n"
     ]
    },
    {
     "name": "stdin",
     "output_type": "stream",
     "text": [
      "(CityDBShell)  search 2\n"
     ]
    },
    {
     "name": "stdout",
     "output_type": "stream",
     "text": [
      "('Quito', 'Pichincha', 'Ecuador', 2000000)\n"
     ]
    },
    {
     "name": "stdin",
     "output_type": "stream",
     "text": [
      "(CityDBShell)  search 1\n"
     ]
    },
    {
     "name": "stdout",
     "output_type": "stream",
     "text": [
      "('Quito', 'Pichincha', 'Ecuador', 2000000)\n"
     ]
    },
    {
     "name": "stdin",
     "output_type": "stream",
     "text": [
      "(CityDBShell)  exit\n"
     ]
    },
    {
     "name": "stdout",
     "output_type": "stream",
     "text": [
      "<class 'AttributeError'> : 'CitiesCMD' object has no attribute '_locals'\n"
     ]
    },
    {
     "name": "stdin",
     "output_type": "stream",
     "text": [
      "(CityDBShell)  quit\n"
     ]
    },
    {
     "name": "stdout",
     "output_type": "stream",
     "text": [
      "Quitting the program\n"
     ]
    },
    {
     "ename": "SystemExit",
     "evalue": "",
     "output_type": "error",
     "traceback": [
      "An exception has occurred, use %tb to see the full traceback.\n",
      "\u001b[0;31mSystemExit\u001b[0m\n"
     ]
    }
   ],
   "source": [
    "main()"
   ]
  },
  {
   "cell_type": "markdown",
   "metadata": {},
   "source": [
    "As you can see, we've now gotten the program to print out the information for us just by typing in a command. We've made an app. A simple one for sure but sometimes simple is best. Let's add some functionality to our app by adding the add and delete functions."
   ]
  },
  {
   "cell_type": "code",
   "execution_count": 6,
   "metadata": {},
   "outputs": [],
   "source": [
    "import cmd, sys\n",
    "import sqlite3\n",
    "\n",
    "cursor = None #global variable\n",
    "db = None #global variable\n",
    "\n",
    "def add_city(name: str, province: str, country: str, population: int) -> None: #doesn't return anything\n",
    "    sql = '''insert into cities (name, province, country, population) values (?,?,?,?)'''\n",
    "    cur.execute(sql, (name, province, country, population))\n",
    "\n",
    "def find_city(id: int):\n",
    "    sql = '''select name, province, country, population from cities\n",
    "    where id = ?''' #\n",
    "    return cur.execute(sql, (id,)).fetchall()[0]\n",
    "\n",
    "#Notice how we add 'find_city' outside of the CMD function.\n",
    "\n",
    "class CitiesCMD(cmd.Cmd):\n",
    "    '''\n",
    "    This is the command line interface. Everything below this is for command\n",
    "    line items.\n",
    "    '''\n",
    "       \n",
    "    #all commands are prefixed with do_ or help_\n",
    "    #to enter the search command at the cli you type \"search\"\n",
    "    #to get help on it you enter \"help search\"\n",
    "    \n",
    "    intro = \"CityDBShell automates the process of collecting city data.\"\n",
    "    prompt = \"(CityDBShell) \"\n",
    "    entry = \"\"\n",
    "    \n",
    "    def do_search(self, command): #we are only implementing the search function for now.\n",
    "        result = find_city(id=command)\n",
    "        print(result)\n",
    "           \n",
    "    def help_search(self):\n",
    "        print('''Search function for finding cities.\n",
    "             ''')\n",
    "        \n",
    "    def do_add(self, command):\n",
    "        command=command.split() #split the command string into multiple parts\n",
    "        add_city(name=command[0], province=command[1], country=command[2], population=command[3])\n",
    "    \n",
    "    def do_quit(self, arg):\n",
    "        print(\"Quitting the program\")\n",
    "        cur.close() #close the cursor\n",
    "        db.commit() #commit the changes to the database\n",
    "        db.close() #close the database\n",
    "        sys.exit() #exit the program with sys.exit()\n",
    "        \n",
    "    def help_quit(self):\n",
    "        print('Exits the program')\n",
    "\n",
    "    def default(self, line):       \n",
    "        \"\"\"Called on an input line when the command prefix is not recognized.\n",
    "           In that case we execute the line as Python code.\n",
    "        \"\"\"\n",
    "        try:\n",
    "            exec(line) in self._locals, self._globals\n",
    "        except Exception as e:\n",
    "            print(e.__class__, \":\", e)  \n",
    "\n",
    "def main():\n",
    "    global cur, db #writes to a global variable from within a function\n",
    "    db = sqlite3.connect('cities.db') #we connected to the database!\n",
    "    cur = db.cursor() #we created the cursor!\n",
    "    app = CitiesCMD().cmdloop()"
   ]
  },
  {
   "cell_type": "code",
   "execution_count": 7,
   "metadata": {},
   "outputs": [
    {
     "name": "stdout",
     "output_type": "stream",
     "text": [
      "CityDBShell automates the process of collecting city data.\n"
     ]
    },
    {
     "name": "stdin",
     "output_type": "stream",
     "text": [
      "(CityDBShell)  search 1\n"
     ]
    },
    {
     "name": "stdout",
     "output_type": "stream",
     "text": [
      "('Quito', 'Pichincha', 'Ecuador', 2000000)\n"
     ]
    },
    {
     "name": "stdin",
     "output_type": "stream",
     "text": [
      "(CityDBShell)  exit\n"
     ]
    },
    {
     "name": "stdout",
     "output_type": "stream",
     "text": [
      "<class 'AttributeError'> : 'CitiesCMD' object has no attribute '_locals'\n"
     ]
    },
    {
     "name": "stdin",
     "output_type": "stream",
     "text": [
      "(CityDBShell)  quit\n"
     ]
    },
    {
     "name": "stdout",
     "output_type": "stream",
     "text": [
      "Quitting the program\n"
     ]
    },
    {
     "ename": "SystemExit",
     "evalue": "",
     "output_type": "error",
     "traceback": [
      "An exception has occurred, use %tb to see the full traceback.\n",
      "\u001b[0;31mSystemExit\u001b[0m\n"
     ]
    }
   ],
   "source": [
    "#Let's run the main function\n",
    "#then type \"add Lima Lima Peru 2000000\"\n",
    "#then type search 4 to find Lima by its ID\n",
    "main()"
   ]
  },
  {
   "cell_type": "markdown",
   "metadata": {},
   "source": [
    "Let us continue building our our application by adding commands to edit and delete cities from the database, as well as another function to view every city."
   ]
  },
  {
   "cell_type": "code",
   "execution_count": 23,
   "metadata": {},
   "outputs": [],
   "source": [
    "#Let's add a function to view every city\n",
    "\n"
   ]
  },
  {
   "cell_type": "code",
   "execution_count": 15,
   "metadata": {},
   "outputs": [],
   "source": [
    "import cmd, sys\n",
    "import sqlite3\n",
    "\n",
    "cursor = None #global variable\n",
    "db = None #global variable\n",
    "\n",
    "def add_city(name: str, province: str, country: str, population: int) -> None: #doesn't return anything\n",
    "    sql = '''insert into cities (name, province, country, population) values (?,?,?,?)'''\n",
    "    cur.execute(sql, (name, province, country, population))\n",
    "\n",
    "def find_city(id: int):\n",
    "    sql = '''select name, province, country, population from cities\n",
    "    where id = ?''' #\n",
    "    return cur.execute(sql, (id,)).fetchall()[0]\n",
    "\n",
    "def find_all_cities(): #takes no argument because we are displaying all the cities.\n",
    "    sql = '''select id, name, province, country, population from cities'''\n",
    "    return cur.execute(sql).fetchall()\n",
    "    \n",
    "\n",
    "#Notice how we add 'find_city' outside of the CMD function.\n",
    "\n",
    "class CitiesCMD(cmd.Cmd):\n",
    "    '''\n",
    "    This is the command line interface. Everything below this is for command\n",
    "    line items.\n",
    "    '''\n",
    "       \n",
    "    #all commands are prefixed with do_ or help_\n",
    "    #to enter the search command at the cli you type \"search\"\n",
    "    #to get help on it you enter \"help search\"\n",
    "    \n",
    "    intro = \"CityDBShell automates the process of collecting city data.\"\n",
    "    prompt = \"(CityDBShell) \"\n",
    "    entry = \"\"\n",
    "    \n",
    "    def do_search(self, command): #we are only implementing the search function for now.\n",
    "        result = find_city(id=command)\n",
    "        print(result)\n",
    "        \n",
    "    def help_search(self):\n",
    "        print('''Search function for finding cities.\n",
    "             ''')\n",
    "        \n",
    "    def do_find_all(self, command):\n",
    "        result = find_all_cities()\n",
    "        for item in result:\n",
    "            print(item)\n",
    "        \n",
    "    def do_add(self, command):\n",
    "        command=command.split() #split the command string into multiple parts\n",
    "        add_city(name=command[0], province=command[1], country=command[2], population=command[3])\n",
    "    \n",
    "    def do_quit(self, arg):\n",
    "        print(\"Quitting the program\")\n",
    "        cur.close() #close the cursor\n",
    "        db.commit() #commit the changes to the database\n",
    "        db.close() #close the database\n",
    "        sys.exit() #exit the program with sys.exit()\n",
    "        \n",
    "    def help_quit(self):\n",
    "        print('Exits the program')\n",
    "\n",
    "    def default(self, line):       \n",
    "        \"\"\"Called on an input line when the command prefix is not recognized.\n",
    "           In that case we execute the line as Python code.\n",
    "        \"\"\"\n",
    "        try:\n",
    "            exec(line) in self._locals, self._globals\n",
    "        except Exception as e:\n",
    "            print(e.__class__, \":\", e)  \n",
    "\n",
    "def main():\n",
    "    global cur, db #writes to a global variable from within a function\n",
    "    db = sqlite3.connect('cities.db') #we connected to the database!\n",
    "    cur = db.cursor() #we created the cursor!\n",
    "    app = CitiesCMD().cmdloop()"
   ]
  },
  {
   "cell_type": "code",
   "execution_count": 13,
   "metadata": {},
   "outputs": [
    {
     "name": "stdout",
     "output_type": "stream",
     "text": [
      "CityDBShell automates the process of collecting city data.\n"
     ]
    },
    {
     "name": "stdin",
     "output_type": "stream",
     "text": [
      "(CityDBShell)  quit\n"
     ]
    },
    {
     "name": "stdout",
     "output_type": "stream",
     "text": [
      "Quitting the program\n"
     ]
    },
    {
     "ename": "SystemExit",
     "evalue": "",
     "output_type": "error",
     "traceback": [
      "An exception has occurred, use %tb to see the full traceback.\n",
      "\u001b[0;31mSystemExit\u001b[0m\n"
     ]
    }
   ],
   "source": [
    "main()"
   ]
  },
  {
   "cell_type": "markdown",
   "metadata": {},
   "source": [
    "So typing in `find_all` displays all of the information about the cities in a Tuple. For a short database like this, it is enough to be able to search for and edit entries specifically. What happens if we ask for help with `find_all` or `add_city`."
   ]
  },
  {
   "cell_type": "markdown",
   "metadata": {},
   "source": [
    "Now let's create an update function."
   ]
  },
  {
   "cell_type": "code",
   "execution_count": 11,
   "metadata": {},
   "outputs": [],
   "source": [
    "import cmd, sys\n",
    "import sqlite3\n",
    "from dataclasses import dataclass\n",
    "\n",
    "cursor = None #global variable\n",
    "db = None #global variable\n",
    "\n",
    "@dataclass\n",
    "class Update:\n",
    "    update_type: str\n",
    "    cityID: int\n",
    "    new_value: str #we can store any value, even a number, as a string.\n",
    "    \n",
    "    def __update_city(self, id, update_type:str, new_value: str):\n",
    "        sql = '''\n",
    "        update cities set name =?, province=?, country=?, population=?'''\n",
    "        data = find_city(id) #we are calling \"find_city\" to get info on the city we want to update.\n",
    "        if self.update_type != 'name': name=data[0]\n",
    "        else: name=new_value\n",
    "        if self.update_type != 'province': province = data[1]\n",
    "        else: name=new_value\n",
    "        if self.update_type != 'country': country = data[2]\n",
    "        else: name=new_value\n",
    "        if self.update_type != 'population': population = data[3]\n",
    "        else: name=new_value\n",
    "        cur.execute(sql, (name, province, country, population))\n",
    "\n",
    "    def update_value(self):\n",
    "        if self.update_type == 'name':\n",
    "            self.__update_city(id=self.cityID, new_value=self.new_value, update_type=self.update_type)\n",
    "        elif self.__update_type == 'province':\n",
    "            self.__update_city(id=self.cityID, new_value=self.new_value, update_type=self.update_type)\n",
    "        elif self.__update_type == 'country':\n",
    "            self.__update_city(id=self.cityID, new_value=self.new_value, update_type=self.update_type)\n",
    "        elif self.__update_type == 'population':\n",
    "            self.__update_city(id=self.cityID, new_value=self.new_value, update_type=self.update_type)\n",
    "        else:\n",
    "            print('Invalid update type')\n",
    "\n",
    "def add_city(name: str, province: str, country: str, population: int) -> None: #doesn't return anything\n",
    "    sql = '''insert into cities (name, province, country, population) values (?,?,?,?)'''\n",
    "    cur.execute(sql, (name, province, country, population))\n",
    "\n",
    "def find_city(id: int):\n",
    "    sql = '''select name, province, country, population from cities\n",
    "    where id = ?''' #\n",
    "    return cur.execute(sql, (id,)).fetchone()\n",
    "\n",
    "def find_all_cities(): #takes no argument because we are displaying all the cities.\n",
    "    sql = '''select id, name, province, country, population from cities'''\n",
    "    return cur.execute(sql).fetchall()\n",
    "    \n",
    "\n",
    "\n",
    "#Notice how we add these functions outside of the cmd module. The cmd module takes the command and the \n",
    "#suffix and calls these functions, which then return the value to the user.\n",
    "\n",
    "class CitiesCMD(cmd.Cmd):\n",
    "    '''\n",
    "    This is the command line interface. Everything below this is for command\n",
    "    line items.\n",
    "    '''\n",
    "       \n",
    "    #all commands are prefixed with do_ or help_\n",
    "    #to enter the search command at the cli you type \"search\"\n",
    "    #to get help on it you enter \"help search\"\n",
    "    \n",
    "    intro = \"CityDBShell automates the process of collecting city data.\"\n",
    "    prompt = \"(CityDBShell) \"\n",
    "    entry = \"\"\n",
    "    \n",
    "    def do_search(self, command): #we are only implementing the search function for now.\n",
    "        result = find_city(id=command)\n",
    "        print(result)\n",
    "        \n",
    "    def help_search(self):\n",
    "        print('''Search function for finding cities.\n",
    "             ''')\n",
    "        \n",
    "    def do_find_all(self, command):\n",
    "        result = find_all_cities()\n",
    "        for item in result:\n",
    "            print(item)\n",
    "        \n",
    "    def do_add(self, command):\n",
    "        command=command.split() #split the command string into multiple parts\n",
    "        add_city(name=command[0], province=command[1], country=command[2], population=command[3])\n",
    "        \n",
    "    def do_update(self, command): #once again, we create a new command that is prefixed with 'do'.\n",
    "        command=command.split()\n",
    "        new_update = Update(update_type=command[0], cityID=command[1], new_value=command[2])\n",
    "        new_update.update_value()\n",
    "        #all we are doing here is splitting the command along a space\n",
    "        #then we create an instance of the Update class with the update, city, and new value\n",
    "        \n",
    "        \n",
    "    \n",
    "    def do_quit(self, arg):\n",
    "        print(\"Quitting the program\")\n",
    "        cur.close() #close the cursor\n",
    "        db.commit() #commit the changes to the database\n",
    "        db.close() #close the database\n",
    "        sys.exit() #exit the program with sys.exit()\n",
    "        \n",
    "    def help_quit(self):\n",
    "        print('Exits the program')\n",
    "\n",
    "    def default(self, line):       \n",
    "        \"\"\"Called on an input line when the command prefix is not recognized.\n",
    "           In that case we execute the line as Python code.\n",
    "        \"\"\"\n",
    "        try:\n",
    "            exec(line) in self._locals, self._globals\n",
    "        except Exception as e:\n",
    "            print(e.__class__, \":\", e)  \n",
    "\n",
    "def main():\n",
    "    global cur, db #writes to a global variable from within a function\n",
    "    db = sqlite3.connect('cities2.db') #we connected to the database!\n",
    "    cur = db.cursor() #we created the cursor!\n",
    "    app = CitiesCMD().cmdloop()"
   ]
  },
  {
   "cell_type": "code",
   "execution_count": 12,
   "metadata": {},
   "outputs": [
    {
     "name": "stdout",
     "output_type": "stream",
     "text": [
      "CityDBShell automates the process of collecting city data.\n"
     ]
    },
    {
     "name": "stdin",
     "output_type": "stream",
     "text": [
      "(CityDBShell)  update city 1 villcabamba\n"
     ]
    },
    {
     "ename": "AttributeError",
     "evalue": "'Update' object has no attribute '_Update__update_type'",
     "output_type": "error",
     "traceback": [
      "\u001b[0;31m---------------------------------------------------------------------------\u001b[0m",
      "\u001b[0;31mAttributeError\u001b[0m                            Traceback (most recent call last)",
      "\u001b[0;32m<ipython-input-12-263240bbee7e>\u001b[0m in \u001b[0;36m<module>\u001b[0;34m\u001b[0m\n\u001b[0;32m----> 1\u001b[0;31m \u001b[0mmain\u001b[0m\u001b[0;34m(\u001b[0m\u001b[0;34m)\u001b[0m\u001b[0;34m\u001b[0m\u001b[0;34m\u001b[0m\u001b[0m\n\u001b[0m",
      "\u001b[0;32m<ipython-input-11-910889174572>\u001b[0m in \u001b[0;36mmain\u001b[0;34m()\u001b[0m\n\u001b[1;32m    119\u001b[0m     \u001b[0mdb\u001b[0m \u001b[0;34m=\u001b[0m \u001b[0msqlite3\u001b[0m\u001b[0;34m.\u001b[0m\u001b[0mconnect\u001b[0m\u001b[0;34m(\u001b[0m\u001b[0;34m'cities2.db'\u001b[0m\u001b[0;34m)\u001b[0m \u001b[0;31m#we connected to the database!\u001b[0m\u001b[0;34m\u001b[0m\u001b[0;34m\u001b[0m\u001b[0m\n\u001b[1;32m    120\u001b[0m     \u001b[0mcur\u001b[0m \u001b[0;34m=\u001b[0m \u001b[0mdb\u001b[0m\u001b[0;34m.\u001b[0m\u001b[0mcursor\u001b[0m\u001b[0;34m(\u001b[0m\u001b[0;34m)\u001b[0m \u001b[0;31m#we created the cursor!\u001b[0m\u001b[0;34m\u001b[0m\u001b[0;34m\u001b[0m\u001b[0m\n\u001b[0;32m--> 121\u001b[0;31m     \u001b[0mapp\u001b[0m \u001b[0;34m=\u001b[0m \u001b[0mCitiesCMD\u001b[0m\u001b[0;34m(\u001b[0m\u001b[0;34m)\u001b[0m\u001b[0;34m.\u001b[0m\u001b[0mcmdloop\u001b[0m\u001b[0;34m(\u001b[0m\u001b[0;34m)\u001b[0m\u001b[0;34m\u001b[0m\u001b[0;34m\u001b[0m\u001b[0m\n\u001b[0m",
      "\u001b[0;32m~/data_science/anaconda3/envs/cy_practice/lib/python3.7/cmd.py\u001b[0m in \u001b[0;36mcmdloop\u001b[0;34m(self, intro)\u001b[0m\n\u001b[1;32m    136\u001b[0m                             \u001b[0mline\u001b[0m \u001b[0;34m=\u001b[0m \u001b[0mline\u001b[0m\u001b[0;34m.\u001b[0m\u001b[0mrstrip\u001b[0m\u001b[0;34m(\u001b[0m\u001b[0;34m'\\r\\n'\u001b[0m\u001b[0;34m)\u001b[0m\u001b[0;34m\u001b[0m\u001b[0;34m\u001b[0m\u001b[0m\n\u001b[1;32m    137\u001b[0m                 \u001b[0mline\u001b[0m \u001b[0;34m=\u001b[0m \u001b[0mself\u001b[0m\u001b[0;34m.\u001b[0m\u001b[0mprecmd\u001b[0m\u001b[0;34m(\u001b[0m\u001b[0mline\u001b[0m\u001b[0;34m)\u001b[0m\u001b[0;34m\u001b[0m\u001b[0;34m\u001b[0m\u001b[0m\n\u001b[0;32m--> 138\u001b[0;31m                 \u001b[0mstop\u001b[0m \u001b[0;34m=\u001b[0m \u001b[0mself\u001b[0m\u001b[0;34m.\u001b[0m\u001b[0monecmd\u001b[0m\u001b[0;34m(\u001b[0m\u001b[0mline\u001b[0m\u001b[0;34m)\u001b[0m\u001b[0;34m\u001b[0m\u001b[0;34m\u001b[0m\u001b[0m\n\u001b[0m\u001b[1;32m    139\u001b[0m                 \u001b[0mstop\u001b[0m \u001b[0;34m=\u001b[0m \u001b[0mself\u001b[0m\u001b[0;34m.\u001b[0m\u001b[0mpostcmd\u001b[0m\u001b[0;34m(\u001b[0m\u001b[0mstop\u001b[0m\u001b[0;34m,\u001b[0m \u001b[0mline\u001b[0m\u001b[0;34m)\u001b[0m\u001b[0;34m\u001b[0m\u001b[0;34m\u001b[0m\u001b[0m\n\u001b[1;32m    140\u001b[0m             \u001b[0mself\u001b[0m\u001b[0;34m.\u001b[0m\u001b[0mpostloop\u001b[0m\u001b[0;34m(\u001b[0m\u001b[0;34m)\u001b[0m\u001b[0;34m\u001b[0m\u001b[0;34m\u001b[0m\u001b[0m\n",
      "\u001b[0;32m~/data_science/anaconda3/envs/cy_practice/lib/python3.7/cmd.py\u001b[0m in \u001b[0;36monecmd\u001b[0;34m(self, line)\u001b[0m\n\u001b[1;32m    215\u001b[0m             \u001b[0;32mexcept\u001b[0m \u001b[0mAttributeError\u001b[0m\u001b[0;34m:\u001b[0m\u001b[0;34m\u001b[0m\u001b[0;34m\u001b[0m\u001b[0m\n\u001b[1;32m    216\u001b[0m                 \u001b[0;32mreturn\u001b[0m \u001b[0mself\u001b[0m\u001b[0;34m.\u001b[0m\u001b[0mdefault\u001b[0m\u001b[0;34m(\u001b[0m\u001b[0mline\u001b[0m\u001b[0;34m)\u001b[0m\u001b[0;34m\u001b[0m\u001b[0;34m\u001b[0m\u001b[0m\n\u001b[0;32m--> 217\u001b[0;31m             \u001b[0;32mreturn\u001b[0m \u001b[0mfunc\u001b[0m\u001b[0;34m(\u001b[0m\u001b[0marg\u001b[0m\u001b[0;34m)\u001b[0m\u001b[0;34m\u001b[0m\u001b[0;34m\u001b[0m\u001b[0m\n\u001b[0m\u001b[1;32m    218\u001b[0m \u001b[0;34m\u001b[0m\u001b[0m\n\u001b[1;32m    219\u001b[0m     \u001b[0;32mdef\u001b[0m \u001b[0memptyline\u001b[0m\u001b[0;34m(\u001b[0m\u001b[0mself\u001b[0m\u001b[0;34m)\u001b[0m\u001b[0;34m:\u001b[0m\u001b[0;34m\u001b[0m\u001b[0;34m\u001b[0m\u001b[0m\n",
      "\u001b[0;32m<ipython-input-11-910889174572>\u001b[0m in \u001b[0;36mdo_update\u001b[0;34m(self, command)\u001b[0m\n\u001b[1;32m     90\u001b[0m         \u001b[0mcommand\u001b[0m\u001b[0;34m=\u001b[0m\u001b[0mcommand\u001b[0m\u001b[0;34m.\u001b[0m\u001b[0msplit\u001b[0m\u001b[0;34m(\u001b[0m\u001b[0;34m)\u001b[0m\u001b[0;34m\u001b[0m\u001b[0;34m\u001b[0m\u001b[0m\n\u001b[1;32m     91\u001b[0m         \u001b[0mnew_update\u001b[0m \u001b[0;34m=\u001b[0m \u001b[0mUpdate\u001b[0m\u001b[0;34m(\u001b[0m\u001b[0mupdate_type\u001b[0m\u001b[0;34m=\u001b[0m\u001b[0mcommand\u001b[0m\u001b[0;34m[\u001b[0m\u001b[0;36m0\u001b[0m\u001b[0;34m]\u001b[0m\u001b[0;34m,\u001b[0m \u001b[0mcityID\u001b[0m\u001b[0;34m=\u001b[0m\u001b[0mcommand\u001b[0m\u001b[0;34m[\u001b[0m\u001b[0;36m1\u001b[0m\u001b[0;34m]\u001b[0m\u001b[0;34m,\u001b[0m \u001b[0mnew_value\u001b[0m\u001b[0;34m=\u001b[0m\u001b[0mcommand\u001b[0m\u001b[0;34m[\u001b[0m\u001b[0;36m2\u001b[0m\u001b[0;34m]\u001b[0m\u001b[0;34m)\u001b[0m\u001b[0;34m\u001b[0m\u001b[0;34m\u001b[0m\u001b[0m\n\u001b[0;32m---> 92\u001b[0;31m         \u001b[0mnew_update\u001b[0m\u001b[0;34m.\u001b[0m\u001b[0mupdate_value\u001b[0m\u001b[0;34m(\u001b[0m\u001b[0;34m)\u001b[0m\u001b[0;34m\u001b[0m\u001b[0;34m\u001b[0m\u001b[0m\n\u001b[0m\u001b[1;32m     93\u001b[0m         \u001b[0;31m#all we are doing here is splitting the command along a space\u001b[0m\u001b[0;34m\u001b[0m\u001b[0;34m\u001b[0m\u001b[0;34m\u001b[0m\u001b[0m\n\u001b[1;32m     94\u001b[0m         \u001b[0;31m#then we create an instance of the Update class with the update, city, and new value\u001b[0m\u001b[0;34m\u001b[0m\u001b[0;34m\u001b[0m\u001b[0;34m\u001b[0m\u001b[0m\n",
      "\u001b[0;32m<ipython-input-11-910889174572>\u001b[0m in \u001b[0;36mupdate_value\u001b[0;34m(self)\u001b[0m\n\u001b[1;32m     29\u001b[0m         \u001b[0;32mif\u001b[0m \u001b[0mself\u001b[0m\u001b[0;34m.\u001b[0m\u001b[0mupdate_type\u001b[0m \u001b[0;34m==\u001b[0m \u001b[0;34m'name'\u001b[0m\u001b[0;34m:\u001b[0m\u001b[0;34m\u001b[0m\u001b[0;34m\u001b[0m\u001b[0m\n\u001b[1;32m     30\u001b[0m             \u001b[0mself\u001b[0m\u001b[0;34m.\u001b[0m\u001b[0m__update_city\u001b[0m\u001b[0;34m(\u001b[0m\u001b[0mid\u001b[0m\u001b[0;34m=\u001b[0m\u001b[0mself\u001b[0m\u001b[0;34m.\u001b[0m\u001b[0mcityID\u001b[0m\u001b[0;34m,\u001b[0m \u001b[0mnew_value\u001b[0m\u001b[0;34m=\u001b[0m\u001b[0mself\u001b[0m\u001b[0;34m.\u001b[0m\u001b[0mnew_value\u001b[0m\u001b[0;34m,\u001b[0m \u001b[0mupdate_type\u001b[0m\u001b[0;34m=\u001b[0m\u001b[0mself\u001b[0m\u001b[0;34m.\u001b[0m\u001b[0mupdate_type\u001b[0m\u001b[0;34m)\u001b[0m\u001b[0;34m\u001b[0m\u001b[0;34m\u001b[0m\u001b[0m\n\u001b[0;32m---> 31\u001b[0;31m         \u001b[0;32melif\u001b[0m \u001b[0mself\u001b[0m\u001b[0;34m.\u001b[0m\u001b[0m__update_type\u001b[0m \u001b[0;34m==\u001b[0m \u001b[0;34m'province'\u001b[0m\u001b[0;34m:\u001b[0m\u001b[0;34m\u001b[0m\u001b[0;34m\u001b[0m\u001b[0m\n\u001b[0m\u001b[1;32m     32\u001b[0m             \u001b[0mself\u001b[0m\u001b[0;34m.\u001b[0m\u001b[0m__update_city\u001b[0m\u001b[0;34m(\u001b[0m\u001b[0mid\u001b[0m\u001b[0;34m=\u001b[0m\u001b[0mself\u001b[0m\u001b[0;34m.\u001b[0m\u001b[0mcityID\u001b[0m\u001b[0;34m,\u001b[0m \u001b[0mnew_value\u001b[0m\u001b[0;34m=\u001b[0m\u001b[0mself\u001b[0m\u001b[0;34m.\u001b[0m\u001b[0mnew_value\u001b[0m\u001b[0;34m,\u001b[0m \u001b[0mupdate_type\u001b[0m\u001b[0;34m=\u001b[0m\u001b[0mself\u001b[0m\u001b[0;34m.\u001b[0m\u001b[0mupdate_type\u001b[0m\u001b[0;34m)\u001b[0m\u001b[0;34m\u001b[0m\u001b[0;34m\u001b[0m\u001b[0m\n\u001b[1;32m     33\u001b[0m         \u001b[0;32melif\u001b[0m \u001b[0mself\u001b[0m\u001b[0;34m.\u001b[0m\u001b[0m__update_type\u001b[0m \u001b[0;34m==\u001b[0m \u001b[0;34m'country'\u001b[0m\u001b[0;34m:\u001b[0m\u001b[0;34m\u001b[0m\u001b[0;34m\u001b[0m\u001b[0m\n",
      "\u001b[0;31mAttributeError\u001b[0m: 'Update' object has no attribute '_Update__update_type'"
     ]
    }
   ],
   "source": [
    "main()"
   ]
  },
  {
   "cell_type": "code",
   "execution_count": null,
   "metadata": {},
   "outputs": [],
   "source": []
  }
 ],
 "metadata": {
  "kernelspec": {
   "display_name": "Python 3",
   "language": "python",
   "name": "python3"
  },
  "language_info": {
   "codemirror_mode": {
    "name": "ipython",
    "version": 3
   },
   "file_extension": ".py",
   "mimetype": "text/x-python",
   "name": "python",
   "nbconvert_exporter": "python",
   "pygments_lexer": "ipython3",
   "version": "3.7.5"
  }
 },
 "nbformat": 4,
 "nbformat_minor": 4
}
