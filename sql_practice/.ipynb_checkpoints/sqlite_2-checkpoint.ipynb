{
 "cells": [
  {
   "cell_type": "markdown",
   "metadata": {},
   "source": [
    "Welcome to sql and python lesson 2. Last lesson, we created a basic database, added some data, tested it around, and deleted it. We used an in-memory database because we did not intend to keep the data.\n",
    "\n",
    "In this lesson, we will expand our sql database to save data to the\n",
    "disk, and to manipulate it using the Python REPL or terminal. We will stick to one table for this lesson. Next lesson, we will start learning how to use multiple tables.\n",
    "\n",
    "Let's start by importing the sqlite3 module again."
   ]
  },
  {
   "cell_type": "code",
   "execution_count": 1,
   "metadata": {},
   "outputs": [],
   "source": [
    "#Let's load the sqlite3 module\n",
    "import sqlite3 #imports the module sqlite3"
   ]
  },
  {
   "cell_type": "code",
   "execution_count": 2,
   "metadata": {},
   "outputs": [],
   "source": [
    "#this time, we will create a file in our working directory to store the database.\n",
    "db = sqlite3.connect('cities.db') #be sure the file ends with .db or .sql"
   ]
  },
  {
   "cell_type": "markdown",
   "metadata": {},
   "source": [
    "Note: If you're using Jupyter notebooks, you should see the 'tool_cooperative.db' file in your left panel. If you are using an IDE, you can find the file using the `os` and `glob` modules.\n",
    "\n",
    "Now let's create a cursor to connect to the database."
   ]
  },
  {
   "cell_type": "code",
   "execution_count": 3,
   "metadata": {},
   "outputs": [],
   "source": [
    "cur = db.cursor()"
   ]
  },
  {
   "cell_type": "markdown",
   "metadata": {},
   "source": [
    "Let's use this occasion to execute the SQL statements that will create the database ourselves. Let us first delete the \"cities\" table if it exists so we can create a new one."
   ]
  },
  {
   "cell_type": "code",
   "execution_count": 4,
   "metadata": {},
   "outputs": [],
   "source": [
    "#primary key is the key we will use to retrieve items for the database.\n",
    "\n",
    "sql_create_statement = ['create table cities (id integer primary key, name text not null, province text, \\\n",
    "                         country text not null, population integer)']\n",
    "\n",
    "#'not null' means we have to have a value for that field. \n",
    "\n",
    "#Note: you can use capital letters if you want. Much SQL code you'll encounter is in capitals\n",
    "#but using them is not required"
   ]
  },
  {
   "cell_type": "markdown",
   "metadata": {},
   "source": [
    "Now that we have our sql statement, let's execute it with the `cur.execute()` statement to run it and create the cities table in the database"
   ]
  },
  {
   "cell_type": "code",
   "execution_count": 5,
   "metadata": {},
   "outputs": [
    {
     "data": {
      "text/plain": [
       "<sqlite3.Cursor at 0x10473e880>"
      ]
     },
     "execution_count": 5,
     "metadata": {},
     "output_type": "execute_result"
    }
   ],
   "source": [
    "cur.execute(sql_create_statement[0])"
   ]
  },
  {
   "cell_type": "markdown",
   "metadata": {},
   "source": [
    "Now let's add Villcabamba as our first city. As you all know its in Loja province, Ecuador, with a \n",
    "population of approximately 4000."
   ]
  },
  {
   "cell_type": "code",
   "execution_count": 6,
   "metadata": {},
   "outputs": [
    {
     "data": {
      "text/plain": [
       "<sqlite3.Cursor at 0x10473e880>"
      ]
     },
     "execution_count": 6,
     "metadata": {},
     "output_type": "execute_result"
    }
   ],
   "source": [
    "cur.execute('insert into cities (ID, name, province, country, population) values (1, \"Villcabamba\", \"Loja\", \"Ecuador\", 4000)')"
   ]
  },
  {
   "cell_type": "markdown",
   "metadata": {},
   "source": [
    "We're about to retrieve the data on Villcabamba in a second, but before that, let's add Loja."
   ]
  },
  {
   "cell_type": "code",
   "execution_count": 7,
   "metadata": {},
   "outputs": [
    {
     "data": {
      "text/plain": [
       "<sqlite3.Cursor at 0x10473e880>"
      ]
     },
     "execution_count": 7,
     "metadata": {},
     "output_type": "execute_result"
    }
   ],
   "source": [
    "cur.execute('insert into cities (ID, name, province, country, population) values (2, \"Loja\", \"Loja\", \"Ecuador\", 4000)')"
   ]
  },
  {
   "cell_type": "markdown",
   "metadata": {},
   "source": [
    "Now we have two cities in our database. Let's commit the changes to make them permanent with `db.commit()`"
   ]
  },
  {
   "cell_type": "code",
   "execution_count": 9,
   "metadata": {},
   "outputs": [],
   "source": [
    "db.commit()"
   ]
  },
  {
   "cell_type": "code",
   "execution_count": 11,
   "metadata": {},
   "outputs": [
    {
     "name": "stdout",
     "output_type": "stream",
     "text": [
      "[(1, 'Villcabamba', 'Loja', 'Ecuador', 4000)]\n"
     ]
    }
   ],
   "source": [
    "#Now let's get the data for Villcambamba. We will start out with a simple query that retrieves all the \n",
    "#fields for it.\n",
    "\n",
    "sql = 'select * from cities where name = \"Villcabamba\"'\n",
    "villcabamba = cur.execute(sql)\n",
    "print(villcabamba.fetchall())"
   ]
  },
  {
   "cell_type": "code",
   "execution_count": null,
   "metadata": {},
   "outputs": [],
   "source": []
  }
 ],
 "metadata": {
  "kernelspec": {
   "display_name": "Python 3",
   "language": "python",
   "name": "python3"
  },
  "language_info": {
   "codemirror_mode": {
    "name": "ipython",
    "version": 3
   },
   "file_extension": ".py",
   "mimetype": "text/x-python",
   "name": "python",
   "nbconvert_exporter": "python",
   "pygments_lexer": "ipython3",
   "version": "3.7.4"
  }
 },
 "nbformat": 4,
 "nbformat_minor": 4
}
