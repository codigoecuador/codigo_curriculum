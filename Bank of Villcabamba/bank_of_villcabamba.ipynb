{
 "cells": [
  {
   "cell_type": "markdown",
   "metadata": {},
   "source": [
    "# Cooperative Bank of Villcabamba\n",
    "\n",
    "In the aftermath of the COVID19 Pandemic, the citizens of Villcabamba have decided to form a cooperative bank.\n",
    "\n",
    "The newly formed Cooperative Bank of Villcabamba has hired you to write its bank account software. They are a small bank, so they don't need anything complex, just something to keep track of the amount of money in every account.\n",
    "\n",
    "In these lessons, we'll write a software interface for the bank to use\n",
    "to learn about the capabilities of Python.\n",
    "\n",
    "The Cooperative Bank is owned by its members. Each member lists how much they are able to pay in annual fees, and is charged that amount."
   ]
  },
  {
   "cell_type": "markdown",
   "metadata": {
    "jupyter": {
     "source_hidden": true
    }
   },
   "source": [
    "Features we need\n",
    "\n",
    "* Classes for customers and their accounts\n",
    "* A database\n",
    "* A command line interface or window\n",
    "* Loan forms and information\n",
    "* Analytics to see how well the bank is doing\n",
    "\n",
    "## As the bank grows we will need more services, including more analytics, a website, and services that a bank provides"
   ]
  },
  {
   "cell_type": "markdown",
   "metadata": {},
   "source": [
    "In Python, we can use the `abc` module to create abstract classes. We will create a bank account class"
   ]
  },
  {
   "cell_type": "code",
   "execution_count": 1,
   "metadata": {},
   "outputs": [],
   "source": [
    "#Bank account class: let's create a basic bank account class here\n",
    "#We will then save the bank account class in a separate file so it is \n",
    "#accessible later\n",
    "\n",
    "from abc import ABC, abstractmethod\n",
    "\n",
    "class BankAccount(ABC):\n",
    "    \"\"\"An abstract class for customer bank accounts. The\n",
    "    currency will be the US dollar.\"\"\"\n",
    "    \n",
    "    currency = '$'\n",
    "    \n",
    "    def __init__(self, customer, account_number, balance=0):\n",
    "        '''\n",
    "        Initialize the BankAccount class with a customer, account \n",
    "        number, and opening balance defaulting to zero\n",
    "        '''\n",
    "        self.customer = customer\n",
    "        self.account_number = account_number\n",
    "        self.balance = balance\n",
    "        \n",
    "    @abstractmethod\n",
    "    def deposit(self, amount):\n",
    "        '''Override this method on child classes'''\n",
    "        pass\n",
    "    \n",
    "    @abstractmethod\n",
    "    def withdraw(self, amount):\n",
    "        '''Override this method on child classes'''\n",
    "        pass"
   ]
  },
  {
   "cell_type": "code",
   "execution_count": 2,
   "metadata": {},
   "outputs": [
    {
     "name": "stdout",
     "output_type": "stream",
     "text": [
      "Can't instantiate abstract class BankAccount with abstract methods deposit, withdraw\n"
     ]
    }
   ],
   "source": [
    "#Abstract base classes by themselves cannot be called:\n",
    "try:\n",
    "    test = BankAccount('Joe Smith', '12345', '50.00')\n",
    "except TypeError as t:\n",
    "    print(t)\n",
    "#We get a message that we cannot create an instance of this class when\n",
    "#we have not overridden the abstract methods. \n",
    "#Let's now create the types of accounts people will actually have"
   ]
  },
  {
   "cell_type": "code",
   "execution_count": 3,
   "metadata": {},
   "outputs": [],
   "source": [
    "#Sometimes someone will accidentally take out too much money from \n",
    "#their account, we need to create a custom exception to catch this\n",
    "\n",
    "class AccountBalanceError(Exception):\n",
    "    def __init___(self,abErrorArguments):\n",
    "        Exception.__init__(self,f\"Insufficient funds, the balance would be {abErrArguments}\")\n",
    "        self.abErrorArguments = dErrorArguements\n",
    "        \n",
    "class TransactionError(Exception):\n",
    "    '''Raises an error when a customer tries to deposit or withdraw a\n",
    "    negative amount'''\n",
    "    def __init__(self, trType, trInvalidAmount):\n",
    "        Exception.__init__(self, f\"Invalid {trType} transaction amount, {trInvalidAmount}\")"
   ]
  },
  {
   "cell_type": "code",
   "execution_count": null,
   "metadata": {},
   "outputs": [],
   "source": []
  },
  {
   "cell_type": "code",
   "execution_count": 4,
   "metadata": {},
   "outputs": [],
   "source": [
    "class CheckingAccount(BankAccount):\n",
    "    '''A class for checking accounts, inherits from BankAccount and\n",
    "    overrides the deposit and withdraw methods'''\n",
    "    \n",
    "    #Currency is created as a class variable since Ecuador and the\n",
    "    #United States use the US Dollar\n",
    "    \n",
    "    def __init__(self, customer, account_number, annual_fee,\n",
    "                transaction_limit, balance=0):\n",
    "        self.annual_fee = annual_fee\n",
    "        self.transaction_limit = transaction_limit\n",
    "        super().__init__(customer, account_number, balance)\n",
    "        \n",
    "    def deposit(self, amount):\n",
    "        \"\"\"\n",
    "        Deposit amount into the bank account. Raises a TransactionError\n",
    "        if the amount deposited is less than $0.\n",
    "        \"\"\"\n",
    "        if amount > 0:\n",
    "            self.balance += amount\n",
    "        else:\n",
    "            raise TransactionError(trType='deposit',\n",
    "                                  trInvalidAmount=Amount)\n",
    "    \n",
    "    def withdraw(self, amount):\n",
    "        \"\"\"\n",
    "        Withdraw if there are sufficient funds, otherwise raise an\n",
    "        AccountBalanceError\n",
    "        \"\"\"\n",
    "        if amount <= 0:\n",
    "            raise TransactionError(trType='withdrawal',\n",
    "                                   trInvalidAmount=amount)\n",
    "        if amount > self.balance:\n",
    "            raise AccountBalanceError(self.balance-amount)\n",
    "        if amount > self.transaction_limit:\n",
    "            print(f'{CheckingAccount.currency:s}{amount:.2f} exceeds the single transaction limit of')\n",
    "            print(f'{CheckingAccount.currency:s}{self.transaction_limit:.2f}')\n",
    "        self.balance -= amount\n",
    "        \n",
    "    def apply_annual_fee(self):\n",
    "        '''Deduct the annual fee from the account balance'''\n",
    "        self.balance = max(0., self.balance - self.annual_fee)"
   ]
  },
  {
   "cell_type": "code",
   "execution_count": 5,
   "metadata": {},
   "outputs": [],
   "source": [
    "#Let's test this account\n",
    "test = CheckingAccount('Thomas Sullivan', #name\n",
    "                       '12345', #account number\n",
    "                       annual_fee=25, #annual fee\n",
    "                       transaction_limit=200, #account balance\n",
    "                       balance=100)"
   ]
  },
  {
   "cell_type": "code",
   "execution_count": 6,
   "metadata": {},
   "outputs": [
    {
     "name": "stdout",
     "output_type": "stream",
     "text": [
      "-100\n"
     ]
    }
   ],
   "source": [
    "#Let's test by trying to withdraw more than 100\n",
    "try:\n",
    "    test.withdraw(200)\n",
    "except AccountBalanceError as e:\n",
    "    print(e)\n",
    "\n"
   ]
  },
  {
   "cell_type": "markdown",
   "metadata": {},
   "source": [
    "Now we have our basic classes for a bank account, let's create one for customers."
   ]
  },
  {
   "cell_type": "code",
   "execution_count": 7,
   "metadata": {},
   "outputs": [],
   "source": [
    "from datetime import datetime\n",
    "class Customer:\n",
    "    \"\"\"A class that represents customers at the Bank of Villcabamba\"\"\"\n",
    "    def __init__(self, name, address, date_of_birth):\n",
    "        self.name=name\n",
    "        self.address=address\n",
    "        self.date_of_birth=date_of_birth\n",
    "        self.password = '1234' #NEVER state a password explicitly\n",
    "    \n",
    "    def get_age(self):\n",
    "        \"\"\"Calculates and returns the customer's age.\"\"\"\n",
    "        today = datetime.today()\n",
    "        try:\n",
    "            birthday = self.date_of_birth.replace(year=today.year)\n",
    "        except ValueError:\n",
    "            #birthday is February 29th but today is not a leap year\n",
    "            birthday = self.date_of_birth.replace(year=today.year,\n",
    "                                                 day=self.date_of_birth.day -1)\n",
    "            if birthday > today:\n",
    "                return today.year - self.date_of_birth.year - 1\n",
    "            return today.year - self.date_of_birth.year"
   ]
  },
  {
   "cell_type": "code",
   "execution_count": 8,
   "metadata": {},
   "outputs": [
    {
     "data": {
      "text/plain": [
       "'/Users/thomassullivan/projects/GitHub/codigo_curriculum/Bank of Villcabamba'"
      ]
     },
     "execution_count": 8,
     "metadata": {},
     "output_type": "execute_result"
    }
   ],
   "source": []
  },
  {
   "cell_type": "code",
   "execution_count": null,
   "metadata": {},
   "outputs": [],
   "source": []
  }
 ],
 "metadata": {
  "kernelspec": {
   "display_name": "Python 3",
   "language": "python",
   "name": "python3"
  },
  "language_info": {
   "codemirror_mode": {
    "name": "ipython",
    "version": 3
   },
   "file_extension": ".py",
   "mimetype": "text/x-python",
   "name": "python",
   "nbconvert_exporter": "python",
   "pygments_lexer": "ipython3",
   "version": "3.8.2"
  }
 },
 "nbformat": 4,
 "nbformat_minor": 4
}
