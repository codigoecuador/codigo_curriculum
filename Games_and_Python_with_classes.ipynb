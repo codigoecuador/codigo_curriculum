{
 "cells": [
  {
   "cell_type": "code",
   "execution_count": 1,
   "metadata": {},
   "outputs": [],
   "source": [
    "#This exercise will use Python to solve a surprisingly tricky question about\n",
    "#6 sided dice. \n",
    "\n",
    "#Write a program to calculate the possibility of getting a 7 when\n",
    "#you roll two dice.\n",
    "\n",
    "#Calculate the possibility that ONE of the dice is not a 4"
   ]
  },
  {
   "cell_type": "code",
   "execution_count": 2,
   "metadata": {},
   "outputs": [
    {
     "name": "stdout",
     "output_type": "stream",
     "text": [
      "Dice roll result: 3\n",
      "Max roll value: 12\n",
      "Min roll value: 2\n",
      "Result range for 2 dice is: 10\n"
     ]
    }
   ],
   "source": [
    "import random\n",
    "\n",
    "#first let's start making dice with functions.\n",
    "\n",
    "def roll_dice():\n",
    "    roll = random.randint(1, 6)\n",
    "    return roll\n",
    "\n",
    "def max_roll_value(num_dice, dice_sides):\n",
    "    assert num_dice >= 0, 'number of dice must be zero or higher'\n",
    "    return num_dice * dice_sides\n",
    "\n",
    "def min_roll_value(num_dice):\n",
    "    '''The lowest you can get on any dice is a 1, so we just need to return the number\n",
    "    of dice'''\n",
    "    assert num_dice >=0\n",
    "    return num_dice\n",
    "\n",
    "def result_range(num_dice, dice_sides):\n",
    "    '''Calculates the range of results you will get if you roll any number of dice \n",
    "    with any number of sides. For example two dice with 6 sides is result_range(2, 6)'''\n",
    "    \n",
    "    result = max_roll_value(num_dice, dice_sides) - min_roll_value(num_dice)\n",
    "    return result\n",
    "\n",
    "#Potential to teach multithreading.\n",
    "#Mathematics of rolling the dice.\n",
    "    \n",
    "dice_roll = roll_dice()\n",
    "    \n",
    "print('Dice roll result: {0}'.format(dice_roll))\n",
    "print('Max roll value: {0}'.format(max_roll_value(2, 6)))\n",
    "print('Min roll value: {0}'.format(min_roll_value(2)))\n",
    "print('Result range for 2 dice is: {0}'.format(result_range(2, 6)))"
   ]
  },
  {
   "cell_type": "code",
   "execution_count": 3,
   "metadata": {},
   "outputs": [],
   "source": [
    "#Let's use the dice to illustrate the concept of object oriented programming.\n",
    "import random\n",
    "\n",
    "class Dice:\n",
    "    def __init__(self, sides=6, current_value=1):\n",
    "        self.sides = sides\n",
    "        #self.min_value = min_value\n",
    "        #self.max_value = max_value\n",
    "        self.current_value = current_value #default current value = 1\n",
    "        self.min_value = 1 #notice how we hard code this value as a 1\n",
    "    \n",
    "    def roll_dice(self):\n",
    "        old_value = self.current_value\n",
    "        new_value = random.randint(1, self.sides)\n",
    "        self.current_value = new_value\n",
    "        \n",
    "    def __repr__(self):\n",
    "        return 'Dice({0})'.format(self.current_value)"
   ]
  },
  {
   "cell_type": "code",
   "execution_count": 4,
   "metadata": {},
   "outputs": [
    {
     "name": "stdout",
     "output_type": "stream",
     "text": [
      "The original dice value is: Dice(1)\n",
      "The new dice value is:  Dice(4)\n"
     ]
    }
   ],
   "source": [
    "dice = Dice()\n",
    "print('The original dice value is:', dice)\n",
    "#all Dice have an original value of 1\n",
    "dice.roll_dice()\n",
    "print('The new dice value is: ', dice)"
   ]
  },
  {
   "cell_type": "code",
   "execution_count": 5,
   "metadata": {},
   "outputs": [],
   "source": [
    "class Roll:\n",
    "    def __init__(self, num, sides):\n",
    "        self.num = num #We can reuse the name num, since this is in a different class\n",
    "        self.sides = sides\n",
    "        self.max_value = num*sides\n",
    "        self.__value = random.randrange(num, self.max_value)"
   ]
  },
  {
   "cell_type": "code",
   "execution_count": 38,
   "metadata": {},
   "outputs": [],
   "source": [
    "#Let's say we want to roll two dice, and get all possible values. How can we do this?\n",
    "#This function doesn't work\n",
    "\n",
    "def possible_values(num, sides):\n",
    "    values = []\n",
    "    for i in range(sides+1):\n",
    "        first_value = i\n",
    "        for j in range(sides+1):\n",
    "            second_value = j\n",
    "            values.append([first_value, second_value])\n",
    "    return values\n",
    "            "
   ]
  },
  {
   "cell_type": "code",
   "execution_count": 39,
   "metadata": {},
   "outputs": [
    {
     "name": "stdout",
     "output_type": "stream",
     "text": [
      "[[0, 0], [0, 1], [0, 2], [0, 3], [0, 4], [0, 5], [0, 6], [1, 0], [1, 1], [1, 2], [1, 3], [1, 4], [1, 5], [1, 6], [2, 0], [2, 1], [2, 2], [2, 3], [2, 4], [2, 5], [2, 6], [3, 0], [3, 1], [3, 2], [3, 3], [3, 4], [3, 5], [3, 6], [4, 0], [4, 1], [4, 2], [4, 3], [4, 4], [4, 5], [4, 6], [5, 0], [5, 1], [5, 2], [5, 3], [5, 4], [5, 5], [5, 6], [6, 0], [6, 1], [6, 2], [6, 3], [6, 4], [6, 5], [6, 6]]\n"
     ]
    }
   ],
   "source": [
    "print(possible_values(2, 6), sep='') #sep='' ensures the list items\n",
    "#are printed on the same line"
   ]
  },
  {
   "cell_type": "code",
   "execution_count": 42,
   "metadata": {},
   "outputs": [
    {
     "name": "stdout",
     "output_type": "stream",
     "text": [
      "[[0, 0], [0, 1], [0, 2], [0, 3], [0, 4], [0, 5], [0, 6], [1, 0], [1, 1], [1, 2], [1, 3], [1, 4], [1, 5], [1, 6], [2, 0], [2, 1], [2, 2], [2, 3], [2, 4], [2, 5], [2, 6], [3, 0], [3, 1], [3, 2], [3, 3], [3, 4], [3, 5], [3, 6], [4, 0], [4, 1], [4, 2], [4, 3], [4, 4], [4, 5], [4, 6], [5, 0], [5, 1], [5, 2], [5, 3], [5, 4], [5, 5], [5, 6], [6, 0], [6, 1], [6, 2], [6, 3], [6, 4], [6, 5], [6, 6]]\n"
     ]
    }
   ],
   "source": [
    "#Let's address this problem with an arbitrary number of dice\n",
    "print(possible_values(14, 6))"
   ]
  },
  {
   "cell_type": "code",
   "execution_count": 19,
   "metadata": {},
   "outputs": [
    {
     "name": "stdout",
     "output_type": "stream",
     "text": [
      "[[0, 0], [0, 1], [1, 0], [1, 1], [2, 0], [2, 1], [3, 0], [3, 1], [4, 0], [4, 1], [5, 0], [5, 1], [6, 0], [6, 1], [7, 0], [7, 1], [8, 0], [8, 1], [9, 0], [9, 1], [10, 0], [10, 1], [11, 0], [11, 1], [12, 0], [12, 1], [13, 0], [13, 1], [14, 0], [14, 1], [15, 0], [15, 1], [16, 0], [16, 1], [17, 0], [17, 1], [18, 0], [18, 1], [19, 0], [19, 1], [20, 0], [20, 1], [21, 0], [21, 1], [22, 0], [22, 1], [23, 0], [23, 1], [24, 0], [24, 1], [25, 0], [25, 1], [26, 0], [26, 1], [27, 0], [27, 1], [28, 0], [28, 1]]\n"
     ]
    }
   ],
   "source": [
    "print(possible_values(1, 28))"
   ]
  },
  {
   "cell_type": "code",
   "execution_count": 35,
   "metadata": {},
   "outputs": [],
   "source": [
    "def possible_values2(num_sides):\n",
    "    values = [[i] for i in range(1, num_sides+1)]\n",
    "    return values"
   ]
  },
  {
   "cell_type": "code",
   "execution_count": 37,
   "metadata": {},
   "outputs": [
    {
     "data": {
      "text/plain": [
       "[[1], [2], [3], [4], [5], [6]]"
      ]
     },
     "execution_count": 37,
     "metadata": {},
     "output_type": "execute_result"
    }
   ],
   "source": [
    "def possible_values_num_dice(num_dice):"
   ]
  },
  {
   "cell_type": "code",
   "execution_count": 32,
   "metadata": {},
   "outputs": [],
   "source": [
    "def possible_values_range(num_dice, num_sides):\n",
    "    possible_values = []\n",
    "    for i in range(1, num_dice+1):\n",
    "        possible_values.append(possible_values2(num_sides))\n",
    "    return possible_values\n",
    "        "
   ]
  },
  {
   "cell_type": "code",
   "execution_count": 33,
   "metadata": {},
   "outputs": [
    {
     "data": {
      "text/plain": [
       "[[[1], [2], [3], [4], [5], [6]], [[1], [2], [3], [4], [5], [6]]]"
      ]
     },
     "execution_count": 33,
     "metadata": {},
     "output_type": "execute_result"
    }
   ],
   "source": [
    "possible_values_range(2, 6)"
   ]
  },
  {
   "cell_type": "code",
   "execution_count": 34,
   "metadata": {},
   "outputs": [
    {
     "data": {
      "text/plain": [
       "[[[1], [2], [3], [4], [5], [6]],\n",
       " [[1], [2], [3], [4], [5], [6]],\n",
       " [[1], [2], [3], [4], [5], [6]],\n",
       " [[1], [2], [3], [4], [5], [6]],\n",
       " [[1], [2], [3], [4], [5], [6]]]"
      ]
     },
     "execution_count": 34,
     "metadata": {},
     "output_type": "execute_result"
    }
   ],
   "source": [
    "possible_values_range(5, 6)"
   ]
  },
  {
   "cell_type": "code",
   "execution_count": null,
   "metadata": {},
   "outputs": [],
   "source": []
  }
 ],
 "metadata": {
  "kernelspec": {
   "display_name": "Python 3",
   "language": "python",
   "name": "python3"
  },
  "language_info": {
   "codemirror_mode": {
    "name": "ipython",
    "version": 3
   },
   "file_extension": ".py",
   "mimetype": "text/x-python",
   "name": "python",
   "nbconvert_exporter": "python",
   "pygments_lexer": "ipython3",
   "version": "3.7.4"
  }
 },
 "nbformat": 4,
 "nbformat_minor": 4
}
