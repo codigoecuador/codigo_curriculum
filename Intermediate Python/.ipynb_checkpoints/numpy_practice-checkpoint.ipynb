{
 "cells": [
  {
   "cell_type": "markdown",
   "metadata": {},
   "source": [
    "# Numpy\n",
    "\n",
    "This lesson will discuss the Numpy package, which does super-fast math in Python."
   ]
  },
  {
   "cell_type": "markdown",
   "metadata": {},
   "source": [
    "### Contents\n",
    "* [Numpy Basics](#Numpy-Basics)\n",
    "* [Why numpy?](#Why-numpy?)\n",
    "* [Basic numpy array operations](#Basic-Numpy-Array-Operations)\n",
    "* [Numpy Array Basics](#Numpy-array-basics)\n",
    "* [More ways to create arrays](#More-ways-to-create-arrays)"
   ]
  },
  {
   "cell_type": "markdown",
   "metadata": {},
   "source": [
    "## Numpy Basics"
   ]
  },
  {
   "cell_type": "code",
   "execution_count": 1,
   "metadata": {},
   "outputs": [],
   "source": [
    "#import numpy package using the 'np' abbreviation\n",
    "import numpy as np"
   ]
  },
  {
   "cell_type": "markdown",
   "metadata": {},
   "source": [
    "Numpy does everything that our normal lists can do, and more. When we want to sort only a few values, we can use a standard python list. However, once we get to more values than that, a list can quickly become a performance bottleneck. Here's where we will discuss numpy arrays."
   ]
  },
  {
   "cell_type": "code",
   "execution_count": 2,
   "metadata": {},
   "outputs": [
    {
     "name": "stdout",
     "output_type": "stream",
     "text": [
      "a + b= [1, 2, 3, 4, 5, 6]\n"
     ]
    }
   ],
   "source": [
    "#Let's start with Python lists\n",
    "a=[1,2,3]\n",
    "b=[4,5,6]\n",
    "print('a + b=', a+b)"
   ]
  },
  {
   "cell_type": "code",
   "execution_count": 3,
   "metadata": {},
   "outputs": [
    {
     "name": "stdout",
     "output_type": "stream",
     "text": [
      "Lists cannot be multiplied in Python\n"
     ]
    }
   ],
   "source": [
    "#Here's where we run into a problem. Let's try to multiply the two lists\n",
    "\n",
    "try:\n",
    "    print(a*b)\n",
    "except TypeError:\n",
    "    print('Lists cannot be multiplied in Python')"
   ]
  },
  {
   "cell_type": "markdown",
   "metadata": {},
   "source": [
    "To multiply lists of values, we must use numpy, Python's library for numerical computing. You can use numpy for everything from arithmetic to highly complex math. Numpy can even be your calculator. "
   ]
  },
  {
   "cell_type": "markdown",
   "metadata": {},
   "source": [
    "## Why numpy?\n",
    "\n",
    "Before we start with Numpy in detail, we should think about why we need to use it at all. Python includes built in object types that can do the same things arrays can. The question comes down to performance.\n",
    "\n",
    "<b>Performance: Lists vs. numpy arrays</b>"
   ]
  },
  {
   "cell_type": "code",
   "execution_count": 4,
   "metadata": {},
   "outputs": [],
   "source": [
    "#Numpy arrays are stored in memory in a much more efficient way than Python lists.\n",
    "#Let's compare them to see the respective advantages\n",
    "\n",
    "#create the objects\n",
    "import numpy as np\n",
    "my_array = np.arange(1000000)\n",
    "my_list = list(range(1000000))"
   ]
  },
  {
   "cell_type": "code",
   "execution_count": 5,
   "metadata": {},
   "outputs": [
    {
     "name": "stdout",
     "output_type": "stream",
     "text": [
      "CPU times: user 25 ms, sys: 15.9 ms, total: 40.8 ms\n",
      "Wall time: 51.7 ms\n"
     ]
    }
   ],
   "source": [
    "#%timeit\n",
    "#now let's compare the two\n",
    "%time for _ in range(10): my_array2 = my_array * 2"
   ]
  },
  {
   "cell_type": "code",
   "execution_count": 6,
   "metadata": {},
   "outputs": [
    {
     "name": "stdout",
     "output_type": "stream",
     "text": [
      "CPU times: user 672 ms, sys: 216 ms, total: 888 ms\n",
      "Wall time: 919 ms\n"
     ]
    }
   ],
   "source": [
    "%time for _ in range(10): my_list2 = [x*2 for x in my_list]"
   ]
  },
  {
   "cell_type": "code",
   "execution_count": 7,
   "metadata": {},
   "outputs": [],
   "source": [
    "#If we look at this, we can see that the numpy array is several times faster than lists. \n",
    "#This is why many scientific and data science applications use numpy when they can."
   ]
  },
  {
   "cell_type": "markdown",
   "metadata": {},
   "source": [
    "## Basic Numpy Array Operations\n",
    "This section is about the basic operations that are permissible using a numpy array."
   ]
  },
  {
   "cell_type": "code",
   "execution_count": 7,
   "metadata": {},
   "outputs": [
    {
     "name": "stdout",
     "output_type": "stream",
     "text": [
      "a is:  [1 2]\n",
      "b is:  [3 4]\n",
      "a plus b is:  [4 6]\n",
      "a minus b is:  [-2 -2]\n"
     ]
    }
   ],
   "source": [
    "#Addition and subtraction\n",
    "#import numpy as np\n",
    "a = np.array([1,2])\n",
    "b = np.array([3,4])\n",
    "print('a is: ', a)\n",
    "print('b is: ', b)\n",
    "print('a plus b is: ', a+b)\n",
    "print('a minus b is: ', a-b)"
   ]
  },
  {
   "cell_type": "code",
   "execution_count": 13,
   "metadata": {},
   "outputs": [],
   "source": [
    "#multiplication\n",
    "a = np.array([[1,2],[3,4]])\n",
    "b = np.array([[3,4],[5,6]])\n",
    "print('The elementwise product is: ')\n",
    "print(a*b)\n",
    "print('Notice how we multiply 1 by 3, 2 by 4, etc')"
   ]
  },
  {
   "cell_type": "code",
   "execution_count": 20,
   "metadata": {},
   "outputs": [
    {
     "name": "stdout",
     "output_type": "stream",
     "text": [
      "a multiplied by b in matrix multiplication is \n",
      "[[13 16]\n",
      " [29 36]]\n",
      "b*a is not the same as a*b\n",
      "[[15 22]\n",
      " [23 34]]\n"
     ]
    }
   ],
   "source": [
    "#matrix multiplication\n",
    "#You've actually just done a very advanced calculation. We use the \n",
    "#elementwise product only rarely for things like data compression. \n",
    "#for the most part, we multiply each column of one matrix by each row \n",
    "#of the other matrix using the `np.dot()` function\n",
    "\n",
    "a = np.array([[1,2],[3,4]])\n",
    "b = np.array([[3,4],[5,6]])\n",
    "print('a multiplied by b in matrix multiplication is ')\n",
    "print(a.dot(b))\n",
    "\n",
    "print('b*a is not the same as a*b')\n",
    "print(b.dot(a))"
   ]
  },
  {
   "cell_type": "markdown",
   "metadata": {},
   "source": [
    "We can also create a function and use it to manipulate the data stored in a numpy array."
   ]
  },
  {
   "cell_type": "code",
   "execution_count": 24,
   "metadata": {},
   "outputs": [],
   "source": [
    "#a function to square every element in an array\n",
    "def square(x: np.ndarray) -> np.ndarray:\n",
    "    '''\n",
    "    Square each element in the input array\n",
    "    '''\n",
    "    return np.power(x,2)"
   ]
  },
  {
   "cell_type": "code",
   "execution_count": 25,
   "metadata": {},
   "outputs": [
    {
     "name": "stdout",
     "output_type": "stream",
     "text": [
      "[[ 1  4]\n",
      " [ 9 16]]\n"
     ]
    }
   ],
   "source": [
    "a_squared = square(a)\n",
    "print(a_squared)"
   ]
  },
  {
   "cell_type": "markdown",
   "metadata": {},
   "source": [
    "<b>Copying Arrays</b>\n",
    "\n",
    "We copy arrays with a special np.copy method."
   ]
  },
  {
   "cell_type": "code",
   "execution_count": 8,
   "metadata": {},
   "outputs": [],
   "source": [
    "array_1 = [2, 4, 6]"
   ]
  },
  {
   "cell_type": "code",
   "execution_count": 9,
   "metadata": {},
   "outputs": [],
   "source": [
    "array_2 = array_1.copy()"
   ]
  },
  {
   "cell_type": "code",
   "execution_count": 10,
   "metadata": {},
   "outputs": [
    {
     "name": "stdout",
     "output_type": "stream",
     "text": [
      "Array one is: [2, 4, 6]\n",
      "Array two is: [2, 4, 6]\n"
     ]
    }
   ],
   "source": [
    "print('Array one is:',array_1)\n",
    "print('Array two is:',array_2)"
   ]
  },
  {
   "cell_type": "code",
   "execution_count": 11,
   "metadata": {},
   "outputs": [
    {
     "name": "stdout",
     "output_type": "stream",
     "text": [
      "Array one is now: [3, 4, 6]\n",
      "Array two is now: [2, 4, 6]\n"
     ]
    }
   ],
   "source": [
    "#Let's change something in array one to show its a separate array\n",
    "array_1[0]=3\n",
    "print('Array one is now:', array_1)\n",
    "print('Array two is now:', array_2)"
   ]
  },
  {
   "cell_type": "code",
   "execution_count": 12,
   "metadata": {},
   "outputs": [],
   "source": [
    "#We copied them successfully, now let's look at an easy mistake to make"
   ]
  },
  {
   "cell_type": "markdown",
   "metadata": {},
   "source": [
    "<i>Warning: copying an array on its own will not work</i>"
   ]
  },
  {
   "cell_type": "code",
   "execution_count": 13,
   "metadata": {},
   "outputs": [],
   "source": [
    "#let's illustrate\n",
    "a = np.array([1,2,3])"
   ]
  },
  {
   "cell_type": "code",
   "execution_count": 14,
   "metadata": {},
   "outputs": [
    {
     "name": "stdout",
     "output_type": "stream",
     "text": [
      "a [1 2 3]\n",
      "b [1 2 3]\n"
     ]
    }
   ],
   "source": [
    "b = a\n",
    "print('a', a)\n",
    "print('b', b)"
   ]
  },
  {
   "cell_type": "markdown",
   "metadata": {},
   "source": [
    "Seems to work fine, but let's change something"
   ]
  },
  {
   "cell_type": "code",
   "execution_count": 15,
   "metadata": {},
   "outputs": [
    {
     "name": "stdout",
     "output_type": "stream",
     "text": [
      "Array a: [2 2 3]\n",
      "Array b: [2 2 3]\n",
      "It is the same array, we need to use the copy method\n"
     ]
    }
   ],
   "source": [
    "a[0] = 2\n",
    "print('Array a:', a)\n",
    "print('Array b:', b)\n",
    "print('It is the same array, we need to use the copy method')"
   ]
  },
  {
   "cell_type": "markdown",
   "metadata": {},
   "source": [
    "<b>Saving and loading arrays</b>\n",
    "\n",
    "Numpy comes with built-in save and load ability. We can save the arrays to disk and then load them again."
   ]
  },
  {
   "cell_type": "code",
   "execution_count": 16,
   "metadata": {},
   "outputs": [],
   "source": [
    "#let's get our directory\n",
    "import os\n",
    "os.getcwd()\n",
    "os.listdir()\n",
    "\n",
    "a = [1,2,3]\n",
    "\n",
    "#let's make a file:\n",
    "np.save('array_one.npy', a)"
   ]
  },
  {
   "cell_type": "code",
   "execution_count": 17,
   "metadata": {},
   "outputs": [
    {
     "name": "stdout",
     "output_type": "stream",
     "text": [
      "[1 2 3]\n"
     ]
    }
   ],
   "source": [
    "#let's load the file\n",
    "\n",
    "a1 = np.load('array_one.npy')\n",
    "print(a1)"
   ]
  },
  {
   "cell_type": "markdown",
   "metadata": {},
   "source": [
    "## Numpy array basics"
   ]
  },
  {
   "cell_type": "code",
   "execution_count": 18,
   "metadata": {},
   "outputs": [],
   "source": [
    "#numpy has a basic object known as the array\n",
    "#here's an array with only one number\n",
    "a = np.array([1])\n",
    "b=np.array(2)"
   ]
  },
  {
   "cell_type": "code",
   "execution_count": 19,
   "metadata": {},
   "outputs": [
    {
     "name": "stdout",
     "output_type": "stream",
     "text": [
      "[1]\n",
      "2\n"
     ]
    },
    {
     "data": {
      "text/plain": [
       "array([2])"
      ]
     },
     "execution_count": 19,
     "metadata": {},
     "output_type": "execute_result"
    }
   ],
   "source": [
    "print(a)\n",
    "print(b)\n",
    "a*b"
   ]
  },
  {
   "cell_type": "code",
   "execution_count": 20,
   "metadata": {},
   "outputs": [
    {
     "name": "stdout",
     "output_type": "stream",
     "text": [
      "[1, 2, 3] is a <class 'list'>\n",
      "[1 2 3] is a <class 'numpy.ndarray'>\n"
     ]
    }
   ],
   "source": [
    "#More commonly, numpy arrays have only one type of value. We can initialize them with a Python list.\n",
    "array_1 = [1, 2, 3]\n",
    "a_1 = np.array(array_1)\n",
    "\n",
    "#this is the same as\n",
    "array_2 = np.array([4,5,6])\n",
    "print(array_1, 'is a', type(array_1))\n",
    "print(a_1, 'is a', type(array_2))"
   ]
  },
  {
   "cell_type": "markdown",
   "metadata": {},
   "source": [
    "We can add two numpy arrays together"
   ]
  },
  {
   "cell_type": "code",
   "execution_count": 21,
   "metadata": {},
   "outputs": [
    {
     "name": "stdout",
     "output_type": "stream",
     "text": [
      "ar1 [1 2 3] + ar2 [2 4 6] = [3 6 9]\n"
     ]
    }
   ],
   "source": [
    "ar1 = np.array([1,2,3])\n",
    "ar2 = np.array([2,4,6])\n",
    "ar3 = ar1+ar2\n",
    "print('ar1', ar1, '+', 'ar2', ar2, '=', ar3)"
   ]
  },
  {
   "cell_type": "code",
   "execution_count": 22,
   "metadata": {},
   "outputs": [
    {
     "name": "stdout",
     "output_type": "stream",
     "text": [
      "[-1 -2 -3]\n"
     ]
    }
   ],
   "source": [
    "#Let's subtract two numpy arrays:\n",
    "\n",
    "ar4 = ar1-ar2\n",
    "print(ar4)"
   ]
  },
  {
   "cell_type": "code",
   "execution_count": 23,
   "metadata": {},
   "outputs": [
    {
     "name": "stdout",
     "output_type": "stream",
     "text": [
      "[ 2  8 18]\n"
     ]
    }
   ],
   "source": [
    "#Let's multiply two arrays:\n",
    "ar5 = ar1*ar2\n",
    "print(ar5)"
   ]
  },
  {
   "cell_type": "code",
   "execution_count": 24,
   "metadata": {},
   "outputs": [
    {
     "name": "stdout",
     "output_type": "stream",
     "text": [
      "[0.5 0.5 0.5]\n"
     ]
    }
   ],
   "source": [
    "#Let's divide two arrays\n",
    "ar6 = ar1/ar2\n",
    "print(ar6)"
   ]
  },
  {
   "cell_type": "markdown",
   "metadata": {},
   "source": [
    "<i>Making arrays from functions</i>\n",
    "\n",
    "We can also use functions to make arrays. One example of this is the `range` function."
   ]
  },
  {
   "cell_type": "code",
   "execution_count": 25,
   "metadata": {},
   "outputs": [
    {
     "name": "stdout",
     "output_type": "stream",
     "text": [
      "[ 1  2  3  4  5  6  7  8  9 10]\n"
     ]
    }
   ],
   "source": [
    "c = np.array(range(1, 11)) #all the numbers from 1 to 11\n",
    "print(c)"
   ]
  },
  {
   "cell_type": "code",
   "execution_count": 26,
   "metadata": {},
   "outputs": [],
   "source": [
    "a_squared= lambda x: x**2\n",
    "a_sq = np.array([a_squared(i) for i in range(1, 10)])\n",
    "print(a_sq)"
   ]
  },
  {
   "cell_type": "code",
   "execution_count": 26,
   "metadata": {},
   "outputs": [],
   "source": []
  },
  {
   "cell_type": "markdown",
   "metadata": {},
   "source": [
    "## More ways to create arrays"
   ]
  },
  {
   "cell_type": "markdown",
   "metadata": {},
   "source": [
    "Numpy also offers the `arange` function to create arrays without using the `range` function."
   ]
  },
  {
   "cell_type": "code",
   "execution_count": 27,
   "metadata": {},
   "outputs": [
    {
     "name": "stdout",
     "output_type": "stream",
     "text": [
      "[ 0  1  2  3  4  5  6  7  8  9 10]\n",
      "[ 0  1  2  3  4  5  6  7  8  9 10 11 12 13 14 15 16 17 18 19 20]\n",
      "Notice how we specify 21 as the end point to have it end at 20\n"
     ]
    }
   ],
   "source": [
    "print(np.arange(11))\n",
    "\n",
    "c = np.arange(21)\n",
    "print(c, 'Notice how we specify 21 as the end point to have it end at 20', sep='\\n')"
   ]
  },
  {
   "cell_type": "code",
   "execution_count": 28,
   "metadata": {},
   "outputs": [
    {
     "name": "stdout",
     "output_type": "stream",
     "text": [
      "[ 1.  2.  3.  4.  5.  6.  7.  8.  9. 10.]\n"
     ]
    }
   ],
   "source": [
    "#We can also use the np.linspace function to create an evenly spaced array of numbers\n",
    "print(np.linspace(1, 10, 10)) #creates an array with numbers from 1 to 10"
   ]
  },
  {
   "cell_type": "code",
   "execution_count": 29,
   "metadata": {},
   "outputs": [
    {
     "name": "stdout",
     "output_type": "stream",
     "text": [
      "[ 1.    3.25  5.5   7.75 10.  ]\n"
     ]
    }
   ],
   "source": [
    "#The advantage of np.linspace is that it lets us create arrays with different quantities of numbers\n",
    "#let's get an array of five numbers between 1 and 10\n",
    "print(np.linspace(1, 10,5)) #These numbers are all evenly spaced"
   ]
  },
  {
   "cell_type": "code",
   "execution_count": 30,
   "metadata": {},
   "outputs": [
    {
     "name": "stdout",
     "output_type": "stream",
     "text": [
      "[ 1.          3.11111111  5.22222222  7.33333333  9.44444444 11.55555556\n",
      " 13.66666667 15.77777778 17.88888889 20.        ]\n"
     ]
    }
   ],
   "source": [
    "#or 10 numbers between 1 and 20\n",
    "print(np.linspace(1, 20, 10))"
   ]
  },
  {
   "cell_type": "code",
   "execution_count": 31,
   "metadata": {},
   "outputs": [
    {
     "name": "stdout",
     "output_type": "stream",
     "text": [
      "[1. 2. 3. 4.]\n",
      "[ 1.  2.  3.  4.  5.  6.  7.  8.  9. 10.]\n"
     ]
    }
   ],
   "source": [
    "#we can also use the linspace function to create an array between 1 and 4:\n",
    "a = np.linspace(1, 4, 4)\n",
    "print(a)\n",
    "#or 1 and 10:\n",
    "b = np.linspace(1, 10, 10)\n",
    "print(b)"
   ]
  },
  {
   "cell_type": "code",
   "execution_count": 32,
   "metadata": {},
   "outputs": [
    {
     "name": "stdout",
     "output_type": "stream",
     "text": [
      "This: 81\n",
      "does the same thing as this: 81\n",
      "Minimum: 1\n",
      "Also the minimum:  1\n"
     ]
    }
   ],
   "source": [
    "#Let's get the maximum and minimum values\n",
    "print('This:', np.max(a_sq))\n",
    "print('does the same thing as this:', a_sq.max())\n",
    "#\n",
    "print('Minimum:', np.min(a_sq))\n",
    "print('Also the minimum: ', a_sq.min())"
   ]
  },
  {
   "cell_type": "code",
   "execution_count": 33,
   "metadata": {},
   "outputs": [
    {
     "name": "stdout",
     "output_type": "stream",
     "text": [
      "int64\n"
     ]
    }
   ],
   "source": [
    "#Let's get the type of the array\n",
    "print(a_sq.dtype)\n",
    "#np.dtype(a_sq)"
   ]
  },
  {
   "cell_type": "code",
   "execution_count": 34,
   "metadata": {},
   "outputs": [
    {
     "name": "stdout",
     "output_type": "stream",
     "text": [
      "Array [1, 2, 3] dtype: int64\n",
      "[1 2 3 4]\n",
      "[1. 2. 3. 4.]\n",
      "[1. 2. 3. 4.]\n",
      "[1.  2.4 3. ]\n",
      "float64\n"
     ]
    }
   ],
   "source": [
    "#So the basic dtype of an array is int64, which is a 64 bit integer. For smaller\n",
    "#values we can use types taking less memory.\n",
    "\n",
    "#default value is 64 bit integer\n",
    "a = [1,2,3]\n",
    "a_arr = np.array(a)\n",
    "print('Array', a, 'dtype:', a_arr.dtype)\n",
    "\n",
    "#Let's create an array with a specific datatype:\n",
    "d = [1,2,3,4]\n",
    "d_arr = np.array(d, dtype='int32') #32 bit integer datatype\n",
    "print(d_arr)\n",
    "\n",
    "d_fl_arr = np.array(d, dtype='float32') #32 bit float datatype\n",
    "print(d_fl_arr)\n",
    "\n",
    "d_fl64_arr = np.array(d, dtype='float64') #64 bit float datatype\n",
    "print(d_fl_arr)\n",
    "\n",
    "#Let's make one with mixed datatypes, we'll find that ints and floats result\n",
    "#in an array of floats:\n",
    "\n",
    "#Now let's make an array with integers and floats and see what happens\n",
    "b=np.array([1, 2.4, 3])\n",
    "print(b)\n",
    "print(b.dtype)\n",
    "#So the type has been made into \"float\" becuase it includes integers and floats"
   ]
  },
  {
   "cell_type": "markdown",
   "metadata": {},
   "source": [
    "<b>Nested Arrays</b>\n",
    "\n",
    "We can nest arrays inside one another to create matrices. To create a 3x3 matrix, we simply create an array consisting of three 1x3 subarrays."
   ]
  },
  {
   "cell_type": "code",
   "execution_count": 35,
   "metadata": {},
   "outputs": [
    {
     "name": "stdout",
     "output_type": "stream",
     "text": [
      "[[1 2 3]\n",
      " [4 5 6]\n",
      " [7 8 9]]\n"
     ]
    }
   ],
   "source": [
    "data = [[1,2,3], [4,5,6], [7,8,9]]\n",
    "data_array = np.array(data)\n",
    "print(data_array)"
   ]
  },
  {
   "cell_type": "code",
   "execution_count": 36,
   "metadata": {},
   "outputs": [
    {
     "name": "stdout",
     "output_type": "stream",
     "text": [
      "[[1 2]\n",
      " [3 4]]\n"
     ]
    }
   ],
   "source": [
    "#we can do the same thing with lists of any length:\n",
    "b=[[1,2],[3,4]]\n",
    "b_array=np.array(b)\n",
    "print(b_array)"
   ]
  },
  {
   "cell_type": "code",
   "execution_count": 37,
   "metadata": {},
   "outputs": [
    {
     "name": "stdout",
     "output_type": "stream",
     "text": [
      "[1 list([2, 3])]\n"
     ]
    }
   ],
   "source": [
    "#or even different lengths\n",
    "a=[1, [2,3]]\n",
    "a_array = np.array(a)\n",
    "print(a_array)"
   ]
  },
  {
   "cell_type": "markdown",
   "metadata": {},
   "source": [
    "<b>Special types of arrays</b>\n",
    "\n",
    "Numpy provides us with the ability to create several types of arrays automatically. Sometimes we don't know the contents of an array when we create it."
   ]
  },
  {
   "cell_type": "code",
   "execution_count": 38,
   "metadata": {},
   "outputs": [
    {
     "name": "stdout",
     "output_type": "stream",
     "text": [
      "[[1. 2.]\n",
      " [3. 4.]]\n",
      "[[0. 0. 0.]\n",
      " [0. 0. 0.]]\n"
     ]
    }
   ],
   "source": [
    "#We can make an empty array, which will usually have whatever data was in the \n",
    "#memory before we created it\n",
    "\n",
    "a1 = np.empty((2,2))\n",
    "a2 = np.empty((2,3))\n",
    "print(a1)\n",
    "print(a2)\n",
    "\n",
    "#The numbers below are whatever was in the memory when the array was created."
   ]
  },
  {
   "cell_type": "code",
   "execution_count": 39,
   "metadata": {},
   "outputs": [
    {
     "name": "stdout",
     "output_type": "stream",
     "text": [
      "[0.]\n",
      "[0. 0.]\n",
      "array a [[1 2 3]\n",
      " [4 5 6]\n",
      " [7 8 9]]\n",
      "an array with all zeros with the same shape as a [[0 0 0]\n",
      " [0 0 0]\n",
      " [0 0 0]]\n"
     ]
    }
   ],
   "source": [
    "#We can make an array with all zeros:\n",
    "\n",
    "one_by_one_zeros = np.zeros(1)\n",
    "one_by_two_zeros = np.zeros(2)\n",
    "print(one_by_one_zeros)\n",
    "print(one_by_two_zeros)\n",
    "\n",
    "#We can also use an existing format:\n",
    "a=[[1,2,3],[4,5,6], [7,8,9]]\n",
    "a=np.array(a)\n",
    "print('array a', a)\n",
    "a_zeros = np.zeros_like(a)\n",
    "print('an array with all zeros with the same shape as a', a_zeros)"
   ]
  },
  {
   "cell_type": "code",
   "execution_count": 40,
   "metadata": {},
   "outputs": [
    {
     "name": "stdout",
     "output_type": "stream",
     "text": [
      "[1. 1. 1.]\n"
     ]
    }
   ],
   "source": [
    "#We can also make an array with all ones:\n",
    "\n",
    "#make a single row numpy array\n",
    "one_by_three_ones = np.ones(3)\n",
    "print(one_by_three_ones)"
   ]
  },
  {
   "cell_type": "code",
   "execution_count": 41,
   "metadata": {},
   "outputs": [
    {
     "name": "stdout",
     "output_type": "stream",
     "text": [
      "two by three array with all ones [[1. 1. 1.]\n",
      " [1. 1. 1.]]\n",
      "array d\n",
      "[[1 2 3]\n",
      " [4 5 6]\n",
      " [7 8 9]]\n",
      "An array of ones with the same shape as d [[1 1 1]\n",
      " [1 1 1]\n",
      " [1 1 1]]\n",
      "We used the  [1 1]\n"
     ]
    }
   ],
   "source": [
    "two_by_three_ones = np.ones((2, 3))\n",
    "print('two by three array with all ones', two_by_three_ones)\n",
    "three_by_three_ones = np.ones((3,3))\n",
    "\n",
    "#We can also use the shape of an existing array, like we did with zeros\n",
    "d=[[1,2,3],[4,5,6], [7,8,9]]\n",
    "print('array d')\n",
    "d=np.array(d)\n",
    "print(d)\n",
    "d_ones = np.ones_like(d)\n",
    "print('An array of ones with the same shape as d', d_ones)\n",
    "\n",
    "#We can also pass a tuple and it will copy the size. Be careful with this \n",
    "#as it copies the size of the tuple, not its values.\n",
    "arr_size = (2, 3)\n",
    "e = np.ones_like(arr_size)\n",
    "print('We used the ',e)"
   ]
  },
  {
   "cell_type": "markdown",
   "metadata": {},
   "source": [
    "We can also create arrays that use any other number using `np.full`"
   ]
  },
  {
   "cell_type": "code",
   "execution_count": 42,
   "metadata": {},
   "outputs": [
    {
     "name": "stdout",
     "output_type": "stream",
     "text": [
      "This array has all 99s\n",
      "[[99 99 99]\n",
      " [99 99 99]\n",
      " [99 99 99]]\n",
      "This array has all 4s [4 4]\n"
     ]
    }
   ],
   "source": [
    "#We pass in the dimensions as a tuple, and the value as an integer\n",
    "full_99s = np.full((3,3), 99)\n",
    "print('This array has all 99s', full_99s, sep='\\n')\n",
    "\n",
    "full_fours = np.full_like((3,4), fill_value=4)\n",
    "print('This array has all 4s', full_fours)"
   ]
  },
  {
   "cell_type": "markdown",
   "metadata": {},
   "source": [
    "There is one more type of array we need to create: the identity array. This type of array has a 1 going diagonally across it. We use `np.eye()` to create this array."
   ]
  },
  {
   "cell_type": "code",
   "execution_count": 43,
   "metadata": {},
   "outputs": [
    {
     "name": "stdout",
     "output_type": "stream",
     "text": [
      "two by two identity matrix\n",
      "[[1. 0.]\n",
      " [0. 1.]]\n",
      "four by four identity matrix\n",
      "[[1. 0. 0. 0.]\n",
      " [0. 1. 0. 0.]\n",
      " [0. 0. 1. 0.]\n",
      " [0. 0. 0. 1.]]\n"
     ]
    }
   ],
   "source": [
    "two_by_two_eye = np.eye(2)\n",
    "print('two by two identity matrix', two_by_two_eye, sep='\\n')\n",
    "#This we only need to enter one number because the eye matrix is square\n",
    "four_by_four = np.eye(4)\n",
    "print('four by four identity matrix', four_by_four, sep='\\n')"
   ]
  },
  {
   "cell_type": "code",
   "execution_count": 44,
   "metadata": {},
   "outputs": [
    {
     "name": "stdout",
     "output_type": "stream",
     "text": [
      "Multiply a times the two by two identity matrix\n",
      "[[1. 2.]\n",
      " [3. 4.]]\n"
     ]
    }
   ],
   "source": [
    "#Note: when we multiply a matrix times the identiy matrix we get the same matrix\n",
    "a = np.array([[1,2], [3,4]])\n",
    "print('Multiply a times the two by two identity matrix', a.dot(two_by_two_eye), sep='\\n')"
   ]
  },
  {
   "cell_type": "code",
   "execution_count": null,
   "metadata": {},
   "outputs": [],
   "source": []
  },
  {
   "cell_type": "code",
   "execution_count": null,
   "metadata": {},
   "outputs": [],
   "source": []
  },
  {
   "cell_type": "markdown",
   "metadata": {},
   "source": [
    "<b>Array datatypes</b>"
   ]
  },
  {
   "cell_type": "code",
   "execution_count": 45,
   "metadata": {},
   "outputs": [
    {
     "name": "stdout",
     "output_type": "stream",
     "text": [
      "[1 2 3]\n",
      "int64\n",
      "[1. 2. 3.]\n",
      "float64\n",
      "Array b in float32: [0. 2. 3.]\n",
      "Array b in float32 dtype float32\n"
     ]
    }
   ],
   "source": [
    "#Each array consists of only one datatype: we can choose these datatypes when we create \n",
    "#the array:\n",
    "\n",
    "a=np.array([1,2,3])\n",
    "#Let's get the type\n",
    "print(a)\n",
    "print(a.dtype)\n",
    "\n",
    "b = np.array([1,2,3], dtype='float64') #defaults to float64\n",
    "print(b)\n",
    "print(b.dtype)\n",
    "\n",
    "#this is somewhat advanced, but if we want to limit the size of the memory \n",
    "#consumed we can use a smaller type \n",
    "\n",
    "b_float32 = np.array([0,2,3], dtype='float32')\n",
    "print('Array b in float32:',b_float32)\n",
    "print('Array b in float32 dtype', b_float32.dtype)\n",
    "\n",
    "#Note that float32 is not always going to be able to display the biggest numbers"
   ]
  },
  {
   "cell_type": "markdown",
   "metadata": {},
   "source": [
    "<i>Datatypes for creating special array types</i>\n",
    "\n",
    "Sometimes we may need to create special arrays with a certain datatype. These might include an array of ones that is made up of floats, for example. We can choose the datatype by specifying it when we create the array."
   ]
  },
  {
   "cell_type": "code",
   "execution_count": 46,
   "metadata": {},
   "outputs": [
    {
     "name": "stdout",
     "output_type": "stream",
     "text": [
      "[0 0 0]\n",
      "[0. 0. 0.]\n"
     ]
    }
   ],
   "source": [
    "#Array of zeros made of integers\n",
    "zeros_ints = np.zeros(3, dtype='int64')\n",
    "print(zeros_ints)\n",
    "\n",
    "#Array of zeros made of floats\n",
    "floats_ints = np.zeros(3, dtype='float64')\n",
    "print(floats_ints)"
   ]
  },
  {
   "cell_type": "code",
   "execution_count": null,
   "metadata": {},
   "outputs": [],
   "source": []
  },
  {
   "cell_type": "markdown",
   "metadata": {},
   "source": [
    "<b>Multidimensional arrays</b>"
   ]
  },
  {
   "cell_type": "markdown",
   "metadata": {},
   "source": [
    "We can nest arrays inside one another to create matrices. To create a 3x3 matrix, we simply create an array consisting of three 1x3 subarrays."
   ]
  },
  {
   "cell_type": "code",
   "execution_count": 47,
   "metadata": {},
   "outputs": [],
   "source": [
    "#We can create a matrix with nested lists in numpy\n",
    "data = [[1,2,3], [4,5,6], [7,8,9]]\n",
    "data_array = np.array(data)"
   ]
  },
  {
   "cell_type": "code",
   "execution_count": 48,
   "metadata": {},
   "outputs": [
    {
     "name": "stdout",
     "output_type": "stream",
     "text": [
      "[[1 2 3]\n",
      " [4 5 6]\n",
      " [7 8 9]]\n"
     ]
    }
   ],
   "source": [
    "#Let's print out our array and get some information about it\n",
    "print(data_array)"
   ]
  },
  {
   "cell_type": "code",
   "execution_count": 49,
   "metadata": {},
   "outputs": [
    {
     "name": "stdout",
     "output_type": "stream",
     "text": [
      "The first row is:  [1 2 3]\n",
      "The second row is:  [4 5 6]\n",
      "The third row is:  [7 8 9]\n"
     ]
    }
   ],
   "source": [
    "#Let's access the individual elements:\n",
    "#The first row:\n",
    "print('The first row is: ', data_array[0])\n",
    "print('The second row is: ', data_array[1])\n",
    "print('The third row is: ', data_array[2])"
   ]
  },
  {
   "cell_type": "code",
   "execution_count": 50,
   "metadata": {},
   "outputs": [
    {
     "name": "stdout",
     "output_type": "stream",
     "text": [
      "The rank of the array is 2\n"
     ]
    }
   ],
   "source": [
    "#let's get the number of dimensions in data_array\n",
    "data_array.ndim\n",
    "#The number of dimensions in an array is also called the array's rank\n",
    "print('The rank of the array is', data_array.ndim)"
   ]
  },
  {
   "cell_type": "code",
   "execution_count": 51,
   "metadata": {},
   "outputs": [
    {
     "name": "stdout",
     "output_type": "stream",
     "text": [
      "[[[2 3]\n",
      "  [1 3]]\n",
      "\n",
      " [[3 2]\n",
      "  [8 1]]]\n",
      "The rank of the array is 3\n"
     ]
    }
   ],
   "source": [
    "#We can also go to arrays with more than two dimensions by nesting lists to\n",
    "#create them\n",
    "\n",
    "three_dim_list = [[[2,3],[1,3]],[[3,2], [8, 1]]]\n",
    "result = np.array(three_dim_list)\n",
    "print(result)\n",
    "print('The rank of the array is', result.ndim)"
   ]
  },
  {
   "cell_type": "code",
   "execution_count": 52,
   "metadata": {},
   "outputs": [
    {
     "name": "stdout",
     "output_type": "stream",
     "text": [
      "The first subarray [[2 3]\n",
      " [1 3]]\n",
      "The first row of the first subarray [2 3]\n",
      "The first element in the first row 2\n",
      "The second element in the first row of subarray 3:  8\n"
     ]
    }
   ],
   "source": [
    "#We access these arrays via the index\n",
    "print('The first subarray', result[0])\n",
    "print('The first row of the first subarray', result[0,0])\n",
    "print('The first element in the first row', result[0,0,0])\n",
    "\n",
    "#likewise\n",
    "print('The second element in the first row of subarray 3: ', result[1,1,0])"
   ]
  },
  {
   "cell_type": "markdown",
   "metadata": {},
   "source": [
    "<b>Slicing Arrays</b>"
   ]
  },
  {
   "cell_type": "code",
   "execution_count": 53,
   "metadata": {},
   "outputs": [
    {
     "name": "stdout",
     "output_type": "stream",
     "text": [
      "The first row is:  [1 2 3]\n",
      "The first element of the first row is:  1\n",
      "The second element of the first row is:  2\n",
      "The third element of the first row is:  3\n",
      "The second row is: [4 5 6]\n",
      "The second element of the third row is:  9\n",
      "The last element of the first row is: 3\n",
      "The last row is: [7 8 9]\n"
     ]
    }
   ],
   "source": [
    "#Let's access the elements within each row. It's indexed like a tuple. We start with the \n",
    "#outermost part of the array and move inwards.\n",
    "\n",
    "#get the first row (as above):\n",
    "\n",
    "data2 = [[1,2,3], [4,5,6], [7,8,9]]\n",
    "data_array2 = np.array(data2)\n",
    "print('The first row is: ', data_array2[0])\n",
    "print('The first element of the first row is: ', data_array2[0, 0])\n",
    "print('The second element of the first row is: ', data_array2[0, 1])\n",
    "print('The third element of the first row is: ', data_array2[0, 2])\n",
    "#Likewise, we access the second row of the matrix with\n",
    "print('The second row is:', data_array2[1])\n",
    "#get the second element of the third row\n",
    "print('The second element of the third row is: ', data_array2[2,2])\n",
    "#We can also index the elements from the end:\n",
    "print('The last element of the first row is:', data_array2[0, -1])\n",
    "print('The last row is:', data_array[-1])"
   ]
  },
  {
   "cell_type": "code",
   "execution_count": 54,
   "metadata": {},
   "outputs": [
    {
     "name": "stdout",
     "output_type": "stream",
     "text": [
      "[[1 2 3]\n",
      " [4 5 6]\n",
      " [7 8 9]]\n"
     ]
    },
    {
     "data": {
      "text/plain": [
       "array([2, 5, 8])"
      ]
     },
     "execution_count": 54,
     "metadata": {},
     "output_type": "execute_result"
    }
   ],
   "source": [
    "#Accessing elements by column\n",
    "#make a list with list comprehension\n",
    "a = [[i for i in range(1, 4)],[i for i in range(4, 7)],[i for i in range(7, 10)]]\n",
    "#make it into an array\n",
    "a = np.array(a)\n",
    "print(a)\n",
    "#The first column only\n",
    "a[:,0]\n",
    "#to second column only\n",
    "a[:,1]"
   ]
  },
  {
   "cell_type": "code",
   "execution_count": 55,
   "metadata": {},
   "outputs": [
    {
     "name": "stdout",
     "output_type": "stream",
     "text": [
      "[[1 2 3]\n",
      " [4 5 6]\n",
      " [7 8 9]]\n",
      "Top left value in  1\n",
      "The array has a new top left value [[2 2 3]\n",
      " [4 5 6]\n",
      " [7 8 9]]\n",
      "The first column of a1 [2 4 7]\n",
      "[[1 2 3]\n",
      " [3 5 6]\n",
      " [4 8 9]]\n"
     ]
    }
   ],
   "source": [
    "#Changing elements of an array:\n",
    "#We can change array elements in the same manner we use to set them\n",
    "a1 = [[i for i in range(1, 4)],[i for i in range(4, 7)],[i for i in range(7, 10)]]\n",
    "a1 = np.array(a1)\n",
    "print(a1)\n",
    "#get the value of the top left element in a1:\n",
    "print('Top left value in ',a1[0,0])\n",
    "#change the value of the top left element to 2:\n",
    "a1[0,0] = 2\n",
    "print('The array has a new top left value', a1)\n",
    "#replacing a column:\n",
    "print('The first column of a1',a1[:,0])\n",
    "a1[:,0] = [1,3,4]\n",
    "print(a1)"
   ]
  },
  {
   "cell_type": "markdown",
   "metadata": {},
   "source": [
    "<b>Basic math operations on arrays</b>\n",
    "\n",
    "Let's say that we have two arrays, and we want to add them together.\n",
    "Let's start with two arrays that were selected randomly."
   ]
  },
  {
   "cell_type": "code",
   "execution_count": 56,
   "metadata": {},
   "outputs": [
    {
     "name": "stdout",
     "output_type": "stream",
     "text": [
      "[[-1  1 -2]\n",
      " [ 0  1 -1]\n",
      " [ 1  1  1]]\n",
      "[[-2  3  1]\n",
      " [ 1 -2  1]\n",
      " [ 1  1 -1]]\n"
     ]
    }
   ],
   "source": [
    "#We can get random numbers using numpy. Let's get random integers with numpy's\n",
    "#random.randint function\n",
    "random_3_3 = np.random.randint(-2,2, size=(3,3))\n",
    "print(random_3_3)\n",
    "#Let's make another array of the same dimensions:\n",
    "random2 = np.random.randint(-2, 4, size=(3, 3))\n",
    "print(random2)"
   ]
  },
  {
   "cell_type": "markdown",
   "metadata": {},
   "source": [
    "We don't need to know how to do matrix multiplication for this lesson, but we do know that we don't multiply matrices element by element. Instead we multiple each row by each column.\n",
    "\n",
    "<i>The following usually doesn't work.</i>"
   ]
  },
  {
   "cell_type": "code",
   "execution_count": 57,
   "metadata": {},
   "outputs": [
    {
     "name": "stdout",
     "output_type": "stream",
     "text": [
      "Multiply each element by its corresponding element\n",
      "[[ 2  3 -2]\n",
      " [ 0 -2 -1]\n",
      " [ 1  1 -1]]\n"
     ]
    }
   ],
   "source": [
    "print('Multiply each element by its corresponding element')\n",
    "print(random_3_3*random2)"
   ]
  },
  {
   "cell_type": "markdown",
   "metadata": {},
   "source": [
    "In order to actually multiply two arrays properly, we use the `np.dot` method."
   ]
  },
  {
   "cell_type": "code",
   "execution_count": 58,
   "metadata": {},
   "outputs": [
    {
     "name": "stdout",
     "output_type": "stream",
     "text": [
      "Proper matrix multiplication\n",
      "[[ 1 -7  2]\n",
      " [ 0 -3  2]\n",
      " [ 0  2  1]]\n"
     ]
    }
   ],
   "source": [
    "print('Proper matrix multiplication')\n",
    "print(random_3_3.dot(random2))"
   ]
  },
  {
   "cell_type": "markdown",
   "metadata": {},
   "source": [
    "<i>Vectors</i>"
   ]
  },
  {
   "cell_type": "markdown",
   "metadata": {},
   "source": [
    "A Vector is a matrix that has only one row or column. We use them a lot in math, and machine learning, and they're pretty simple. Let's go over how to use them in numpy here."
   ]
  },
  {
   "cell_type": "code",
   "execution_count": 59,
   "metadata": {},
   "outputs": [
    {
     "name": "stdout",
     "output_type": "stream",
     "text": [
      "[ 1.  2.  3.  4.  5.  6.  7.  8.  9. 10.]\n"
     ]
    }
   ],
   "source": [
    "a = np.linspace(1, 10, 10)\n",
    "print(a)"
   ]
  },
  {
   "cell_type": "code",
   "execution_count": 60,
   "metadata": {},
   "outputs": [
    {
     "name": "stdout",
     "output_type": "stream",
     "text": [
      "[ 1.  2.  3.  4.  5.  6.  7.  8.  9. 10.]\n"
     ]
    }
   ],
   "source": [
    "b = np.linspace(1, 10, 10)\n",
    "print(b)"
   ]
  },
  {
   "cell_type": "code",
   "execution_count": 61,
   "metadata": {},
   "outputs": [
    {
     "name": "stdout",
     "output_type": "stream",
     "text": [
      "[  1.   4.   9.  16.  25.  36.  49.  64.  81. 100.]\n"
     ]
    }
   ],
   "source": [
    "print(a*b)"
   ]
  },
  {
   "cell_type": "code",
   "execution_count": 62,
   "metadata": {},
   "outputs": [
    {
     "name": "stdout",
     "output_type": "stream",
     "text": [
      "[ 1.  2.  3.  4.  5.  6.  7.  8.  9. 10.]\n"
     ]
    }
   ],
   "source": [
    "#we can also change a vector from horizontal and vertical again with \n",
    "#np.transpose\n",
    "print(np.transpose(a))\n",
    "#print(np.transpose(b))"
   ]
  },
  {
   "cell_type": "markdown",
   "metadata": {},
   "source": [
    "<b>Advanced array operations</b>\n",
    "\n",
    "With numpy arrays, we can apply normal math functions across the entire array. This lets us do many of the same things to numpy arrays that we do to normal objects."
   ]
  },
  {
   "cell_type": "code",
   "execution_count": 63,
   "metadata": {},
   "outputs": [
    {
     "name": "stdout",
     "output_type": "stream",
     "text": [
      "[1. 2. 3. 4. 5. 6. 7. 8. 9.]\n",
      "All the values less than five are marked true\n",
      "While those greater than five are false\n",
      "[ True  True  True  True False False False False False]\n"
     ]
    }
   ],
   "source": [
    "#Let's see how many of the numbers are greater than five\n",
    "x = np.linspace(1,9,9)\n",
    "print(x)\n",
    "ix = x<5\n",
    "print('All the values less than five are marked true')\n",
    "print('While those greater than five are false')\n",
    "print(ix)"
   ]
  },
  {
   "cell_type": "code",
   "execution_count": 64,
   "metadata": {},
   "outputs": [
    {
     "name": "stdout",
     "output_type": "stream",
     "text": [
      "[[1. 2. 3.]\n",
      " [4. 5. 6.]\n",
      " [7. 8. 9.]]\n"
     ]
    }
   ],
   "source": [
    "#Let's make things a bit more complex\n",
    "x1 = np.linspace(1,9,9)\n",
    "x1.resize(3,3)\n",
    "print(x1)"
   ]
  },
  {
   "cell_type": "code",
   "execution_count": 65,
   "metadata": {},
   "outputs": [],
   "source": [
    "x1_compare = x1 <=8\n",
    "print(x1_compare)\n",
    "#all the elements except for the one that returns nine return true"
   ]
  },
  {
   "cell_type": "markdown",
   "metadata": {},
   "source": [
    "In Numpy, we can analyze arrays in an array-oriented manner. This means we apply functions across the array, rather than to the array itself. If you compare two lists, you'll get true if all the items are the same across both of them."
   ]
  },
  {
   "cell_type": "code",
   "execution_count": 12,
   "metadata": {},
   "outputs": [],
   "source": [
    "#Let's start by comparing it to lists\n",
    "a_list = [1,2,3,4]\n",
    "b_list = [2,2,4,4]\n",
    "a_array = np.array(a_list)\n",
    "b_array = np.array(b_list)"
   ]
  },
  {
   "cell_type": "code",
   "execution_count": 16,
   "metadata": {},
   "outputs": [
    {
     "name": "stdout",
     "output_type": "stream",
     "text": [
      "Comparing a_list and b_list False\n",
      "Comparing a_array and b_array [False  True False  True]\n",
      "Lists say they are not equal if only one element is different: True\n",
      "Prints true if a[i] does not equal b[i] (a != b) [ True False  True False]\n"
     ]
    }
   ],
   "source": [
    "print('Comparing a_list and b_list', a_list == b_list)\n",
    "print('Comparing a_array and b_array', a_array == b_array)\n",
    "#Numpy gives us an operation carried out across the array indicating whether or not the respective\n",
    "#values are equal\n",
    "print('Lists say they are not equal if only one element is different:', a_list != b_list)\n",
    "print('Prints true if a[i] does not equal b[i] (a != b)', a_array != b_array)"
   ]
  },
  {
   "cell_type": "code",
   "execution_count": 4,
   "metadata": {},
   "outputs": [
    {
     "name": "stdout",
     "output_type": "stream",
     "text": [
      "a != b [ True False  True False]\n"
     ]
    }
   ],
   "source": [
    "#We can also use normal logic operators to analyze numpy arrays\n",
    "a = np.array([1,2,3,4])\n",
    "b = np.array([2,2,4,4])\n",
    "#Now let's apply a logic operator, it returns a numpy array\n"
   ]
  },
  {
   "cell_type": "markdown",
   "metadata": {},
   "source": [
    "<b>Manipulating array sizes</b>\n",
    "\n",
    "We can change the shape of arrays with numpy"
   ]
  },
  {
   "cell_type": "code",
   "execution_count": 66,
   "metadata": {},
   "outputs": [
    {
     "name": "stdout",
     "output_type": "stream",
     "text": [
      "[[1 2]\n",
      " [3 4]]\n"
     ]
    }
   ],
   "source": [
    "a = np.array(((1,2), (3,4)))\n",
    "print(a)"
   ]
  },
  {
   "cell_type": "code",
   "execution_count": 67,
   "metadata": {},
   "outputs": [
    {
     "name": "stdout",
     "output_type": "stream",
     "text": [
      "The shape of array a is: (2, 2)\n"
     ]
    }
   ],
   "source": [
    "#Let's get the shape of a\n",
    "print('The shape of array a is:', a.shape)"
   ]
  },
  {
   "cell_type": "code",
   "execution_count": 68,
   "metadata": {},
   "outputs": [
    {
     "name": "stdout",
     "output_type": "stream",
     "text": [
      "[1 2 3 4]\n",
      "[[3 4]\n",
      " [3 4]]\n"
     ]
    }
   ],
   "source": [
    "#Now let's make array a into a one-dimensional array with all the elements in the same row\n",
    "a_flat = a.flatten()\n",
    "print(a_flat)\n",
    "#Flatten creates a new copy of an array, so we can use it even if we change the original array\n",
    "a[0] = ([3,4])\n",
    "print(a)"
   ]
  },
  {
   "cell_type": "code",
   "execution_count": 69,
   "metadata": {},
   "outputs": [],
   "source": [
    "#If we don't want to change the array, and we just want to view what it would look like flattened, we can use\n",
    "#the \"ravel\" method, like as in \"unravel\"\n",
    "a_view = a.ravel()"
   ]
  },
  {
   "cell_type": "code",
   "execution_count": 70,
   "metadata": {},
   "outputs": [
    {
     "name": "stdout",
     "output_type": "stream",
     "text": [
      "The original array b [[3 4]\n",
      " [3 4]]\n",
      "The flattened view of the array [3 4 3 4]\n",
      "ravel() does not change the original array: [[3 4]\n",
      " [3 4]]\n"
     ]
    }
   ],
   "source": [
    "#Let's look at ravel some more. We will create a new array and then use ravel\n",
    "b = a.copy()\n",
    "print('The original array b',b)\n",
    "print('The flattened view of the array' , b.ravel())\n",
    "print('ravel() does not change the original array:', b)"
   ]
  },
  {
   "cell_type": "markdown",
   "metadata": {},
   "source": [
    "Remember the difference between flatten and ravel. Flatten returns a new flat array with the same elements, while ravel returns merely a view of the existing array.\n",
    "\n",
    "If we change the original array, then we've also changed the view."
   ]
  },
  {
   "cell_type": "code",
   "execution_count": 71,
   "metadata": {},
   "outputs": [
    {
     "name": "stdout",
     "output_type": "stream",
     "text": [
      "[[1 2 3]\n",
      " [4 5 6]\n",
      " [7 8 9]]\n"
     ]
    }
   ],
   "source": [
    "#let's make a new array we'll call original\n",
    "original = np.array([[1,2,3],[4,5,6],[7,8,9]])\n",
    "print(original)"
   ]
  },
  {
   "cell_type": "code",
   "execution_count": 72,
   "metadata": {},
   "outputs": [
    {
     "name": "stdout",
     "output_type": "stream",
     "text": [
      "[1 2 3 4 5 6 7 8 9]\n"
     ]
    }
   ],
   "source": [
    "#now we'll make a duplicate with flatten\n",
    "flat_original = original.flatten()\n",
    "print(flat_original)"
   ]
  },
  {
   "cell_type": "code",
   "execution_count": 73,
   "metadata": {},
   "outputs": [
    {
     "name": "stdout",
     "output_type": "stream",
     "text": [
      "We have called ravel: [1 2 3 4 5 6 7 8 9]\n"
     ]
    }
   ],
   "source": [
    "#Now we'll use ravel to create a view\n",
    "ravelled_original = original.ravel()\n",
    "print('We have called ravel:' ,ravelled_original)"
   ]
  },
  {
   "cell_type": "code",
   "execution_count": 74,
   "metadata": {},
   "outputs": [
    {
     "name": "stdout",
     "output_type": "stream",
     "text": [
      "[[4 5 6]\n",
      " [1 2 3]\n",
      " [7 8 9]]\n",
      "The ravelled version has changed [4 5 6 1 2 3 7 8 9]\n",
      "But the flattened version has not [1 2 3 4 5 6 7 8 9]\n",
      "[[3 4]\n",
      " [3 4]]\n"
     ]
    }
   ],
   "source": [
    "#now we'll manually swap two of the rows in the original.\n",
    "\n",
    "original[1]=[1,2,3] #replace the second row with the first row\n",
    "original[0]=[4,5,6] #replace the first row with the second row\n",
    "\n",
    "#print the original again\n",
    "print(original)\n",
    "print('The ravelled version has changed', ravelled_original)\n",
    "print('But the flattened version has not', flat_original)\n",
    "\n",
    "#print('but when we use flatten()', b.flatten())\n",
    "print(b)"
   ]
  },
  {
   "cell_type": "markdown",
   "metadata": {},
   "source": [
    "<b>Reshaping Numpy Arrays</b>\n",
    "\n",
    "We can change the shape of numpy arrays. When we make an array, we can use a sequence on one row, then reshape it into multiple rows."
   ]
  },
  {
   "cell_type": "code",
   "execution_count": 75,
   "metadata": {},
   "outputs": [
    {
     "name": "stdout",
     "output_type": "stream",
     "text": [
      "Before any changes: [1. 2. 3. 4. 5. 6. 7. 8. 9.]\n",
      "After reshaping to 3x3:\n",
      "[[1. 2. 3.]\n",
      " [4. 5. 6.]\n",
      " [7. 8. 9.]]\n"
     ]
    }
   ],
   "source": [
    "new = np.linspace(1,9,9)\n",
    "print('Before any changes:', new)\n",
    "#let's call the reshape method on it\n",
    "new.resize(3,3)\n",
    "print('After reshaping to 3x3:', new, sep='\\n')"
   ]
  },
  {
   "cell_type": "code",
   "execution_count": 76,
   "metadata": {},
   "outputs": [
    {
     "name": "stdout",
     "output_type": "stream",
     "text": [
      "The original array\n",
      "[[1. 2. 3.]\n",
      " [4. 5. 6.]\n",
      " [7. 8. 9.]]\n",
      "After resizing\n",
      "[[1. 2.]\n",
      " [3. 4.]]\n"
     ]
    }
   ],
   "source": [
    "#We can also decrease the shape of the array, although it will remove elements\n",
    "#make a copy of \"new\"\n",
    "new2 = new.copy()\n",
    "print('The original array', new2, sep='\\n')\n",
    "new2.resize(2,2)\n",
    "print('After resizing', new2, sep='\\n')"
   ]
  },
  {
   "cell_type": "code",
   "execution_count": 77,
   "metadata": {},
   "outputs": [
    {
     "name": "stdout",
     "output_type": "stream",
     "text": [
      "[[1. 2. 3. 4.]\n",
      " [0. 0. 0. 0.]\n",
      " [0. 0. 0. 0.]\n",
      " [0. 0. 0. 0.]]\n"
     ]
    }
   ],
   "source": [
    "#when we increase the size of an array, we add zeros\n",
    "new2.resize(4,4)\n",
    "print(new2)"
   ]
  },
  {
   "cell_type": "code",
   "execution_count": 78,
   "metadata": {},
   "outputs": [
    {
     "name": "stdout",
     "output_type": "stream",
     "text": [
      "The original array: [[1 2 3]\n",
      " [4 5 6]\n",
      " [7 8 9]]\n",
      "The transposed array [[1 4 7]\n",
      " [2 5 8]\n",
      " [3 6 9]]\n"
     ]
    }
   ],
   "source": [
    "#We can also rotate the array so that each column becomes a row and vice versa\n",
    "original = [[1,2,3],[4,5,6],[7,8,9]]\n",
    "original = np.array(original)\n",
    "print('The original array:', original)\n",
    "print('The transposed array', original.transpose())"
   ]
  },
  {
   "cell_type": "code",
   "execution_count": 79,
   "metadata": {},
   "outputs": [
    {
     "name": "stdout",
     "output_type": "stream",
     "text": [
      "[[2 2 3]\n",
      " [4 5 6]\n",
      " [7 8 9]]\n",
      "[[2 4 7]\n",
      " [2 5 8]\n",
      " [3 6 9]]\n",
      "[[-1  2  3]\n",
      " [ 4  5  6]\n",
      " [ 7  8  9]]\n",
      "[[-1  4  7]\n",
      " [ 2  5  8]\n",
      " [ 3  6  9]]\n"
     ]
    }
   ],
   "source": [
    "original[0,0] = 2\n",
    "print(original)\n",
    "test = original.transpose()\n",
    "#transpose returns a view of the array rather than a completely new array\n",
    "print(test)\n",
    "#now let's change the original array\n",
    "original[0,0] = -1\n",
    "print(original)\n",
    "print(test)"
   ]
  },
  {
   "cell_type": "markdown",
   "metadata": {},
   "source": [
    "<b>Structured Arrays</b>\n",
    "\n",
    "Numpy's structured arrays combine the flexibility of a numpy array with the ability to reference columns or rows by their name."
   ]
  },
  {
   "cell_type": "code",
   "execution_count": 80,
   "metadata": {},
   "outputs": [
    {
     "name": "stdout",
     "output_type": "stream",
     "text": [
      "[(0, 0., 0.+0.j) (0, 0., 0.+0.j) (0, 0., 0.+0.j)]\n"
     ]
    }
   ],
   "source": [
    "#Let's start with a normal array\n",
    "structured = np.zeros(3, dtype='int8, float32, complex')\n",
    "print(structured)"
   ]
  },
  {
   "cell_type": "code",
   "execution_count": 81,
   "metadata": {},
   "outputs": [
    {
     "data": {
      "text/plain": [
       "dtype([('f0', 'i1'), ('f1', '<f4'), ('f2', '<c16')])"
      ]
     },
     "execution_count": 81,
     "metadata": {},
     "output_type": "execute_result"
    }
   ],
   "source": [
    "structured.dtype"
   ]
  },
  {
   "cell_type": "code",
   "execution_count": 82,
   "metadata": {},
   "outputs": [],
   "source": [
    "#The labels 'f0', 'f1', and 'f2' represent fields with the default name.\n",
    "\n",
    "#Note: 'i1' refers to an integer with 8 bits, '<f4' refers to a floating point\n",
    "#number with precision of 4 bytes, and the '<c16' refers to complex numbers\n",
    "\n",
    "#We make a regular array into a structured array by passing a dtype ourselves\n",
    "new_dt = np.dtype([('score1', 'f8'), ('score2', 'f8')])\n",
    "new_structured = np.zeros(2, dtype=new_dt)"
   ]
  },
  {
   "cell_type": "code",
   "execution_count": 83,
   "metadata": {},
   "outputs": [
    {
     "data": {
      "text/plain": [
       "dtype([('score1', '<f8'), ('score2', '<f8')])"
      ]
     },
     "execution_count": 83,
     "metadata": {},
     "output_type": "execute_result"
    }
   ],
   "source": [
    "new_dt"
   ]
  },
  {
   "cell_type": "code",
   "execution_count": 84,
   "metadata": {},
   "outputs": [
    {
     "data": {
      "text/plain": [
       "array([(0., 0.), (0., 0.)], dtype=[('score1', '<f8'), ('score2', '<f8')])"
      ]
     },
     "execution_count": 84,
     "metadata": {},
     "output_type": "execute_result"
    }
   ],
   "source": [
    "#let's look at our new structured array\n",
    "new_structured"
   ]
  },
  {
   "cell_type": "code",
   "execution_count": 85,
   "metadata": {},
   "outputs": [],
   "source": [
    "#now we can access each field by its name\n",
    "new_structured['score1'][0] = 50"
   ]
  },
  {
   "cell_type": "code",
   "execution_count": 86,
   "metadata": {},
   "outputs": [
    {
     "data": {
      "text/plain": [
       "array([50.,  0.])"
      ]
     },
     "execution_count": 86,
     "metadata": {},
     "output_type": "execute_result"
    }
   ],
   "source": [
    "new_structured['score1']"
   ]
  },
  {
   "cell_type": "code",
   "execution_count": 87,
   "metadata": {},
   "outputs": [],
   "source": [
    "#When we create a structured array, the datatypes can include strings\n",
    "#We specify we are creating a string when we first start the array\n",
    "\n",
    "data = [('Thomas', 89), ('Laura', 92)]\n",
    "dt = [('name', 'S30'), ('score', 'i')]\n",
    "#create the data and the datatype"
   ]
  },
  {
   "cell_type": "code",
   "execution_count": 88,
   "metadata": {},
   "outputs": [
    {
     "name": "stdout",
     "output_type": "stream",
     "text": [
      "[(b'Thomas', 89) (b'Laura', 92)]\n"
     ]
    }
   ],
   "source": [
    "students = np.array(data, dtype=dt)\n",
    "print(students)"
   ]
  },
  {
   "cell_type": "markdown",
   "metadata": {},
   "source": [
    "Let's say that more students take this assignment, and we have to add\n",
    "them to the array. We do this by changing the dimensions of the array with resize."
   ]
  },
  {
   "cell_type": "code",
   "execution_count": 89,
   "metadata": {},
   "outputs": [
    {
     "data": {
      "text/plain": [
       "(2,)"
      ]
     },
     "execution_count": 89,
     "metadata": {},
     "output_type": "execute_result"
    }
   ],
   "source": [
    "#first, let's get the shape of the array\n",
    "students.shape"
   ]
  },
  {
   "cell_type": "code",
   "execution_count": 90,
   "metadata": {},
   "outputs": [],
   "source": [
    "#then, let's resize the array\n",
    "students.resize(3)"
   ]
  },
  {
   "cell_type": "code",
   "execution_count": 91,
   "metadata": {},
   "outputs": [
    {
     "name": "stdout",
     "output_type": "stream",
     "text": [
      "[(b'Thomas', 89) (b'Laura', 92) (b'',  0)]\n"
     ]
    }
   ],
   "source": [
    "#let's look at the array now\n",
    "print(students)"
   ]
  },
  {
   "cell_type": "code",
   "execution_count": 92,
   "metadata": {},
   "outputs": [],
   "source": [
    "#Let's create a new array for Debra\n",
    "new_data = [('Debra', 99)]\n",
    "new_data = np.array(new_data, dtype=dt)"
   ]
  },
  {
   "cell_type": "code",
   "execution_count": 93,
   "metadata": {},
   "outputs": [
    {
     "name": "stdout",
     "output_type": "stream",
     "text": [
      "[(b'Thomas', 89) (b'Laura', 92) (b'Debra', 99)]\n"
     ]
    }
   ],
   "source": [
    "students[-1]= new_data #Let's use reverse indexing to set the last\n",
    "#element\n",
    "print(students)"
   ]
  },
  {
   "cell_type": "markdown",
   "metadata": {},
   "source": [
    "<i>Saving information about the students to a file</i>"
   ]
  },
  {
   "cell_type": "code",
   "execution_count": 94,
   "metadata": {},
   "outputs": [],
   "source": [
    "#let's save the file\n",
    "np.save('students.npy', students)"
   ]
  },
  {
   "cell_type": "code",
   "execution_count": 95,
   "metadata": {},
   "outputs": [],
   "source": [
    "#let's check by creating it under a different name\n",
    "new_students = np.load('students.npy')"
   ]
  },
  {
   "cell_type": "code",
   "execution_count": 1,
   "metadata": {},
   "outputs": [
    {
     "ename": "NameError",
     "evalue": "name 'new_students' is not defined",
     "output_type": "error",
     "traceback": [
      "\u001b[0;31m---------------------------------------------------------------------------\u001b[0m",
      "\u001b[0;31mNameError\u001b[0m                                 Traceback (most recent call last)",
      "\u001b[0;32m<ipython-input-1-b7b5f414a6ad>\u001b[0m in \u001b[0;36m<module>\u001b[0;34m\u001b[0m\n\u001b[1;32m      1\u001b[0m \u001b[0;31m#as we can see we have the new students now\u001b[0m\u001b[0;34m\u001b[0m\u001b[0;34m\u001b[0m\u001b[0;34m\u001b[0m\u001b[0m\n\u001b[0;32m----> 2\u001b[0;31m \u001b[0mprint\u001b[0m\u001b[0;34m(\u001b[0m\u001b[0mnew_students\u001b[0m\u001b[0;34m)\u001b[0m\u001b[0;34m\u001b[0m\u001b[0;34m\u001b[0m\u001b[0m\n\u001b[0m",
      "\u001b[0;31mNameError\u001b[0m: name 'new_students' is not defined"
     ]
    }
   ],
   "source": [
    "#as we can see we have the new students now\n",
    "print(new_students)"
   ]
  },
  {
   "cell_type": "code",
   "execution_count": 2,
   "metadata": {},
   "outputs": [],
   "source": [
    "#Let's get information about the students from the array"
   ]
  },
  {
   "cell_type": "markdown",
   "metadata": {},
   "source": [
    "<b>Broadcasting and More Multiplication</b>"
   ]
  },
  {
   "cell_type": "markdown",
   "metadata": {},
   "source": [
    "When we multiply two arrays together of different sizes, numpy does something called broadcasting. The smaller array is \"broadcast\" across the larger one. "
   ]
  },
  {
   "cell_type": "code",
   "execution_count": 3,
   "metadata": {},
   "outputs": [
    {
     "name": "stdout",
     "output_type": "stream",
     "text": [
      "[[ 1  4  9]\n",
      " [ 4 10 18]]\n"
     ]
    }
   ],
   "source": [
    "import numpy as np\n",
    "#this works with arrays with the same number of columns\n",
    "a = np.array([1,2,3])\n",
    "b=np.array([[1,2,3],[4,5,6]])\n",
    "print(a*b)\n"
   ]
  },
  {
   "cell_type": "code",
   "execution_count": 4,
   "metadata": {},
   "outputs": [
    {
     "name": "stdout",
     "output_type": "stream",
     "text": [
      "operands could not be broadcast together with shapes (3,) (2,2) \n"
     ]
    }
   ],
   "source": [
    "try:\n",
    "    a = np.array([1,2,3])\n",
    "    b=np.array([[1,2],[4,5]])\n",
    "    print(a*b)\n",
    "except ValueError as v:\n",
    "    print(v)"
   ]
  },
  {
   "cell_type": "code",
   "execution_count": 6,
   "metadata": {},
   "outputs": [
    {
     "name": "stdout",
     "output_type": "stream",
     "text": [
      "shapes (3,) and (2,2) not aligned: 3 (dim 0) != 2 (dim 0)\n"
     ]
    }
   ],
   "source": [
    "#You also cannot use matrix multiplication on arrays with these\n",
    "#dimensions\n",
    "try:\n",
    "    print(a.dot(b))\n",
    "except ValueError as e:\n",
    "    print(e)"
   ]
  },
  {
   "cell_type": "code",
   "execution_count": 8,
   "metadata": {},
   "outputs": [],
   "source": [
    "#You can use it when the dimensions are compatible. \n",
    "a = np.random.randint(5, size=(2, 4))"
   ]
  },
  {
   "cell_type": "code",
   "execution_count": 9,
   "metadata": {},
   "outputs": [],
   "source": [
    "b = np.random.randint(5, size=(2, 4))"
   ]
  },
  {
   "cell_type": "code",
   "execution_count": 11,
   "metadata": {},
   "outputs": [
    {
     "name": "stdout",
     "output_type": "stream",
     "text": [
      "shapes (2,4) and (2,4) not aligned: 4 (dim 1) != 2 (dim 0)\n"
     ]
    }
   ],
   "source": [
    "try:\n",
    "    a.dot(b)\n",
    "except ValueError as e:\n",
    "    print(e)"
   ]
  },
  {
   "cell_type": "code",
   "execution_count": null,
   "metadata": {},
   "outputs": [],
   "source": []
  }
 ],
 "metadata": {
  "kernelspec": {
   "display_name": "Python 3",
   "language": "python",
   "name": "python3"
  },
  "language_info": {
   "codemirror_mode": {
    "name": "ipython",
    "version": 3
   },
   "file_extension": ".py",
   "mimetype": "text/x-python",
   "name": "python",
   "nbconvert_exporter": "python",
   "pygments_lexer": "ipython3",
   "version": "3.8.2"
  }
 },
 "nbformat": 4,
 "nbformat_minor": 4
}
