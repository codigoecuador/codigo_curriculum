{
 "cells": [
  {
   "cell_type": "markdown",
   "metadata": {},
   "source": [
    "# Numpy\n",
    "\n",
    "This lesson will discuss the Numpy package, which does super-fast math in Python."
   ]
  },
  {
   "cell_type": "code",
   "execution_count": 2,
   "metadata": {},
   "outputs": [],
   "source": [
    "#import numpy package using the 'np' abbreviation\n",
    "import numpy as np"
   ]
  },
  {
   "cell_type": "markdown",
   "metadata": {},
   "source": [
    "Numpy does everything that our normal lists can do, and more. When we want to sort only a few values, we can use a standard python list. However, once we get to more values than that, a list can quickly become a performance bottleneck. Here's where we will discuss numpy arrays."
   ]
  },
  {
   "cell_type": "code",
   "execution_count": 5,
   "metadata": {},
   "outputs": [
    {
     "name": "stdout",
     "output_type": "stream",
     "text": [
      "a + b= [1, 2, 3, 4, 5, 6]\n"
     ]
    }
   ],
   "source": [
    "#Let's start with Python lists\n",
    "a=[1,2,3]\n",
    "b=[4,5,6]\n",
    "print('a + b=', a+b)"
   ]
  },
  {
   "cell_type": "code",
   "execution_count": 6,
   "metadata": {},
   "outputs": [
    {
     "name": "stdout",
     "output_type": "stream",
     "text": [
      "Lists cannot be multiplied in Python\n"
     ]
    }
   ],
   "source": [
    "#Here's where we run into a problem. Let's try to multiply the two lists\n",
    "\n",
    "try:\n",
    "    print(a*b)\n",
    "except TypeError:\n",
    "    print('Lists cannot be multiplied in Python')"
   ]
  },
  {
   "cell_type": "markdown",
   "metadata": {},
   "source": [
    "To multiply lists of values, we must use numpy, Python's library for numerical computing. You can use numpy for everything from arithmetic to highly complex math. Numpy can even be your calculator. "
   ]
  },
  {
   "cell_type": "markdown",
   "metadata": {},
   "source": [
    "<b>Performance: Lists vs. numpy arrays</b>"
   ]
  },
  {
   "cell_type": "code",
   "execution_count": 11,
   "metadata": {},
   "outputs": [],
   "source": [
    "#Numpy arrays are stored in memory in a much more efficient way than Python lists.\n",
    "#Let's compare them to see the respective advantages\n",
    "\n",
    "#create the objects\n",
    "import numpy as np\n",
    "my_array = np.arange(1000000)\n",
    "my_list = list(range(1000000))"
   ]
  },
  {
   "cell_type": "code",
   "execution_count": 14,
   "metadata": {},
   "outputs": [
    {
     "name": "stdout",
     "output_type": "stream",
     "text": [
      "CPU times: user 26.5 ms, sys: 8.38 ms, total: 34.9 ms\n",
      "Wall time: 35 ms\n"
     ]
    }
   ],
   "source": [
    "#%timeit\n",
    "#now let's compare the two\n",
    "%time for _ in range(10): my_array2 = my_array * 2"
   ]
  },
  {
   "cell_type": "code",
   "execution_count": 15,
   "metadata": {},
   "outputs": [
    {
     "name": "stdout",
     "output_type": "stream",
     "text": [
      "CPU times: user 631 ms, sys: 183 ms, total: 814 ms\n",
      "Wall time: 818 ms\n"
     ]
    }
   ],
   "source": [
    "%time for _ in range(10): my_list2 = [x*2 for x in my_list]"
   ]
  },
  {
   "cell_type": "code",
   "execution_count": 16,
   "metadata": {},
   "outputs": [],
   "source": [
    "#If we look at this, we can see that the numpy array is several times faster than lists. \n",
    "#This is why many scientific and data science applications use numpy when they can."
   ]
  },
  {
   "cell_type": "markdown",
   "metadata": {},
   "source": [
    "<b>Saving and loading arrays</b>\n",
    "\n",
    "Numpy comes with built-in save and load ability. We can save the arrays to disk and then load them again."
   ]
  },
  {
   "cell_type": "code",
   "execution_count": 46,
   "metadata": {},
   "outputs": [
    {
     "data": {
      "text/plain": [
       "['datetime_exercise.py',\n",
       " 'baggage_two.ipynb',\n",
       " 'baggage.ipynb',\n",
       " 'numpy_practice.ipynb',\n",
       " 'files_practice',\n",
       " 'magicmethods_introduction.py',\n",
       " 'file_system',\n",
       " 'custom_object_topics',\n",
       " 'saving_your_work',\n",
       " 'functions.ipynb',\n",
       " 'Games_and_Python_with_classes2-Copy1.ipynb',\n",
       " 'matplotlib',\n",
       " '.ipynb_checkpoints',\n",
       " 'easy_classes.ipynb',\n",
       " 'reverse_strings_exercise.py']"
      ]
     },
     "execution_count": 46,
     "metadata": {},
     "output_type": "execute_result"
    }
   ],
   "source": [
    "#let's get our directory\n",
    "import os\n",
    "os.getcwd()\n",
    "os.listdir()\n"
   ]
  },
  {
   "cell_type": "code",
   "execution_count": null,
   "metadata": {},
   "outputs": [],
   "source": []
  },
  {
   "cell_type": "markdown",
   "metadata": {},
   "source": [
    "<b>Numpy array basics</b>"
   ]
  },
  {
   "cell_type": "code",
   "execution_count": 7,
   "metadata": {},
   "outputs": [],
   "source": [
    "#numpy has a basic object known as the array\n",
    "#here's an array with only one number\n",
    "a = np.array([1])\n",
    "b=np.array(2)"
   ]
  },
  {
   "cell_type": "code",
   "execution_count": 8,
   "metadata": {},
   "outputs": [
    {
     "name": "stdout",
     "output_type": "stream",
     "text": [
      "[1]\n",
      "2\n"
     ]
    },
    {
     "data": {
      "text/plain": [
       "array([2])"
      ]
     },
     "execution_count": 8,
     "metadata": {},
     "output_type": "execute_result"
    }
   ],
   "source": [
    "print(a)\n",
    "print(b)\n",
    "a*b"
   ]
  },
  {
   "cell_type": "code",
   "execution_count": 25,
   "metadata": {},
   "outputs": [
    {
     "name": "stdout",
     "output_type": "stream",
     "text": [
      "[1, 2, 3] is a <class 'list'>\n",
      "[1 2 3] is a <class 'numpy.ndarray'>\n"
     ]
    }
   ],
   "source": [
    "#More commonly, numpy arrays have only one value. We can initialize them with a Python list.\n",
    "array_1 = [1, 2, 3]\n",
    "a_1 = np.array(array_1)\n",
    "\n",
    "#this is the same as\n",
    "array_2 = np.array([4,5,6])\n",
    "print(array_1, 'is a', type(array_1))\n",
    "print(a_1, 'is a', type(array_2))"
   ]
  },
  {
   "cell_type": "markdown",
   "metadata": {},
   "source": [
    "We can add two numpy arrays together"
   ]
  },
  {
   "cell_type": "code",
   "execution_count": null,
   "metadata": {},
   "outputs": [],
   "source": [
    "ar1 = np.array([1,2,3])\n",
    "ar2 = np.array([2,4,6])\n",
    "ar3 = ar1+ar2\n",
    "print('ar1', ar1, '+', 'ar2', ar2, '=', ar3)"
   ]
  },
  {
   "cell_type": "code",
   "execution_count": 30,
   "metadata": {},
   "outputs": [
    {
     "name": "stdout",
     "output_type": "stream",
     "text": [
      "[-1 -2 -3]\n"
     ]
    }
   ],
   "source": [
    "#Let's subtract two numpy arrays:\n",
    "\n",
    "ar4 = ar1-ar2\n",
    "print(ar4)"
   ]
  },
  {
   "cell_type": "code",
   "execution_count": 32,
   "metadata": {},
   "outputs": [
    {
     "name": "stdout",
     "output_type": "stream",
     "text": [
      "[ 2  8 18]\n"
     ]
    }
   ],
   "source": [
    "#Let's multiply two arrays:\n",
    "ar5 = ar1*ar2\n",
    "print(ar5)"
   ]
  },
  {
   "cell_type": "code",
   "execution_count": null,
   "metadata": {},
   "outputs": [],
   "source": [
    "#Let's divide two arrays\n",
    "ar6 = ar1/ar2\n",
    "print(ar6)"
   ]
  },
  {
   "cell_type": "markdown",
   "metadata": {},
   "source": [
    "<i>Making arrays from functions</i>\n",
    "\n",
    "We can also use functions to make arrays. One example of this is the `range` function."
   ]
  },
  {
   "cell_type": "code",
   "execution_count": 39,
   "metadata": {},
   "outputs": [
    {
     "name": "stdout",
     "output_type": "stream",
     "text": [
      "[ 1  2  3  4  5  6  7  8  9 10]\n"
     ]
    }
   ],
   "source": [
    "c = np.array(range(1, 11)) #all the numbers from 1 to 11\n",
    "print(c)"
   ]
  },
  {
   "cell_type": "code",
   "execution_count": null,
   "metadata": {},
   "outputs": [],
   "source": [
    "a_squared= lambda x: x**2\n",
    "a_sq = np.array([a_squared(i) for i in range(1, 10)])\n",
    "print(a_sq)"
   ]
  },
  {
   "cell_type": "code",
   "execution_count": 52,
   "metadata": {},
   "outputs": [
    {
     "name": "stdout",
     "output_type": "stream",
     "text": [
      "This: 81\n",
      "does the same thing as this: 81\n",
      "Minimum: 1\n",
      "Also the minimum:  1\n"
     ]
    }
   ],
   "source": [
    "#Let's get the maximum and minimum values\n",
    "print('This:', np.max(a_sq))\n",
    "print('does the same thing as this:', a_sq.max())\n",
    "#\n",
    "print('Minimum:', np.min(a_sq))\n",
    "print('Also the minimum: ', a_sq.min())"
   ]
  },
  {
   "cell_type": "markdown",
   "metadata": {},
   "source": [
    "<b>Nested Arrays</b>\n",
    "\n",
    "We can nest arrays inside one another to create matrices. To create a 3x3 matrix, we simply create an array consisting of three 1x3 subarrays."
   ]
  },
  {
   "cell_type": "code",
   "execution_count": null,
   "metadata": {},
   "outputs": [],
   "source": [
    "data = [[1,2,3], [4,5,6], [7,8,9]]\n",
    "data_array = np.array(data)\n",
    "print(data_array)"
   ]
  },
  {
   "cell_type": "code",
   "execution_count": 15,
   "metadata": {},
   "outputs": [
    {
     "name": "stdout",
     "output_type": "stream",
     "text": [
      "[[1 2]\n",
      " [3 4]]\n"
     ]
    }
   ],
   "source": [
    "#we can do the same thing with lists of any length:\n",
    "b=[[1,2],[3,4]]\n",
    "b_array=np.array(b)\n",
    "print(b_array)"
   ]
  },
  {
   "cell_type": "code",
   "execution_count": 17,
   "metadata": {},
   "outputs": [
    {
     "name": "stdout",
     "output_type": "stream",
     "text": [
      "[1 list([2, 3])]\n"
     ]
    }
   ],
   "source": [
    "#or even different lengths\n",
    "a=[1, [2,3]]\n",
    "a_array = np.array(a)\n",
    "print(a_array)"
   ]
  },
  {
   "cell_type": "markdown",
   "metadata": {},
   "source": [
    "<b>Special types of arrays</b>"
   ]
  },
  {
   "cell_type": "code",
   "execution_count": 21,
   "metadata": {},
   "outputs": [
    {
     "name": "stdout",
     "output_type": "stream",
     "text": [
      "[1. 1. 1.]\n"
     ]
    }
   ],
   "source": [
    "#We can make an array with all ones:\n",
    "#make a single row numpy array\n",
    "one_by_three_ones = np.ones(3)\n",
    "print(one_by_three_ones)"
   ]
  },
  {
   "cell_type": "code",
   "execution_count": 25,
   "metadata": {},
   "outputs": [
    {
     "name": "stdout",
     "output_type": "stream",
     "text": [
      "[[1. 1. 1.]\n",
      " [1. 1. 1.]]\n"
     ]
    }
   ],
   "source": [
    "two_by_three_ones = np.ones((2, 3))\n",
    "print(two_by_three_ones)\n",
    "three_by_three_ones = np.ones((3,3))"
   ]
  },
  {
   "cell_type": "code",
   "execution_count": 34,
   "metadata": {},
   "outputs": [
    {
     "name": "stdout",
     "output_type": "stream",
     "text": [
      "[1 2 3]\n",
      "int64\n"
     ]
    }
   ],
   "source": [
    "#Each array consists of only one datatype: we can choose these datatypes when we create \n",
    "#the array:\n",
    "\n",
    "a=np.array([1,2,3])\n",
    "#Let's get the type\n",
    "print(a)\n",
    "print(a.dtype)"
   ]
  },
  {
   "cell_type": "code",
   "execution_count": 36,
   "metadata": {},
   "outputs": [
    {
     "name": "stdout",
     "output_type": "stream",
     "text": [
      "[1.  2.4 3. ]\n",
      "float64\n"
     ]
    }
   ],
   "source": [
    "#Now let's make an array with integers and floats and see what happens\n",
    "b=np.array([1, 2.4, 3])\n",
    "print(b)\n",
    "print(b.dtype)\n",
    "#So the type has been made into \"float\" becuase it includes integers and floats"
   ]
  },
  {
   "cell_type": "markdown",
   "metadata": {},
   "source": [
    "<b>Multidimensional arrays</b>"
   ]
  },
  {
   "cell_type": "markdown",
   "metadata": {},
   "source": [
    "We can nest arrays inside one another to create matrices. To create a 3x3 matrix, we simply create an array consisting of three 1x3 subarrays."
   ]
  },
  {
   "cell_type": "code",
   "execution_count": 17,
   "metadata": {},
   "outputs": [],
   "source": [
    "#We can create a matrix with nested lists in numpy\n",
    "data = [[1,2,3], [4,5,6], [7,8,9]]\n",
    "data_array = np.array(data)"
   ]
  },
  {
   "cell_type": "code",
   "execution_count": 18,
   "metadata": {},
   "outputs": [
    {
     "name": "stdout",
     "output_type": "stream",
     "text": [
      "[[1 2 3]\n",
      " [4 5 6]\n",
      " [7 8 9]]\n"
     ]
    }
   ],
   "source": [
    "#Let's print out our array and get some information about it\n",
    "print(data_array)"
   ]
  },
  {
   "cell_type": "code",
   "execution_count": 24,
   "metadata": {},
   "outputs": [
    {
     "name": "stdout",
     "output_type": "stream",
     "text": [
      "The first row is:  [1 2 3]\n",
      "The second row is:  [4 5 6]\n",
      "The third row is:  [7 8 9]\n"
     ]
    }
   ],
   "source": [
    "#Let's access the individual elements:\n",
    "#The first row:\n",
    "print('The first row is: ', data_array[0])\n",
    "print('The second row is: ', data_array[1])\n",
    "print('The third row is: ', data_array[2])"
   ]
  },
  {
   "cell_type": "markdown",
   "metadata": {},
   "source": [
    "<b>Slicing Arrays</b>"
   ]
  },
  {
   "cell_type": "code",
   "execution_count": 30,
   "metadata": {},
   "outputs": [
    {
     "name": "stdout",
     "output_type": "stream",
     "text": [
      "The first row is:  [1 2 3]\n",
      "The first element of the first row is:  1\n",
      "The second element of the first row is:  2\n",
      "The third element of the first row is:  3\n",
      "The second element of the third row is:  9\n",
      "The last element of the first row is: 3\n",
      "The last row is: [7 8 9]\n"
     ]
    }
   ],
   "source": [
    "#Let's access the elements within each row. It's indexed like a tuple. We start with the \n",
    "#outermost part of the array and move inwards.\n",
    "\n",
    "#get the first row (as above):\n",
    "\n",
    "data2 = [[1,2,3], [4,5,6], [7,8,9]]\n",
    "data_array2 = np.array(data2)\n",
    "print('The first row is: ', data_array2[0])\n",
    "print('The first element of the first row is: ', data_array2[0, 0])\n",
    "print('The second element of the first row is: ', data_array2[0, 1])\n",
    "print('The third element of the first row is: ', data_array2[0, 2])\n",
    "#Likewise, we access the second row of the matrix with\n",
    "print('The second row is:', data_array2[1])\n",
    "#get the second element of the third row\n",
    "print('The second element of the third row is: ', data_array2[2,2])\n",
    "#We can also index the elements from the end:\n",
    "print('The last element of the first row is:', data_array2[0, -1])\n",
    "print('The last row is:', data_array[-1])"
   ]
  },
  {
   "cell_type": "code",
   "execution_count": 65,
   "metadata": {},
   "outputs": [
    {
     "name": "stdout",
     "output_type": "stream",
     "text": [
      "[[1 2 3]\n",
      " [4 5 6]\n",
      " [7 8 9]]\n"
     ]
    },
    {
     "data": {
      "text/plain": [
       "array([2, 5, 8])"
      ]
     },
     "execution_count": 65,
     "metadata": {},
     "output_type": "execute_result"
    }
   ],
   "source": [
    "#Accessing elements by column\n",
    "#make a list with list comprehension\n",
    "a = [[i for i in range(1, 4)],[i for i in range(4, 7)],[i for i in range(7, 10)]]\n",
    "#make it into an array\n",
    "a = np.array(a)\n",
    "print(a)\n",
    "#The first column only\n",
    "a[:,0]\n",
    "#to second column only\n",
    "a[:,1]"
   ]
  },
  {
   "cell_type": "code",
   "execution_count": null,
   "metadata": {},
   "outputs": [],
   "source": [
    "#"
   ]
  }
 ],
 "metadata": {
  "kernelspec": {
   "display_name": "Python 3",
   "language": "python",
   "name": "python3"
  },
  "language_info": {
   "codemirror_mode": {
    "name": "ipython",
    "version": 3
   },
   "file_extension": ".py",
   "mimetype": "text/x-python",
   "name": "python",
   "nbconvert_exporter": "python",
   "pygments_lexer": "ipython3",
   "version": "3.8.2"
  }
 },
 "nbformat": 4,
 "nbformat_minor": 4
}
