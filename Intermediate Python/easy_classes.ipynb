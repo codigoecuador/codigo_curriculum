{
 "cells": [
  {
   "cell_type": "markdown",
   "metadata": {},
   "source": [
    "# Easy Classes\n",
    "In Python, we can create custom classes to represent almost anything. But the language also lets us make some powerful types of custom classes."
   ]
  },
  {
   "cell_type": "code",
   "execution_count": 5,
   "metadata": {},
   "outputs": [],
   "source": [
    "#The dataclass is a type of class that helps us create records\n",
    "#It is only available in versions 3.7 of Python and later\n",
    "from dataclasses import dataclass #import the dataclass module\n",
    "from datetime import datetime"
   ]
  },
  {
   "cell_type": "code",
   "execution_count": 6,
   "metadata": {},
   "outputs": [],
   "source": [
    "from datetime import date\n",
    "\n",
    "@dataclass\n",
    "class Contact:\n",
    "    name: str\n",
    "    address: str\n",
    "    date_of_birth: date"
   ]
  },
  {
   "cell_type": "code",
   "execution_count": 7,
   "metadata": {},
   "outputs": [],
   "source": [
    "steve = Contact('Steve Williams', '123 Orange Drive', date(year=1988, month=1, day=4))"
   ]
  },
  {
   "cell_type": "code",
   "execution_count": 8,
   "metadata": {},
   "outputs": [
    {
     "name": "stdout",
     "output_type": "stream",
     "text": [
      "Contact(name='Steve Williams', address='123 Orange Drive', date_of_birth=datetime.date(1988, 1, 4))\n"
     ]
    }
   ],
   "source": [
    "#When we print, we'll see the magic methods like \"__repr__ are already implemented\"\n",
    "print(steve)"
   ]
  },
  {
   "cell_type": "markdown",
   "metadata": {},
   "source": [
    "The NamedTuple class is another type of class that we can create by importing the\n",
    "typing module"
   ]
  },
  {
   "cell_type": "code",
   "execution_count": 9,
   "metadata": {},
   "outputs": [],
   "source": [
    "from typing import NamedTuple\n",
    "\n",
    "class Contact(NamedTuple):\n",
    "    name: str\n",
    "    address: str\n",
    "    date_of_birth: date"
   ]
  },
  {
   "cell_type": "code",
   "execution_count": 10,
   "metadata": {},
   "outputs": [],
   "source": [
    "steve2 = Contact('Steve Williams', '134 Fake St', date(year=1988, month=2, day=4))"
   ]
  },
  {
   "cell_type": "code",
   "execution_count": 11,
   "metadata": {},
   "outputs": [
    {
     "data": {
      "text/plain": [
       "Contact(name='Steve Williams', address='134 Fake St', date_of_birth=datetime.date(1988, 2, 4))"
      ]
     },
     "execution_count": 11,
     "metadata": {},
     "output_type": "execute_result"
    }
   ],
   "source": [
    "steve2"
   ]
  },
  {
   "cell_type": "code",
   "execution_count": 12,
   "metadata": {},
   "outputs": [
    {
     "name": "stdout",
     "output_type": "stream",
     "text": [
      "Attribute Error\n"
     ]
    }
   ],
   "source": [
    "#Let's say we want to change something about the NamedTuple we have just created\n",
    "#unfortunately, since Tuples are not able to be changed, we cannot do anything \n",
    "\n",
    "try:\n",
    "    steve2.address = '123 Orange Drive'\n",
    "except AttributeError:\n",
    "    print('Attribute Error')"
   ]
  },
  {
   "cell_type": "markdown",
   "metadata": {},
   "source": [
    "There is another variety of this class, called the namedtuple. I have intentionally avoided describing this class for you before now, due to its simplicity. A namedtuple is the cousin of the NamedTuple, the only main difference being that type hints are not specified for this class."
   ]
  },
  {
   "cell_type": "code",
   "execution_count": 13,
   "metadata": {},
   "outputs": [],
   "source": [
    "from collections import namedtuple\n",
    "\n",
    "contact = namedtuple('Contact', ['Name', 'Address', 'DoB'])"
   ]
  },
  {
   "cell_type": "code",
   "execution_count": 15,
   "metadata": {},
   "outputs": [],
   "source": [
    "juan = contact('Juan Alvarez', '1223 Villa Street', date(year=1992,\n",
    "                                        month=4, day=12))"
   ]
  },
  {
   "cell_type": "code",
   "execution_count": 23,
   "metadata": {},
   "outputs": [
    {
     "name": "stdout",
     "output_type": "stream",
     "text": [
      "Contact(Name='Juan Alvarez', Address='1223 Villa Street', DoB=datetime.date(1992, 4, 12))\n"
     ]
    }
   ],
   "source": [
    "print(juan)"
   ]
  },
  {
   "cell_type": "code",
   "execution_count": 26,
   "metadata": {},
   "outputs": [
    {
     "name": "stdout",
     "output_type": "stream",
     "text": [
      "Name Juan Alvarez\n",
      "Address 1223 Villa Street\n",
      "DoB 1992-04-12\n"
     ]
    }
   ],
   "source": [
    "#We can also access individual attributes using the attribute names\n",
    "print('Name', juan.Name) #note the capitalization\n",
    "print('Address', juan.Address)\n",
    "print('DoB', juan.DoB)"
   ]
  },
  {
   "cell_type": "code",
   "execution_count": 28,
   "metadata": {},
   "outputs": [
    {
     "name": "stdout",
     "output_type": "stream",
     "text": [
      "can't set attribute\n"
     ]
    }
   ],
   "source": [
    "#Once again, if we try to set one of the attributes for this instance, it will \n",
    "#not work\n",
    "try:\n",
    "    juan.Address = '123 Fake St'\n",
    "except AttributeError as e:\n",
    "    print(e)"
   ]
  },
  {
   "cell_type": "code",
   "execution_count": null,
   "metadata": {},
   "outputs": [],
   "source": []
  }
 ],
 "metadata": {
  "kernelspec": {
   "display_name": "Python 3",
   "language": "python",
   "name": "python3"
  },
  "language_info": {
   "codemirror_mode": {
    "name": "ipython",
    "version": 3
   },
   "file_extension": ".py",
   "mimetype": "text/x-python",
   "name": "python",
   "nbconvert_exporter": "python",
   "pygments_lexer": "ipython3",
   "version": "3.7.5"
  }
 },
 "nbformat": 4,
 "nbformat_minor": 4
}
