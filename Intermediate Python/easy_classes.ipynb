{
 "cells": [
  {
   "cell_type": "markdown",
   "metadata": {},
   "source": [
    "# Easy Classes\n",
    "In Python, we can create custom classes to represent almost anything. But the language also lets us make some powerful types of custom classes."
   ]
  },
  {
   "cell_type": "code",
   "execution_count": 2,
   "metadata": {},
   "outputs": [],
   "source": [
    "#The dataclass is a type of class that helps us create records\n",
    "#It is only available in versions 3.7 of Python and later\n",
    "from dataclasses import dataclass #import the dataclass module"
   ]
  },
  {
   "cell_type": "code",
   "execution_count": 3,
   "metadata": {},
   "outputs": [],
   "source": [
    "from datetime import date\n",
    "\n",
    "@dataclass\n",
    "class Contact:\n",
    "    name: str\n",
    "    address: str\n",
    "    date_of_birth: date"
   ]
  },
  {
   "cell_type": "code",
   "execution_count": 4,
   "metadata": {},
   "outputs": [],
   "source": [
    "steve = Contact('Steve Williams', '123 Orange Drive', date(year=1988, month=1, day=4))"
   ]
  },
  {
   "cell_type": "code",
   "execution_count": 5,
   "metadata": {},
   "outputs": [
    {
     "name": "stdout",
     "output_type": "stream",
     "text": [
      "Contact(name='Steve Williams', address='123 Orange Drive', date_of_birth=datetime.date(1988, 1, 4))\n"
     ]
    }
   ],
   "source": [
    "#When we print, we'll see the magic methods like \"__repr__ are already implemented\"\n",
    "print(steve)"
   ]
  },
  {
   "cell_type": "markdown",
   "metadata": {},
   "source": [
    "The NamedTuple class is another type of class that we can create by importing the\n",
    "typing module"
   ]
  },
  {
   "cell_type": "code",
   "execution_count": 9,
   "metadata": {},
   "outputs": [],
   "source": [
    "from typing import NamedTuple\n",
    "\n",
    "class Contact(NamedTuple):\n",
    "    name: str\n",
    "    address: str\n",
    "    date_of_birth: date"
   ]
  },
  {
   "cell_type": "code",
   "execution_count": 10,
   "metadata": {},
   "outputs": [],
   "source": [
    "steve2 = Contact('Steve Williams', '134 Fake St', date(year=1988, month=2, day=4))"
   ]
  },
  {
   "cell_type": "code",
   "execution_count": 11,
   "metadata": {},
   "outputs": [
    {
     "data": {
      "text/plain": [
       "Contact(name='Steve Williams', address='134 Fake St', date_of_birth=datetime.date(1988, 2, 4))"
      ]
     },
     "execution_count": 11,
     "metadata": {},
     "output_type": "execute_result"
    }
   ],
   "source": [
    "steve2"
   ]
  },
  {
   "cell_type": "code",
   "execution_count": 13,
   "metadata": {},
   "outputs": [
    {
     "name": "stdout",
     "output_type": "stream",
     "text": [
      "Attribute Error\n"
     ]
    }
   ],
   "source": [
    "#Let's say we want to change something about the NamedTuple we have just created\n",
    "#unfortunately, since Tuples are not able to be changed, we cannot do anything \n",
    "\n",
    "try:\n",
    "    steve2.address = '123 Orange Drive'\n",
    "except AttributeError:\n",
    "    print('Attribute Error')"
   ]
  },
  {
   "cell_type": "markdown",
   "metadata": {},
   "source": [
    "There is another variety of this class, called the namedtuple. I have intentionally avoided describing this class for you before now, due to its simplicity. A namedtuple is the cousin of the NamedTuple, the only main difference being that type hints are not specified for this class."
   ]
  },
  {
   "cell_type": "code",
   "execution_count": null,
   "metadata": {},
   "outputs": [],
   "source": [
    "from collections import namedtuple\n",
    "\n",
    "test = namedtuple('test')"
   ]
  },
  {
   "cell_type": "code",
   "execution_count": null,
   "metadata": {},
   "outputs": [],
   "source": []
  },
  {
   "cell_type": "code",
   "execution_count": null,
   "metadata": {},
   "outputs": [],
   "source": []
  },
  {
   "cell_type": "code",
   "execution_count": null,
   "metadata": {},
   "outputs": [],
   "source": []
  }
 ],
 "metadata": {
  "kernelspec": {
   "display_name": "Python 3",
   "language": "python",
   "name": "python3"
  },
  "language_info": {
   "codemirror_mode": {
    "name": "ipython",
    "version": 3
   },
   "file_extension": ".py",
   "mimetype": "text/x-python",
   "name": "python",
   "nbconvert_exporter": "python",
   "pygments_lexer": "ipython3",
   "version": "3.7.5"
  }
 },
 "nbformat": 4,
 "nbformat_minor": 4
}
