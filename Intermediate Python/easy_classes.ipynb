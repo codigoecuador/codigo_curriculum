{
 "cells": [
  {
   "cell_type": "markdown",
   "metadata": {},
   "source": [
    "In Python, we can create custom classes to represent almost anything. But the language also lets us make some powerful types of custom classes."
   ]
  },
  {
   "cell_type": "code",
   "execution_count": 1,
   "metadata": {},
   "outputs": [],
   "source": [
    "#The dataclass is a type of class that helps us create records\n",
    "#It is only available in versions 3.7 of Python and later\n",
    "from dataclasses import dataclass #import the dataclass module"
   ]
  },
  {
   "cell_type": "code",
   "execution_count": 4,
   "metadata": {},
   "outputs": [],
   "source": [
    "from datetime import date\n",
    "\n",
    "@dataclass\n",
    "class Contact:\n",
    "    name: str\n",
    "    address: str\n",
    "    date_of_birth: date"
   ]
  },
  {
   "cell_type": "code",
   "execution_count": 5,
   "metadata": {},
   "outputs": [],
   "source": [
    "steve = Contact('Steve Williams', '123 Orange Drive', date(year=1988, month=1, day=4))"
   ]
  },
  {
   "cell_type": "code",
   "execution_count": 7,
   "metadata": {},
   "outputs": [
    {
     "name": "stdout",
     "output_type": "stream",
     "text": [
      "Contact(name='Steve Williams', address='123 Orange Drive', date_of_birth=datetime.date(1988, 1, 4))\n"
     ]
    }
   ],
   "source": [
    "#When we print, we'll see the magic methods like \"__repr__ are already implemented\"\n",
    "print(steve)"
   ]
  },
  {
   "cell_type": "code",
   "execution_count": null,
   "metadata": {},
   "outputs": [],
   "source": []
  }
 ],
 "metadata": {
  "kernelspec": {
   "display_name": "Python 3",
   "language": "python",
   "name": "python3"
  },
  "language_info": {
   "codemirror_mode": {
    "name": "ipython",
    "version": 3
   },
   "file_extension": ".py",
   "mimetype": "text/x-python",
   "name": "python",
   "nbconvert_exporter": "python",
   "pygments_lexer": "ipython3",
   "version": "3.7.5"
  }
 },
 "nbformat": 4,
 "nbformat_minor": 4
}
