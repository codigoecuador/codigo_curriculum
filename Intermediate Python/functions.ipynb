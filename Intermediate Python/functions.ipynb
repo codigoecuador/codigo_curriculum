{
 "cells": [
  {
   "cell_type": "code",
   "execution_count": 2,
   "metadata": {},
   "outputs": [],
   "source": [
    "#When we are working with Python, it is helpful to be able to avoid writing\n",
    "#the same code again and again.\n",
    "\n",
    "#We can avoid doing this by using what we call a function. Functions are \n",
    "#snippets of Python code that are defined and given a name that we call, and\n",
    "#the interpreter will execute those lines of code.\n",
    "\n",
    "def hello_world():\n",
    "    print('hello world')"
   ]
  },
  {
   "cell_type": "code",
   "execution_count": 3,
   "metadata": {},
   "outputs": [
    {
     "name": "stdout",
     "output_type": "stream",
     "text": [
      "hello world\n"
     ]
    }
   ],
   "source": [
    "#now let's call the function\n",
    "hello_world()"
   ]
  },
  {
   "cell_type": "code",
   "execution_count": 4,
   "metadata": {},
   "outputs": [],
   "source": [
    "#we can also use functions to get user input. For example:\n",
    "def hello():\n",
    "    name = input('Enter your name: ') #get input from the user\n",
    "    print('hello', name) #print it"
   ]
  },
  {
   "cell_type": "code",
   "execution_count": 7,
   "metadata": {},
   "outputs": [
    {
     "name": "stdin",
     "output_type": "stream",
     "text": [
      "Enter your name:  \n"
     ]
    },
    {
     "name": "stdout",
     "output_type": "stream",
     "text": [
      "hello \n"
     ]
    }
   ],
   "source": [
    "hello()"
   ]
  },
  {
   "cell_type": "code",
   "execution_count": 8,
   "metadata": {},
   "outputs": [],
   "source": [
    "#Those are good basic examples, but functions are capable of doing much more\n",
    "#than this. For example, functions can keep the input given by the user:\n",
    "\n",
    "def get_name():\n",
    "    name = input('Enter your name: ')\n",
    "    return name #the function \"returns\" the name to whoever called it"
   ]
  },
  {
   "cell_type": "code",
   "execution_count": 9,
   "metadata": {},
   "outputs": [
    {
     "name": "stdin",
     "output_type": "stream",
     "text": [
      "Enter your name:  Thomas\n"
     ]
    }
   ],
   "source": [
    "#Let's use this function\n",
    "name = get_name() #Notice how the variable is called name, and the variable\n",
    "#in the function is also called name. We can do this becuase a function\n",
    "#has its own local variables. Every variable within a function only exists\n",
    "#within that function. Variables from outside are called \"global\" variables.\n",
    "#We can read global variables with a function, but cannot write to them\n",
    "#unless we use the global keyword."
   ]
  },
  {
   "cell_type": "code",
   "execution_count": 10,
   "metadata": {},
   "outputs": [
    {
     "name": "stdout",
     "output_type": "stream",
     "text": [
      "Thomas\n"
     ]
    }
   ],
   "source": [
    "print(name)"
   ]
  },
  {
   "cell_type": "code",
   "execution_count": 11,
   "metadata": {},
   "outputs": [],
   "source": [
    "#Functions can do more than give a value from input, they can also \n",
    "#take a variable, and perform an operation on it. Like finding the average\n",
    "#of a list.\n",
    "\n",
    "#We know that the average of a list is the sum of the numbers divided by\n",
    "#the length of the list.\n",
    "\n",
    "values = [61, 62, 65, 65, 65, 68, 74, 74, 75, 77]"
   ]
  },
  {
   "cell_type": "code",
   "execution_count": 12,
   "metadata": {},
   "outputs": [],
   "source": [
    "def average(number_list): #number_list is called an argument\n",
    "    aver = sum(number_list)/len(number_list)\n",
    "    return aver"
   ]
  },
  {
   "cell_type": "code",
   "execution_count": 13,
   "metadata": {},
   "outputs": [
    {
     "name": "stdout",
     "output_type": "stream",
     "text": [
      "68.6\n"
     ]
    }
   ],
   "source": [
    "#Let's get the values of the average list by passing it to the function\n",
    "print(average(values))"
   ]
  },
  {
   "cell_type": "code",
   "execution_count": 14,
   "metadata": {},
   "outputs": [],
   "source": [
    "#We can also have a function take more than one argument. Let's get the \n",
    "#average of a list, and give the user the option to double the average.\n",
    "\n",
    "def avg_options(number_list, doubled=False): \n",
    "    if doubled == True:\n",
    "        doubled_nums = [i*2 for i in number_list] #This is a for loop also\n",
    "        #doubled nums is a list\n",
    "        return average(doubled_nums) #we can call a function from within\n",
    "                                        #another function\n",
    "    else:\n",
    "        return average(number_list)"
   ]
  },
  {
   "cell_type": "code",
   "execution_count": 15,
   "metadata": {},
   "outputs": [
    {
     "name": "stdout",
     "output_type": "stream",
     "text": [
      "137.2\n"
     ]
    }
   ],
   "source": [
    "result = avg_options(values, doubled=True)\n",
    "print(result)"
   ]
  },
  {
   "cell_type": "code",
   "execution_count": 23,
   "metadata": {},
   "outputs": [],
   "source": [
    "#We can also use functions that do not have a name, we call these \n",
    "#anonymous or \"lambda\" functions\n",
    "\n",
    "square_number = lambda x: x**2 #We use \"lambda\""
   ]
  },
  {
   "cell_type": "code",
   "execution_count": 26,
   "metadata": {},
   "outputs": [],
   "source": [
    "square_number(4) #you can call it just like a regular function"
   ]
  },
  {
   "cell_type": "markdown",
   "metadata": {},
   "source": [
    "Activity: Create your own function to get the cube root of a number: hint, a cube is x**3\n"
   ]
  },
  {
   "cell_type": "markdown",
   "metadata": {},
   "source": [
    "Functions with optional arguments"
   ]
  },
  {
   "cell_type": "markdown",
   "metadata": {},
   "source": [
    "Sometimes we don't know the arguments a function is going to get. For example, we might have weather on a day, and we only need to include the amount of rain if it actually rains."
   ]
  },
  {
   "cell_type": "code",
   "execution_count": 6,
   "metadata": {},
   "outputs": [],
   "source": [
    "def weather_data(**kwargs):\n",
    "    temperature = kwargs['temperature']\n",
    "    rainfall = kwargs['rainfall']\n",
    "    return kwargs"
   ]
  },
  {
   "cell_type": "code",
   "execution_count": 10,
   "metadata": {},
   "outputs": [
    {
     "name": "stdout",
     "output_type": "stream",
     "text": [
      "{'temperature': 67, 'rainfall': 1}\n"
     ]
    }
   ],
   "source": [
    "result = weather_data(temperature=67, rainfall=1)\n",
    "print(result)#this gives us a dictionary"
   ]
  },
  {
   "cell_type": "markdown",
   "metadata": {},
   "source": [
    "Activity: Create a function that makes a dictionary with the names of the students in the class. Hint: it will have to have variable input."
   ]
  },
  {
   "cell_type": "code",
   "execution_count": 1,
   "metadata": {},
   "outputs": [],
   "source": [
    "#Here is an example to get you started:\n",
    "\n",
    "def make_person(firstname, lastname):\n",
    "    '''Returns a dictionary with a persons first and last names'''\n",
    "    person = {'first': firstname, 'last': lastname}\n",
    "    return person"
   ]
  },
  {
   "cell_type": "code",
   "execution_count": 4,
   "metadata": {},
   "outputs": [
    {
     "name": "stdout",
     "output_type": "stream",
     "text": [
      "{'first': 'Robert', 'last': 'Jackson'}\n"
     ]
    }
   ],
   "source": [
    "result = make_person('Robert', 'Jackson')\n",
    "print(result)"
   ]
  },
  {
   "cell_type": "code",
   "execution_count": 1,
   "metadata": {},
   "outputs": [],
   "source": [
    "#Functions can also take a list as an argument\n",
    "def double_list(values):\n",
    "    return [i*2 for i in values]"
   ]
  },
  {
   "cell_type": "code",
   "execution_count": 2,
   "metadata": {},
   "outputs": [],
   "source": [
    "new_numbers = [2, 4, 6, 8]"
   ]
  },
  {
   "cell_type": "code",
   "execution_count": 3,
   "metadata": {},
   "outputs": [
    {
     "data": {
      "text/plain": [
       "[4, 8, 12, 16]"
      ]
     },
     "execution_count": 3,
     "metadata": {},
     "output_type": "execute_result"
    }
   ],
   "source": [
    "double_list(new_numbers)"
   ]
  },
  {
   "cell_type": "code",
   "execution_count": null,
   "metadata": {},
   "outputs": [],
   "source": []
  }
 ],
 "metadata": {
  "kernelspec": {
   "display_name": "Python 3",
   "language": "python",
   "name": "python3"
  },
  "language_info": {
   "codemirror_mode": {
    "name": "ipython",
    "version": 3
   },
   "file_extension": ".py",
   "mimetype": "text/x-python",
   "name": "python",
   "nbconvert_exporter": "python",
   "pygments_lexer": "ipython3",
   "version": "3.7.5"
  }
 },
 "nbformat": 4,
 "nbformat_minor": 4
}
