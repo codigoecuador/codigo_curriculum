{
 "cells": [
  {
   "cell_type": "markdown",
   "metadata": {},
   "source": [
    "Class Methods and Decorators:\n",
    "\n",
    "Class methods are methods that apply to an entire class. They are effective at creating new instances of a class when the __init__ method just won't do.\n",
    "\n",
    "Class Decorators let multiple classes share attributes."
   ]
  },
  {
   "cell_type": "markdown",
   "metadata": {},
   "source": [
    "Class Methods: An alternate way of making a class"
   ]
  },
  {
   "cell_type": "code",
   "execution_count": 4,
   "metadata": {},
   "outputs": [],
   "source": [
    "#Here is a class for a car, with basic information in its __init__ function\n",
    "\n",
    "class Car:\n",
    "    def __init__(self, make, model, year):\n",
    "        self.make=make\n",
    "        self.model=model\n",
    "        self.year=year"
   ]
  },
  {
   "cell_type": "markdown",
   "metadata": {},
   "source": [
    "Class methods enable us to create a car another way. We can get user input about the kind of car."
   ]
  },
  {
   "cell_type": "code",
   "execution_count": 1,
   "metadata": {},
   "outputs": [],
   "source": [
    "#here's a definition of the Car class with a class method\n",
    "\n",
    "class Car:\n",
    "    def __init__(self, make, model, year):\n",
    "        self.make=make\n",
    "        self.model=model\n",
    "        self.year=year\n",
    "        \n",
    "    @classmethod #this is a decorator. It labels a method as a class method. \n",
    "    def from_input(cls):\n",
    "        make = input('Enter the car\\'s make: ')\n",
    "        model = input('Enter the car\\'s model: ')\n",
    "        year = int(input('Enter the car\\'s year: '))\n",
    "        return cls(make=make, model=model, year=year)"
   ]
  },
  {
   "cell_type": "code",
   "execution_count": 3,
   "metadata": {},
   "outputs": [
    {
     "name": "stdout",
     "output_type": "stream",
     "text": [
      "Enter the car's make: Chevrolet\n",
      "Enter the car's model: Impala\n",
      "Enter the car's year: 1964\n"
     ]
    }
   ],
   "source": [
    "#Here we call the class\n",
    "chevy = Car.from_input()"
   ]
  },
  {
   "cell_type": "code",
   "execution_count": null,
   "metadata": {},
   "outputs": [],
   "source": []
  },
  {
   "cell_type": "code",
   "execution_count": 5,
   "metadata": {},
   "outputs": [],
   "source": [
    "# Class Decorators "
   ]
  },
  {
   "cell_type": "code",
   "execution_count": 6,
   "metadata": {},
   "outputs": [],
   "source": [
    "#This is a basic class for a car\n",
    "\n",
    "class Car:\n",
    "    def __init__(self, make, model, year):\n",
    "        self.make=make\n",
    "        self.model=model\n",
    "        self.year=year"
   ]
  },
  {
   "cell_type": "code",
   "execution_count": 7,
   "metadata": {},
   "outputs": [],
   "source": [
    "ferrari = Car('Ferrari', 'Spyder', 2019)"
   ]
  },
  {
   "cell_type": "code",
   "execution_count": 8,
   "metadata": {},
   "outputs": [
    {
     "name": "stdout",
     "output_type": "stream",
     "text": [
      "{'make': 'Ferrari', 'model': 'Spyder', 'year': 2019}\n"
     ]
    }
   ],
   "source": [
    "#Let's get the attributes for our new Ferrari with __dict__. This method \n",
    "#prints all of a class's attributes as a dictionary.\n",
    "print(ferrari.__dict__)"
   ]
  },
  {
   "cell_type": "code",
   "execution_count": 9,
   "metadata": {},
   "outputs": [],
   "source": [
    "#Let's get another more reasonably priced car:\n",
    "tesla = Car('Tesla', 'Model 3', 2020)"
   ]
  },
  {
   "cell_type": "code",
   "execution_count": 10,
   "metadata": {},
   "outputs": [
    {
     "name": "stdout",
     "output_type": "stream",
     "text": [
      "{'make': 'Tesla', 'model': 'Model 3', 'year': 2020}\n"
     ]
    }
   ],
   "source": [
    "#Let's look at the tesla\n",
    "print(tesla.__dict__)"
   ]
  },
  {
   "cell_type": "markdown",
   "metadata": {},
   "source": [
    "Let's think about this for a second. Neither of these cars has whether it is gas or electric listed, but we can create a function that adds an attribute to any class it is passed."
   ]
  },
  {
   "cell_type": "code",
   "execution_count": 11,
   "metadata": {},
   "outputs": [],
   "source": [
    "def electric_vehicle(klass):\n",
    "    klass.engine_type= 'electric'\n",
    "    return klass"
   ]
  },
  {
   "cell_type": "code",
   "execution_count": 46,
   "metadata": {},
   "outputs": [],
   "source": [
    "@electric_vehicle\n",
    "class Car2:\n",
    "    def __init__(self, make, model, year):\n",
    "        self.make=make\n",
    "        self.model=model\n",
    "        self.year=year\n",
    "        \n",
    "    def __str__(self):\n",
    "        return 'Car(make={0}, model={1}, year={2})'.format(self.make, self.model,\n",
    "                                                          self.year)\n",
    "        \n",
    "    #@property #another decorator, property is one of the default decorators\n",
    "    def set_engine_type(self):\n",
    "        if not hasattr(self, 'engine_type'):\n",
    "            self.engine_type = Car2.engine_type #we access a class attribute\n",
    "        \n",
    "    "
   ]
  },
  {
   "cell_type": "code",
   "execution_count": 47,
   "metadata": {},
   "outputs": [],
   "source": [
    "tesla2 = Car2('Tesla', 'Model 3', 2020)"
   ]
  },
  {
   "cell_type": "code",
   "execution_count": 48,
   "metadata": {},
   "outputs": [],
   "source": [
    "#Let's see the attributes with __dict__"
   ]
  },
  {
   "cell_type": "code",
   "execution_count": 49,
   "metadata": {},
   "outputs": [
    {
     "name": "stdout",
     "output_type": "stream",
     "text": [
      "{'make': 'Tesla', 'model': 'Model 3', 'year': 2020}\n"
     ]
    }
   ],
   "source": [
    "print(tesla2.__dict__)"
   ]
  },
  {
   "cell_type": "code",
   "execution_count": 50,
   "metadata": {},
   "outputs": [],
   "source": [
    "#Now let's set the propulsion system with our new method\n",
    "tesla2.set_engine_type()"
   ]
  },
  {
   "cell_type": "code",
   "execution_count": 51,
   "metadata": {},
   "outputs": [
    {
     "data": {
      "text/plain": [
       "'electric'"
      ]
     },
     "execution_count": 51,
     "metadata": {},
     "output_type": "execute_result"
    }
   ],
   "source": [
    "#Let's make sure we set the attribute correctly\n",
    "tesla2.engine_type"
   ]
  },
  {
   "cell_type": "markdown",
   "metadata": {},
   "source": [
    "Now that you have a good idea what decorators do, try and make your own decorator\n",
    "for a class."
   ]
  },
  {
   "cell_type": "markdown",
   "metadata": {},
   "source": [
    "Create an `paint` method that lets you set the color of the car"
   ]
  },
  {
   "cell_type": "code",
   "execution_count": null,
   "metadata": {},
   "outputs": [],
   "source": []
  }
 ],
 "metadata": {
  "kernelspec": {
   "display_name": "Python 3",
   "language": "python",
   "name": "python3"
  },
  "language_info": {
   "codemirror_mode": {
    "name": "ipython",
    "version": 3
   },
   "file_extension": ".py",
   "mimetype": "text/x-python",
   "name": "python",
   "nbconvert_exporter": "python",
   "pygments_lexer": "ipython3",
   "version": "3.7.5"
  }
 },
 "nbformat": 4,
 "nbformat_minor": 4
}
