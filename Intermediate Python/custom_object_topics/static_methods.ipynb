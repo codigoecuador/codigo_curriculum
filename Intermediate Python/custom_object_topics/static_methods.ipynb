{
 "cells": [
  {
   "cell_type": "markdown",
   "metadata": {},
   "source": [
    "A static method is one that is included in a class as long as the class exists. However, it does not have access to any instance or attribute from the class unless it is fed that instance as an argument."
   ]
  },
  {
   "cell_type": "code",
   "execution_count": 9,
   "metadata": {},
   "outputs": [],
   "source": [
    "class Appointment:\n",
    "    min_appt_length = 0.5\n",
    "    max_appt_length = 2\n",
    "    \n",
    "    @staticmethod #static methods use this decorator above the def keyword\n",
    "    def confirm_appt_length(appt_length):\n",
    "        if appt_length < Appointment.min_appt_length:\n",
    "            return False\n",
    "        if appt_length > Appointment.max_appt_length:\n",
    "            return False\n",
    "        return True\n",
    "        \n",
    "    def __init__(self, doctor, patient, appt_length):\n",
    "        self.doctor = doctor\n",
    "        self.patient = patient\n",
    "        if Appointment.confirm_appt_length(appt_length) == True:\n",
    "            self.appt_length = appt_length\n",
    "        else:\n",
    "            self.appt_length = Appointment.min_appt_length\n",
    "        "
   ]
  },
  {
   "cell_type": "code",
   "execution_count": 13,
   "metadata": {},
   "outputs": [
    {
     "name": "stdout",
     "output_type": "stream",
     "text": [
      "1\n"
     ]
    }
   ],
   "source": [
    "new = Appointment('Dr. Smith', 'Jason', 1) #we set a valid length\n",
    "print(new.appt_length)"
   ]
  },
  {
   "cell_type": "code",
   "execution_count": 14,
   "metadata": {},
   "outputs": [
    {
     "name": "stdout",
     "output_type": "stream",
     "text": [
      "0.5\n"
     ]
    }
   ],
   "source": [
    "new2 = Appointment('Dr. Wilson', 'James', 4) #we set a deliberately invalid length\n",
    "print(new2.appt_length)"
   ]
  },
  {
   "cell_type": "markdown",
   "metadata": {},
   "source": [
    "As you can see, static methods are great when we have to make sure that one of our attributes meets some constraint. Why a static method?\n",
    "\n",
    "Static methods are static. They don't know anything about the class. This can be an advantage when we are creating a new instance. We don't have the Appointment yet when we create the instance."
   ]
  },
  {
   "cell_type": "code",
   "execution_count": 16,
   "metadata": {},
   "outputs": [],
   "source": [
    "#What if we want to stop execution entirely by calling an exception.\n",
    "class Appointment2:\n",
    "    min_appt_length = 0.5\n",
    "    max_appt_length = 2\n",
    "    \n",
    "    @staticmethod\n",
    "    def confirm_appt_length(appt_length):\n",
    "        if appt_length < Appointment.min_appt_length:\n",
    "            return False\n",
    "        if appt_length > Appointment.max_appt_length:\n",
    "            return False\n",
    "        return True\n",
    "        \n",
    "    def __init__(self, doctor, patient, appt_length):\n",
    "        self.doctor = doctor\n",
    "        self.patient = patient\n",
    "        if Appointment.confirm_appt_length(appt_length) == True:\n",
    "            self.appt_length = appt_length\n",
    "        else:\n",
    "            raise Exception('Invalid appointment length')\n",
    "            #self.appt_length = Appointment.min_appt_length"
   ]
  },
  {
   "cell_type": "code",
   "execution_count": 21,
   "metadata": {},
   "outputs": [],
   "source": [
    "new = Appointment2('Dr. Smith', 'Jason', 1) #a valid number"
   ]
  },
  {
   "cell_type": "code",
   "execution_count": 24,
   "metadata": {},
   "outputs": [
    {
     "name": "stdout",
     "output_type": "stream",
     "text": [
      "Invalid appointment length\n"
     ]
    }
   ],
   "source": [
    "try:\n",
    "    new2 = Appointment2('Dr. Wilson', 'James', 4) #it raises an exception\n",
    "except Exception as e:\n",
    "    print(e)"
   ]
  },
  {
   "cell_type": "code",
   "execution_count": 15,
   "metadata": {},
   "outputs": [],
   "source": [
    "#Now we will begin another use of static methods: saving your work. Let's say we \n",
    "#have an instance of a class saved in pickle. When we load the class during \n",
    "#execution, we don't have it, so we use a static method to call it into being.\n",
    "class Appointment2:\n",
    "    \n",
    "    min_appt_length = 0.5\n",
    "    max_appt_length = 2\n",
    "    \n",
    "    @staticmethod\n",
    "    def confirm_appt_length(appt_length):\n",
    "        if appt_length < Appointment.min_appt_length:\n",
    "            return False\n",
    "        if appt_length > Appointment.max_appt_length:\n",
    "            return False\n",
    "        return True\n",
    "        \n",
    "    def __init__(self, doctor, patient, appt_length):\n",
    "        self.doctor = doctor\n",
    "        self.patient = patient\n",
    "        if Appointment.confirm_appt_length(appt_length) == True:\n",
    "            self.appt_length = appt_length\n",
    "        else:\n",
    "            raise Exception('Invalid appointment length')"
   ]
  },
  {
   "cell_type": "code",
   "execution_count": 15,
   "metadata": {},
   "outputs": [],
   "source": []
  },
  {
   "cell_type": "code",
   "execution_count": 15,
   "metadata": {},
   "outputs": [],
   "source": []
  },
  {
   "cell_type": "code",
   "execution_count": 15,
   "metadata": {},
   "outputs": [],
   "source": [
    "#saving your data\n",
    "#let's create a simple dataclass, and have use a static method to load the data"
   ]
  },
  {
   "cell_type": "code",
   "execution_count": null,
   "metadata": {},
   "outputs": [],
   "source": []
  }
 ],
 "metadata": {
  "kernelspec": {
   "display_name": "Python 3",
   "language": "python",
   "name": "python3"
  },
  "language_info": {
   "codemirror_mode": {
    "name": "ipython",
    "version": 3
   },
   "file_extension": ".py",
   "mimetype": "text/x-python",
   "name": "python",
   "nbconvert_exporter": "python",
   "pygments_lexer": "ipython3",
   "version": "3.7.5"
  }
 },
 "nbformat": 4,
 "nbformat_minor": 4
}
