{
 "cells": [
  {
   "cell_type": "markdown",
   "metadata": {},
   "source": [
    "# Numpy\n",
    "\n",
    "This lesson will discuss the Numpy package, which does super-fast math in Python."
   ]
  },
  {
   "cell_type": "code",
   "execution_count": 1,
   "metadata": {},
   "outputs": [],
   "source": [
    "#import numpy package using the 'np' abbreviation\n",
    "import numpy as np"
   ]
  },
  {
   "cell_type": "markdown",
   "metadata": {},
   "source": [
    "Numpy does everything that our normal lists can do, and more. When we want to sort only a few values, we can use a standard python list. However, once we get to more values than that, a list can quickly become a performance bottleneck. Here's where we will discuss numpy arrays."
   ]
  },
  {
   "cell_type": "code",
   "execution_count": 2,
   "metadata": {},
   "outputs": [
    {
     "name": "stdout",
     "output_type": "stream",
     "text": [
      "a + b= [1, 2, 3, 4, 5, 6]\n"
     ]
    }
   ],
   "source": [
    "#Let's start with Python lists\n",
    "a=[1,2,3]\n",
    "b=[4,5,6]\n",
    "print('a + b=', a+b)"
   ]
  },
  {
   "cell_type": "code",
   "execution_count": 3,
   "metadata": {},
   "outputs": [
    {
     "name": "stdout",
     "output_type": "stream",
     "text": [
      "Lists cannot be multiplied in Python\n"
     ]
    }
   ],
   "source": [
    "#Here's where we run into a problem. Let's try to multiply the two lists\n",
    "\n",
    "try:\n",
    "    print(a*b)\n",
    "except TypeError:\n",
    "    print('Lists cannot be multiplied in Python')"
   ]
  },
  {
   "cell_type": "markdown",
   "metadata": {},
   "source": [
    "To multiply lists of values, we must use numpy, Python's library for numerical computing. You can use numpy for everything from arithmetic to highly complex math. Numpy can even be your calculator. "
   ]
  },
  {
   "cell_type": "markdown",
   "metadata": {},
   "source": [
    "<b>Performance: Lists vs. numpy arrays</b>"
   ]
  },
  {
   "cell_type": "code",
   "execution_count": 4,
   "metadata": {},
   "outputs": [],
   "source": [
    "#Numpy arrays are stored in memory in a much more efficient way than Python lists.\n",
    "#Let's compare them to see the respective advantages\n",
    "\n",
    "#create the objects\n",
    "import numpy as np\n",
    "my_array = np.arange(1000000)\n",
    "my_list = list(range(1000000))"
   ]
  },
  {
   "cell_type": "code",
   "execution_count": 5,
   "metadata": {},
   "outputs": [
    {
     "name": "stdout",
     "output_type": "stream",
     "text": [
      "CPU times: user 22.3 ms, sys: 11.2 ms, total: 33.5 ms\n",
      "Wall time: 42 ms\n"
     ]
    }
   ],
   "source": [
    "#%timeit\n",
    "#now let's compare the two\n",
    "%time for _ in range(10): my_array2 = my_array * 2"
   ]
  },
  {
   "cell_type": "code",
   "execution_count": 6,
   "metadata": {},
   "outputs": [
    {
     "name": "stdout",
     "output_type": "stream",
     "text": [
      "CPU times: user 660 ms, sys: 185 ms, total: 844 ms\n",
      "Wall time: 871 ms\n"
     ]
    }
   ],
   "source": [
    "%time for _ in range(10): my_list2 = [x*2 for x in my_list]"
   ]
  },
  {
   "cell_type": "code",
   "execution_count": 7,
   "metadata": {},
   "outputs": [],
   "source": [
    "#If we look at this, we can see that the numpy array is several times faster than lists. \n",
    "#This is why many scientific and data science applications use numpy when they can."
   ]
  },
  {
   "cell_type": "markdown",
   "metadata": {},
   "source": [
    "<b>Copying Arrays</b>\n",
    "\n",
    "We copy arrays with a special np.copy method."
   ]
  },
  {
   "cell_type": "code",
   "execution_count": 8,
   "metadata": {},
   "outputs": [],
   "source": [
    "array_1 = [2, 4, 6]"
   ]
  },
  {
   "cell_type": "code",
   "execution_count": 9,
   "metadata": {},
   "outputs": [],
   "source": [
    "array_2 = array_1.copy()"
   ]
  },
  {
   "cell_type": "code",
   "execution_count": 10,
   "metadata": {},
   "outputs": [
    {
     "name": "stdout",
     "output_type": "stream",
     "text": [
      "Array one is: [2, 4, 6]\n",
      "Array two is: [2, 4, 6]\n"
     ]
    }
   ],
   "source": [
    "print('Array one is:',array_1)\n",
    "print('Array two is:',array_2)"
   ]
  },
  {
   "cell_type": "code",
   "execution_count": 11,
   "metadata": {},
   "outputs": [
    {
     "name": "stdout",
     "output_type": "stream",
     "text": [
      "Array one is now: [3, 4, 6]\n",
      "Array two is now: [2, 4, 6]\n"
     ]
    }
   ],
   "source": [
    "#Let's change something in array one to show its a separate array\n",
    "array_1[0]=3\n",
    "print('Array one is now:', array_1)\n",
    "print('Array two is now:', array_2)"
   ]
  },
  {
   "cell_type": "code",
   "execution_count": 12,
   "metadata": {},
   "outputs": [],
   "source": [
    "#We copied them successfully, now let's look at an easy mistake to make"
   ]
  },
  {
   "cell_type": "markdown",
   "metadata": {},
   "source": [
    "<i>Warning: copying an array on its own will not work</i>"
   ]
  },
  {
   "cell_type": "code",
   "execution_count": 13,
   "metadata": {},
   "outputs": [],
   "source": [
    "#let's illustrate\n",
    "a = np.array([1,2,3])"
   ]
  },
  {
   "cell_type": "code",
   "execution_count": 14,
   "metadata": {},
   "outputs": [
    {
     "name": "stdout",
     "output_type": "stream",
     "text": [
      "a [1 2 3]\n",
      "b [1 2 3]\n"
     ]
    }
   ],
   "source": [
    "b = a\n",
    "print('a', a)\n",
    "print('b', b)"
   ]
  },
  {
   "cell_type": "markdown",
   "metadata": {},
   "source": [
    "Seems to work fine, but let's change something"
   ]
  },
  {
   "cell_type": "code",
   "execution_count": 15,
   "metadata": {},
   "outputs": [
    {
     "name": "stdout",
     "output_type": "stream",
     "text": [
      "Array a: [2 2 3]\n",
      "Array b: [2 2 3]\n",
      "It is the same array, we need to use the copy method\n"
     ]
    }
   ],
   "source": [
    "a[0] = 2\n",
    "print('Array a:', a)\n",
    "print('Array b:', b)\n",
    "print('It is the same array, we need to use the copy method')"
   ]
  },
  {
   "cell_type": "markdown",
   "metadata": {},
   "source": [
    "<b>Saving and loading arrays</b>\n",
    "\n",
    "Numpy comes with built-in save and load ability. We can save the arrays to disk and then load them again."
   ]
  },
  {
   "cell_type": "code",
   "execution_count": 16,
   "metadata": {},
   "outputs": [],
   "source": [
    "#let's get our directory\n",
    "import os\n",
    "os.getcwd()\n",
    "os.listdir()\n",
    "\n",
    "a = [1,2,3]\n",
    "\n",
    "#let's make a file:\n",
    "np.save('array_one.npy', a)"
   ]
  },
  {
   "cell_type": "code",
   "execution_count": 17,
   "metadata": {},
   "outputs": [
    {
     "name": "stdout",
     "output_type": "stream",
     "text": [
      "[1 2 3]\n"
     ]
    }
   ],
   "source": [
    "#let's load the file\n",
    "\n",
    "a1 = np.load('array_one.npy')\n",
    "print(a1)"
   ]
  },
  {
   "cell_type": "markdown",
   "metadata": {},
   "source": [
    "<b>Numpy array basics</b>"
   ]
  },
  {
   "cell_type": "code",
   "execution_count": 18,
   "metadata": {},
   "outputs": [],
   "source": [
    "#numpy has a basic object known as the array\n",
    "#here's an array with only one number\n",
    "a = np.array([1])\n",
    "b=np.array(2)"
   ]
  },
  {
   "cell_type": "code",
   "execution_count": 19,
   "metadata": {},
   "outputs": [
    {
     "name": "stdout",
     "output_type": "stream",
     "text": [
      "[1]\n",
      "2\n"
     ]
    },
    {
     "data": {
      "text/plain": [
       "array([2])"
      ]
     },
     "execution_count": 19,
     "metadata": {},
     "output_type": "execute_result"
    }
   ],
   "source": [
    "print(a)\n",
    "print(b)\n",
    "a*b"
   ]
  },
  {
   "cell_type": "code",
   "execution_count": 20,
   "metadata": {},
   "outputs": [
    {
     "name": "stdout",
     "output_type": "stream",
     "text": [
      "[1, 2, 3] is a <class 'list'>\n",
      "[1 2 3] is a <class 'numpy.ndarray'>\n"
     ]
    }
   ],
   "source": [
    "#More commonly, numpy arrays have only one type of value. We can initialize them with a Python list.\n",
    "array_1 = [1, 2, 3]\n",
    "a_1 = np.array(array_1)\n",
    "\n",
    "#this is the same as\n",
    "array_2 = np.array([4,5,6])\n",
    "print(array_1, 'is a', type(array_1))\n",
    "print(a_1, 'is a', type(array_2))"
   ]
  },
  {
   "cell_type": "markdown",
   "metadata": {},
   "source": [
    "We can add two numpy arrays together"
   ]
  },
  {
   "cell_type": "code",
   "execution_count": 21,
   "metadata": {},
   "outputs": [
    {
     "name": "stdout",
     "output_type": "stream",
     "text": [
      "ar1 [1 2 3] + ar2 [2 4 6] = [3 6 9]\n"
     ]
    }
   ],
   "source": [
    "ar1 = np.array([1,2,3])\n",
    "ar2 = np.array([2,4,6])\n",
    "ar3 = ar1+ar2\n",
    "print('ar1', ar1, '+', 'ar2', ar2, '=', ar3)"
   ]
  },
  {
   "cell_type": "code",
   "execution_count": 22,
   "metadata": {},
   "outputs": [
    {
     "name": "stdout",
     "output_type": "stream",
     "text": [
      "[-1 -2 -3]\n"
     ]
    }
   ],
   "source": [
    "#Let's subtract two numpy arrays:\n",
    "\n",
    "ar4 = ar1-ar2\n",
    "print(ar4)"
   ]
  },
  {
   "cell_type": "code",
   "execution_count": 23,
   "metadata": {},
   "outputs": [
    {
     "name": "stdout",
     "output_type": "stream",
     "text": [
      "[ 2  8 18]\n"
     ]
    }
   ],
   "source": [
    "#Let's multiply two arrays:\n",
    "ar5 = ar1*ar2\n",
    "print(ar5)"
   ]
  },
  {
   "cell_type": "code",
   "execution_count": 24,
   "metadata": {},
   "outputs": [
    {
     "name": "stdout",
     "output_type": "stream",
     "text": [
      "[0.5 0.5 0.5]\n"
     ]
    }
   ],
   "source": [
    "#Let's divide two arrays\n",
    "ar6 = ar1/ar2\n",
    "print(ar6)"
   ]
  },
  {
   "cell_type": "markdown",
   "metadata": {},
   "source": [
    "<i>Making arrays from functions</i>\n",
    "\n",
    "We can also use functions to make arrays. One example of this is the `range` function."
   ]
  },
  {
   "cell_type": "code",
   "execution_count": 25,
   "metadata": {},
   "outputs": [
    {
     "name": "stdout",
     "output_type": "stream",
     "text": [
      "[ 1  2  3  4  5  6  7  8  9 10]\n"
     ]
    }
   ],
   "source": [
    "c = np.array(range(1, 11)) #all the numbers from 1 to 11\n",
    "print(c)"
   ]
  },
  {
   "cell_type": "code",
   "execution_count": 26,
   "metadata": {},
   "outputs": [
    {
     "name": "stdout",
     "output_type": "stream",
     "text": [
      "[ 1  4  9 16 25 36 49 64 81]\n"
     ]
    }
   ],
   "source": [
    "a_squared= lambda x: x**2\n",
    "a_sq = np.array([a_squared(i) for i in range(1, 10)])\n",
    "print(a_sq)"
   ]
  },
  {
   "cell_type": "markdown",
   "metadata": {},
   "source": [
    "Numpy also offers the `arange` function to create arrays without using the `range` function."
   ]
  },
  {
   "cell_type": "code",
   "execution_count": 27,
   "metadata": {},
   "outputs": [
    {
     "name": "stdout",
     "output_type": "stream",
     "text": [
      "[ 0  1  2  3  4  5  6  7  8  9 10]\n",
      "[ 0  1  2  3  4  5  6  7  8  9 10 11 12 13 14 15 16 17 18 19 20]\n",
      "Notice how we specify 21 as the end point to have it end at 20\n"
     ]
    }
   ],
   "source": [
    "print(np.arange(11))\n",
    "\n",
    "c = np.arange(21)\n",
    "print(c, 'Notice how we specify 21 as the end point to have it end at 20', sep='\\n')"
   ]
  },
  {
   "cell_type": "code",
   "execution_count": 28,
   "metadata": {},
   "outputs": [
    {
     "name": "stdout",
     "output_type": "stream",
     "text": [
      "[ 1.  2.  3.  4.  5.  6.  7.  8.  9. 10.]\n"
     ]
    }
   ],
   "source": [
    "#We can also use the np.linspace function to create an evenly spaced array of numbers\n",
    "print(np.linspace(1, 10, 10)) #creates an array with numbers from 1 to 10"
   ]
  },
  {
   "cell_type": "code",
   "execution_count": 29,
   "metadata": {},
   "outputs": [
    {
     "name": "stdout",
     "output_type": "stream",
     "text": [
      "[ 1.    3.25  5.5   7.75 10.  ]\n"
     ]
    }
   ],
   "source": [
    "#The advantage of np.linspace is that it lets us create arrays with different quantities of numbers\n",
    "#let's get an array of five numbers between 1 and 10\n",
    "print(np.linspace(1, 10,5)) #These numbers are all evenly spaced"
   ]
  },
  {
   "cell_type": "code",
   "execution_count": 30,
   "metadata": {},
   "outputs": [
    {
     "name": "stdout",
     "output_type": "stream",
     "text": [
      "[ 1.          3.11111111  5.22222222  7.33333333  9.44444444 11.55555556\n",
      " 13.66666667 15.77777778 17.88888889 20.        ]\n"
     ]
    }
   ],
   "source": [
    "#or 10 numbers between 1 and 20\n",
    "print(np.linspace(1, 20, 10))"
   ]
  },
  {
   "cell_type": "code",
   "execution_count": 34,
   "metadata": {},
   "outputs": [
    {
     "name": "stdout",
     "output_type": "stream",
     "text": [
      "[1. 2. 3. 4.]\n",
      "[ 1.  2.  3.  4.  5.  6.  7.  8.  9. 10.]\n"
     ]
    }
   ],
   "source": [
    "#we can also use the linspace function to create an array between 1 and 4:\n",
    "a = np.linspace(1, 4, 4)\n",
    "print(a)\n",
    "#or 1 and 10:\n",
    "b = np.linspace(1, 10, 10)\n",
    "print(b)"
   ]
  },
  {
   "cell_type": "code",
   "execution_count": 32,
   "metadata": {},
   "outputs": [
    {
     "name": "stdout",
     "output_type": "stream",
     "text": [
      "This: 81\n",
      "does the same thing as this: 81\n",
      "Minimum: 1\n",
      "Also the minimum:  1\n"
     ]
    }
   ],
   "source": [
    "#Let's get the maximum and minimum values\n",
    "print('This:', np.max(a_sq))\n",
    "print('does the same thing as this:', a_sq.max())\n",
    "#\n",
    "print('Minimum:', np.min(a_sq))\n",
    "print('Also the minimum: ', a_sq.min())"
   ]
  },
  {
   "cell_type": "code",
   "execution_count": 33,
   "metadata": {},
   "outputs": [
    {
     "name": "stdout",
     "output_type": "stream",
     "text": [
      "int64\n"
     ]
    }
   ],
   "source": [
    "#Let's get the type of the array\n",
    "print(a_sq.dtype)\n",
    "#np.dtype(a_sq)"
   ]
  },
  {
   "cell_type": "code",
   "execution_count": 30,
   "metadata": {},
   "outputs": [
    {
     "name": "stdout",
     "output_type": "stream",
     "text": [
      "Array [1, 2, 3] dtype: int64\n",
      "[1 2 3 4]\n",
      "[1. 2. 3. 4.]\n",
      "[1. 2. 3. 4.]\n",
      "[1.  2.4 3. ]\n",
      "float64\n"
     ]
    }
   ],
   "source": [
    "#So the basic dtype of an array is int64, which is a 64 bit integer. For smaller\n",
    "#values we can use types taking less memory.\n",
    "\n",
    "#default value is 64 bit integer\n",
    "a = [1,2,3]\n",
    "a_arr = np.array(a)\n",
    "print('Array', a, 'dtype:', a_arr.dtype)\n",
    "\n",
    "#Let's create an array with a specific datatype:\n",
    "d = [1,2,3,4]\n",
    "d_arr = np.array(d, dtype='int32') #32 bit integer datatype\n",
    "print(d_arr)\n",
    "\n",
    "d_fl_arr = np.array(d, dtype='float32') #32 bit float datatype\n",
    "print(d_fl_arr)\n",
    "\n",
    "d_fl64_arr = np.array(d, dtype='float64') #64 bit float datatype\n",
    "print(d_fl_arr)\n",
    "\n",
    "#Let's make one with mixed datatypes, we'll find that ints and floats result\n",
    "#in an array of floats:\n",
    "\n",
    "#Now let's make an array with integers and floats and see what happens\n",
    "b=np.array([1, 2.4, 3])\n",
    "print(b)\n",
    "print(b.dtype)\n",
    "#So the type has been made into \"float\" becuase it includes integers and floats"
   ]
  },
  {
   "cell_type": "markdown",
   "metadata": {},
   "source": [
    "<b>Nested Arrays</b>\n",
    "\n",
    "We can nest arrays inside one another to create matrices. To create a 3x3 matrix, we simply create an array consisting of three 1x3 subarrays."
   ]
  },
  {
   "cell_type": "code",
   "execution_count": 31,
   "metadata": {},
   "outputs": [
    {
     "name": "stdout",
     "output_type": "stream",
     "text": [
      "[[1 2 3]\n",
      " [4 5 6]\n",
      " [7 8 9]]\n"
     ]
    }
   ],
   "source": [
    "data = [[1,2,3], [4,5,6], [7,8,9]]\n",
    "data_array = np.array(data)\n",
    "print(data_array)"
   ]
  },
  {
   "cell_type": "code",
   "execution_count": 32,
   "metadata": {},
   "outputs": [
    {
     "name": "stdout",
     "output_type": "stream",
     "text": [
      "[[1 2]\n",
      " [3 4]]\n"
     ]
    }
   ],
   "source": [
    "#we can do the same thing with lists of any length:\n",
    "b=[[1,2],[3,4]]\n",
    "b_array=np.array(b)\n",
    "print(b_array)"
   ]
  },
  {
   "cell_type": "code",
   "execution_count": 33,
   "metadata": {},
   "outputs": [
    {
     "name": "stdout",
     "output_type": "stream",
     "text": [
      "[1 list([2, 3])]\n"
     ]
    }
   ],
   "source": [
    "#or even different lengths\n",
    "a=[1, [2,3]]\n",
    "a_array = np.array(a)\n",
    "print(a_array)"
   ]
  },
  {
   "cell_type": "markdown",
   "metadata": {},
   "source": [
    "<b>Special types of arrays</b>\n",
    "\n",
    "Numpy provides us with the ability to create several types of arrays automatically. Sometimes we don't know the contents of an array when we create it."
   ]
  },
  {
   "cell_type": "code",
   "execution_count": 34,
   "metadata": {},
   "outputs": [
    {
     "name": "stdout",
     "output_type": "stream",
     "text": [
      "[[2.00000000e+000 1.29074474e-231]\n",
      " [6.95034959e-310 3.47637728e-309]]\n",
      "[[ 2.00000000e+000 -2.32036296e+077  1.48219694e-323]\n",
      " [ 0.00000000e+000  0.00000000e+000  4.17201348e-309]]\n"
     ]
    }
   ],
   "source": [
    "#We can make an empty array, which will usually have whatever data was in the \n",
    "#memory before we created it\n",
    "\n",
    "a1 = np.empty((2,2))\n",
    "a2 = np.empty((2,3))\n",
    "print(a1)\n",
    "print(a2)\n",
    "\n",
    "#The numbers below are whatever was in the memory when the array was created."
   ]
  },
  {
   "cell_type": "code",
   "execution_count": 35,
   "metadata": {},
   "outputs": [
    {
     "name": "stdout",
     "output_type": "stream",
     "text": [
      "[0.]\n",
      "[0. 0.]\n",
      "array a [[1 2 3]\n",
      " [4 5 6]\n",
      " [7 8 9]]\n",
      "an array with all zeros with the same shape as a [[0 0 0]\n",
      " [0 0 0]\n",
      " [0 0 0]]\n"
     ]
    }
   ],
   "source": [
    "#We can make an array with all zeros:\n",
    "\n",
    "one_by_one_zeros = np.zeros(1)\n",
    "one_by_two_zeros = np.zeros(2)\n",
    "print(one_by_one_zeros)\n",
    "print(one_by_two_zeros)\n",
    "\n",
    "#We can also use an existing format:\n",
    "a=[[1,2,3],[4,5,6], [7,8,9]]\n",
    "a=np.array(a)\n",
    "print('array a', a)\n",
    "a_zeros = np.zeros_like(a)\n",
    "print('an array with all zeros with the same shape as a', a_zeros)"
   ]
  },
  {
   "cell_type": "code",
   "execution_count": 36,
   "metadata": {},
   "outputs": [
    {
     "name": "stdout",
     "output_type": "stream",
     "text": [
      "[1. 1. 1.]\n"
     ]
    }
   ],
   "source": [
    "#We can also make an array with all ones:\n",
    "\n",
    "#make a single row numpy array\n",
    "one_by_three_ones = np.ones(3)\n",
    "print(one_by_three_ones)"
   ]
  },
  {
   "cell_type": "code",
   "execution_count": 37,
   "metadata": {},
   "outputs": [
    {
     "name": "stdout",
     "output_type": "stream",
     "text": [
      "two by three array with all ones [[1. 1. 1.]\n",
      " [1. 1. 1.]]\n",
      "array d\n",
      "[[1 2 3]\n",
      " [4 5 6]\n",
      " [7 8 9]]\n",
      "An array of ones with the same shape as d [[1 1 1]\n",
      " [1 1 1]\n",
      " [1 1 1]]\n",
      "We used the  [1 1]\n"
     ]
    }
   ],
   "source": [
    "two_by_three_ones = np.ones((2, 3))\n",
    "print('two by three array with all ones', two_by_three_ones)\n",
    "three_by_three_ones = np.ones((3,3))\n",
    "\n",
    "#We can also use the shape of an existing array, like we did with zeros\n",
    "d=[[1,2,3],[4,5,6], [7,8,9]]\n",
    "print('array d')\n",
    "d=np.array(d)\n",
    "print(d)\n",
    "d_ones = np.ones_like(d)\n",
    "print('An array of ones with the same shape as d', d_ones)\n",
    "\n",
    "#We can also pass a tuple and it will copy the size. Be careful with this \n",
    "#as it copies the size of the tuple, not its values.\n",
    "arr_size = (2, 3)\n",
    "e = np.ones_like(arr_size)\n",
    "print('We used the ',e)"
   ]
  },
  {
   "cell_type": "markdown",
   "metadata": {},
   "source": [
    "We can also create arrays that use any other number using `np.full`"
   ]
  },
  {
   "cell_type": "code",
   "execution_count": 38,
   "metadata": {},
   "outputs": [
    {
     "name": "stdout",
     "output_type": "stream",
     "text": [
      "This array has all 99s\n",
      "[[99 99 99]\n",
      " [99 99 99]\n",
      " [99 99 99]]\n",
      "This array has all 4s [4 4]\n"
     ]
    }
   ],
   "source": [
    "#We pass in the dimensions as a tuple, and the value as an integer\n",
    "full_99s = np.full((3,3), 99)\n",
    "print('This array has all 99s', full_99s, sep='\\n')\n",
    "\n",
    "full_fours = np.full_like((3,4), fill_value=4)\n",
    "print('This array has all 4s', full_fours)"
   ]
  },
  {
   "cell_type": "markdown",
   "metadata": {},
   "source": [
    "There is one more type of array we need to create: the identity array. This type of array has a 1 going diagonally across it. We use `np.eye()` to create this array."
   ]
  },
  {
   "cell_type": "code",
   "execution_count": 45,
   "metadata": {},
   "outputs": [
    {
     "name": "stdout",
     "output_type": "stream",
     "text": [
      "two by two identity matrix\n",
      "[[1. 0.]\n",
      " [0. 1.]]\n",
      "four by four identity matrix\n",
      "[[1. 0. 0. 0.]\n",
      " [0. 1. 0. 0.]\n",
      " [0. 0. 1. 0.]\n",
      " [0. 0. 0. 1.]]\n"
     ]
    }
   ],
   "source": [
    "two_by_two_eye = np.eye(2)\n",
    "print('two by two identity matrix', two_by_two_eye, sep='\\n')\n",
    "#This we only need to enter one number because the eye matrix is square\n",
    "four_by_four = np.eye(4)\n",
    "print('four by four identity matrix', four_by_four, sep='\\n')"
   ]
  },
  {
   "cell_type": "code",
   "execution_count": 53,
   "metadata": {},
   "outputs": [
    {
     "name": "stdout",
     "output_type": "stream",
     "text": [
      "Multiply a times the two by two identity matrix\n",
      "[[1. 2.]\n",
      " [3. 4.]]\n"
     ]
    }
   ],
   "source": [
    "#Note: when we multiply a matrix times the identiy matrix we get the same matrix\n",
    "a = np.array([[1,2], [3,4]])\n",
    "print('Multiply a times the two by two identity matrix', a.dot(two_by_two_eye), sep='\\n')"
   ]
  },
  {
   "cell_type": "code",
   "execution_count": null,
   "metadata": {},
   "outputs": [],
   "source": []
  },
  {
   "cell_type": "code",
   "execution_count": null,
   "metadata": {},
   "outputs": [],
   "source": []
  },
  {
   "cell_type": "markdown",
   "metadata": {},
   "source": [
    "<b>Array datatypes</b>"
   ]
  },
  {
   "cell_type": "code",
   "execution_count": 113,
   "metadata": {},
   "outputs": [
    {
     "name": "stdout",
     "output_type": "stream",
     "text": [
      "[1 2 3]\n",
      "int64\n",
      "[1. 2. 3.]\n",
      "float64\n",
      "Array b in float32: [0. 2. 3.]\n",
      "Array b in float32 dtype float32\n"
     ]
    }
   ],
   "source": [
    "#Each array consists of only one datatype: we can choose these datatypes when we create \n",
    "#the array:\n",
    "\n",
    "a=np.array([1,2,3])\n",
    "#Let's get the type\n",
    "print(a)\n",
    "print(a.dtype)\n",
    "\n",
    "b = np.array([1,2,3], dtype='float64') #defaults to float64\n",
    "print(b)\n",
    "print(b.dtype)\n",
    "\n",
    "#this is somewhat advanced, but if we want to limit the size of the memory \n",
    "#consumed we can use a smaller type \n",
    "\n",
    "b_float32 = np.array([0,2,3], dtype='float32')\n",
    "print('Array b in float32:',b_float32)\n",
    "print('Array b in float32 dtype', b_float32.dtype)\n",
    "\n",
    "#Note that float32 is not always going to be able to display the biggest numbers"
   ]
  },
  {
   "cell_type": "markdown",
   "metadata": {},
   "source": [
    "<i>Datatypes for creating special array types</i>\n",
    "\n",
    "Sometimes we may need to create special arrays with a certain datatype. These might include an array of ones that is made up of floats, for example. We can choose the datatype by specifying it when we create the array."
   ]
  },
  {
   "cell_type": "code",
   "execution_count": 59,
   "metadata": {},
   "outputs": [
    {
     "name": "stdout",
     "output_type": "stream",
     "text": [
      "[0 0 0]\n",
      "[0. 0. 0.]\n"
     ]
    }
   ],
   "source": [
    "#Array of zeros made of integers\n",
    "zeros_ints = np.zeros(3, dtype='int64')\n",
    "print(zeros_ints)\n",
    "\n",
    "#Array of zeros made of floats\n",
    "floats_ints = np.zeros(3, dtype='float64')\n",
    "print(floats_ints)"
   ]
  },
  {
   "cell_type": "code",
   "execution_count": null,
   "metadata": {},
   "outputs": [],
   "source": []
  },
  {
   "cell_type": "markdown",
   "metadata": {},
   "source": [
    "<b>Multidimensional arrays</b>"
   ]
  },
  {
   "cell_type": "markdown",
   "metadata": {},
   "source": [
    "We can nest arrays inside one another to create matrices. To create a 3x3 matrix, we simply create an array consisting of three 1x3 subarrays."
   ]
  },
  {
   "cell_type": "code",
   "execution_count": 57,
   "metadata": {},
   "outputs": [],
   "source": [
    "#We can create a matrix with nested lists in numpy\n",
    "data = [[1,2,3], [4,5,6], [7,8,9]]\n",
    "data_array = np.array(data)"
   ]
  },
  {
   "cell_type": "code",
   "execution_count": 58,
   "metadata": {},
   "outputs": [
    {
     "name": "stdout",
     "output_type": "stream",
     "text": [
      "[[1 2 3]\n",
      " [4 5 6]\n",
      " [7 8 9]]\n"
     ]
    }
   ],
   "source": [
    "#Let's print out our array and get some information about it\n",
    "print(data_array)"
   ]
  },
  {
   "cell_type": "code",
   "execution_count": 59,
   "metadata": {},
   "outputs": [],
   "source": [
    "#Let's access the individual elements:\n",
    "#The first row:\n",
    "print('The first row is: ', data_array[0])\n",
    "print('The second row is: ', data_array[1])\n",
    "print('The third row is: ', data_array[2])"
   ]
  },
  {
   "cell_type": "code",
   "execution_count": 92,
   "metadata": {},
   "outputs": [],
   "source": [
    "#let's get the number of dimensions in data_array\n",
    "data_array.ndim\n",
    "#The number of dimensions in an array is also called the array's rank\n",
    "print('The rank of the array is', data_array.ndim)"
   ]
  },
  {
   "cell_type": "code",
   "execution_count": 96,
   "metadata": {},
   "outputs": [],
   "source": [
    "#We can also go to arrays with more than two dimensions by nesting lists to\n",
    "#create them\n",
    "\n",
    "three_dim_list = [[[2,3],[1,3]],[[3,2], [8, 1]]]\n",
    "result = np.array(three_dim_list)\n",
    "print(result)\n",
    "print('The rank of the array is', result.ndim)"
   ]
  },
  {
   "cell_type": "code",
   "execution_count": 154,
   "metadata": {},
   "outputs": [
    {
     "name": "stdout",
     "output_type": "stream",
     "text": [
      "The first subarray [[2 3]\n",
      " [1 3]]\n",
      "The first row of the first subarray [2 3]\n",
      "The first element in the first row 2\n",
      "The second element in the first row of subarray 3:  8\n"
     ]
    }
   ],
   "source": [
    "#We access these arrays via the index\n",
    "print('The first subarray', result[0])\n",
    "print('The first row of the first subarray', result[0,0])\n",
    "print('The first element in the first row', result[0,0,0])\n",
    "\n",
    "#likewise\n",
    "print('The second element in the first row of subarray 3: ', result[1,1,0])"
   ]
  },
  {
   "cell_type": "markdown",
   "metadata": {},
   "source": [
    "<b>Slicing Arrays</b>"
   ]
  },
  {
   "cell_type": "code",
   "execution_count": 60,
   "metadata": {},
   "outputs": [
    {
     "name": "stdout",
     "output_type": "stream",
     "text": [
      "The first row is:  [1 2 3]\n",
      "The first element of the first row is:  1\n",
      "The second element of the first row is:  2\n",
      "The third element of the first row is:  3\n",
      "The second row is: [4 5 6]\n",
      "The second element of the third row is:  9\n",
      "The last element of the first row is: 3\n",
      "The last row is: [7 8 9]\n"
     ]
    }
   ],
   "source": [
    "#Let's access the elements within each row. It's indexed like a tuple. We start with the \n",
    "#outermost part of the array and move inwards.\n",
    "\n",
    "#get the first row (as above):\n",
    "\n",
    "data2 = [[1,2,3], [4,5,6], [7,8,9]]\n",
    "data_array2 = np.array(data2)\n",
    "print('The first row is: ', data_array2[0])\n",
    "print('The first element of the first row is: ', data_array2[0, 0])\n",
    "print('The second element of the first row is: ', data_array2[0, 1])\n",
    "print('The third element of the first row is: ', data_array2[0, 2])\n",
    "#Likewise, we access the second row of the matrix with\n",
    "print('The second row is:', data_array2[1])\n",
    "#get the second element of the third row\n",
    "print('The second element of the third row is: ', data_array2[2,2])\n",
    "#We can also index the elements from the end:\n",
    "print('The last element of the first row is:', data_array2[0, -1])\n",
    "print('The last row is:', data_array[-1])"
   ]
  },
  {
   "cell_type": "code",
   "execution_count": 61,
   "metadata": {},
   "outputs": [
    {
     "name": "stdout",
     "output_type": "stream",
     "text": [
      "[[1 2 3]\n",
      " [4 5 6]\n",
      " [7 8 9]]\n"
     ]
    },
    {
     "data": {
      "text/plain": [
       "array([2, 5, 8])"
      ]
     },
     "execution_count": 61,
     "metadata": {},
     "output_type": "execute_result"
    }
   ],
   "source": [
    "#Accessing elements by column\n",
    "#make a list with list comprehension\n",
    "a = [[i for i in range(1, 4)],[i for i in range(4, 7)],[i for i in range(7, 10)]]\n",
    "#make it into an array\n",
    "a = np.array(a)\n",
    "print(a)\n",
    "#The first column only\n",
    "a[:,0]\n",
    "#to second column only\n",
    "a[:,1]"
   ]
  },
  {
   "cell_type": "code",
   "execution_count": 89,
   "metadata": {},
   "outputs": [
    {
     "name": "stdout",
     "output_type": "stream",
     "text": [
      "[[1 2 3]\n",
      " [4 5 6]\n",
      " [7 8 9]]\n",
      "Top left value in  1\n",
      "The array has a new top left value [[2 2 3]\n",
      " [4 5 6]\n",
      " [7 8 9]]\n",
      "The first column of a1 [2 4 7]\n",
      "[[1 2 3]\n",
      " [3 5 6]\n",
      " [4 8 9]]\n"
     ]
    }
   ],
   "source": [
    "#Changing elements of an array:\n",
    "#We can change array elements in the same manner we use to set them\n",
    "a1 = [[i for i in range(1, 4)],[i for i in range(4, 7)],[i for i in range(7, 10)]]\n",
    "a1 = np.array(a1)\n",
    "print(a1)\n",
    "#get the value of the top left element in a1:\n",
    "print('Top left value in ',a1[0,0])\n",
    "#change the value of the top left element to 2:\n",
    "a1[0,0] = 2\n",
    "print('The array has a new top left value', a1)\n",
    "#replacing a column:\n",
    "print('The first column of a1',a1[:,0])\n",
    "a1[:,0] = [1,3,4]\n",
    "print(a1)"
   ]
  },
  {
   "cell_type": "markdown",
   "metadata": {},
   "source": [
    "<b>Basic math operations on arrays</b>\n",
    "\n",
    "Let's say that we have two arrays, and we want to add them together.\n",
    "Let's start with two arrays that were selected randomly."
   ]
  },
  {
   "cell_type": "code",
   "execution_count": 164,
   "metadata": {},
   "outputs": [
    {
     "name": "stdout",
     "output_type": "stream",
     "text": [
      "[[-1  1  1]\n",
      " [ 1 -2 -1]\n",
      " [-1  0 -1]]\n",
      "[[ 0  0  3]\n",
      " [-2  2  2]\n",
      " [-1  3  3]]\n"
     ]
    }
   ],
   "source": [
    "#We can get random numbers using numpy. Let's get random integers with numpy's\n",
    "#random.randint function\n",
    "random_3_3 = np.random.randint(-2,2, size=(3,3))\n",
    "print(random_3_3)\n",
    "#Let's make another array of the same dimensions:\n",
    "random2 = np.random.randint(-2, 4, size=(3, 3))\n",
    "print(random2)"
   ]
  },
  {
   "cell_type": "markdown",
   "metadata": {},
   "source": [
    "We don't need to know how to do matrix multiplication for this lesson, but we do know that we don't multiply matrices element by element. Instead we multiple each row by each column.\n",
    "\n",
    "<i>The following usually doesn't work.</i>"
   ]
  },
  {
   "cell_type": "code",
   "execution_count": 167,
   "metadata": {},
   "outputs": [
    {
     "name": "stdout",
     "output_type": "stream",
     "text": [
      "Multiply each element by its corresponding element\n",
      "[[ 0  0  3]\n",
      " [-2 -4 -2]\n",
      " [ 1  0 -3]]\n"
     ]
    }
   ],
   "source": [
    "print('Multiply each element by its corresponding element')\n",
    "print(random_3_3*random2)"
   ]
  },
  {
   "cell_type": "markdown",
   "metadata": {},
   "source": [
    "In order to actually multiply two arrays properly, we use the `np.dot` method."
   ]
  },
  {
   "cell_type": "code",
   "execution_count": 169,
   "metadata": {},
   "outputs": [
    {
     "name": "stdout",
     "output_type": "stream",
     "text": [
      "Proper matrix multiplication\n",
      "[[-3  5  2]\n",
      " [ 5 -7 -4]\n",
      " [ 1 -3 -6]]\n"
     ]
    }
   ],
   "source": [
    "print('Proper matrix multiplication')\n",
    "print(random_3_3.dot(random2))"
   ]
  },
  {
   "cell_type": "markdown",
   "metadata": {},
   "source": [
    "<b>Array oriented programming</b>\n",
    "\n",
    "With numpy arrays, we can apply normal math functions across the entire array."
   ]
  },
  {
   "cell_type": "code",
   "execution_count": null,
   "metadata": {},
   "outputs": [],
   "source": []
  },
  {
   "cell_type": "code",
   "execution_count": null,
   "metadata": {},
   "outputs": [],
   "source": []
  },
  {
   "cell_type": "code",
   "execution_count": null,
   "metadata": {},
   "outputs": [],
   "source": []
  },
  {
   "cell_type": "markdown",
   "metadata": {},
   "source": [
    "<b>Manipulating array sizes</b>\n",
    "\n",
    "We can change the shape of arrays with numpy"
   ]
  },
  {
   "cell_type": "code",
   "execution_count": 49,
   "metadata": {},
   "outputs": [
    {
     "name": "stdout",
     "output_type": "stream",
     "text": [
      "[[1 2]\n",
      " [3 4]]\n"
     ]
    }
   ],
   "source": [
    "a = np.array(((1,2), (3,4)))\n",
    "print(a)"
   ]
  },
  {
   "cell_type": "code",
   "execution_count": 50,
   "metadata": {},
   "outputs": [
    {
     "name": "stdout",
     "output_type": "stream",
     "text": [
      "The shape of array a is: (2, 2)\n"
     ]
    }
   ],
   "source": [
    "#Let's get the shape of a\n",
    "print('The shape of array a is:', a.shape)"
   ]
  },
  {
   "cell_type": "code",
   "execution_count": 51,
   "metadata": {},
   "outputs": [
    {
     "name": "stdout",
     "output_type": "stream",
     "text": [
      "[1 2 3 4]\n",
      "[[3 4]\n",
      " [3 4]]\n"
     ]
    }
   ],
   "source": [
    "#Now let's make array a into a one-dimensional array with all the elements in the same row\n",
    "a_flat = a.flatten()\n",
    "print(a_flat)\n",
    "#Flatten creates a new copy of an array, so we can use it even if we change the original array\n",
    "a[0] = ([3,4])\n",
    "print(a)"
   ]
  },
  {
   "cell_type": "code",
   "execution_count": 52,
   "metadata": {},
   "outputs": [],
   "source": [
    "#If we don't want to change the array, and we just want to view what it would look like flattened, we can use\n",
    "#the \"ravel\" method, like as in \"unravel\"\n",
    "a_view = a.ravel()"
   ]
  },
  {
   "cell_type": "code",
   "execution_count": 53,
   "metadata": {},
   "outputs": [
    {
     "name": "stdout",
     "output_type": "stream",
     "text": [
      "The original array b [[3 4]\n",
      " [3 4]]\n",
      "The flattened view of the array [3 4 3 4]\n",
      "ravel() does not change the original array: [[3 4]\n",
      " [3 4]]\n"
     ]
    }
   ],
   "source": [
    "#Let's look at ravel some more. We will create a new array and then use ravel\n",
    "b = a.copy()\n",
    "print('The original array b',b)\n",
    "print('The flattened view of the array' , b.ravel())\n",
    "print('ravel() does not change the original array:', b)"
   ]
  },
  {
   "cell_type": "markdown",
   "metadata": {},
   "source": [
    "Remember the difference between flatten and ravel. Flatten returns a new flat array with the same elements, while ravel returns merely a view of the existing array.\n",
    "\n",
    "If we change the original array, then we've also changed the view."
   ]
  },
  {
   "cell_type": "code",
   "execution_count": 90,
   "metadata": {},
   "outputs": [
    {
     "name": "stdout",
     "output_type": "stream",
     "text": [
      "[[1 2 3]\n",
      " [4 5 6]\n",
      " [7 8 9]]\n"
     ]
    }
   ],
   "source": [
    "#let's make a new array we'll call original\n",
    "original = np.array([[1,2,3],[4,5,6],[7,8,9]])\n",
    "print(original)"
   ]
  },
  {
   "cell_type": "code",
   "execution_count": 91,
   "metadata": {},
   "outputs": [
    {
     "name": "stdout",
     "output_type": "stream",
     "text": [
      "[1 2 3 4 5 6 7 8 9]\n"
     ]
    }
   ],
   "source": [
    "#now we'll make a duplicate with flatten\n",
    "flat_original = original.flatten()\n",
    "print(flat_original)"
   ]
  },
  {
   "cell_type": "code",
   "execution_count": 92,
   "metadata": {},
   "outputs": [
    {
     "name": "stdout",
     "output_type": "stream",
     "text": [
      "We have called ravel: [1 2 3 4 5 6 7 8 9]\n"
     ]
    }
   ],
   "source": [
    "#Now we'll use ravel to create a view\n",
    "ravelled_original = original.ravel()\n",
    "print('We have called ravel:' ,ravelled_original)"
   ]
  },
  {
   "cell_type": "code",
   "execution_count": 93,
   "metadata": {},
   "outputs": [
    {
     "name": "stdout",
     "output_type": "stream",
     "text": [
      "[[4 5 6]\n",
      " [1 2 3]\n",
      " [7 8 9]]\n",
      "The ravelled version has changed [4 5 6 1 2 3 7 8 9]\n",
      "But the flattened version has not [1 2 3 4 5 6 7 8 9]\n",
      "[[3 4]\n",
      " [3 4]]\n"
     ]
    }
   ],
   "source": [
    "#now we'll manually swap two of the rows in the original.\n",
    "\n",
    "original[1]=[1,2,3] #replace the second row with the first row\n",
    "original[0]=[4,5,6] #replace the first row with the second row\n",
    "\n",
    "#print the original again\n",
    "print(original)\n",
    "print('The ravelled version has changed', ravelled_original)\n",
    "print('But the flattened version has not', flat_original)\n",
    "\n",
    "#print('but when we use flatten()', b.flatten())\n",
    "print(b)"
   ]
  },
  {
   "cell_type": "markdown",
   "metadata": {},
   "source": [
    "<b>Reshaping Numpy Arrays</b>\n",
    "\n",
    "We can change the shape of numpy arrays. When we make an array, we can use a sequence on one row, then reshape it into multiple rows."
   ]
  },
  {
   "cell_type": "code",
   "execution_count": 11,
   "metadata": {},
   "outputs": [
    {
     "name": "stdout",
     "output_type": "stream",
     "text": [
      "Before any changes: [1. 2. 3. 4. 5. 6. 7. 8. 9.]\n",
      "After reshaping to 3x3:\n",
      "[[1. 2. 3.]\n",
      " [4. 5. 6.]\n",
      " [7. 8. 9.]]\n"
     ]
    }
   ],
   "source": [
    "new = np.linspace(1,9,9)\n",
    "print('Before any changes:', new)\n",
    "#let's call the reshape method on it\n",
    "new.resize(3,3)\n",
    "print('After reshaping to 3x3:', new, sep='\\n')"
   ]
  },
  {
   "cell_type": "code",
   "execution_count": null,
   "metadata": {},
   "outputs": [],
   "source": []
  }
 ],
 "metadata": {
  "kernelspec": {
   "display_name": "Python 3",
   "language": "python",
   "name": "python3"
  },
  "language_info": {
   "codemirror_mode": {
    "name": "ipython",
    "version": 3
   },
   "file_extension": ".py",
   "mimetype": "text/x-python",
   "name": "python",
   "nbconvert_exporter": "python",
   "pygments_lexer": "ipython3",
   "version": "3.8.2"
  }
 },
 "nbformat": 4,
 "nbformat_minor": 4
}
