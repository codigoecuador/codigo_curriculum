{
 "cells": [
  {
   "cell_type": "markdown",
   "metadata": {},
   "source": [
    "Optional Module: More JSON\n",
    "\n",
    "In this module let's work with JSON files. JSON stands for \"JavaScript Object Notation.\" You don't need to know Javascript to use it, and it works nearly perfectly with Python's dictionaries.\n",
    "\n",
    "This lesson is completely optional, but its cool. We will take the results from an API call, then transform them into another dictionary, and then save it."
   ]
  },
  {
   "cell_type": "code",
   "execution_count": 1,
   "metadata": {},
   "outputs": [],
   "source": [
    "#Let's import the json module and the requests library"
   ]
  },
  {
   "cell_type": "code",
   "execution_count": 2,
   "metadata": {},
   "outputs": [],
   "source": [
    "import json\n",
    "import requests"
   ]
  },
  {
   "cell_type": "code",
   "execution_count": 3,
   "metadata": {},
   "outputs": [],
   "source": [
    "#Let's get data from the USDA farmer's market database\n",
    "url = requests.get('http://search.ams.usda.gov/farmersmarkets/v1/data.svc/zipSearch?zip=22308')"
   ]
  },
  {
   "cell_type": "code",
   "execution_count": 4,
   "metadata": {},
   "outputs": [
    {
     "name": "stdout",
     "output_type": "stream",
     "text": [
      "<Response [200]>\n"
     ]
    }
   ],
   "source": [
    "print(url)"
   ]
  },
  {
   "cell_type": "code",
   "execution_count": 5,
   "metadata": {},
   "outputs": [],
   "source": [
    "#We just sent a message to the USDA API, and we are going to collect the result of the inquiry here"
   ]
  },
  {
   "cell_type": "code",
   "execution_count": 6,
   "metadata": {},
   "outputs": [],
   "source": [
    "results = url.json()"
   ]
  },
  {
   "cell_type": "code",
   "execution_count": 7,
   "metadata": {},
   "outputs": [
    {
     "name": "stdout",
     "output_type": "stream",
     "text": [
      "{'results': [{'id': '1012574', 'marketname': '1.4 McCutcheon/Mount Vernon Farmers Market '}, {'id': '1000184', 'marketname': '3.3 Freedom Farmers Market'}, {'id': '1012072', 'marketname': '4.4 Smart Markets Huntington'}, {'id': '1018264', 'marketname': '5.2 Kingstowne Farmers Market'}, {'id': '1011182', 'marketname': \"5.3 King Street Station Farmers' Market\"}, {'id': '1011336', 'marketname': \"5.4 Old Town Alexandria Farmers' Market\"}, {'id': '1005470', 'marketname': '6.3 West End Farmers Market'}, {'id': '1019487', 'marketname': '6.4 McCutcheon/Mount Vernon '}, {'id': '1010836', 'marketname': \"6.5 Roots & Stems Community Farmers' Market\"}, {'id': '1008571', 'marketname': \"6.9 Del Ray Farmers' Market\"}, {'id': '1006103', 'marketname': '7.2 Smart Markets Springfield'}, {'id': '1010944', 'marketname': '7.6 Fairlington Farmers Market'}, {'id': '1012375', 'marketname': \"7.6 Arcadia's Mobile Market -- Community of Hope - Conway Health and Resource Center\"}, {'id': '1012413', 'marketname': \"7.7 Arcadia's Mobile Market -- Hendley Elementary \"}, {'id': '1018231', 'marketname': '8.0 Four Mile Run Farmers & Artisans Market'}, {'id': '1012374', 'marketname': \"8.2 Arcadia's Mobile Market -- The Overlook at Oxon Run\"}, {'id': '1012422', 'marketname': \"8.3 Arcadia's Mobile Market -- Congress Heights Senior Wellness Center\"}, {'id': '1012427', 'marketname': \"8.5 Arcadia's Mobile Market -- United Medical Center\"}, {'id': '1011968', 'marketname': '8.6 Ward 8 Farmers Market'}]}\n"
     ]
    }
   ],
   "source": [
    "print(results)"
   ]
  },
  {
   "cell_type": "code",
   "execution_count": 8,
   "metadata": {},
   "outputs": [
    {
     "data": {
      "text/plain": [
       "dict"
      ]
     },
     "execution_count": 8,
     "metadata": {},
     "output_type": "execute_result"
    }
   ],
   "source": [
    "#let's check the type of the results\n",
    "type(results)"
   ]
  },
  {
   "cell_type": "code",
   "execution_count": 9,
   "metadata": {},
   "outputs": [],
   "source": [
    "#As we can see we now have a dictionary. Let's save this result and return to it later\n",
    "with open('farmersmarkets.json', 'w') as f:\n",
    "    json.dump(results, f)"
   ]
  },
  {
   "cell_type": "markdown",
   "metadata": {},
   "source": [
    "Now we have a json file. Let's load it back up into a new variable with the `json.loads()` function."
   ]
  },
  {
   "cell_type": "code",
   "execution_count": 11,
   "metadata": {},
   "outputs": [],
   "source": [
    "with open('farmersmarkets.json', 'r') as in_file:\n",
    "    farmers_markets = json.load(in_file)"
   ]
  },
  {
   "cell_type": "code",
   "execution_count": 12,
   "metadata": {},
   "outputs": [
    {
     "name": "stdout",
     "output_type": "stream",
     "text": [
      "{'results': [{'id': '1012574', 'marketname': '1.4 McCutcheon/Mount Vernon Farmers Market '}, {'id': '1000184', 'marketname': '3.3 Freedom Farmers Market'}, {'id': '1012072', 'marketname': '4.4 Smart Markets Huntington'}, {'id': '1018264', 'marketname': '5.2 Kingstowne Farmers Market'}, {'id': '1011182', 'marketname': \"5.3 King Street Station Farmers' Market\"}, {'id': '1011336', 'marketname': \"5.4 Old Town Alexandria Farmers' Market\"}, {'id': '1005470', 'marketname': '6.3 West End Farmers Market'}, {'id': '1019487', 'marketname': '6.4 McCutcheon/Mount Vernon '}, {'id': '1010836', 'marketname': \"6.5 Roots & Stems Community Farmers' Market\"}, {'id': '1008571', 'marketname': \"6.9 Del Ray Farmers' Market\"}, {'id': '1006103', 'marketname': '7.2 Smart Markets Springfield'}, {'id': '1010944', 'marketname': '7.6 Fairlington Farmers Market'}, {'id': '1012375', 'marketname': \"7.6 Arcadia's Mobile Market -- Community of Hope - Conway Health and Resource Center\"}, {'id': '1012413', 'marketname': \"7.7 Arcadia's Mobile Market -- Hendley Elementary \"}, {'id': '1018231', 'marketname': '8.0 Four Mile Run Farmers & Artisans Market'}, {'id': '1012374', 'marketname': \"8.2 Arcadia's Mobile Market -- The Overlook at Oxon Run\"}, {'id': '1012422', 'marketname': \"8.3 Arcadia's Mobile Market -- Congress Heights Senior Wellness Center\"}, {'id': '1012427', 'marketname': \"8.5 Arcadia's Mobile Market -- United Medical Center\"}, {'id': '1011968', 'marketname': '8.6 Ward 8 Farmers Market'}]}\n"
     ]
    }
   ],
   "source": [
    "print(farmers_markets)"
   ]
  },
  {
   "cell_type": "code",
   "execution_count": 13,
   "metadata": {},
   "outputs": [
    {
     "data": {
      "text/plain": [
       "dict"
      ]
     },
     "execution_count": 13,
     "metadata": {},
     "output_type": "execute_result"
    }
   ],
   "source": [
    "#If we look at this file, it's a dictionary!\n",
    "type(farmers_markets)"
   ]
  },
  {
   "cell_type": "markdown",
   "metadata": {},
   "source": [
    "But we find out that the dictionary is not well formed. It's got a list inside of it, and then each\n",
    "individual market is its own dictionary. Let's fix this"
   ]
  },
  {
   "cell_type": "code",
   "execution_count": 22,
   "metadata": {},
   "outputs": [],
   "source": [
    "#Let's remove the outer dictionary\n",
    "results = results['results']"
   ]
  },
  {
   "cell_type": "code",
   "execution_count": 23,
   "metadata": {},
   "outputs": [
    {
     "data": {
      "text/plain": [
       "[{'id': '1012574',\n",
       "  'marketname': '1.4 McCutcheon/Mount Vernon Farmers Market '},\n",
       " {'id': '1000184', 'marketname': '3.3 Freedom Farmers Market'},\n",
       " {'id': '1012072', 'marketname': '4.4 Smart Markets Huntington'},\n",
       " {'id': '1018264', 'marketname': '5.2 Kingstowne Farmers Market'},\n",
       " {'id': '1011182', 'marketname': \"5.3 King Street Station Farmers' Market\"},\n",
       " {'id': '1011336', 'marketname': \"5.4 Old Town Alexandria Farmers' Market\"},\n",
       " {'id': '1005470', 'marketname': '6.3 West End Farmers Market'},\n",
       " {'id': '1019487', 'marketname': '6.4 McCutcheon/Mount Vernon '},\n",
       " {'id': '1010836',\n",
       "  'marketname': \"6.5 Roots & Stems Community Farmers' Market\"},\n",
       " {'id': '1008571', 'marketname': \"6.9 Del Ray Farmers' Market\"},\n",
       " {'id': '1006103', 'marketname': '7.2 Smart Markets Springfield'},\n",
       " {'id': '1010944', 'marketname': '7.6 Fairlington Farmers Market'},\n",
       " {'id': '1012375',\n",
       "  'marketname': \"7.6 Arcadia's Mobile Market -- Community of Hope - Conway Health and Resource Center\"},\n",
       " {'id': '1012413',\n",
       "  'marketname': \"7.7 Arcadia's Mobile Market -- Hendley Elementary \"},\n",
       " {'id': '1018231',\n",
       "  'marketname': '8.0 Four Mile Run Farmers & Artisans Market'},\n",
       " {'id': '1012374',\n",
       "  'marketname': \"8.2 Arcadia's Mobile Market -- The Overlook at Oxon Run\"},\n",
       " {'id': '1012422',\n",
       "  'marketname': \"8.3 Arcadia's Mobile Market -- Congress Heights Senior Wellness Center\"},\n",
       " {'id': '1012427',\n",
       "  'marketname': \"8.5 Arcadia's Mobile Market -- United Medical Center\"},\n",
       " {'id': '1011968', 'marketname': '8.6 Ward 8 Farmers Market'}]"
      ]
     },
     "execution_count": 23,
     "metadata": {},
     "output_type": "execute_result"
    }
   ],
   "source": [
    "results"
   ]
  },
  {
   "cell_type": "code",
   "execution_count": 26,
   "metadata": {},
   "outputs": [],
   "source": [
    "#dict_variable = {key:value for (key,value) in dictonary.items()}\n",
    "dict_variable = {result['id']:result['marketname'] for result in results}"
   ]
  },
  {
   "cell_type": "code",
   "execution_count": 27,
   "metadata": {},
   "outputs": [
    {
     "data": {
      "text/plain": [
       "{'1012574': '1.4 McCutcheon/Mount Vernon Farmers Market ',\n",
       " '1000184': '3.3 Freedom Farmers Market',\n",
       " '1012072': '4.4 Smart Markets Huntington',\n",
       " '1018264': '5.2 Kingstowne Farmers Market',\n",
       " '1011182': \"5.3 King Street Station Farmers' Market\",\n",
       " '1011336': \"5.4 Old Town Alexandria Farmers' Market\",\n",
       " '1005470': '6.3 West End Farmers Market',\n",
       " '1019487': '6.4 McCutcheon/Mount Vernon ',\n",
       " '1010836': \"6.5 Roots & Stems Community Farmers' Market\",\n",
       " '1008571': \"6.9 Del Ray Farmers' Market\",\n",
       " '1006103': '7.2 Smart Markets Springfield',\n",
       " '1010944': '7.6 Fairlington Farmers Market',\n",
       " '1012375': \"7.6 Arcadia's Mobile Market -- Community of Hope - Conway Health and Resource Center\",\n",
       " '1012413': \"7.7 Arcadia's Mobile Market -- Hendley Elementary \",\n",
       " '1018231': '8.0 Four Mile Run Farmers & Artisans Market',\n",
       " '1012374': \"8.2 Arcadia's Mobile Market -- The Overlook at Oxon Run\",\n",
       " '1012422': \"8.3 Arcadia's Mobile Market -- Congress Heights Senior Wellness Center\",\n",
       " '1012427': \"8.5 Arcadia's Mobile Market -- United Medical Center\",\n",
       " '1011968': '8.6 Ward 8 Farmers Market'}"
      ]
     },
     "execution_count": 27,
     "metadata": {},
     "output_type": "execute_result"
    }
   ],
   "source": [
    "dict_variable"
   ]
  },
  {
   "cell_type": "markdown",
   "metadata": {},
   "source": [
    "That's much better. Now that we have it, let's save this list in another file. Let's call that file \"markets.json\""
   ]
  },
  {
   "cell_type": "code",
   "execution_count": 29,
   "metadata": {},
   "outputs": [],
   "source": [
    "with open('markets.json', 'w') as out_file:\n",
    "    json.dump(dict_variable, out_file)"
   ]
  },
  {
   "cell_type": "code",
   "execution_count": 30,
   "metadata": {},
   "outputs": [],
   "source": [
    "#let's open it again\n",
    "with open('markets.json') as in_file:\n",
    "    result = json.load(in_file)"
   ]
  },
  {
   "cell_type": "code",
   "execution_count": 33,
   "metadata": {},
   "outputs": [
    {
     "name": "stdout",
     "output_type": "stream",
     "text": [
      "{'1012574': '1.4 McCutcheon/Mount Vernon Farmers Market ', '1000184': '3.3 Freedom Farmers Market', '1012072': '4.4 Smart Markets Huntington', '1018264': '5.2 Kingstowne Farmers Market', '1011182': \"5.3 King Street Station Farmers' Market\", '1011336': \"5.4 Old Town Alexandria Farmers' Market\", '1005470': '6.3 West End Farmers Market', '1019487': '6.4 McCutcheon/Mount Vernon ', '1010836': \"6.5 Roots & Stems Community Farmers' Market\", '1008571': \"6.9 Del Ray Farmers' Market\", '1006103': '7.2 Smart Markets Springfield', '1010944': '7.6 Fairlington Farmers Market', '1012375': \"7.6 Arcadia's Mobile Market -- Community of Hope - Conway Health and Resource Center\", '1012413': \"7.7 Arcadia's Mobile Market -- Hendley Elementary \", '1018231': '8.0 Four Mile Run Farmers & Artisans Market', '1012374': \"8.2 Arcadia's Mobile Market -- The Overlook at Oxon Run\", '1012422': \"8.3 Arcadia's Mobile Market -- Congress Heights Senior Wellness Center\", '1012427': \"8.5 Arcadia's Mobile Market -- United Medical Center\", '1011968': '8.6 Ward 8 Farmers Market'}\n"
     ]
    }
   ],
   "source": [
    "print(result) #we have the same dictionary that we had before"
   ]
  },
  {
   "cell_type": "code",
   "execution_count": null,
   "metadata": {},
   "outputs": [],
   "source": []
  }
 ],
 "metadata": {
  "kernelspec": {
   "display_name": "Python 3",
   "language": "python",
   "name": "python3"
  },
  "language_info": {
   "codemirror_mode": {
    "name": "ipython",
    "version": 3
   },
   "file_extension": ".py",
   "mimetype": "text/x-python",
   "name": "python",
   "nbconvert_exporter": "python",
   "pygments_lexer": "ipython3",
   "version": "3.7.5"
  }
 },
 "nbformat": 4,
 "nbformat_minor": 4
}
