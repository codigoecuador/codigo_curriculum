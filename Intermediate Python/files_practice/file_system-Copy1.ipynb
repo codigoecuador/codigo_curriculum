{
 "cells": [
  {
   "cell_type": "code",
   "execution_count": 1,
   "metadata": {},
   "outputs": [],
   "source": [
    "#In this lesson, we will look at how to move files around, make folders, and delete them.\n",
    "#We'll use this from time to time when we want to save a copy of a file, or make a new folder."
   ]
  },
  {
   "cell_type": "markdown",
   "metadata": {},
   "source": [
    "We use Python's `os` module to communicate with the operating system."
   ]
  },
  {
   "cell_type": "code",
   "execution_count": 2,
   "metadata": {},
   "outputs": [],
   "source": [
    "import os"
   ]
  },
  {
   "cell_type": "markdown",
   "metadata": {},
   "source": [
    "The os module let's us get the current directory with `os.getcwd()`"
   ]
  },
  {
   "cell_type": "code",
   "execution_count": 3,
   "metadata": {},
   "outputs": [
    {
     "data": {
      "text/plain": [
       "'/Users/thomassullivan/projects/GitHub/codigo_curriculum/Intermediate Python/files_practice'"
      ]
     },
     "execution_count": 3,
     "metadata": {},
     "output_type": "execute_result"
    }
   ],
   "source": [
    "os.getcwd()"
   ]
  },
  {
   "cell_type": "markdown",
   "metadata": {},
   "source": [
    "Viewing lists of files in the current directory with `os.listdir()`"
   ]
  },
  {
   "cell_type": "code",
   "execution_count": 4,
   "metadata": {},
   "outputs": [
    {
     "data": {
      "text/plain": [
       "['expanded_colors.txt',\n",
       " 'file_system.ipynb',\n",
       " 'simple.csv',\n",
       " 'colors.txt',\n",
       " 'csv_files.ipynb',\n",
       " 'rows_with_tabs.tsv',\n",
       " 'sorted_colors.txt',\n",
       " 'expanded_colors2.txt',\n",
       " 'files.ipynb',\n",
       " 'farmersmarkets.json',\n",
       " 'json.ipynb',\n",
       " '.ipynb_checkpoints',\n",
       " 'markets.json',\n",
       " 'colors_for_csv.txt',\n",
       " 'multiple_rows.csv']"
      ]
     },
     "execution_count": 4,
     "metadata": {},
     "output_type": "execute_result"
    }
   ],
   "source": [
    "os.listdir('.')"
   ]
  },
  {
   "cell_type": "markdown",
   "metadata": {},
   "source": [
    "Viewing one type of file"
   ]
  },
  {
   "cell_type": "code",
   "execution_count": 10,
   "metadata": {},
   "outputs": [],
   "source": [
    "import glob"
   ]
  },
  {
   "cell_type": "code",
   "execution_count": 12,
   "metadata": {},
   "outputs": [
    {
     "data": {
      "text/plain": [
       "['expanded_colors.txt',\n",
       " 'file_system.ipynb',\n",
       " 'simple.csv',\n",
       " 'colors.txt',\n",
       " 'csv_files.ipynb',\n",
       " 'rows_with_tabs.tsv',\n",
       " 'sorted_colors.txt',\n",
       " 'expanded_colors2.txt',\n",
       " 'files.ipynb',\n",
       " 'farmersmarkets.json',\n",
       " 'json.ipynb',\n",
       " 'markets.json',\n",
       " 'colors_for_csv.txt',\n",
       " 'multiple_rows.csv']"
      ]
     },
     "execution_count": 12,
     "metadata": {},
     "output_type": "execute_result"
    }
   ],
   "source": [
    "glob.glob('*') #This does the same thing as os.listdir()"
   ]
  },
  {
   "cell_type": "markdown",
   "metadata": {},
   "source": [
    "We have a lot of files in our directory. When we make more files, we will want them to have their own directory so we don't lose them. Let's make a new directory with `shutil`."
   ]
  },
  {
   "cell_type": "code",
   "execution_count": null,
   "metadata": {},
   "outputs": [],
   "source": []
  },
  {
   "cell_type": "code",
   "execution_count": null,
   "metadata": {},
   "outputs": [],
   "source": []
  }
 ],
 "metadata": {
  "kernelspec": {
   "display_name": "Python 3",
   "language": "python",
   "name": "python3"
  },
  "language_info": {
   "codemirror_mode": {
    "name": "ipython",
    "version": 3
   },
   "file_extension": ".py",
   "mimetype": "text/x-python",
   "name": "python",
   "nbconvert_exporter": "python",
   "pygments_lexer": "ipython3",
   "version": "3.7.5"
  }
 },
 "nbformat": 4,
 "nbformat_minor": 4
}
