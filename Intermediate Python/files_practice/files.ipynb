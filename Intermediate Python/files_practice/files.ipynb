{
 "cells": [
  {
   "cell_type": "markdown",
   "metadata": {},
   "source": [
    "This lesson is about files, and using the data within them.\n",
    "\n",
    "When we use files, we make it so we can use data more than once. Let's say you are a data scientist, and you need to get some data into a format that you can use it for comparisons in a future study. You'd want some way to save your data in a standard format that you and anyone else can understand."
   ]
  },
  {
   "cell_type": "code",
   "execution_count": 166,
   "metadata": {},
   "outputs": [],
   "source": [
    "#The os module tells what files are in a directory\n",
    "#Let's use it first to view the directory."
   ]
  },
  {
   "cell_type": "code",
   "execution_count": 167,
   "metadata": {},
   "outputs": [
    {
     "data": {
      "text/plain": [
       "'/Users/thomassullivan/projects/GitHub/codigo_curriculum/Intermediate Python/files_practice'"
      ]
     },
     "execution_count": 167,
     "metadata": {},
     "output_type": "execute_result"
    }
   ],
   "source": [
    "import os\n",
    "os.getcwd() #prints the current working directory"
   ]
  },
  {
   "cell_type": "markdown",
   "metadata": {},
   "source": [
    "Let's start off with files in the same directory. First, let's see how many files are already here. "
   ]
  },
  {
   "cell_type": "code",
   "execution_count": 168,
   "metadata": {},
   "outputs": [
    {
     "data": {
      "text/plain": [
       "['expanded_colors.txt',\n",
       " 'colors.txt',\n",
       " 'sorted_colors.txt',\n",
       " 'expanded_colors2.txt',\n",
       " 'files.ipynb',\n",
       " '.ipynb_checkpoints']"
      ]
     },
     "execution_count": 168,
     "metadata": {},
     "output_type": "execute_result"
    }
   ],
   "source": [
    "file_path = os.getcwd() #let's create a path as a string\n",
    "#now let's use the os.listdir() method to find the files in the directory.\n",
    "os.listdir(file_path)"
   ]
  },
  {
   "cell_type": "markdown",
   "metadata": {},
   "source": [
    "We see only three files. The first one is this file itself, and the second is something created by the interpreter. It's the third file that we want to load. It's just a list of colors."
   ]
  },
  {
   "cell_type": "code",
   "execution_count": 169,
   "metadata": {},
   "outputs": [],
   "source": [
    "colorFile = open(file_path + '/colors.txt')"
   ]
  },
  {
   "cell_type": "markdown",
   "metadata": {},
   "source": [
    "Let's read this file with the read method, called on the file itself."
   ]
  },
  {
   "cell_type": "code",
   "execution_count": 170,
   "metadata": {},
   "outputs": [
    {
     "data": {
      "text/plain": [
       "'Red\\nOrange\\nBlue\\nYellow\\nGreen\\nPurple'"
      ]
     },
     "execution_count": 170,
     "metadata": {},
     "output_type": "execute_result"
    }
   ],
   "source": [
    "colorFile.read()"
   ]
  },
  {
   "cell_type": "markdown",
   "metadata": {},
   "source": [
    "What's wrong? We just see one line in the file for each color."
   ]
  },
  {
   "cell_type": "markdown",
   "metadata": {},
   "source": [
    "Let's first close the file so that other programs can access it."
   ]
  },
  {
   "cell_type": "code",
   "execution_count": 171,
   "metadata": {},
   "outputs": [],
   "source": [
    "colorFile.close()"
   ]
  },
  {
   "cell_type": "markdown",
   "metadata": {},
   "source": [
    "Now, let's open it again with the `.readlines()` method, to read each line of the file on a separate line."
   ]
  },
  {
   "cell_type": "code",
   "execution_count": 172,
   "metadata": {},
   "outputs": [],
   "source": [
    "colorFile = open(file_path+ '/colors.txt')"
   ]
  },
  {
   "cell_type": "code",
   "execution_count": 173,
   "metadata": {},
   "outputs": [
    {
     "data": {
      "text/plain": [
       "['Red\\n', 'Orange\\n', 'Blue\\n', 'Yellow\\n', 'Green\\n', 'Purple']"
      ]
     },
     "execution_count": 173,
     "metadata": {},
     "output_type": "execute_result"
    }
   ],
   "source": [
    "colorFile.readlines()"
   ]
  },
  {
   "cell_type": "markdown",
   "metadata": {},
   "source": [
    "Notice that we still have the `\\n` characters at the end of each line. Still, we can more easily work with these values when we have a list of strings, rather than a single string. "
   ]
  },
  {
   "cell_type": "markdown",
   "metadata": {},
   "source": [
    "Let's now open this file, and add the contents of it into a list"
   ]
  },
  {
   "cell_type": "code",
   "execution_count": 174,
   "metadata": {},
   "outputs": [],
   "source": [
    "results = open(file_path + '/colors.txt')"
   ]
  },
  {
   "cell_type": "code",
   "execution_count": 175,
   "metadata": {},
   "outputs": [],
   "source": [
    "results = list(results)"
   ]
  },
  {
   "cell_type": "code",
   "execution_count": 176,
   "metadata": {},
   "outputs": [
    {
     "data": {
      "text/plain": [
       "['Red\\n', 'Orange\\n', 'Blue\\n', 'Yellow\\n', 'Green\\n', 'Purple']"
      ]
     },
     "execution_count": 176,
     "metadata": {},
     "output_type": "execute_result"
    }
   ],
   "source": [
    "results"
   ]
  },
  {
   "cell_type": "markdown",
   "metadata": {},
   "source": [
    "Let's play with the strings to get rid of the newline characters."
   ]
  },
  {
   "cell_type": "code",
   "execution_count": 177,
   "metadata": {},
   "outputs": [],
   "source": [
    "result_string = ''.join(results)"
   ]
  },
  {
   "cell_type": "code",
   "execution_count": 178,
   "metadata": {},
   "outputs": [
    {
     "data": {
      "text/plain": [
       "'Red\\nOrange\\nBlue\\nYellow\\nGreen\\nPurple'"
      ]
     },
     "execution_count": 178,
     "metadata": {},
     "output_type": "execute_result"
    }
   ],
   "source": [
    "result_string #now we have a single string"
   ]
  },
  {
   "cell_type": "code",
   "execution_count": 179,
   "metadata": {},
   "outputs": [],
   "source": [
    "results = result_string.split('\\n')"
   ]
  },
  {
   "cell_type": "code",
   "execution_count": 180,
   "metadata": {},
   "outputs": [
    {
     "data": {
      "text/plain": [
       "['Red', 'Orange', 'Blue', 'Yellow', 'Green', 'Purple']"
      ]
     },
     "execution_count": 180,
     "metadata": {},
     "output_type": "execute_result"
    }
   ],
   "source": [
    "results"
   ]
  },
  {
   "cell_type": "markdown",
   "metadata": {},
   "source": [
    "Let's add some more colors to this list"
   ]
  },
  {
   "cell_type": "code",
   "execution_count": 181,
   "metadata": {},
   "outputs": [],
   "source": [
    "results.append('Green')"
   ]
  },
  {
   "cell_type": "code",
   "execution_count": 182,
   "metadata": {},
   "outputs": [],
   "source": [
    "results.append('Brown')"
   ]
  },
  {
   "cell_type": "code",
   "execution_count": 183,
   "metadata": {},
   "outputs": [],
   "source": [
    "results.append('Pink')"
   ]
  },
  {
   "cell_type": "code",
   "execution_count": 184,
   "metadata": {},
   "outputs": [
    {
     "data": {
      "text/plain": [
       "['Red',\n",
       " 'Orange',\n",
       " 'Blue',\n",
       " 'Yellow',\n",
       " 'Green',\n",
       " 'Purple',\n",
       " 'Green',\n",
       " 'Brown',\n",
       " 'Pink']"
      ]
     },
     "execution_count": 184,
     "metadata": {},
     "output_type": "execute_result"
    }
   ],
   "source": [
    "results"
   ]
  },
  {
   "cell_type": "markdown",
   "metadata": {},
   "source": [
    "We create a new file by using the 'open' function in 'write' or 'w' mode. This creates a new file. It will also erase the contents of an existing file so be careful before using it."
   ]
  },
  {
   "cell_type": "code",
   "execution_count": 146,
   "metadata": {},
   "outputs": [],
   "source": [
    "expanded_colors = open('expanded_colors.txt', 'w') #write mode\n",
    "for line in results:\n",
    "    expanded_colors.write(line + '\\n')"
   ]
  },
  {
   "cell_type": "code",
   "execution_count": 147,
   "metadata": {},
   "outputs": [],
   "source": [
    "#We now have a blank file called expanded colors"
   ]
  },
  {
   "cell_type": "code",
   "execution_count": 148,
   "metadata": {},
   "outputs": [],
   "source": [
    "#Let's write the lines to expanded colors individually"
   ]
  },
  {
   "cell_type": "code",
   "execution_count": 190,
   "metadata": {},
   "outputs": [
    {
     "data": {
      "text/plain": [
       "4"
      ]
     },
     "execution_count": 190,
     "metadata": {},
     "output_type": "execute_result"
    }
   ],
   "source": [
    "expanded_colors.write('Red\\n')"
   ]
  },
  {
   "cell_type": "code",
   "execution_count": 191,
   "metadata": {},
   "outputs": [
    {
     "data": {
      "text/plain": [
       "6"
      ]
     },
     "execution_count": 191,
     "metadata": {},
     "output_type": "execute_result"
    }
   ],
   "source": [
    "expanded_colors.write('Green\\n')"
   ]
  },
  {
   "cell_type": "code",
   "execution_count": 192,
   "metadata": {},
   "outputs": [],
   "source": [
    "expanded_colors.close()"
   ]
  },
  {
   "cell_type": "code",
   "execution_count": 193,
   "metadata": {},
   "outputs": [],
   "source": [
    "#Now let's check to make sure that we wrote to the file properly"
   ]
  },
  {
   "cell_type": "code",
   "execution_count": 194,
   "metadata": {},
   "outputs": [],
   "source": [
    "expanded_colors = open('expanded_colors.txt', 'r')"
   ]
  },
  {
   "cell_type": "code",
   "execution_count": 154,
   "metadata": {},
   "outputs": [
    {
     "name": "stdout",
     "output_type": "stream",
     "text": [
      "Red\n",
      "\n",
      "Orange\n",
      "\n",
      "Blue\n",
      "\n",
      "Yellow\n",
      "\n",
      "Green\n",
      "\n",
      "Purple\n",
      "\n",
      "Green\n",
      "\n",
      "Brown\n",
      "\n",
      "Pink\n",
      "\n",
      "RedGreen\n"
     ]
    }
   ],
   "source": [
    "for line in expanded_colors:\n",
    "    print(line)\n",
    "expanded_colors.close()"
   ]
  },
  {
   "cell_type": "markdown",
   "metadata": {},
   "source": [
    "See the problem, we have written each line without adding anything to it at the end. We need to add the escape character `\\n` for each new line."
   ]
  },
  {
   "cell_type": "code",
   "execution_count": 209,
   "metadata": {},
   "outputs": [
    {
     "name": "stdout",
     "output_type": "stream",
     "text": [
      "['Red', 'Orange', 'Blue', 'Yellow', 'Green', 'Purple', 'Green', 'Brown', 'Pink']\n"
     ]
    }
   ],
   "source": [
    "expanded_colors = open('expanded_colors.txt', 'w') #this overwrites the existing file\n",
    "for line in results:\n",
    "    expanded_colors.write(line + '\\n')\n",
    "print(results)"
   ]
  },
  {
   "cell_type": "code",
   "execution_count": 210,
   "metadata": {},
   "outputs": [
    {
     "data": {
      "text/plain": [
       "7"
      ]
     },
     "execution_count": 210,
     "metadata": {},
     "output_type": "execute_result"
    }
   ],
   "source": [
    "#We can write addtional lines to the file before we close it\n",
    "expanded_colors.write('Indigo\\n')"
   ]
  },
  {
   "cell_type": "code",
   "execution_count": 211,
   "metadata": {},
   "outputs": [
    {
     "data": {
      "text/plain": [
       "5"
      ]
     },
     "execution_count": 211,
     "metadata": {},
     "output_type": "execute_result"
    }
   ],
   "source": [
    "expanded_colors.write('Gold\\n')"
   ]
  },
  {
   "cell_type": "code",
   "execution_count": 212,
   "metadata": {},
   "outputs": [],
   "source": [
    "expanded_colors.close()"
   ]
  },
  {
   "cell_type": "code",
   "execution_count": 213,
   "metadata": {},
   "outputs": [],
   "source": [
    "#Now let's make sure we have added the lines to the file correctly"
   ]
  },
  {
   "cell_type": "code",
   "execution_count": 214,
   "metadata": {},
   "outputs": [],
   "source": [
    "expanded_colors = open('expanded_colors.txt', 'r') #open the file in read mode"
   ]
  },
  {
   "cell_type": "code",
   "execution_count": 215,
   "metadata": {},
   "outputs": [
    {
     "name": "stdout",
     "output_type": "stream",
     "text": [
      "Red\n",
      "\n",
      "Orange\n",
      "\n",
      "Blue\n",
      "\n",
      "Yellow\n",
      "\n",
      "Green\n",
      "\n",
      "Purple\n",
      "\n",
      "Green\n",
      "\n",
      "Brown\n",
      "\n",
      "Pink\n",
      "\n",
      "Indigo\n",
      "\n",
      "Gold\n",
      "\n"
     ]
    }
   ],
   "source": [
    "for line in expanded_colors:\n",
    "    print(line)"
   ]
  },
  {
   "cell_type": "markdown",
   "metadata": {},
   "source": [
    "Notice how we have each line separately now"
   ]
  },
  {
   "cell_type": "markdown",
   "metadata": {},
   "source": [
    "Let's say we want to add text to a file, but keep the existing text as it is. We can do that by opening the file in append mode. "
   ]
  },
  {
   "cell_type": "code",
   "execution_count": 216,
   "metadata": {},
   "outputs": [],
   "source": [
    "expanded_colors = open('expanded_colors.txt', 'a')"
   ]
  },
  {
   "cell_type": "code",
   "execution_count": 217,
   "metadata": {},
   "outputs": [
    {
     "data": {
      "text/plain": [
       "7"
      ]
     },
     "execution_count": 217,
     "metadata": {},
     "output_type": "execute_result"
    }
   ],
   "source": [
    "expanded_colors.write('Orange\\n')"
   ]
  },
  {
   "cell_type": "code",
   "execution_count": 218,
   "metadata": {},
   "outputs": [
    {
     "data": {
      "text/plain": [
       "5"
      ]
     },
     "execution_count": 218,
     "metadata": {},
     "output_type": "execute_result"
    }
   ],
   "source": [
    "expanded_colors.write('Blue\\n')"
   ]
  },
  {
   "cell_type": "code",
   "execution_count": 219,
   "metadata": {},
   "outputs": [],
   "source": [
    "#Let's close the file\n",
    "expanded_colors.close()"
   ]
  },
  {
   "cell_type": "markdown",
   "metadata": {},
   "source": [
    "Now, we open it again in read mode"
   ]
  },
  {
   "cell_type": "code",
   "execution_count": 220,
   "metadata": {},
   "outputs": [],
   "source": [
    "expanded_colors = open('expanded_colors.txt', 'r')"
   ]
  },
  {
   "cell_type": "code",
   "execution_count": 221,
   "metadata": {},
   "outputs": [
    {
     "name": "stdout",
     "output_type": "stream",
     "text": [
      "Red\n",
      "\n",
      "Orange\n",
      "\n",
      "Blue\n",
      "\n",
      "Yellow\n",
      "\n",
      "Green\n",
      "\n",
      "Purple\n",
      "\n",
      "Green\n",
      "\n",
      "Brown\n",
      "\n",
      "Pink\n",
      "\n",
      "Indigo\n",
      "\n",
      "Gold\n",
      "\n",
      "Orange\n",
      "\n",
      "Blue\n",
      "\n"
     ]
    }
   ],
   "source": [
    "for line in expanded_colors:\n",
    "    print(line)\n",
    "expanded_colors.close()"
   ]
  },
  {
   "cell_type": "markdown",
   "metadata": {},
   "source": [
    "Now we have each line of the file printed. What if we want to have these lines appear without double spacing? Let's do this with the `.strip()` method."
   ]
  },
  {
   "cell_type": "code",
   "execution_count": 222,
   "metadata": {},
   "outputs": [
    {
     "name": "stdout",
     "output_type": "stream",
     "text": [
      "Red\n",
      "Orange\n",
      "Blue\n",
      "Yellow\n",
      "Green\n",
      "Purple\n",
      "Green\n",
      "Brown\n",
      "Pink\n",
      "Indigo\n",
      "Gold\n",
      "Orange\n",
      "Blue\n"
     ]
    }
   ],
   "source": [
    "expanded_colors = open('expanded_colors.txt', 'r')\n",
    "for line in expanded_colors:\n",
    "    print(line.strip())"
   ]
  },
  {
   "cell_type": "markdown",
   "metadata": {},
   "source": [
    "That's better, all the lines are together now. So let's take this opportunity and write all of the lines from our list `results` into the file `expanded_colors.txt`"
   ]
  },
  {
   "cell_type": "code",
   "execution_count": 223,
   "metadata": {},
   "outputs": [],
   "source": [
    "#We already know we can do this by opening the file with the write mode\n",
    "results = ['Red', 'Orange', 'Blue', 'Yellow', 'Green', 'Purple', 'Green', 'Brown', 'Pink']\n",
    "expanded_colors = open('expanded_colors2.txt', 'w')\n",
    "for item in results:\n",
    "    expanded_colors.write(item + '\\n')\n",
    "expanded_colors.close()"
   ]
  },
  {
   "cell_type": "code",
   "execution_count": 224,
   "metadata": {},
   "outputs": [
    {
     "name": "stdout",
     "output_type": "stream",
     "text": [
      "Red\n",
      "Orange\n",
      "Blue\n",
      "Yellow\n",
      "Green\n",
      "Purple\n",
      "Green\n",
      "Brown\n",
      "Pink\n"
     ]
    }
   ],
   "source": [
    "#Now let's open the file again and print the lines. Do this as many times as you need to make yourself\n",
    "#feel comfortable\n",
    "\n",
    "expanded_colors = open('expanded_colors2.txt', 'r')\n",
    "for line in expanded_colors:\n",
    "    print(line.strip())"
   ]
  },
  {
   "cell_type": "code",
   "execution_count": 225,
   "metadata": {},
   "outputs": [],
   "source": [
    "#NOTE: You must reload the file before printing out the lines again"
   ]
  },
  {
   "cell_type": "markdown",
   "metadata": {},
   "source": [
    "Now that we've learned the hard way to open files, its time to learn the easy way. The `with()` statement manages the file access automatically, and closes it as soon as its finished. Let's open the file `colors.txt` and print out the lines."
   ]
  },
  {
   "cell_type": "code",
   "execution_count": 226,
   "metadata": {},
   "outputs": [
    {
     "name": "stdout",
     "output_type": "stream",
     "text": [
      "Red\n",
      "Orange\n",
      "Blue\n",
      "Yellow\n",
      "Green\n",
      "Purple\n"
     ]
    }
   ],
   "source": [
    "with open('colors.txt', 'r') as in_file:\n",
    "    for line in in_file:\n",
    "        print(line.strip())"
   ]
  },
  {
   "cell_type": "markdown",
   "metadata": {},
   "source": [
    "Now let's take the lines from the file, add them to a list, append something to that list, and then write them to a new file with the `with()`statement."
   ]
  },
  {
   "cell_type": "code",
   "execution_count": 227,
   "metadata": {},
   "outputs": [],
   "source": [
    "new_colors = []\n",
    "with open('colors.txt', 'r') as in_file: #be sure not to write 'w'\n",
    "    for line in in_file:\n",
    "        new_colors.append(line.strip())"
   ]
  },
  {
   "cell_type": "code",
   "execution_count": 228,
   "metadata": {},
   "outputs": [
    {
     "name": "stdout",
     "output_type": "stream",
     "text": [
      "['Red', 'Orange', 'Blue', 'Yellow', 'Green', 'Purple']\n"
     ]
    }
   ],
   "source": [
    "#print the new list just to be safe\n",
    "print(new_colors)"
   ]
  },
  {
   "cell_type": "code",
   "execution_count": 229,
   "metadata": {},
   "outputs": [
    {
     "name": "stdout",
     "output_type": "stream",
     "text": [
      "['Red', 'Orange', 'Blue', 'Yellow', 'Green', 'Purple', 'Indigo']\n"
     ]
    }
   ],
   "source": [
    "new_colors.append('Indigo')\n",
    "print(new_colors)"
   ]
  },
  {
   "cell_type": "code",
   "execution_count": 230,
   "metadata": {},
   "outputs": [
    {
     "name": "stdout",
     "output_type": "stream",
     "text": [
      "['Blue', 'Green', 'Indigo', 'Orange', 'Purple', 'Red', 'Yellow']\n"
     ]
    }
   ],
   "source": [
    "#let's sort the list of colors alphabetically\n",
    "new_colors.sort()\n",
    "print(new_colors)"
   ]
  },
  {
   "cell_type": "code",
   "execution_count": 231,
   "metadata": {},
   "outputs": [],
   "source": [
    "#now let's use the with statement with the sorted list\n",
    "with open('sorted_colors.txt', 'w') as out_file:\n",
    "    for line in new_colors:\n",
    "        out_file.write(line + '\\n')"
   ]
  },
  {
   "cell_type": "code",
   "execution_count": 232,
   "metadata": {},
   "outputs": [
    {
     "name": "stdout",
     "output_type": "stream",
     "text": [
      "Blue\n",
      "Green\n",
      "Indigo\n",
      "Orange\n",
      "Purple\n",
      "Red\n",
      "Yellow\n"
     ]
    }
   ],
   "source": [
    "#let's check the file we just wrote\n",
    "with open('sorted_colors.txt', 'r'):\n",
    "    for line in new_colors:\n",
    "        print(line.strip())"
   ]
  },
  {
   "cell_type": "markdown",
   "metadata": {},
   "source": [
    "Before we conclude, let's address a problem. Whenever we open a file in write mode, we erase the file's contents. Let's write a function that checks to make sure that a file does not exist before writing to it.\n",
    "We can access the contents of the directory with `os.listdir()`"
   ]
  },
  {
   "cell_type": "code",
   "execution_count": 236,
   "metadata": {},
   "outputs": [
    {
     "data": {
      "text/plain": [
       "['expanded_colors.txt',\n",
       " 'colors.txt',\n",
       " 'sorted_colors.txt',\n",
       " 'expanded_colors2.txt',\n",
       " 'files.ipynb',\n",
       " '.ipynb_checkpoints']"
      ]
     },
     "execution_count": 236,
     "metadata": {},
     "output_type": "execute_result"
    }
   ],
   "source": [
    "os.listdir()"
   ]
  },
  {
   "cell_type": "markdown",
   "metadata": {},
   "source": [
    "We use the `os.path.isfile()` function to see if a file exists"
   ]
  },
  {
   "cell_type": "code",
   "execution_count": 237,
   "metadata": {},
   "outputs": [
    {
     "name": "stdout",
     "output_type": "stream",
     "text": [
      "file exists\n"
     ]
    }
   ],
   "source": [
    "import os.path\n",
    "if os.path.isfile('sorted_colors.txt'):\n",
    "    print('file exists')"
   ]
  },
  {
   "cell_type": "markdown",
   "metadata": {},
   "source": [
    "Exercise: create a function to take a filename from the user and see if it exists."
   ]
  },
  {
   "cell_type": "code",
   "execution_count": null,
   "metadata": {},
   "outputs": [],
   "source": []
  }
 ],
 "metadata": {
  "kernelspec": {
   "display_name": "Python 3",
   "language": "python",
   "name": "python3"
  },
  "language_info": {
   "codemirror_mode": {
    "name": "ipython",
    "version": 3
   },
   "file_extension": ".py",
   "mimetype": "text/x-python",
   "name": "python",
   "nbconvert_exporter": "python",
   "pygments_lexer": "ipython3",
   "version": "3.7.5"
  }
 },
 "nbformat": 4,
 "nbformat_minor": 4
}
