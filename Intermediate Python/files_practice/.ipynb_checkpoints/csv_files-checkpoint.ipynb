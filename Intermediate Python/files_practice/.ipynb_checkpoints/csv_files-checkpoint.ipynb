{
 "cells": [
  {
   "cell_type": "markdown",
   "metadata": {},
   "source": [
    "In this lesson, we will work with csv files. We will start with a text file with a list of colors, and then make it into a csv file.\n",
    "\n",
    "CSV stands for \"comma separated value.\" There's a list of values on each line of the file, with a comma separating each of them.\n",
    "\n",
    "We don't have a csv file in our directory right now. We're going to make several here.\n",
    "\n",
    "example\n",
    "`1, red`\n",
    "`2, yellow`\n",
    "\n",
    "Let's start by importing the `csv` module."
   ]
  },
  {
   "cell_type": "code",
   "execution_count": 1,
   "metadata": {},
   "outputs": [],
   "source": [
    "import csv"
   ]
  },
  {
   "cell_type": "markdown",
   "metadata": {},
   "source": [
    "Now let's open the `colors_for_csv.txt` file."
   ]
  },
  {
   "cell_type": "code",
   "execution_count": 2,
   "metadata": {},
   "outputs": [],
   "source": [
    "with open('colors_for_csv.txt') as in_file:\n",
    "    colors = [line.strip() for line in in_file] #list comprehension"
   ]
  },
  {
   "cell_type": "code",
   "execution_count": 3,
   "metadata": {},
   "outputs": [
    {
     "name": "stdout",
     "output_type": "stream",
     "text": [
      "['Red', 'Orange', 'Blue', 'Yellow', 'Green', 'Purple']\n"
     ]
    }
   ],
   "source": [
    "#let's verify that we have the colors down correctly\n",
    "print(colors)"
   ]
  },
  {
   "cell_type": "markdown",
   "metadata": {},
   "source": [
    "Now, we are going to make a very simple csv file from these colors. First, let's place them in alphabetical order with the `.sort()` method. "
   ]
  },
  {
   "cell_type": "code",
   "execution_count": 4,
   "metadata": {},
   "outputs": [
    {
     "name": "stdout",
     "output_type": "stream",
     "text": [
      "['Blue', 'Green', 'Orange', 'Purple', 'Red', 'Yellow']\n"
     ]
    }
   ],
   "source": [
    "colors.sort()\n",
    "print(colors)"
   ]
  },
  {
   "cell_type": "markdown",
   "metadata": {},
   "source": [
    "CSV files have a comma separating each value from the one after it. We are going to write to a csv file with the number of the color in one line (using `.zip`) and the color itself after that. "
   ]
  },
  {
   "cell_type": "code",
   "execution_count": 11,
   "metadata": {},
   "outputs": [],
   "source": [
    "#first, we create the output file, opening it just like any other file\n",
    "out_file1 = open('simple.csv', 'w', newline='')\n",
    "#then we create a Writer object.\n",
    "colorWriter = csv.writer(out_file1)\n"
   ]
  },
  {
   "cell_type": "code",
   "execution_count": 12,
   "metadata": {},
   "outputs": [],
   "source": [
    "#Let's write the colors list to the file\n",
    "colorWriter.writerow(colors)\n",
    "out_file1.close()"
   ]
  },
  {
   "cell_type": "markdown",
   "metadata": {},
   "source": [
    "That's it. We have just written to our first csv file. It should be in the same directory as this file. Open it and take a look. We should see something like this:\n",
    "\n",
    "Blue,Green,Orange,Purple,Red,Yellow \n",
    "\n",
    "All of these colors are on the same line. Let's read the colors back now. We wrote with a `csv.writer` object, so we must read with a `csv.reader` object, right?"
   ]
  },
  {
   "cell_type": "code",
   "execution_count": 20,
   "metadata": {},
   "outputs": [],
   "source": [
    "in_file = open('simple.csv') #don't add a 'w' or it will overwrite the file\n",
    "colorReader = csv.reader(in_file)"
   ]
  },
  {
   "cell_type": "code",
   "execution_count": 21,
   "metadata": {},
   "outputs": [
    {
     "name": "stdout",
     "output_type": "stream",
     "text": [
      "Row # 1 ['Blue', 'Green', 'Orange', 'Purple', 'Red', 'Yellow']\n"
     ]
    }
   ],
   "source": [
    "#Let's print out the words in the file:\n",
    "for row in colorReader:\n",
    "    print('Row #', colorReader.line_num, row)"
   ]
  },
  {
   "cell_type": "markdown",
   "metadata": {},
   "source": [
    "We got it, every line we've written to the file is returned to us as a single row."
   ]
  },
  {
   "cell_type": "code",
   "execution_count": 36,
   "metadata": {},
   "outputs": [],
   "source": [
    "#So let's make more than one row\n",
    "out_file = open('multiple_rows.csv', 'w', newline='')\n",
    "colorWriter = csv.writer(out_file)"
   ]
  },
  {
   "cell_type": "code",
   "execution_count": 37,
   "metadata": {},
   "outputs": [
    {
     "data": {
      "text/plain": [
       "7"
      ]
     },
     "execution_count": 37,
     "metadata": {},
     "output_type": "execute_result"
    }
   ],
   "source": [
    "#start with writing the rows by hand\n",
    "colorWriter.writerow([1,'Red'])"
   ]
  },
  {
   "cell_type": "code",
   "execution_count": 38,
   "metadata": {},
   "outputs": [],
   "source": [
    "#add another row\n",
    "colorWriter.writerow([2,'Blue'])\n",
    "\n",
    "#close the file\n",
    "out_file.close()"
   ]
  },
  {
   "cell_type": "code",
   "execution_count": 40,
   "metadata": {},
   "outputs": [],
   "source": [
    "#Let's open the file and take a look\n",
    "#We should see something like this:\n",
    "#1,Red\n",
    "#2,Blue\n",
    "\n",
    "#A reader lets you read the contents of the csv file, as we did above. Let's open a csv reader and \n",
    "#read this file with a for loop."
   ]
  },
  {
   "cell_type": "code",
   "execution_count": 42,
   "metadata": {},
   "outputs": [
    {
     "name": "stdout",
     "output_type": "stream",
     "text": [
      "['1', 'Red']\n",
      "['2', 'Blue']\n"
     ]
    }
   ],
   "source": [
    "in_file = open('multiple_rows.csv', 'r')\n",
    "colorReader = csv.reader(in_file)\n",
    "for row in colorReader:\n",
    "    print(row)"
   ]
  },
  {
   "cell_type": "markdown",
   "metadata": {},
   "source": [
    "We've written to a csv file! Now let's overwrite this file and write each line using a for loop. The `enumerate()` function lets us combine the data with its position in a list."
   ]
  },
  {
   "cell_type": "code",
   "execution_count": 60,
   "metadata": {},
   "outputs": [],
   "source": [
    "colors = ['Blue', 'Green', 'Orange', 'Purple', 'Red', 'Yellow']\n",
    "\n",
    "out_file = open('multiple_rows.csv', 'w', newline='')\n",
    "colorWriter = csv.writer(out_file)\n",
    "for index, row in enumerate(colors):\n",
    "    colorWriter.writerow([index, row]) #notice how we pass the arguments as a list\n",
    "out_file.close()"
   ]
  },
  {
   "cell_type": "code",
   "execution_count": 63,
   "metadata": {},
   "outputs": [],
   "source": [
    "#notice the index starts with zero. If we want to start with 1, we can do this:\n",
    "colors = ['Blue', 'Green', 'Orange', 'Purple', 'Red', 'Yellow']\n",
    "\n",
    "out_file = open('multiple_rows.csv', 'w', newline='')\n",
    "colorWriter = csv.writer(out_file)\n",
    "for index, row in enumerate(colors):\n",
    "    colorWriter.writerow([index+1, row]) #we add 1 to the index because it is not \n",
    "out_file.close()\n",
    "#Much better! the index starts at 1"
   ]
  },
  {
   "cell_type": "code",
   "execution_count": 67,
   "metadata": {},
   "outputs": [],
   "source": [
    "#We can also separate the elements with tabs\n",
    "#Let's use the suffix .tsv because its a tab separated file \n",
    "out_file_with_tabs = open('rows_with_tabs.tsv', 'w', newline='')\n",
    "tabWriter = csv.writer(out_file_with_tabs, delimiter='\\t')\n",
    "for index, row in enumerate(colors):\n",
    "    tabWriter.writerow([index+1, row]) #the 'delimiter' argument lets us do t\n",
    "out_file_with_tabs.close()"
   ]
  },
  {
   "cell_type": "code",
   "execution_count": null,
   "metadata": {},
   "outputs": [],
   "source": []
  }
 ],
 "metadata": {
  "kernelspec": {
   "display_name": "Python 3",
   "language": "python",
   "name": "python3"
  },
  "language_info": {
   "codemirror_mode": {
    "name": "ipython",
    "version": 3
   },
   "file_extension": ".py",
   "mimetype": "text/x-python",
   "name": "python",
   "nbconvert_exporter": "python",
   "pygments_lexer": "ipython3",
   "version": "3.7.5"
  }
 },
 "nbformat": 4,
 "nbformat_minor": 4
}
