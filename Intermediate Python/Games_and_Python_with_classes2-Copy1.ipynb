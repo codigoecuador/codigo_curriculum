{
 "cells": [
  {
   "cell_type": "code",
   "execution_count": 3,
   "metadata": {},
   "outputs": [
    {
     "data": {
      "text/plain": [
       "'/Users/thomassullivan/Documents/GitHub/codigo_lessons'"
      ]
     },
     "execution_count": 3,
     "metadata": {},
     "output_type": "execute_result"
    }
   ],
   "source": [
    "#This exercise will use Python to solve a surprisingly tricky question about\n",
    "#6 sided dice. \n",
    "\n",
    "#Write a program to calculate the possibility of getting a 7 when\n",
    "#you roll two dice.\n",
    "\n",
    "#Calculate the possibility that ONE of the dice is not a 4\n",
    "import os\n",
    "os.getcwd()"
   ]
  },
  {
   "cell_type": "code",
   "execution_count": 4,
   "metadata": {},
   "outputs": [
    {
     "name": "stdout",
     "output_type": "stream",
     "text": [
      "Dice roll result: 4\n",
      "Max roll value: 12\n",
      "Min roll value: 2\n",
      "Result range for 2 dice is: 10\n"
     ]
    }
   ],
   "source": [
    "import random\n",
    "\n",
    "#first let's start making dice with functions.\n",
    "\n",
    "def roll_dice():\n",
    "    roll = random.randint(1, 6)\n",
    "    return roll\n",
    "\n",
    "def max_roll_value(num_dice, dice_sides):\n",
    "    assert num_dice >= 0, 'number of dice must be zero or higher'\n",
    "    return num_dice * dice_sides\n",
    "\n",
    "def min_roll_value(num_dice):\n",
    "    '''The lowest you can get on any dice is a 1, so we just need to return the number\n",
    "    of dice'''\n",
    "    assert num_dice >=0\n",
    "    return num_dice\n",
    "\n",
    "def result_range(num_dice, dice_sides):\n",
    "    '''Calculates the range of results you will get if you roll any number of dice \n",
    "    with any number of sides. For example two dice with 6 sides is result_range(2, 6)'''\n",
    "    \n",
    "    result = max_roll_value(num_dice, dice_sides) - min_roll_value(num_dice)\n",
    "    return result\n",
    "\n",
    "#Potential to teach multithreading.\n",
    "#Mathematics of rolling the dice.\n",
    "    \n",
    "dice_roll = roll_dice()\n",
    "    \n",
    "print('Dice roll result: {0}'.format(dice_roll))\n",
    "print('Max roll value: {0}'.format(max_roll_value(2, 6)))\n",
    "print('Min roll value: {0}'.format(min_roll_value(2)))\n",
    "print('Result range for 2 dice is: {0}'.format(result_range(2, 6)))"
   ]
  },
  {
   "cell_type": "code",
   "execution_count": 5,
   "metadata": {},
   "outputs": [],
   "source": [
    "#Let's use the dice to illustrate the concept of object oriented programming.\n",
    "import random\n",
    "\n",
    "class Dice:\n",
    "    def __init__(self, sides=6, current_value=1):\n",
    "        self.sides = sides\n",
    "        #self.min_value = min_value\n",
    "        #self.max_value = max_value\n",
    "        self.current_value = current_value #default current value = 1\n",
    "        self.min_value = 1 #notice how we hard code this value as a 1\n",
    "    \n",
    "    def roll_dice(self):\n",
    "        old_value = self.current_value\n",
    "        new_value = random.randint(1, self.sides)\n",
    "        self.current_value = new_value\n",
    "        \n",
    "    def __repr__(self):\n",
    "        return 'Dice({0})'.format(self.current_value)"
   ]
  },
  {
   "cell_type": "code",
   "execution_count": 6,
   "metadata": {},
   "outputs": [
    {
     "name": "stdout",
     "output_type": "stream",
     "text": [
      "The original dice value is: Dice(1)\n",
      "The new dice value is:  Dice(2)\n"
     ]
    }
   ],
   "source": [
    "dice = Dice()\n",
    "print('The original dice value is:', dice)\n",
    "#all Dice have an original value of 1\n",
    "dice.roll_dice()\n",
    "print('The new dice value is: ', dice)"
   ]
  },
  {
   "cell_type": "code",
   "execution_count": 7,
   "metadata": {},
   "outputs": [],
   "source": [
    "class Roll:\n",
    "    \n",
    "    min_value = 1 #A class variable that sets the minimum for each dice you can roll is 1\n",
    "    \n",
    "    def __init__(self, num, sides):\n",
    "        self.num = num #We can reuse the name num, since this is in a different class\n",
    "        self.sides = sides\n",
    "        self.min_value = Roll.min_value*num\n",
    "        self.max_value = num*sides\n",
    "        self.value = random.randrange(self.min_value, self.max_value)"
   ]
  },
  {
   "cell_type": "code",
   "execution_count": 8,
   "metadata": {},
   "outputs": [
    {
     "name": "stdout",
     "output_type": "stream",
     "text": [
      "6\n"
     ]
    }
   ],
   "source": [
    "roll1 = Roll(2, 6)\n",
    "print(roll1.value)"
   ]
  },
  {
   "cell_type": "code",
   "execution_count": 9,
   "metadata": {},
   "outputs": [
    {
     "name": "stdout",
     "output_type": "stream",
     "text": [
      "13\n"
     ]
    }
   ],
   "source": [
    "#There's a problem with this version of the Roll object: Right now, we can set \n",
    "#the value of the dice roll by setting the value attribute\n",
    "\n",
    "roll1.value = 13\n",
    "print(roll1.value)"
   ]
  },
  {
   "cell_type": "code",
   "execution_count": 10,
   "metadata": {},
   "outputs": [
    {
     "name": "stdout",
     "output_type": "stream",
     "text": [
      "2\n"
     ]
    }
   ],
   "source": [
    "#Notice how the roll value has been set to 13. But that's greater than the possible range\n",
    "#of values for rolling two dice.\n",
    "\n",
    "#We can help resolve this issue by creating a private attribute that is more difficult for\n",
    "#the user to access.\n",
    "\n",
    "class Roll:\n",
    "    \n",
    "    min_value = 1 #A class variable that sets the minimum for each dice you can roll is 1\n",
    "    \n",
    "    def __init__(self, num, sides):\n",
    "        self.num = num #We can reuse the name num, since this is in a different class\n",
    "        self.sides = sides\n",
    "        self.min_value = Roll.min_value*num\n",
    "        self.max_value = num*sides\n",
    "        self.__result = random.randrange(self.min_value, self.max_value)\n",
    "        #self.value = self.__result\n",
    "        \n",
    "    @property\n",
    "    def result(self):\n",
    "        return self.__result\n",
    "    \n",
    "    @result.setter\n",
    "    def result(self, new_result):\n",
    "        if (new_result >= Roll.min_value) and \\\n",
    "        (new_result <= self.max_value):\n",
    "            self.__result = result\n",
    "            \n",
    "roll1.result = 2 #We set the result to 2\n",
    "print(roll1.result)\n",
    "roll1.result = 123 #if we try setting it to value above 2, then it \n",
    "#stays the same\n",
    "\n"
   ]
  },
  {
   "cell_type": "code",
   "execution_count": 13,
   "metadata": {},
   "outputs": [
    {
     "name": "stdout",
     "output_type": "stream",
     "text": [
      "4\n"
     ]
    }
   ],
   "source": [
    "roll2 = Roll(num=2, sides=3)\n",
    "print(roll2.result) #This is better, we now can't access the attributes of the object\n",
    "#directly\n",
    "\n",
    "#However, whenever we call the display_value() method, it conducts a new roll"
   ]
  },
  {
   "cell_type": "code",
   "execution_count": 29,
   "metadata": {},
   "outputs": [],
   "source": [
    "#Let's now create a class for a simpler object - the coin\n",
    "class Coin:\n",
    "    \n",
    "    def __init__(self):\n",
    "        self.value = random.randrange(1, 3) \n",
    "        \n",
    "#This coin has a value that is set when it is created"
   ]
  },
  {
   "cell_type": "code",
   "execution_count": 15,
   "metadata": {},
   "outputs": [],
   "source": [
    "\n",
    "fair_coin = Coin()"
   ]
  },
  {
   "cell_type": "code",
   "execution_count": 26,
   "metadata": {},
   "outputs": [
    {
     "data": {
      "text/plain": [
       "1"
      ]
     },
     "execution_count": 26,
     "metadata": {},
     "output_type": "execute_result"
    }
   ],
   "source": [
    "fair_coin.value "
   ]
  },
  {
   "cell_type": "code",
   "execution_count": 27,
   "metadata": {},
   "outputs": [],
   "source": [
    "fair_coin2 = Coin()"
   ]
  },
  {
   "cell_type": "code",
   "execution_count": 28,
   "metadata": {},
   "outputs": [
    {
     "data": {
      "text/plain": [
       "2"
      ]
     },
     "execution_count": 28,
     "metadata": {},
     "output_type": "execute_result"
    }
   ],
   "source": [
    "fair_coin2.value"
   ]
  },
  {
   "cell_type": "code",
   "execution_count": null,
   "metadata": {},
   "outputs": [],
   "source": []
  },
  {
   "cell_type": "code",
   "execution_count": null,
   "metadata": {},
   "outputs": [],
   "source": []
  }
 ],
 "metadata": {
  "kernelspec": {
   "display_name": "Python 3",
   "language": "python",
   "name": "python3"
  },
  "language_info": {
   "codemirror_mode": {
    "name": "ipython",
    "version": 3
   },
   "file_extension": ".py",
   "mimetype": "text/x-python",
   "name": "python",
   "nbconvert_exporter": "python",
   "pygments_lexer": "ipython3",
   "version": "3.7.5"
  }
 },
 "nbformat": 4,
 "nbformat_minor": 4
}
