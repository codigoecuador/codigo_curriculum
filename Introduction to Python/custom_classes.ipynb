{
 "cells": [
  {
   "cell_type": "markdown",
   "metadata": {},
   "source": [
    "In this lesson we will create custom classes. A class is a type of object. All objects that have that type are members, or \"instances\" of the class."
   ]
  },
  {
   "cell_type": "markdown",
   "metadata": {},
   "source": [
    "# Real World Example:\n",
    "Villcabamba and Quito are both cities. "
   ]
  },
  {
   "cell_type": "code",
   "execution_count": 3,
   "metadata": {},
   "outputs": [],
   "source": [
    "class City:\n",
    "    def __init__(self, name):\n",
    "        self.name=name"
   ]
  },
  {
   "cell_type": "code",
   "execution_count": 4,
   "metadata": {},
   "outputs": [],
   "source": [
    "villcabamba = City('Villcabamba')\n",
    "quito = City('Quito')"
   ]
  },
  {
   "cell_type": "code",
   "execution_count": 5,
   "metadata": {},
   "outputs": [
    {
     "name": "stdout",
     "output_type": "stream",
     "text": [
      "<__main__.City object at 0x1100c2f10>\n",
      "Villcabamba\n"
     ]
    }
   ],
   "source": [
    "print(villcabamba)\n",
    "print(villcabamba.name) #class attribute"
   ]
  },
  {
   "cell_type": "markdown",
   "metadata": {},
   "source": [
    "All cities have certain features. They are all places where many people live and work. They all have roads, buildings, and houses. But the specifics are different. Quito is the capital of Ecuador, while Villcabamba is not."
   ]
  },
  {
   "cell_type": "code",
   "execution_count": 6,
   "metadata": {},
   "outputs": [],
   "source": [
    "#We can create a type of object for capitals with the same attributes as cities."
   ]
  },
  {
   "cell_type": "code",
   "execution_count": 7,
   "metadata": {},
   "outputs": [],
   "source": [
    "class Capital:\n",
    "    def __init__(self, name, country):\n",
    "        self.name=name\n",
    "        self.country=country"
   ]
  },
  {
   "cell_type": "code",
   "execution_count": 8,
   "metadata": {},
   "outputs": [],
   "source": [
    "quito = Capital(name='Quito', country='Ecuador')"
   ]
  },
  {
   "cell_type": "markdown",
   "metadata": {},
   "source": [
    "We now have two objects types. City has the name of a city, while Capital has the name of a capital. But isn't a capital just one type of city. There's one city in each country where the government is based.\n",
    "\n",
    "So all capitals are cities, but not all cities are capitals. But in Python, we can create a class known as a 'Child' class that inherits data from its parent type.\n",
    "\n",
    "A capital is a type of city, just as the type \"capital\" inherits from the type \"city\"."
   ]
  },
  {
   "cell_type": "code",
   "execution_count": 10,
   "metadata": {},
   "outputs": [],
   "source": [
    "#with inheritance\n",
    "class Capital(City):\n",
    "    def __init__(self, name, country):\n",
    "        self.name=name\n",
    "        self.country=country"
   ]
  },
  {
   "cell_type": "code",
   "execution_count": 11,
   "metadata": {},
   "outputs": [],
   "source": [
    "quito=Capital(name='Quito', country='Ecuador')"
   ]
  },
  {
   "cell_type": "markdown",
   "metadata": {},
   "source": [
    "This works, but it doesn't save us any code. Cities and capitals both have a name, and it is a label for what they are called. We can use the `super()` method to refer to the parent class.\n",
    "\n",
    "Let's redo the Capital class with the super() method."
   ]
  },
  {
   "cell_type": "code",
   "execution_count": 12,
   "metadata": {},
   "outputs": [],
   "source": [
    "class Capital(City):\n",
    "    def __init__(self, name, country):\n",
    "        super().__init__(name=name)\n",
    "        country=country"
   ]
  },
  {
   "cell_type": "code",
   "execution_count": 13,
   "metadata": {},
   "outputs": [],
   "source": [
    "quito = Capital(name='Quito', country='Ecuador')"
   ]
  },
  {
   "cell_type": "markdown",
   "metadata": {},
   "source": [
    "We can change the attributes of an object by assigning a value to them. For example:"
   ]
  },
  {
   "cell_type": "code",
   "execution_count": 16,
   "metadata": {},
   "outputs": [],
   "source": [
    "new_city = City(name='unknown')"
   ]
  },
  {
   "cell_type": "code",
   "execution_count": 17,
   "metadata": {},
   "outputs": [],
   "source": [
    "new_city.name = 'Villcabamba'"
   ]
  },
  {
   "cell_type": "markdown",
   "metadata": {},
   "source": [
    "What happens when we print the city object?"
   ]
  },
  {
   "cell_type": "code",
   "execution_count": 20,
   "metadata": {},
   "outputs": [
    {
     "name": "stdout",
     "output_type": "stream",
     "text": [
      "<__main__.City object at 0x110165050>\n"
     ]
    }
   ],
   "source": [
    "print(new_city) #We get the object's location in memory"
   ]
  },
  {
   "cell_type": "markdown",
   "metadata": {},
   "source": [
    "What if we want to display the name when we print the city. We can do this by using the object's special methods. These methods are shared by every object of the same type. The `__repr__` method displays the object's representation when we ask it to be printed."
   ]
  },
  {
   "cell_type": "code",
   "execution_count": 47,
   "metadata": {},
   "outputs": [],
   "source": [
    "class City:\n",
    "    def __init__(self, name):\n",
    "        self.name=name\n",
    "    \n",
    "    def __repr__(self):\n",
    "        return 'City: {0}'.format(self.name)"
   ]
  },
  {
   "cell_type": "code",
   "execution_count": 51,
   "metadata": {},
   "outputs": [],
   "source": [
    "class Capital(City):\n",
    "    def __init__(self, name, country):\n",
    "        super().__init__(name=name)\n",
    "        self.country=country"
   ]
  },
  {
   "cell_type": "code",
   "execution_count": 52,
   "metadata": {},
   "outputs": [],
   "source": [
    "quito=Capital(name='Quito', country='Ecuador')"
   ]
  },
  {
   "cell_type": "code",
   "execution_count": 53,
   "metadata": {},
   "outputs": [
    {
     "name": "stdout",
     "output_type": "stream",
     "text": [
      "City: Quito\n"
     ]
    }
   ],
   "source": [
    "print(quito)"
   ]
  },
  {
   "cell_type": "markdown",
   "metadata": {},
   "source": [
    "Now we have gotten the object to display the way we want."
   ]
  },
  {
   "cell_type": "code",
   "execution_count": null,
   "metadata": {},
   "outputs": [],
   "source": []
  }
 ],
 "metadata": {
  "kernelspec": {
   "display_name": "Python 3",
   "language": "python",
   "name": "python3"
  },
  "language_info": {
   "codemirror_mode": {
    "name": "ipython",
    "version": 3
   },
   "file_extension": ".py",
   "mimetype": "text/x-python",
   "name": "python",
   "nbconvert_exporter": "python",
   "pygments_lexer": "ipython3",
   "version": "3.7.5"
  }
 },
 "nbformat": 4,
 "nbformat_minor": 4
}
