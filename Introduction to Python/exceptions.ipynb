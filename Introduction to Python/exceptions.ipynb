{
 "cells": [
  {
   "cell_type": "markdown",
   "metadata": {},
   "source": [
    "In Python, if we try to get the computer to do something it is not allowed to do, the interpreter raises an exception. This prevents the program from getting caught in an inifinite loop, or even harming your computer."
   ]
  },
  {
   "cell_type": "code",
   "execution_count": 1,
   "metadata": {},
   "outputs": [
    {
     "ename": "ValueError",
     "evalue": "invalid literal for int() with base 10: 'a'",
     "output_type": "error",
     "traceback": [
      "\u001b[0;31m---------------------------------------------------------------------------\u001b[0m",
      "\u001b[0;31mValueError\u001b[0m                                Traceback (most recent call last)",
      "\u001b[0;32m<ipython-input-1-0a1f92a4f465>\u001b[0m in \u001b[0;36m<module>\u001b[0;34m\u001b[0m\n\u001b[1;32m      1\u001b[0m \u001b[0;31m#a simple example:\u001b[0m\u001b[0;34m\u001b[0m\u001b[0;34m\u001b[0m\u001b[0;34m\u001b[0m\u001b[0m\n\u001b[1;32m      2\u001b[0m \u001b[0mint\u001b[0m\u001b[0;34m(\u001b[0m\u001b[0;34m'5'\u001b[0m\u001b[0;34m)\u001b[0m \u001b[0;31m#works because 5 can be converted into an integer\u001b[0m\u001b[0;34m\u001b[0m\u001b[0;34m\u001b[0m\u001b[0m\n\u001b[0;32m----> 3\u001b[0;31m \u001b[0mint\u001b[0m\u001b[0;34m(\u001b[0m\u001b[0;34m'a'\u001b[0m\u001b[0;34m)\u001b[0m\u001b[0;34m\u001b[0m\u001b[0;34m\u001b[0m\u001b[0m\n\u001b[0m",
      "\u001b[0;31mValueError\u001b[0m: invalid literal for int() with base 10: 'a'"
     ]
    }
   ],
   "source": [
    "#a simple example:\n",
    "int('5') #works because 5 can be converted into an integer\n",
    "int('a')"
   ]
  },
  {
   "cell_type": "markdown",
   "metadata": {},
   "source": [
    "The last line should raise a ValueError exception. The interpreter terminates whatever it is doing and quits the program by default.\n",
    "\n",
    "But we can change this. We can handle the exceptions so the computer does what we tell it to do. For fun, let's tell the computer to convert the string into a number if we feed it an alphabetical character.\n",
    "\n",
    "We tell the computer what to do with a `try:` `except:` clause. The computer \"tries\" to execute the block under `try:` and if it encounters an exception then it does what the exception handling code tells it."
   ]
  },
  {
   "cell_type": "code",
   "execution_count": 2,
   "metadata": {},
   "outputs": [],
   "source": [
    "def make_int(num):\n",
    "    try: #try this first\n",
    "        return int(num)\n",
    "    except ValueError: #if we have an error\n",
    "        return(ord(num))"
   ]
  },
  {
   "cell_type": "code",
   "execution_count": 3,
   "metadata": {},
   "outputs": [
    {
     "data": {
      "text/plain": [
       "97"
      ]
     },
     "execution_count": 3,
     "metadata": {},
     "output_type": "execute_result"
    }
   ],
   "source": [
    "#Now let's try the new \"make_int\" function and watch what happens. It turns out that if we enter 'a' we\n",
    "#get 97. This is because 'a' is stored as 97 as a value. We access that value using the `ord()` function\n",
    "#Please note: you'll rarely do this in the real world\n",
    "\n",
    "make_int('a')"
   ]
  },
  {
   "cell_type": "markdown",
   "metadata": {},
   "source": [
    "Now lets have another version that cancels execution if there is a nonnumeric value entered. "
   ]
  },
  {
   "cell_type": "code",
   "execution_count": 4,
   "metadata": {},
   "outputs": [],
   "source": [
    "def make_int(num):\n",
    "    try:\n",
    "        return int(num)\n",
    "    except ValueError:\n",
    "        print('Must enter a valid number')"
   ]
  },
  {
   "cell_type": "code",
   "execution_count": 5,
   "metadata": {},
   "outputs": [
    {
     "name": "stdout",
     "output_type": "stream",
     "text": [
      "Must enter a valid number\n"
     ]
    }
   ],
   "source": [
    "make_int('a')"
   ]
  },
  {
   "cell_type": "markdown",
   "metadata": {},
   "source": [
    "So the `ValueError` exception is raised when we try to do something with a variable that is not allowed. For example, if we try to convert an alphanumeric character to a string value."
   ]
  },
  {
   "cell_type": "markdown",
   "metadata": {},
   "source": [
    "The next exception type we will address is the `TypeError` exception. This exception occurs when we try to do something to an object that the object's type doesn't allow. We can also print the text of the exception so that the user can see it."
   ]
  },
  {
   "cell_type": "code",
   "execution_count": 6,
   "metadata": {},
   "outputs": [
    {
     "ename": "TypeError",
     "evalue": "can only concatenate str (not \"int\") to str",
     "output_type": "error",
     "traceback": [
      "\u001b[0;31m---------------------------------------------------------------------------\u001b[0m",
      "\u001b[0;31mTypeError\u001b[0m                                 Traceback (most recent call last)",
      "\u001b[0;32m<ipython-input-6-7162563fa3b2>\u001b[0m in \u001b[0;36m<module>\u001b[0;34m\u001b[0m\n\u001b[1;32m      1\u001b[0m \u001b[0mabc\u001b[0m \u001b[0;34m=\u001b[0m \u001b[0;34m'abc'\u001b[0m\u001b[0;34m\u001b[0m\u001b[0;34m\u001b[0m\u001b[0m\n\u001b[1;32m      2\u001b[0m \u001b[0mtwelve\u001b[0m \u001b[0;34m=\u001b[0m \u001b[0;36m12\u001b[0m\u001b[0;34m\u001b[0m\u001b[0;34m\u001b[0m\u001b[0m\n\u001b[0;32m----> 3\u001b[0;31m \u001b[0mabc\u001b[0m\u001b[0;34m+\u001b[0m\u001b[0mtwelve\u001b[0m\u001b[0;34m\u001b[0m\u001b[0;34m\u001b[0m\u001b[0m\n\u001b[0m",
      "\u001b[0;31mTypeError\u001b[0m: can only concatenate str (not \"int\") to str"
     ]
    }
   ],
   "source": [
    "abc = 'abc'\n",
    "twelve = 12\n",
    "abc+twelve"
   ]
  },
  {
   "cell_type": "code",
   "execution_count": 7,
   "metadata": {},
   "outputs": [],
   "source": [
    "#Let's create a function to catch a ValueError:\n",
    "def combine(a, b):\n",
    "    try:\n",
    "        return a+b\n",
    "    except TypeError as e: #we assign the Variable e to ValueError\n",
    "        print(e)"
   ]
  },
  {
   "cell_type": "code",
   "execution_count": 8,
   "metadata": {},
   "outputs": [
    {
     "name": "stdout",
     "output_type": "stream",
     "text": [
      "unsupported operand type(s) for +: 'int' and 'str'\n"
     ]
    }
   ],
   "source": [
    "combine(4, 'a') #Text below should say \"unsupported operand type for +: 'int' and 'str'\""
   ]
  },
  {
   "cell_type": "markdown",
   "metadata": {},
   "source": [
    "Exception handling lets us make functions that take input from the user, and then ask for a correction if there is a problem with it. Let's see the basic example below that asks for someone to enter a whole number."
   ]
  },
  {
   "cell_type": "code",
   "execution_count": 20,
   "metadata": {},
   "outputs": [],
   "source": [
    "def get_value():\n",
    "    has_value = False\n",
    "    while has_value == False:\n",
    "        try:\n",
    "            value = int(input('Enter a whole number'))\n",
    "            print(value)\n",
    "            print('The value is', value)\n",
    "            has_value == True\n",
    "            break\n",
    "        except ValueError:\n",
    "            print('You must enter a whole number')\n",
    "            redo_choice = input('Enter another number? (type \"y\" to continue)')\n",
    "            redo_choice = redo_choice.lower()\n",
    "            if redo_choice == 'y':\n",
    "                continue\n",
    "            else:\n",
    "                has_value = True"
   ]
  },
  {
   "cell_type": "code",
   "execution_count": 21,
   "metadata": {},
   "outputs": [
    {
     "name": "stdin",
     "output_type": "stream",
     "text": [
      "Enter a whole number 3\n"
     ]
    },
    {
     "name": "stdout",
     "output_type": "stream",
     "text": [
      "3\n",
      "The value is 3\n"
     ]
    }
   ],
   "source": [
    "get_value()"
   ]
  },
  {
   "cell_type": "markdown",
   "metadata": {},
   "source": [
    "We just got a value from the user, and printed it if it is a whole number, and otherwise asked for \n",
    "the user to enter a whole number. We could tell the computer to do anything we want as part of the \n",
    "exception handling."
   ]
  },
  {
   "cell_type": "code",
   "execution_count": null,
   "metadata": {},
   "outputs": [],
   "source": []
  },
  {
   "cell_type": "code",
   "execution_count": null,
   "metadata": {},
   "outputs": [],
   "source": []
  }
 ],
 "metadata": {
  "kernelspec": {
   "display_name": "Python 3",
   "language": "python",
   "name": "python3"
  },
  "language_info": {
   "codemirror_mode": {
    "name": "ipython",
    "version": 3
   },
   "file_extension": ".py",
   "mimetype": "text/x-python",
   "name": "python",
   "nbconvert_exporter": "python",
   "pygments_lexer": "ipython3",
   "version": "3.7.5"
  }
 },
 "nbformat": 4,
 "nbformat_minor": 4
}
