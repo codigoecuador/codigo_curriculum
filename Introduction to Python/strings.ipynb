{
 "cells": [
  {
   "cell_type": "markdown",
   "metadata": {},
   "source": [
    "Strings are Python's datatype for text."
   ]
  },
  {
   "cell_type": "code",
   "execution_count": 22,
   "metadata": {},
   "outputs": [],
   "source": [
    "red = 'red' #Python doesn't know what the string means.\n",
    "blue = 'blue' \n",
    "empty_string = '' #a string can consist of nothing\n",
    "blank_space = ' ' #a string can also be a blank space"
   ]
  },
  {
   "cell_type": "code",
   "execution_count": 26,
   "metadata": {},
   "outputs": [
    {
     "name": "stdout",
     "output_type": "stream",
     "text": [
      "redblue\n",
      "red blue\n",
      "red blue\n"
     ]
    }
   ],
   "source": [
    "#Python has a vast array of functions that we can use to manipulate strings.\n",
    "#The first is addition, or concatenation, where we combine two strings\n",
    "print(red+blue) #notice there are no spaces between them\n",
    "print(red+blank_space+blue) #when we add the blank space we now have a space\n",
    "print(red+' '+blue)\n",
    "#red.capitalize()"
   ]
  },
  {
   "cell_type": "code",
   "execution_count": 28,
   "metadata": {},
   "outputs": [
    {
     "data": {
      "text/plain": [
       "'RED'"
      ]
     },
     "execution_count": 28,
     "metadata": {},
     "output_type": "execute_result"
    }
   ],
   "source": [
    "#We can format strings with Python's string methods\n",
    "red.upper() #displays the string with all the letters uppercase"
   ]
  },
  {
   "cell_type": "code",
   "execution_count": 29,
   "metadata": {},
   "outputs": [],
   "source": [
    "#We can do the same thing with lowercase\n",
    "red.lower()"
   ]
  },
  {
   "cell_type": "code",
   "execution_count": 30,
   "metadata": {},
   "outputs": [],
   "source": [
    "#We can use the .upper() and .lower() methods to see whether or not two strings\n",
    "#have the same characters:\n",
    "def spells_red(value):\n",
    "    if value.lower() == 'red':\n",
    "        print('The color is red!')\n",
    "    else:\n",
    "        print('The color must be something else')\n",
    "        "
   ]
  },
  {
   "cell_type": "code",
   "execution_count": 30,
   "metadata": {},
   "outputs": [],
   "source": [
    "spells_red('RED')\n",
    "spells_red('redx')"
   ]
  },
  {
   "cell_type": "code",
   "execution_count": 34,
   "metadata": {},
   "outputs": [],
   "source": [
    "#we can also do the exact same thing with the .upper() method\n",
    "def spells_blue(value):\n",
    "    if value.upper() == 'BLUE':\n",
    "        print('The color is blue!')\n",
    "    else:\n",
    "        print('The color must be something else')"
   ]
  },
  {
   "cell_type": "code",
   "execution_count": 35,
   "metadata": {},
   "outputs": [
    {
     "name": "stdout",
     "output_type": "stream",
     "text": [
      "The color is blue!\n",
      "The color must be something else\n"
     ]
    }
   ],
   "source": [
    "spells_blue('BLUE')\n",
    "spells_blue('bluex')"
   ]
  },
  {
   "cell_type": "markdown",
   "metadata": {},
   "source": [
    "Sometimes we ask users for input, but we leave room for error. If we want to know if someone typed the word \"blue\" then we don't necessarily need to know if it is upper or lower case."
   ]
  },
  {
   "cell_type": "markdown",
   "metadata": {},
   "source": [
    "Strings can be as short as a single empty series of quotation marks, or as long as an entire book. Python gives us a lot of powerful methods for looking at string data."
   ]
  },
  {
   "cell_type": "code",
   "execution_count": 5,
   "metadata": {},
   "outputs": [],
   "source": []
  },
  {
   "cell_type": "code",
   "execution_count": 5,
   "metadata": {},
   "outputs": [
    {
     "name": "stdout",
     "output_type": "stream",
     "text": [
      "desserts are great when you feel stressed\n"
     ]
    }
   ],
   "source": [
    "#We may feel stressed over our attempts to reverse a string, but we can use a simple \n",
    "#index trick to make it happen\n",
    "\n",
    "stressed = 'stressed' # we are 'stressed'\n",
    "desserts = stressed[::-1] #we use the indexing to reverse the string\n",
    "print(desserts, 'are great when you feel', stressed)"
   ]
  },
  {
   "cell_type": "markdown",
   "metadata": {},
   "source": [
    "The strings \"stressed\" and \"desserts\" are called palindromes because one string is the reverse of the other string.\n",
    "\n",
    "Extra credit: create a function that takes two strings and determines whether or not the two strings are a palindrome."
   ]
  },
  {
   "cell_type": "code",
   "execution_count": null,
   "metadata": {},
   "outputs": [],
   "source": []
  }
 ],
 "metadata": {
  "kernelspec": {
   "display_name": "Python 3",
   "language": "python",
   "name": "python3"
  },
  "language_info": {
   "codemirror_mode": {
    "name": "ipython",
    "version": 3
   },
   "file_extension": ".py",
   "mimetype": "text/x-python",
   "name": "python",
   "nbconvert_exporter": "python",
   "pygments_lexer": "ipython3",
   "version": "3.7.5"
  }
 },
 "nbformat": 4,
 "nbformat_minor": 4
}
