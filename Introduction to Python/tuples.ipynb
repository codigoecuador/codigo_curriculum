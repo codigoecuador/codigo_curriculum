{
 "cells": [
  {
   "cell_type": "markdown",
   "metadata": {},
   "source": [
    "The Python tuple datatype is like a list, but once you make it, it stays how it is. Tuples can't be changed, only deleted or replaced. This makes them what we call \"immutable\". "
   ]
  },
  {
   "cell_type": "code",
   "execution_count": 5,
   "metadata": {},
   "outputs": [
    {
     "name": "stdout",
     "output_type": "stream",
     "text": [
      "Plants: ('Grass', 'Corn', 'Wheat')\n",
      "Colors: ('Red', 'Blue', 'Yellow')\n",
      "Multiples of 2: (2, 4, 8, 16, 32)\n"
     ]
    }
   ],
   "source": [
    "#Tuples are created just as easily as lists.\n",
    "#We just use curly brackets instead of square brackets \n",
    "plants = ('Grass', 'Corn', 'Wheat')\n",
    "colors = ('Red', 'Blue', 'Yellow')\n",
    "multiples_of_2 = (2, 4, 8, 16, 32)\n",
    "print('Plants:', plants)\n",
    "print('Colors:', colors)\n",
    "print('Multiples of 2:', multiples_of_2)"
   ]
  },
  {
   "cell_type": "code",
   "execution_count": null,
   "metadata": {},
   "outputs": [],
   "source": [
    "#If we try to add the "
   ]
  }
 ],
 "metadata": {
  "kernelspec": {
   "display_name": "Python 3",
   "language": "python",
   "name": "python3"
  },
  "language_info": {
   "codemirror_mode": {
    "name": "ipython",
    "version": 3
   },
   "file_extension": ".py",
   "mimetype": "text/x-python",
   "name": "python",
   "nbconvert_exporter": "python",
   "pygments_lexer": "ipython3",
   "version": "3.7.5"
  }
 },
 "nbformat": 4,
 "nbformat_minor": 4
}
