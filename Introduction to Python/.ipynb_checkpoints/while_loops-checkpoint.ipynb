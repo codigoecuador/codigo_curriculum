{
 "cells": [
  {
   "cell_type": "markdown",
   "metadata": {},
   "source": [
    "Sometimes we need to loop over something, but we don't know how many times. We use a `while` loop in this situation.\n",
    "\n",
    "Question: What's the difference between a for loop and a while loop?\n",
    "\n",
    "Answer: A for loop runs a set number of times, while a while loop runs while some condition is true."
   ]
  },
  {
   "cell_type": "code",
   "execution_count": 3,
   "metadata": {},
   "outputs": [
    {
     "name": "stdout",
     "output_type": "stream",
     "text": [
      "5 loop runs remaining\n",
      "4 loop runs remaining\n",
      "3 loop runs remaining\n",
      "2 loop runs remaining\n",
      "1 loop runs remaining\n",
      "0 loop runs remaining\n"
     ]
    }
   ],
   "source": [
    "number = 5 \n",
    "while number >=0:\n",
    "    print(number, 'loop runs remaining')\n",
    "    number -= 1 #be sure to subtract one to avoid an infinite loop"
   ]
  },
  {
   "cell_type": "code",
   "execution_count": 3,
   "metadata": {},
   "outputs": [
    {
     "name": "stdout",
     "output_type": "stream",
     "text": [
      "Guess the number!\n"
     ]
    },
    {
     "name": "stdin",
     "output_type": "stream",
     "text": [
      "Enter a number between 1 and 10:  1\n"
     ]
    },
    {
     "name": "stdout",
     "output_type": "stream",
     "text": [
      "higher\n",
      "Guess the number!\n"
     ]
    },
    {
     "name": "stdin",
     "output_type": "stream",
     "text": [
      "Enter a number between 1 and 10:  10\n"
     ]
    },
    {
     "name": "stdout",
     "output_type": "stream",
     "text": [
      "lower\n",
      "Guess the number!\n"
     ]
    },
    {
     "name": "stdin",
     "output_type": "stream",
     "text": [
      "Enter a number between 1 and 10:  5\n"
     ]
    },
    {
     "name": "stdout",
     "output_type": "stream",
     "text": [
      "lower\n",
      "Guess the number!\n"
     ]
    },
    {
     "name": "stdin",
     "output_type": "stream",
     "text": [
      "Enter a number between 1 and 10:  3\n"
     ]
    }
   ],
   "source": [
    "#We can use a while loop to guess random numbers\n",
    "#we exit from a loop when the loop's condition is true\n",
    "import random\n",
    "num = random.randint(1, 10)\n",
    "\n",
    "guess = None\n",
    "while guess != num: #the loop will repeat as long as the guess is not the number\n",
    "    print('Guess the number!')\n",
    "    guess = int(input('Enter a number between 1 and 10: '))\n",
    "    if guess > num:\n",
    "        print('lower')\n",
    "    elif guess < num:\n",
    "        print('higher')"
   ]
  },
  {
   "cell_type": "code",
   "execution_count": 2,
   "metadata": {},
   "outputs": [
    {
     "name": "stdin",
     "output_type": "stream",
     "text": [
      "Please enter a number 4\n"
     ]
    }
   ],
   "source": [
    "#We can also break out of a loop manually with the break statement\n",
    "while True: #will continue until the loop is broken\n",
    "    value = input('Please enter a number')\n",
    "    if value.isnumeric() == True: #if its a number it breaks out of the loop\n",
    "        break"
   ]
  },
  {
   "cell_type": "code",
   "execution_count": 2,
   "metadata": {},
   "outputs": [
    {
     "name": "stdin",
     "output_type": "stream",
     "text": [
      "Please enter a number other than zero:  0\n",
      "Please enter a number other than zero:  2\n"
     ]
    }
   ],
   "source": [
    "#what if we want to continue if the value is zero, but break out of the loop\n",
    "#with any other number\n",
    "while True:\n",
    "    value = input('Please enter a number other than zero: ')\n",
    "    if int(value) == 0:\n",
    "        continue\n",
    "    elif value.isnumeric():\n",
    "        break"
   ]
  },
  {
   "cell_type": "code",
   "execution_count": null,
   "metadata": {},
   "outputs": [],
   "source": []
  }
 ],
 "metadata": {
  "kernelspec": {
   "display_name": "Python 3",
   "language": "python",
   "name": "python3"
  },
  "language_info": {
   "codemirror_mode": {
    "name": "ipython",
    "version": 3
   },
   "file_extension": ".py",
   "mimetype": "text/x-python",
   "name": "python",
   "nbconvert_exporter": "python",
   "pygments_lexer": "ipython3",
   "version": "3.7.5"
  }
 },
 "nbformat": 4,
 "nbformat_minor": 4
}
