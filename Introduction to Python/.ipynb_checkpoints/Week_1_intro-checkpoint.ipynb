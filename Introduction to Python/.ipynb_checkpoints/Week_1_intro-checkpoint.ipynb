{
 "cells": [
  {
   "cell_type": "markdown",
   "metadata": {},
   "source": [
    "Welcome to Codigo Ecuador! For our first lesson, we will show you how to display \"hello world\" on the screen.\n",
    "\n",
    "In Python, we can display \"hello world\" by typing print('hello world')"
   ]
  },
  {
   "cell_type": "code",
   "execution_count": 4,
   "metadata": {},
   "outputs": [
    {
     "name": "stdout",
     "output_type": "stream",
     "text": [
      "hello world\n"
     ]
    }
   ],
   "source": [
    "print('hello world')"
   ]
  },
  {
   "cell_type": "markdown",
   "metadata": {},
   "source": [
    "Congratulations! You have just written your first program!"
   ]
  },
  {
   "cell_type": "code",
   "execution_count": 5,
   "metadata": {},
   "outputs": [
    {
     "ename": "SyntaxError",
     "evalue": "unexpected EOF while parsing (<ipython-input-5-d95fd5393f42>, line 3)",
     "output_type": "error",
     "traceback": [
      "\u001b[0;36m  File \u001b[0;32m\"<ipython-input-5-d95fd5393f42>\"\u001b[0;36m, line \u001b[0;32m3\u001b[0m\n\u001b[0;31m    print('hello world'\u001b[0m\n\u001b[0m                       ^\u001b[0m\n\u001b[0;31mSyntaxError\u001b[0m\u001b[0;31m:\u001b[0m unexpected EOF while parsing\n"
     ]
    }
   ],
   "source": [
    "#What happens if we forget to close the parentheses? \n",
    "\n",
    "print('hello world'"
   ]
  },
  {
   "cell_type": "markdown",
   "metadata": {},
   "source": [
    "Uh oh! We have an error. Let's add a closing bracket and try it again."
   ]
  },
  {
   "cell_type": "code",
   "execution_count": 6,
   "metadata": {},
   "outputs": [
    {
     "name": "stdout",
     "output_type": "stream",
     "text": [
      "hello world\n"
     ]
    }
   ],
   "source": [
    "print('hello world')"
   ]
  },
  {
   "cell_type": "markdown",
   "metadata": {},
   "source": [
    "What happens if you type \"print('hello world')\" and receive an error message?\n",
    "\n",
    "Check with your teacher, but if there is still a problem its not your fault. You\n",
    "might be using Python 2 instead of Python 3. You can identify the version in IDLE\n",
    "when it first starts up. This is what it should look like:\n",
    "    \n",
    "Python 3.7.3 (v3.7.3:ef4ec6ed12, Mar 25 2019, 16:52:21) \n",
    "[Clang 6.0 (clang-600.0.57)] on darwin\n",
    "Type \"help\", \"copyright\", \"credits\" or \"license()\" for more information.\n",
    "\n",
    "If instead you see something like this then you may have opened the wrong version\n",
    "of IDLE:\n",
    "    \n",
    "Python 2.7 (v3.7.3:ef4ec6ed12, Mar 25 2019, 16:52:21) \n",
    "[Clang 6.0 (clang-600.0.57)] on darwin\n",
    "Type \"help\", \"copyright\", \"credits\" or \"license()\" for more information.\n",
    "\n",
    "Close the Python 2 version of IDLE, and open the Python 3 version in the same menu."
   ]
  },
  {
   "cell_type": "markdown",
   "metadata": {},
   "source": [
    "Python 3 vs. Python 2:\n",
    "    \n",
    "At the start, we should discuss the difference between Python 3 and Python 2.\n",
    "Python was created by Guido Van Rossum in 1990. He sought to create a programming\n",
    "language that would be easy to learn but usable. Python is an open source project\n",
    "to which anyone can contribute. In time, the numbers of contributors and users \n",
    "grew, and Version 2.0 was released in 2000.\n",
    "\n",
    "Over time, the community supporting and using Python grew by leaps and bounds. It\n",
    "became clear that a redesign was needed.\n",
    "\n",
    "In 2008, Guido Van Rossum took the decision to launch a new version, Python 3.0,\n",
    "which is what we will be learning, as the team of dedicated volunteers will stop\n",
    "supporting Python 2 after January 1st, 2020."
   ]
  },
  {
   "cell_type": "code",
   "execution_count": null,
   "metadata": {},
   "outputs": [],
   "source": []
  }
 ],
 "metadata": {
  "kernelspec": {
   "display_name": "Python 3",
   "language": "python",
   "name": "python3"
  },
  "language_info": {
   "codemirror_mode": {
    "name": "ipython",
    "version": 3
   },
   "file_extension": ".py",
   "mimetype": "text/x-python",
   "name": "python",
   "nbconvert_exporter": "python",
   "pygments_lexer": "ipython3",
   "version": "3.7.5"
  }
 },
 "nbformat": 4,
 "nbformat_minor": 4
}
