{
 "cells": [
  {
   "cell_type": "markdown",
   "metadata": {},
   "source": [
    "In our first lessons about classes, we have covered making a normal, standard class. But in this lesson we will learn that there are other, easier types of classes that we can make. These classes come with many of the magic methods like __repr__ pre-filled."
   ]
  },
  {
   "cell_type": "code",
   "execution_count": 23,
   "metadata": {},
   "outputs": [],
   "source": [
    "#the first simple type of class is namedtuple\n",
    "#import namedtuple from the collections module"
   ]
  },
  {
   "cell_type": "code",
   "execution_count": 24,
   "metadata": {},
   "outputs": [],
   "source": [
    "import datetime \n",
    "from collections import namedtuple"
   ]
  },
  {
   "cell_type": "code",
   "execution_count": 25,
   "metadata": {},
   "outputs": [],
   "source": [
    "#A namedtuple is exactly like a Tuple, but each slot in it has a name that\n",
    "#specifies the contents"
   ]
  },
  {
   "cell_type": "code",
   "execution_count": 26,
   "metadata": {},
   "outputs": [],
   "source": [
    "Student = namedtuple('Student', ['first_name', 'last_name', 'start_date'])"
   ]
  },
  {
   "cell_type": "code",
   "execution_count": 27,
   "metadata": {},
   "outputs": [],
   "source": [
    "steve1 = Student('Steve', 'Williams', datetime.date(2019, 12, 1))"
   ]
  },
  {
   "cell_type": "code",
   "execution_count": 28,
   "metadata": {},
   "outputs": [
    {
     "data": {
      "text/plain": [
       "Student2(first_name='Steve', last_name='Williams', start_date=datetime.date(2019, 12, 15))"
      ]
     },
     "execution_count": 28,
     "metadata": {},
     "output_type": "execute_result"
    }
   ],
   "source": [
    "steve"
   ]
  },
  {
   "cell_type": "code",
   "execution_count": 29,
   "metadata": {},
   "outputs": [],
   "source": [
    "#Notice how when we print 'steve' it shows a pre-baked format. This means that the\n",
    "#namedtuple comes with a default __repr__ method"
   ]
  },
  {
   "cell_type": "code",
   "execution_count": 30,
   "metadata": {},
   "outputs": [],
   "source": [
    "#A NamedTuple is just like a Tuple, but it allows for type hinting\n",
    "from typing import NamedTuple\n",
    "class Student2(NamedTuple):\n",
    "    first_name: str\n",
    "    last_name: str\n",
    "    start_date: datetime.date"
   ]
  },
  {
   "cell_type": "code",
   "execution_count": 31,
   "metadata": {},
   "outputs": [],
   "source": [
    "steve2 = Student2(first_name='Steve', last_name='Williams', start_date = datetime.date(2019, 12,15))"
   ]
  },
  {
   "cell_type": "code",
   "execution_count": 33,
   "metadata": {},
   "outputs": [
    {
     "name": "stdout",
     "output_type": "stream",
     "text": [
      "Student2(first_name='Steve', last_name='Williams', start_date=datetime.date(2019, 12, 15))\n"
     ]
    }
   ],
   "source": [
    "#When we print 'steve2' we see that it has a __repr__ and __str__ functions\n",
    "#already pre-written\n",
    "print(steve2)"
   ]
  },
  {
   "cell_type": "markdown",
   "metadata": {},
   "source": [
    "We can also add more methods to the NamedTuple, for example, how would we display the student's first name and last name one after another. We can create a new property called \"full_name\" that returns the two names together."
   ]
  },
  {
   "cell_type": "code",
   "execution_count": 49,
   "metadata": {},
   "outputs": [],
   "source": [
    "from typing import NamedTuple\n",
    "class Student3(NamedTuple):\n",
    "    first_name: str\n",
    "    last_name: str\n",
    "    start_date: datetime.date\n",
    "        \n",
    "    def full_name(self): #just like any other class, so we can add methods\n",
    "        return self.first_name + ' ' + self.last_name #we use 'self'"
   ]
  },
  {
   "cell_type": "code",
   "execution_count": 50,
   "metadata": {},
   "outputs": [],
   "source": [
    "sara = Student3('Sara', 'Alvarez', datetime.date(2019, 12, 20))"
   ]
  },
  {
   "cell_type": "code",
   "execution_count": 51,
   "metadata": {},
   "outputs": [
    {
     "data": {
      "text/plain": [
       "'Sara Alvarez'"
      ]
     },
     "execution_count": 51,
     "metadata": {},
     "output_type": "execute_result"
    }
   ],
   "source": [
    "sara.full_name()"
   ]
  },
  {
   "cell_type": "code",
   "execution_count": 38,
   "metadata": {},
   "outputs": [],
   "source": [
    "#namedtuple and NamedTuple, its typed variant, are two easy classes that let us \n",
    "#avoid the difficulties of trying to create new classes all our own"
   ]
  },
  {
   "cell_type": "code",
   "execution_count": 45,
   "metadata": {},
   "outputs": [
    {
     "name": "stdout",
     "output_type": "stream",
     "text": [
      "We cannot set this attribute.\n"
     ]
    }
   ],
   "source": [
    "#There is one issue with namedtuple and its typed NamedTuple variant: as Tuples,\n",
    "#these instances are immutable.\n",
    "\n",
    "#if we try to set an attribute after we create a namedtuple, then we will get an\n",
    "#AttributeError\n",
    "try:\n",
    "    sara.first_name = 'Sarah'\n",
    "except AttributeError as e:\n",
    "    print('We cannot set this attribute.')"
   ]
  },
  {
   "cell_type": "markdown",
   "metadata": {},
   "source": [
    "The `dataclass` first introduced in Python 3.7 offers a simple class specified by a decorator. It's attributes are mutable, but otherwise it behaves the same as other Python classes."
   ]
  },
  {
   "cell_type": "code",
   "execution_count": 46,
   "metadata": {},
   "outputs": [],
   "source": [
    "#first, we import dataclasses\n",
    "from dataclasses import dataclass"
   ]
  },
  {
   "cell_type": "code",
   "execution_count": 52,
   "metadata": {},
   "outputs": [],
   "source": [
    "@dataclass\n",
    "class Student4:\n",
    "    first_name: str\n",
    "    last_name: str\n",
    "    date_started: datetime.date"
   ]
  },
  {
   "cell_type": "code",
   "execution_count": 53,
   "metadata": {},
   "outputs": [],
   "source": [
    "jessica = Student4('Jessica', 'Fuentes', datetime.date(2019, 12, 20))"
   ]
  },
  {
   "cell_type": "code",
   "execution_count": 57,
   "metadata": {},
   "outputs": [
    {
     "name": "stdout",
     "output_type": "stream",
     "text": [
      "Student4(first_name='Jessica', last_name='Fuentes', date_started=datetime.date(2019, 12, 20))\n"
     ]
    }
   ],
   "source": [
    "#Let's print \"jessica\" to see how dataclasses are displayed by the computer\n",
    "print(jessica)"
   ]
  },
  {
   "cell_type": "markdown",
   "metadata": {},
   "source": [
    "As we can see, dataclasses and namedtuples (as well as NamedTuples) offer us the ability to use simple classes with many of their methods already defined for us."
   ]
  }
 ],
 "metadata": {
  "kernelspec": {
   "display_name": "Python 3",
   "language": "python",
   "name": "python3"
  },
  "language_info": {
   "codemirror_mode": {
    "name": "ipython",
    "version": 3
   },
   "file_extension": ".py",
   "mimetype": "text/x-python",
   "name": "python",
   "nbconvert_exporter": "python",
   "pygments_lexer": "ipython3",
   "version": "3.7.5"
  }
 },
 "nbformat": 4,
 "nbformat_minor": 4
}
