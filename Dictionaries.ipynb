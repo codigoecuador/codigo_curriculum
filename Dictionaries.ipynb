{
 "cells": [
  {
   "cell_type": "markdown",
   "metadata": {},
   "source": [
    "Lesson: Dictionaries\n",
    "\n",
    "The dictionary is one of Python's most powerful data structures. Let's find out what makes\n",
    "a dictionary special.\n",
    "\n",
    "A dictionary is just that: a dictionary. You have a word (or key) that you look up and it contains a value. At a high level, this is the same way that a paper dictionary contains words."
   ]
  },
  {
   "cell_type": "code",
   "execution_count": 49,
   "metadata": {},
   "outputs": [],
   "source": [
    "#Create an empty dictionary by using two curly brackets\n",
    "courses = {}\n",
    "\n",
    "#another way of creating an empty dictionary is using the dict function\n",
    "courses_2 = dict()"
   ]
  },
  {
   "cell_type": "code",
   "execution_count": 68,
   "metadata": {},
   "outputs": [],
   "source": [
    "#Create a dictionary manually by adding a colon between each key and value\n",
    "haircuts = {'buzz cut': 12, 'shave': 14, 'women\\'s haircut': 16}\n",
    "\n",
    "#dictionaries can contain any datatype\n",
    "horse = {'name':'Thunderbolt', 'jockey': 'Pablo Fuentes', 'Winnings': 4452.24, 'is filly': False}\n",
    "#Here, we have a dictionary for horses, with strings, floats, and a boolean value if\n",
    "#the horse is a filly, or female horse.\n",
    "\n",
    "#We can use a list as one of the elements of a dictionary\n",
    "course = {'course name': 'Python 3',\n",
    "         'teacher': 'Debra',\n",
    "         'students': ['Eliza', 'Laura', 'Rachel']}"
   ]
  },
  {
   "cell_type": "code",
   "execution_count": 63,
   "metadata": {},
   "outputs": [],
   "source": [
    "#add a value to a dictionary by enclosing the desired key in brackets and the value after\n",
    "#the = sign\n",
    "courses['computer science'] = 'Python 2'"
   ]
  },
  {
   "cell_type": "code",
   "execution_count": 27,
   "metadata": {},
   "outputs": [
    {
     "data": {
      "text/plain": [
       "{'computer science': 'Python 2', 'mathematics': 'Algebra'}"
      ]
     },
     "execution_count": 27,
     "metadata": {},
     "output_type": "execute_result"
    }
   ],
   "source": [
    "#We don't know Python 2, but let's enter it here anyway.\n",
    "courses"
   ]
  },
  {
   "cell_type": "code",
   "execution_count": 64,
   "metadata": {},
   "outputs": [],
   "source": [
    "#let's add another course\n",
    "courses['mathematics'] = 'Algebra'"
   ]
  },
  {
   "cell_type": "code",
   "execution_count": 65,
   "metadata": {},
   "outputs": [
    {
     "data": {
      "text/plain": [
       "'Python 2'"
      ]
     },
     "execution_count": 65,
     "metadata": {},
     "output_type": "execute_result"
    }
   ],
   "source": [
    "courses['computer science'] #computer science is the key, and 'Python 2' is the value"
   ]
  },
  {
   "cell_type": "code",
   "execution_count": 30,
   "metadata": {},
   "outputs": [
    {
     "ename": "KeyError",
     "evalue": "'math'",
     "output_type": "error",
     "traceback": [
      "\u001b[0;31m---------------------------------------------------------------------------\u001b[0m",
      "\u001b[0;31mKeyError\u001b[0m                                  Traceback (most recent call last)",
      "\u001b[0;32m<ipython-input-30-661b7192f208>\u001b[0m in \u001b[0;36m<module>\u001b[0;34m\u001b[0m\n\u001b[0;32m----> 1\u001b[0;31m \u001b[0mcourses\u001b[0m\u001b[0;34m[\u001b[0m\u001b[0;34m'math'\u001b[0m\u001b[0;34m]\u001b[0m \u001b[0;31m#Raises an error when a course is not offered.\u001b[0m\u001b[0;34m\u001b[0m\u001b[0;34m\u001b[0m\u001b[0m\n\u001b[0m",
      "\u001b[0;31mKeyError\u001b[0m: 'math'"
     ]
    }
   ],
   "source": [
    "#What happens when we attempt to access a value that does not exist? It turns out that \n",
    "#python throws an exception\n",
    "courses['math'] #Raises an error when a course is not offered."
   ]
  },
  {
   "cell_type": "code",
   "execution_count": 31,
   "metadata": {},
   "outputs": [
    {
     "data": {
      "text/plain": [
       "{'computer science': 'Python 2', 'mathematics': 'Algebra'}"
      ]
     },
     "execution_count": 31,
     "metadata": {},
     "output_type": "execute_result"
    }
   ],
   "source": [
    "courses"
   ]
  },
  {
   "cell_type": "code",
   "execution_count": 33,
   "metadata": {},
   "outputs": [],
   "source": [
    "courses.update({'computer science':'Python 3'})"
   ]
  },
  {
   "cell_type": "code",
   "execution_count": 34,
   "metadata": {},
   "outputs": [
    {
     "data": {
      "text/plain": [
       "{'computer science': 'Python 3', 'mathematics': 'Algebra'}"
      ]
     },
     "execution_count": 34,
     "metadata": {},
     "output_type": "execute_result"
    }
   ],
   "source": [
    "courses"
   ]
  },
  {
   "cell_type": "code",
   "execution_count": 35,
   "metadata": {},
   "outputs": [],
   "source": [
    "#We fixed the name of the Python course."
   ]
  },
  {
   "cell_type": "markdown",
   "metadata": {},
   "source": [
    "A nifty trick with dictionaries is the ability to save and reload them using Python's json module. The creators of Javascript happened to leave us with a datatype that is very similar to the dictionary. So similar in fact that we can save dictionaries using it. Let's check it out:"
   ]
  },
  {
   "cell_type": "code",
   "execution_count": 38,
   "metadata": {},
   "outputs": [],
   "source": [
    "import json #load the json library\n",
    "with open('course_record.json', 'w') as cr:\n",
    "    json.dump(courses, cr)"
   ]
  },
  {
   "cell_type": "code",
   "execution_count": 47,
   "metadata": {},
   "outputs": [],
   "source": [
    "#We have just saved our dictionary to JSON format. Now let's bring it back to our program.\n",
    "import json #load the json library\n",
    "with open('course_record.json', 'r') as cr:\n",
    "    courses = json.load(cr)"
   ]
  },
  {
   "cell_type": "code",
   "execution_count": 48,
   "metadata": {},
   "outputs": [
    {
     "name": "stdout",
     "output_type": "stream",
     "text": [
      "{'computer science': 'Python 3', 'mathematics': 'Algebra'}\n"
     ]
    }
   ],
   "source": [
    "#Let's print courses just to make sure\n",
    "print(courses)"
   ]
  },
  {
   "cell_type": "code",
   "execution_count": 58,
   "metadata": {},
   "outputs": [],
   "source": [
    "#One of the things that makes dictionaries so powerful is you can use them to store\n",
    "#collections of objects with different types.\n",
    "\n",
    "fruit = {'Type':'Apple', 'Price': 25}"
   ]
  },
  {
   "cell_type": "code",
   "execution_count": 59,
   "metadata": {},
   "outputs": [
    {
     "data": {
      "text/plain": [
       "{'Type': 'Apple', 'Price': 25}"
      ]
     },
     "execution_count": 59,
     "metadata": {},
     "output_type": "execute_result"
    }
   ],
   "source": [
    "fruit"
   ]
  },
  {
   "cell_type": "code",
   "execution_count": 60,
   "metadata": {},
   "outputs": [],
   "source": [
    "#We can also operate on any element of the dictionary. For example, we forgot to add the \n",
    "#quantity to this dictionary\n",
    "fruit['quantity'] = 25\n",
    "\n",
    "#But now we have a problem, because no store charges $25 for an apple\n",
    "#So we need to divide the total price by 5"
   ]
  },
  {
   "cell_type": "code",
   "execution_count": 61,
   "metadata": {},
   "outputs": [],
   "source": [
    "#Here we take the fruit price and divide it by 25\n",
    "fruit['Price'] /= 25\n"
   ]
  },
  {
   "cell_type": "code",
   "execution_count": 62,
   "metadata": {},
   "outputs": [
    {
     "data": {
      "text/plain": [
       "{'Type': 'Apple', 'Price': 1.0, 'quantity': 25}"
      ]
     },
     "execution_count": 62,
     "metadata": {},
     "output_type": "execute_result"
    }
   ],
   "source": [
    "#What if we want the quantity to change each time we add an apple\n"
   ]
  },
  {
   "cell_type": "code",
   "execution_count": null,
   "metadata": {},
   "outputs": [],
   "source": []
  }
 ],
 "metadata": {
  "kernelspec": {
   "display_name": "Python 3",
   "language": "python",
   "name": "python3"
  },
  "language_info": {
   "codemirror_mode": {
    "name": "ipython",
    "version": 3
   },
   "file_extension": ".py",
   "mimetype": "text/x-python",
   "name": "python",
   "nbconvert_exporter": "python",
   "pygments_lexer": "ipython3",
   "version": "3.7.4"
  }
 },
 "nbformat": 4,
 "nbformat_minor": 2
}
