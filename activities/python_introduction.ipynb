{
 "cells": [
  {
   "cell_type": "code",
   "execution_count": 1,
   "metadata": {},
   "outputs": [],
   "source": [
    "#Acti for the Python intro course"
   ]
  },
  {
   "cell_type": "markdown",
   "metadata": {},
   "source": [
    "Activities for the Python Intro Course:\n",
    "\n",
    "For the first six-weeks, Código Ecuador uses Microsoft's online introduction to Python course for absolute beginners along with additional coding exercises. Students will spend three classroom hours per week with an instructor learning the following:\n",
    "\n",
    "Using Python in Jupyter Notebooks\n",
    "Gathering input and manipulating input/output\n",
    "Building Reusable functions with parameters and return values\n",
    "Decisions and repetition using conditional statements and loops"
   ]
  },
  {
   "cell_type": "code",
   "execution_count": null,
   "metadata": {},
   "outputs": [],
   "source": []
  }
 ],
 "metadata": {
  "kernelspec": {
   "display_name": "Python 3",
   "language": "python",
   "name": "python3"
  },
  "language_info": {
   "codemirror_mode": {
    "name": "ipython",
    "version": 3
   },
   "file_extension": ".py",
   "mimetype": "text/x-python",
   "name": "python",
   "nbconvert_exporter": "python",
   "pygments_lexer": "ipython3",
   "version": "3.7.5"
  }
 },
 "nbformat": 4,
 "nbformat_minor": 4
}
