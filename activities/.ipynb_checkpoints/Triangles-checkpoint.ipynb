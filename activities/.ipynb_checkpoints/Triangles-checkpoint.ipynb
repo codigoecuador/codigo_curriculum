{
 "cells": [
  {
   "cell_type": "markdown",
   "metadata": {},
   "source": [
    "Author: Thomas Sullivan\n",
    "Optional Lesson: Triangles as a custom class. Doing math with Python. Covers basic geometry and trigonometry. May involve the use of the turtle module to draw triangles."
   ]
  },
  {
   "cell_type": "markdown",
   "metadata": {},
   "source": [
    "Can Python or another language be more than *just* a programming language. Can it also be used to illustrate concepts and take notes? We will try with this lesson to use Python to create a set of notes on an idea in math that is also an executable program."
   ]
  },
  {
   "cell_type": "code",
   "execution_count": 3,
   "metadata": {},
   "outputs": [],
   "source": [
    "#Let's create a custom class for Triangles\n",
    "#three attributes, one for each side, and a property that tells if it is or is not\n",
    "#actually a triangle\n",
    "\n",
    "class Triangle:\n",
    "    def __init__(self, side_a, side_b, side_c):\n",
    "        self.side_a: float = side_a\n",
    "        self.side_b: float = side_b\n",
    "        self.side_c: float = side_c\n",
    "        \n",
    "    @property\n",
    "    def is_triangle(self):\n",
    "        pass\n"
   ]
  },
  {
   "cell_type": "code",
   "execution_count": 19,
   "metadata": {},
   "outputs": [],
   "source": [
    "import math #import the math module\n",
    "\n",
    "class Triangle:\n",
    "    \n",
    "    def __init__(self, side_a, side_b, side_c):\n",
    "        self.side_a: float = side_a\n",
    "        self.side_b: float = side_b\n",
    "        self.side_c: float = side_c\n",
    "        \n",
    "    @property\n",
    "    def is_triangle(self):\n",
    "        sides = [self.side_a, self.side_b, self.side_c]\n",
    "        sides = sorted(sides)\n",
    "        print(sides)\n",
    "        if sides[0]+sides[1] > sides[2]:\n",
    "            return True\n",
    "        else:\n",
    "            return False\n",
    "\n",
    "\n"
   ]
  },
  {
   "cell_type": "code",
   "execution_count": 31,
   "metadata": {},
   "outputs": [],
   "source": [
    "from dataclasses import dataclass\n",
    "@dataclass\n",
    "class Angle:\n",
    "    measure: float\n",
    "        \n",
    "    def __init__(self, measure):\n",
    "        self.measure = measure\n",
    "    \n",
    "    @property\n",
    "    def radian_measure(self):\n",
    "        return math.radians(self.measure)\n",
    "    \n",
    "    @property\n",
    "    def degree_measure(self):\n",
    "        return self.measure"
   ]
  },
  {
   "cell_type": "code",
   "execution_count": 34,
   "metadata": {},
   "outputs": [
    {
     "name": "stdout",
     "output_type": "stream",
     "text": [
      "[5, 12, 13]\n"
     ]
    },
    {
     "data": {
      "text/plain": [
       "True"
      ]
     },
     "execution_count": 34,
     "metadata": {},
     "output_type": "execute_result"
    }
   ],
   "source": [
    "#So we have the triangle, and we have the angles in it\n",
    "#let's create a test triangle to see whether or not the triangle class works\n",
    "test = Triangle(5, 12, 13)\n",
    "test.is_triangle"
   ]
  },
  {
   "cell_type": "code",
   "execution_count": 35,
   "metadata": {},
   "outputs": [],
   "source": [
    "#Currently, we have a triangle. In any triangle, the two shorter sides have to be\n",
    "#bigger than the longest side, otherwise the sides won't connect!\n",
    "#Let's create an exception, so that we catch the incorrect triangles before\n",
    "#they are created\n",
    "class TriangleError(Exception):\n",
    "    def __init__(self):\n",
    "        self.message = 'Not a valid triangle'"
   ]
  },
  {
   "cell_type": "code",
   "execution_count": 30,
   "metadata": {},
   "outputs": [
    {
     "name": "stdout",
     "output_type": "stream",
     "text": [
      "[5, 12, 13]\n"
     ]
    },
    {
     "data": {
      "text/plain": [
       "True"
      ]
     },
     "execution_count": 30,
     "metadata": {},
     "output_type": "execute_result"
    }
   ],
   "source": [
    "import math #import the math module\n",
    "\n",
    "class Triangle:\n",
    "    \n",
    "    def __init__(self, side_a, side_b, side_c):\n",
    "        self.side_a: float = side_a\n",
    "        self.side_b: float = side_b\n",
    "        self.side_c: float = side_c\n",
    "        \n",
    "    @property\n",
    "    def is_triangle(self):\n",
    "        sides = [self.side_a, self.side_b, self.side_c]\n",
    "        sides = sorted(sides)\n",
    "        print(sides)\n",
    "        if sides[0]+sides[1] > sides[2]:\n",
    "            return True\n",
    "        else:\n",
    "            return False"
   ]
  },
  {
   "cell_type": "code",
   "execution_count": null,
   "metadata": {},
   "outputs": [],
   "source": []
  }
 ],
 "metadata": {
  "kernelspec": {
   "display_name": "Python 3",
   "language": "python",
   "name": "python3"
  },
  "language_info": {
   "codemirror_mode": {
    "name": "ipython",
    "version": 3
   },
   "file_extension": ".py",
   "mimetype": "text/x-python",
   "name": "python",
   "nbconvert_exporter": "python",
   "pygments_lexer": "ipython3",
   "version": "3.7.5"
  }
 },
 "nbformat": 4,
 "nbformat_minor": 4
}
