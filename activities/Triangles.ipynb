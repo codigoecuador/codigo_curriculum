{
 "cells": [
  {
   "cell_type": "markdown",
   "metadata": {},
   "source": [
    "Author: Thomas Sullivan\n",
    "Optional Lesson: Triangles as a custom class. Doing math with Python. Covers basic geometry and trigonometry. May involve the use of the turtle module to draw triangles."
   ]
  },
  {
   "cell_type": "markdown",
   "metadata": {},
   "source": [
    "Can Python or another language be more than *just* a programming language. Can it also be used to illustrate concepts and take notes? We will try with this lesson to use Python to create a set of notes on an idea in math that is also an executable program."
   ]
  },
  {
   "cell_type": "code",
   "execution_count": 33,
   "metadata": {},
   "outputs": [],
   "source": [
    "#Let's create a custom class for Triangles\n",
    "#three attributes, one for each side, and a property that tells if it is or is not\n",
    "#actually a triangle\n",
    "\n",
    "class Triangle:\n",
    "    def __init__(self, side_a, side_b, side_c):\n",
    "        self.side_a: float = side_a\n",
    "        self.side_b: float = side_b\n",
    "        self.side_c: float = side_c\n",
    "        \n",
    "    @property\n",
    "    def is_triangle(self):\n",
    "        pass\n"
   ]
  },
  {
   "cell_type": "code",
   "execution_count": 37,
   "metadata": {},
   "outputs": [],
   "source": [
    "import math #import the math module\n",
    "\n",
    "class Triangle:\n",
    "    \n",
    "    def __init__(self, side_a, side_b, side_c):\n",
    "        self.side_a: float = side_a\n",
    "        self.side_b: float = side_b\n",
    "        self.side_c: float = side_c\n",
    "        \n",
    "    @property\n",
    "    def is_triangle(self):\n",
    "        sides = [side_a, side_b, side_c]\n",
    "        sides = sorted(sides)\n",
    "        if len(side_a[0]+side_a[1]) > len(side_c):\n",
    "            return True\n",
    "        else:\n",
    "            return False\n",
    "\n"
   ]
  },
  {
   "cell_type": "code",
   "execution_count": 26,
   "metadata": {},
   "outputs": [],
   "source": [
    "@dataclass\n",
    "class Angle:\n",
    "    measure: float\n",
    "        \n",
    "    def __init__(self, measure):\n",
    "        self.measure = math.radians(measure)"
   ]
  },
  {
   "cell_type": "code",
   "execution_count": 25,
   "metadata": {},
   "outputs": [
    {
     "data": {
      "text/plain": [
       "1.0000003575641672"
      ]
     },
     "execution_count": 25,
     "metadata": {},
     "output_type": "execute_result"
    }
   ],
   "source": [
    "math.radians(57.2958)"
   ]
  },
  {
   "cell_type": "code",
   "execution_count": 28,
   "metadata": {},
   "outputs": [],
   "source": [
    "test = Triangle(5, 12, 13)"
   ]
  },
  {
   "cell_type": "code",
   "execution_count": 30,
   "metadata": {},
   "outputs": [
    {
     "data": {
      "text/plain": [
       "{'side_a': 5, 'side_b': 12, 'side_c': 13}"
      ]
     },
     "execution_count": 30,
     "metadata": {},
     "output_type": "execute_result"
    }
   ],
   "source": [
    "test.__dict__"
   ]
  },
  {
   "cell_type": "code",
   "execution_count": null,
   "metadata": {},
   "outputs": [],
   "source": []
  }
 ],
 "metadata": {
  "kernelspec": {
   "display_name": "Python 3",
   "language": "python",
   "name": "python3"
  },
  "language_info": {
   "codemirror_mode": {
    "name": "ipython",
    "version": 3
   },
   "file_extension": ".py",
   "mimetype": "text/x-python",
   "name": "python",
   "nbconvert_exporter": "python",
   "pygments_lexer": "ipython3",
   "version": "3.7.5"
  }
 },
 "nbformat": 4,
 "nbformat_minor": 4
}
