{
 "cells": [
  {
   "cell_type": "markdown",
   "metadata": {},
   "source": [
    "Pandas is the premier data analysis library for Python. This lesson will give you an introduction to the Pandas library and its capabilities."
   ]
  },
  {
   "cell_type": "code",
   "execution_count": 5,
   "metadata": {},
   "outputs": [],
   "source": [
    "#Let's import pandas first as pd\n",
    "import pandas as pd"
   ]
  },
  {
   "cell_type": "markdown",
   "metadata": {},
   "source": [
    "One of the most important sources of data for data science is goverment statistics. Perhaps no type of statistics are more prominent than election results. This lesson will use election results to show you how to use Pandas, Python's data analysis library for results from the 2017 UK general election."
   ]
  },
  {
   "cell_type": "code",
   "execution_count": 6,
   "metadata": {},
   "outputs": [],
   "source": [
    "#The Pandas series: the pandas series is the most basic type of data in Pandas. It is like a one-dimensional\n",
    "#array or list. Let's create a dictionary and then convert the data into a series."
   ]
  },
  {
   "cell_type": "code",
   "execution_count": 7,
   "metadata": {},
   "outputs": [],
   "source": [
    "series_data_2017 = {'Mark Fields (Conservative)': 18005, 'Ibrahim Dougas (Labour)': 14857,\n",
    "                   'Bridget Fox (Liberal Democrat)': 4270, 'Lawrence McNally (Green)': 821,\n",
    "                   'Anil Bhatti (UKIP)': 426, 'Tim Lord':173, 'Ankit Love':59,\n",
    "                    'Benjamin Weenen (Young People)': 43}"
   ]
  },
  {
   "cell_type": "code",
   "execution_count": 10,
   "metadata": {},
   "outputs": [],
   "source": [
    "london_westminster2017 = pd.Series(series_data_2017) #we feed the data to a dictionary"
   ]
  },
  {
   "cell_type": "code",
   "execution_count": 9,
   "metadata": {},
   "outputs": [
    {
     "data": {
      "text/plain": [
       "Mark Fields (Conservative)        18005\n",
       "Ibrahim Dougas (Labour)           14857\n",
       "Bridget Fox (Liberal Democrat)     4270\n",
       "Lawrence McNally (Green)            821\n",
       "Anil Bhatti (UKIP)                  426\n",
       "Tim Lord                            173\n",
       "Ankit Love                           59\n",
       "Benjamin Weenen (Young People)       43\n",
       "dtype: int64"
      ]
     },
     "execution_count": 9,
     "metadata": {},
     "output_type": "execute_result"
    }
   ],
   "source": [
    "london_westminster2017"
   ]
  },
  {
   "cell_type": "code",
   "execution_count": 16,
   "metadata": {},
   "outputs": [],
   "source": [
    "#Now let's create a dataframe with this series.\n",
    "election1 = pd.DataFrame(london_westminster2017)"
   ]
  },
  {
   "cell_type": "code",
   "execution_count": 26,
   "metadata": {},
   "outputs": [],
   "source": [
    "#election1.reindex(['candidate', 'votes'])"
   ]
  },
  {
   "cell_type": "code",
   "execution_count": 24,
   "metadata": {},
   "outputs": [
    {
     "data": {
      "text/html": [
       "<div>\n",
       "<style scoped>\n",
       "    .dataframe tbody tr th:only-of-type {\n",
       "        vertical-align: middle;\n",
       "    }\n",
       "\n",
       "    .dataframe tbody tr th {\n",
       "        vertical-align: top;\n",
       "    }\n",
       "\n",
       "    .dataframe thead th {\n",
       "        text-align: right;\n",
       "    }\n",
       "</style>\n",
       "<table border=\"1\" class=\"dataframe\">\n",
       "  <thead>\n",
       "    <tr style=\"text-align: right;\">\n",
       "      <th></th>\n",
       "      <th>Mark Fields (Conservative)</th>\n",
       "      <th>Ibrahim Dougas (Labour)</th>\n",
       "      <th>Bridget Fox (Liberal Democrat)</th>\n",
       "      <th>Lawrence McNally (Green)</th>\n",
       "      <th>Anil Bhatti (UKIP)</th>\n",
       "      <th>Tim Lord</th>\n",
       "      <th>Ankit Love</th>\n",
       "      <th>Benjamin Weenen (Young People)</th>\n",
       "    </tr>\n",
       "  </thead>\n",
       "  <tbody>\n",
       "    <tr>\n",
       "      <th>0</th>\n",
       "      <td>18005</td>\n",
       "      <td>14857</td>\n",
       "      <td>4270</td>\n",
       "      <td>821</td>\n",
       "      <td>426</td>\n",
       "      <td>173</td>\n",
       "      <td>59</td>\n",
       "      <td>43</td>\n",
       "    </tr>\n",
       "  </tbody>\n",
       "</table>\n",
       "</div>"
      ],
      "text/plain": [
       "   Mark Fields (Conservative)  Ibrahim Dougas (Labour)  \\\n",
       "0                       18005                    14857   \n",
       "\n",
       "   Bridget Fox (Liberal Democrat)  Lawrence McNally (Green)  \\\n",
       "0                            4270                       821   \n",
       "\n",
       "   Anil Bhatti (UKIP)  Tim Lord  Ankit Love  Benjamin Weenen (Young People)  \n",
       "0                 426       173          59                              43  "
      ]
     },
     "execution_count": 24,
     "metadata": {},
     "output_type": "execute_result"
    }
   ],
   "source": [
    "#Let's transpose this dataframe so that the data is horizontal instead of vertical\n",
    "new_result = election1.T\n",
    "new_result"
   ]
  },
  {
   "cell_type": "code",
   "execution_count": 31,
   "metadata": {},
   "outputs": [
    {
     "data": {
      "text/plain": [
       "Mark Fields (Conservative)        18005\n",
       "Ibrahim Dougas (Labour)           14857\n",
       "Bridget Fox (Liberal Democrat)     4270\n",
       "Lawrence McNally (Green)            821\n",
       "Anil Bhatti (UKIP)                  426\n",
       "Tim Lord                            173\n",
       "Benjamin Weenen (Young People)       43\n",
       "Name: 0, dtype: int64"
      ]
     },
     "execution_count": 31,
     "metadata": {},
     "output_type": "execute_result"
    }
   ],
   "source": [
    "#Let's pretend Ankit Love has dropped out of the race. We need to delete him.\n",
    "\n",
    "election1[0].drop('Ankit Love')"
   ]
  },
  {
   "cell_type": "code",
   "execution_count": 35,
   "metadata": {},
   "outputs": [
    {
     "data": {
      "text/plain": [
       "0    18005\n",
       "dtype: int64"
      ]
     },
     "execution_count": 35,
     "metadata": {},
     "output_type": "execute_result"
    }
   ],
   "source": [
    "#Let's calculate the minimum and maximum values\n",
    "election1.max() #notice how it prints an integer"
   ]
  },
  {
   "cell_type": "code",
   "execution_count": 37,
   "metadata": {},
   "outputs": [
    {
     "data": {
      "text/plain": [
       "0    43\n",
       "dtype: int64"
      ]
     },
     "execution_count": 37,
     "metadata": {},
     "output_type": "execute_result"
    }
   ],
   "source": [
    "election1.min() #notice how it prints another integer"
   ]
  },
  {
   "cell_type": "code",
   "execution_count": null,
   "metadata": {},
   "outputs": [],
   "source": []
  }
 ],
 "metadata": {
  "kernelspec": {
   "display_name": "Python 3",
   "language": "python",
   "name": "python3"
  },
  "language_info": {
   "codemirror_mode": {
    "name": "ipython",
    "version": 3
   },
   "file_extension": ".py",
   "mimetype": "text/x-python",
   "name": "python",
   "nbconvert_exporter": "python",
   "pygments_lexer": "ipython3",
   "version": "3.7.5"
  }
 },
 "nbformat": 4,
 "nbformat_minor": 4
}
