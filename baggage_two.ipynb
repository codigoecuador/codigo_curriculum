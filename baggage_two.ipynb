{
 "cells": [
  {
   "cell_type": "code",
   "execution_count": 54,
   "metadata": {},
   "outputs": [],
   "source": [
    "from typing import NamedTuple, List\n",
    "from dataclasses import dataclass\n",
    "import datetime"
   ]
  },
  {
   "cell_type": "markdown",
   "metadata": {},
   "source": [
    "Let's start our packing exercise by looking at what we cannot change. When we are packing our items, we cannot change how big or heavy it is. Let's use a NamedTuple class to create an item."
   ]
  },
  {
   "cell_type": "code",
   "execution_count": 14,
   "metadata": {},
   "outputs": [],
   "source": [
    "class Item(NamedTuple):\n",
    "    weight: int = 0\n",
    "    length: float = 0\n",
    "    width: float = 0\n",
    "    height: float = 0\n",
    "    \n",
    "    @property\n",
    "    def volume(self): #It is a normal class so we can create properties\n",
    "        return self.length * self.width * self.height"
   ]
  },
  {
   "cell_type": "code",
   "execution_count": 15,
   "metadata": {},
   "outputs": [],
   "source": [
    "shoe = Item(weight=1, length=7, width=3, height=4)"
   ]
  },
  {
   "cell_type": "markdown",
   "metadata": {},
   "source": [
    "We rarely if ever travel with only one shoe, so let's use Python's type hints to create \"pairs.\""
   ]
  },
  {
   "cell_type": "code",
   "execution_count": 16,
   "metadata": {},
   "outputs": [],
   "source": [
    "pair = List[Item]\n",
    "pair_one = [shoe, shoe] #These type hints are for the user, the computer will not stop you from adding\n",
    "#non-shoe items to this type of list"
   ]
  },
  {
   "cell_type": "markdown",
   "metadata": {},
   "source": [
    "Now let's create a box that we can use to store the items."
   ]
  },
  {
   "cell_type": "code",
   "execution_count": 82,
   "metadata": {},
   "outputs": [],
   "source": [
    "class Box:\n",
    "    \n",
    "    def __init__(self, label: str, length: float, width: float, height: float, items: list() = [],\n",
    "                is_closed: bool = False):\n",
    "        self.label = label\n",
    "        self.length = length\n",
    "        self.width = width\n",
    "        self.height = height\n",
    "        self.items = items\n",
    "        self.volume = length * width * height\n",
    "        self.__free_space = self.volume - sum([i.volume for i in items])\n",
    "        self.is_closed = is_closed\n",
    "        \n",
    "    def add_item(self, item):\n",
    "        if self.free_space <= 0:\n",
    "            print('Warning: box is full')\n",
    "        #if type(item) == 'Item': #make sure it is an item\n",
    "        self.items.append(item)\n",
    "        self.__free_space -= item.volume\n",
    "\n",
    "    def remove_item(self, item):\n",
    "        self.items.pop(item)\n",
    "        self.__free_space += item.volume\n",
    "        \n",
    "    def close_box(self):\n",
    "        if self.__free_space <= 0:\n",
    "            raise Exception('Box is full! Remove items to close.')\n",
    "        else:\n",
    "            self.is_closed = True\n",
    "            print('Box closed')\n",
    "\n",
    "    @property\n",
    "    def free_space(self):\n",
    "        return self.__free_space\n",
    "        "
   ]
  },
  {
   "cell_type": "code",
   "execution_count": 18,
   "metadata": {},
   "outputs": [],
   "source": [
    "box_one = Box(label='Shoes', length=15.0, width=15.0, height=15.0)"
   ]
  },
  {
   "cell_type": "code",
   "execution_count": 19,
   "metadata": {},
   "outputs": [
    {
     "data": {
      "text/plain": [
       "3375.0"
      ]
     },
     "execution_count": 19,
     "metadata": {},
     "output_type": "execute_result"
    }
   ],
   "source": [
    "box_one.volume"
   ]
  },
  {
   "cell_type": "code",
   "execution_count": 20,
   "metadata": {},
   "outputs": [],
   "source": [
    "box_one.add_item(shoe)"
   ]
  },
  {
   "cell_type": "code",
   "execution_count": 22,
   "metadata": {},
   "outputs": [
    {
     "data": {
      "text/plain": [
       "3291.0"
      ]
     },
     "execution_count": 22,
     "metadata": {},
     "output_type": "execute_result"
    }
   ],
   "source": [
    "box_one.free_space #now we have less free space than before, because we added a shoe to the box"
   ]
  },
  {
   "cell_type": "code",
   "execution_count": 24,
   "metadata": {},
   "outputs": [],
   "source": [
    "box_one.add_item(shoe)"
   ]
  },
  {
   "cell_type": "code",
   "execution_count": 25,
   "metadata": {},
   "outputs": [
    {
     "data": {
      "text/plain": [
       "3207.0"
      ]
     },
     "execution_count": 25,
     "metadata": {},
     "output_type": "execute_result"
    }
   ],
   "source": [
    "box_one.free_space"
   ]
  },
  {
   "cell_type": "code",
   "execution_count": 47,
   "metadata": {},
   "outputs": [],
   "source": [
    "@dataclass\n",
    "class Passenger:\n",
    "    __ticket_types = {'regular': 10, 'first class':15}\n",
    "    name: str\n",
    "    ticket_type: str = 'regular'\n",
    "    baggage = List[Box]\n",
    "        \n",
    "    @property\n",
    "    def ticket_price(self):\n",
    "        if self.ticket_type in self.__ticket_types.keys():\n",
    "            return self.__ticket_types[self.ticket_type]\n",
    "        \n",
    "    @property\n",
    "    def baggage_fee(self):\n",
    "        pass"
   ]
  },
  {
   "cell_type": "code",
   "execution_count": 45,
   "metadata": {},
   "outputs": [],
   "source": [
    "ts = Passenger(name = 'Thomas Sullivan', ticket_type='regular')"
   ]
  },
  {
   "cell_type": "code",
   "execution_count": 46,
   "metadata": {},
   "outputs": [
    {
     "data": {
      "text/plain": [
       "10"
      ]
     },
     "execution_count": 46,
     "metadata": {},
     "output_type": "execute_result"
    }
   ],
   "source": [
    "ts.ticket_price"
   ]
  },
  {
   "cell_type": "code",
   "execution_count": 48,
   "metadata": {},
   "outputs": [],
   "source": [
    "@dataclass\n",
    "class Vehicle:\n",
    "    vehicle_type: str\n",
    "    seats: int"
   ]
  },
  {
   "cell_type": "code",
   "execution_count": 67,
   "metadata": {},
   "outputs": [],
   "source": [
    "@dataclass\n",
    "class Trip:\n",
    "    driver: str\n",
    "    start_location: str\n",
    "    end_location: str\n",
    "    departure_time: datetime.datetime\n",
    "    arrival_time: datetime.datetime\n",
    "    passengers: List[Passenger]\n",
    "        \n",
    "    @property\n",
    "    def duration(self):\n",
    "        return self.arrival_time - self.departure_time\n",
    "    \n",
    "    @property\n",
    "    def ticket_earnings(self):\n",
    "        pass\n",
    "    \n",
    "    @property\n",
    "    def baggage_earnings(self):\n",
    "        pass\n",
    "    \n",
    "    "
   ]
  },
  {
   "cell_type": "code",
   "execution_count": 68,
   "metadata": {},
   "outputs": [],
   "source": [
    "now = datetime.datetime.now()"
   ]
  },
  {
   "cell_type": "code",
   "execution_count": 69,
   "metadata": {},
   "outputs": [],
   "source": [
    "now2 = datetime.timedelta(hours=6)"
   ]
  },
  {
   "cell_type": "code",
   "execution_count": 71,
   "metadata": {},
   "outputs": [],
   "source": [
    "new_trip = Trip(driver='Isaac Smith', start_location='Quito', end_location='Villcabamba', \n",
    "               departure_time = now, arrival_time = now+now2, passengers = [ts]) "
   ]
  },
  {
   "cell_type": "code",
   "execution_count": 80,
   "metadata": {},
   "outputs": [
    {
     "data": {
      "text/plain": [
       "datetime.timedelta(seconds=21600)"
      ]
     },
     "execution_count": 80,
     "metadata": {},
     "output_type": "execute_result"
    }
   ],
   "source": []
  },
  {
   "cell_type": "code",
   "execution_count": null,
   "metadata": {},
   "outputs": [],
   "source": []
  }
 ],
 "metadata": {
  "kernelspec": {
   "display_name": "Python 3",
   "language": "python",
   "name": "python3"
  },
  "language_info": {
   "codemirror_mode": {
    "name": "ipython",
    "version": 3
   },
   "file_extension": ".py",
   "mimetype": "text/x-python",
   "name": "python",
   "nbconvert_exporter": "python",
   "pygments_lexer": "ipython3",
   "version": "3.7.4"
  }
 },
 "nbformat": 4,
 "nbformat_minor": 4
}
