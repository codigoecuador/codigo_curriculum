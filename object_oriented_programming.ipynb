{
 "cells": [
  {
   "cell_type": "code",
   "execution_count": 2,
   "metadata": {},
   "outputs": [],
   "source": [
    "#As we have said before everything in Python is an object.\n",
    "#We have already discussed many types of objects, such as strings, lists, integers\n",
    "#floats, sets, and dictionaries.\n",
    "#The namedtuple class we discussed earlier is our first example of a custom object.\n",
    "#Let's review the namedTuple"
   ]
  },
  {
   "cell_type": "code",
   "execution_count": 3,
   "metadata": {},
   "outputs": [],
   "source": [
    "from collections import namedtuple\n",
    "Grade = namedtuple('Grade', ['Student', 'Score', 'Date'])"
   ]
  },
  {
   "cell_type": "code",
   "execution_count": 4,
   "metadata": {},
   "outputs": [],
   "source": [
    "#Since we have a date in this namedtuple, we must import the datetime module\n",
    "import datetime\n",
    "\n",
    "result1 = Grade('Thomas', 92, datetime.date(2019, 9, 26))"
   ]
  },
  {
   "cell_type": "code",
   "execution_count": 5,
   "metadata": {},
   "outputs": [
    {
     "data": {
      "text/plain": [
       "Grade(Student='Thomas', Score=92, Date=datetime.date(2019, 9, 26))"
      ]
     },
     "execution_count": 5,
     "metadata": {},
     "output_type": "execute_result"
    }
   ],
   "source": [
    "result1 #We see here that the result is an example of the \"Grade\" type."
   ]
  },
  {
   "cell_type": "code",
   "execution_count": 8,
   "metadata": {},
   "outputs": [
    {
     "data": {
      "text/plain": [
       "__main__.Grade"
      ]
     },
     "execution_count": 8,
     "metadata": {},
     "output_type": "execute_result"
    }
   ],
   "source": [
    "#Let's check the type\n",
    "type(result1)"
   ]
  },
  {
   "cell_type": "code",
   "execution_count": 10,
   "metadata": {},
   "outputs": [
    {
     "name": "stdout",
     "output_type": "stream",
     "text": [
      "<class 'int'>\n",
      "<class 'list'>\n"
     ]
    }
   ],
   "source": [
    "#We see that the type is __main__.Grade. This indicates it is of the grade datatype,\n",
    "#But wait a minute, what does the __main__ mean?\n",
    "\n",
    "#When we check the type of an integer, its not present:\n",
    "a=5\n",
    "print(type(a))\n",
    "#same thing with a list\n",
    "test = [1,2,3]\n",
    "print(type(test))\n",
    "#What do we see here? It says <class 'int'> and <class 'list'> This is different. It turns out\n",
    "#built in objects display their type differently. So what does __main__ mean? The answer is\n",
    "#that the custom type \"Grade\" is a subtype of the generic object type, which is listed here as\n",
    "#__main__. "
   ]
  },
  {
   "cell_type": "code",
   "execution_count": 13,
   "metadata": {},
   "outputs": [
    {
     "name": "stdout",
     "output_type": "stream",
     "text": [
      "Help on class Grade in module __main__:\n",
      "\n",
      "class Grade(builtins.tuple)\n",
      " |  Grade(Student, Score, Date)\n",
      " |  \n",
      " |  Grade(Student, Score, Date)\n",
      " |  \n",
      " |  Method resolution order:\n",
      " |      Grade\n",
      " |      builtins.tuple\n",
      " |      builtins.object\n",
      " |  \n",
      " |  Methods defined here:\n",
      " |  \n",
      " |  __getnewargs__(self)\n",
      " |      Return self as a plain tuple.  Used by copy and pickle.\n",
      " |  \n",
      " |  __repr__(self)\n",
      " |      Return a nicely formatted representation string\n",
      " |  \n",
      " |  _asdict(self)\n",
      " |      Return a new OrderedDict which maps field names to their values.\n",
      " |  \n",
      " |  _replace(_self, **kwds)\n",
      " |      Return a new Grade object replacing specified fields with new values\n",
      " |  \n",
      " |  ----------------------------------------------------------------------\n",
      " |  Class methods defined here:\n",
      " |  \n",
      " |  _make(iterable) from builtins.type\n",
      " |      Make a new Grade object from a sequence or iterable\n",
      " |  \n",
      " |  ----------------------------------------------------------------------\n",
      " |  Static methods defined here:\n",
      " |  \n",
      " |  __new__(_cls, Student, Score, Date)\n",
      " |      Create new instance of Grade(Student, Score, Date)\n",
      " |  \n",
      " |  ----------------------------------------------------------------------\n",
      " |  Data descriptors defined here:\n",
      " |  \n",
      " |  Student\n",
      " |      Alias for field number 0\n",
      " |  \n",
      " |  Score\n",
      " |      Alias for field number 1\n",
      " |  \n",
      " |  Date\n",
      " |      Alias for field number 2\n",
      " |  \n",
      " |  ----------------------------------------------------------------------\n",
      " |  Data and other attributes defined here:\n",
      " |  \n",
      " |  _field_defaults = {}\n",
      " |  \n",
      " |  _fields = ('Student', 'Score', 'Date')\n",
      " |  \n",
      " |  _fields_defaults = {}\n",
      " |  \n",
      " |  ----------------------------------------------------------------------\n",
      " |  Methods inherited from builtins.tuple:\n",
      " |  \n",
      " |  __add__(self, value, /)\n",
      " |      Return self+value.\n",
      " |  \n",
      " |  __contains__(self, key, /)\n",
      " |      Return key in self.\n",
      " |  \n",
      " |  __eq__(self, value, /)\n",
      " |      Return self==value.\n",
      " |  \n",
      " |  __ge__(self, value, /)\n",
      " |      Return self>=value.\n",
      " |  \n",
      " |  __getattribute__(self, name, /)\n",
      " |      Return getattr(self, name).\n",
      " |  \n",
      " |  __getitem__(self, key, /)\n",
      " |      Return self[key].\n",
      " |  \n",
      " |  __gt__(self, value, /)\n",
      " |      Return self>value.\n",
      " |  \n",
      " |  __hash__(self, /)\n",
      " |      Return hash(self).\n",
      " |  \n",
      " |  __iter__(self, /)\n",
      " |      Implement iter(self).\n",
      " |  \n",
      " |  __le__(self, value, /)\n",
      " |      Return self<=value.\n",
      " |  \n",
      " |  __len__(self, /)\n",
      " |      Return len(self).\n",
      " |  \n",
      " |  __lt__(self, value, /)\n",
      " |      Return self<value.\n",
      " |  \n",
      " |  __mul__(self, value, /)\n",
      " |      Return self*value.\n",
      " |  \n",
      " |  __ne__(self, value, /)\n",
      " |      Return self!=value.\n",
      " |  \n",
      " |  __rmul__(self, value, /)\n",
      " |      Return value*self.\n",
      " |  \n",
      " |  count(self, value, /)\n",
      " |      Return number of occurrences of value.\n",
      " |  \n",
      " |  index(self, value, start=0, stop=9223372036854775807, /)\n",
      " |      Return first index of value.\n",
      " |      \n",
      " |      Raises ValueError if the value is not present.\n",
      "\n"
     ]
    }
   ],
   "source": [
    "#How do we access the attributes of a Grade object? Let's find out.\n",
    "help(Grade)"
   ]
  },
  {
   "cell_type": "code",
   "execution_count": 3,
   "metadata": {},
   "outputs": [],
   "source": [
    "#Let's continue our journey into object-oriented programming by taking a look at\n",
    "#the NamedTuple, which is created by importing the typing module\n",
    "from typing import NamedTuple\n",
    "\n",
    "class Cat(NamedTuple): #The NamedTuple means it is a subclass of NamedTuple\n",
    "    name: str #the cat's name\n",
    "    age: int #the cat's age (an integer)\n",
    "    color: str #the cat's color (a string)\n",
    "\n",
    "#We just created our first custom class. What is a class? A class is a type of \n",
    "#Object that shares the same traits with all other members of its class."
   ]
  },
  {
   "cell_type": "code",
   "execution_count": 4,
   "metadata": {},
   "outputs": [],
   "source": [
    "#Let's create a cat to look further\n",
    "scratchy = Cat(name='Scratchy', age=5, color='black')"
   ]
  },
  {
   "cell_type": "code",
   "execution_count": 7,
   "metadata": {},
   "outputs": [
    {
     "name": "stdout",
     "output_type": "stream",
     "text": [
      "Cat(name='Scratchy', age=5, color='black')\n"
     ]
    }
   ],
   "source": [
    "#Now let's take a look at one of the instances\n",
    "print(scratchy)"
   ]
  },
  {
   "cell_type": "code",
   "execution_count": 22,
   "metadata": {},
   "outputs": [
    {
     "name": "stdout",
     "output_type": "stream",
     "text": [
      "We cannot change the attributes of a tuple, because its immutable\n"
     ]
    }
   ],
   "source": [
    "#A class is a type of object, an instance is a single object in that class.\n",
    "#All instances share certain characteristics\n",
    "#A NamedTuple for example is still a tuple\n",
    "\n",
    "try:\n",
    "    scratchy.age += 1\n",
    "except AttributeError:\n",
    "    print('We cannot change the attributes of a tuple, because its immutable')"
   ]
  },
  {
   "cell_type": "code",
   "execution_count": 23,
   "metadata": {},
   "outputs": [],
   "source": [
    "#Like all tuples, we cannot change a value once it is set\n",
    "#Why can't we change the attributes of a NamedTuple? It turns out that a NamedTuple\n",
    "#is a type of Tuple, and thus \"inherits\" characteristics shared by all Tuples\n",
    "#To change something, we have to create another NamedTuple with the desired\n",
    "#attribute"
   ]
  },
  {
   "cell_type": "code",
   "execution_count": 24,
   "metadata": {},
   "outputs": [
    {
     "name": "stdout",
     "output_type": "stream",
     "text": [
      "Cat(name='Scratchy', age=6, color='black')\n"
     ]
    }
   ],
   "source": [
    "#Scratchy has just gotten a year older, let's raise his age:\n",
    "scratchy = Cat(name='Scratchy', age=6, color='black')\n",
    "print(scratchy)"
   ]
  },
  {
   "cell_type": "code",
   "execution_count": 25,
   "metadata": {},
   "outputs": [],
   "source": [
    "#Notice how we just created a new Tuple to replace the previous one"
   ]
  },
  {
   "cell_type": "code",
   "execution_count": null,
   "metadata": {},
   "outputs": [],
   "source": []
  }
 ],
 "metadata": {
  "kernelspec": {
   "display_name": "Python 3",
   "language": "python",
   "name": "python3"
  },
  "language_info": {
   "codemirror_mode": {
    "name": "ipython",
    "version": 3
   },
   "file_extension": ".py",
   "mimetype": "text/x-python",
   "name": "python",
   "nbconvert_exporter": "python",
   "pygments_lexer": "ipython3",
   "version": "3.7.4"
  }
 },
 "nbformat": 4,
 "nbformat_minor": 4
}
