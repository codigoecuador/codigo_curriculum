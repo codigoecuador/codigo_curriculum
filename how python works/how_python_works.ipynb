{
 "cells": [
  {
   "cell_type": "markdown",
   "metadata": {},
   "source": [
    "# Optional but fun!\n",
    "\n",
    "# How Python Works\n",
    "\n",
    "What actually happens when we run code in Python? Let's investigate how Python works using the abstract syntax tree.\n",
    "\n"
   ]
  },
  {
   "cell_type": "code",
   "execution_count": 2,
   "metadata": {},
   "outputs": [],
   "source": [
    "import ast"
   ]
  },
  {
   "cell_type": "code",
   "execution_count": 3,
   "metadata": {},
   "outputs": [
    {
     "data": {
      "text/plain": [
       "<function ast.parse(source, filename='<unknown>', mode='exec')>"
      ]
     },
     "execution_count": 3,
     "metadata": {},
     "output_type": "execute_result"
    }
   ],
   "source": [
    "ast.parse"
   ]
  },
  {
   "cell_type": "code",
   "execution_count": 4,
   "metadata": {},
   "outputs": [
    {
     "data": {
      "text/plain": [
       "\"Module(body=[Assign(targets=[Name(id='x', ctx=Store())], value=Num(n=42))])\""
      ]
     },
     "execution_count": 4,
     "metadata": {},
     "output_type": "execute_result"
    }
   ],
   "source": [
    "ast.dump(ast.parse(\"x = 42\"))"
   ]
  },
  {
   "cell_type": "markdown",
   "metadata": {},
   "source": [
    "The result that we get is `Module(body=[Assign(targets=[Name(id='x', ctx=Store())], value=Num(n=42))])`\n",
    "\n",
    "Since we entered the line by itself, it considers it to be a module. It uses `Assign` to specify it is assigning something. `targets` is what is assigned, and the name is under the parameter `name`, while the value of 42 is stored as a `Num` with the value of 42."
   ]
  },
  {
   "cell_type": "code",
   "execution_count": 7,
   "metadata": {},
   "outputs": [
    {
     "data": {
      "text/plain": [
       "<code object <module> at 0x10ba8cc90, file \"<input>\", line 1>"
      ]
     },
     "execution_count": 7,
     "metadata": {},
     "output_type": "execute_result"
    }
   ],
   "source": [
    "#Let's use the abstract syntax tree manually. We use 'compile' to compile\n",
    "#the information, and 'parse' to execute it.\n",
    "\n",
    "compile(ast.parse(\"x=42\"), '<input>', 'exec')\n",
    "\n",
    "#'input' here just means we are getting the text from the console instead\n",
    "#of a file"
   ]
  },
  {
   "cell_type": "code",
   "execution_count": 6,
   "metadata": {},
   "outputs": [],
   "source": [
    "#let's use eval to execute the code. \n",
    "\n",
    "eval(compile(ast.parse(\"x=42\"), '<input>', 'exec'))"
   ]
  },
  {
   "cell_type": "code",
   "execution_count": 9,
   "metadata": {},
   "outputs": [
    {
     "data": {
      "text/plain": [
       "42"
      ]
     },
     "execution_count": 9,
     "metadata": {},
     "output_type": "execute_result"
    }
   ],
   "source": [
    "#Let's see how it works\n",
    "x #we've just done a really complicated way of assigning x to 2"
   ]
  },
  {
   "cell_type": "markdown",
   "metadata": {},
   "source": [
    "Let's do something more complicated. Let's look at a class definition"
   ]
  },
  {
   "cell_type": "code",
   "execution_count": 7,
   "metadata": {},
   "outputs": [
    {
     "data": {
      "text/plain": [
       "\"Module(body=[ClassDef(name='Entry', bases=[], keywords=[], body=[FunctionDef(name='__init__', args=arguments(args=[arg(arg='self', annotation=None), arg(arg='name', annotation=None)], vararg=None, kwonlyargs=[], kw_defaults=[], kwarg=None, defaults=[]), body=[Assign(targets=[Attribute(value=Name(id='self', ctx=Load()), attr='name', ctx=Store())], value=Name(id='name', ctx=Load()))], decorator_list=[], returns=None)], decorator_list=[])])\""
      ]
     },
     "execution_count": 7,
     "metadata": {},
     "output_type": "execute_result"
    }
   ],
   "source": [
    "ast.dump(ast.parse(\"\"\"class Entry:\n",
    "        def __init__(self, name):\n",
    "                self.name = name\"\"\"))"
   ]
  },
  {
   "cell_type": "markdown",
   "metadata": {},
   "source": [
    "This is a bit dense, but it lets us see what goes on when we create a class. Python keeps track of the type of arguments and keywords assigned to a class within the syntax tree.\n",
    "\n",
    "We can also parse the abstract syntax tree to create new Python code. This is extremely tedious and there's no reason to do it if you don't want to."
   ]
  },
  {
   "cell_type": "code",
   "execution_count": 11,
   "metadata": {},
   "outputs": [
    {
     "ename": "NameError",
     "evalue": "name 'Module' is not defined",
     "output_type": "error",
     "traceback": [
      "\u001b[0;31m---------------------------------------------------------------------------\u001b[0m",
      "\u001b[0;31mNameError\u001b[0m                                 Traceback (most recent call last)",
      "\u001b[0;32m<ipython-input-11-f0eeb53455b5>\u001b[0m in \u001b[0;36m<module>\u001b[0;34m\u001b[0m\n\u001b[1;32m      1\u001b[0m eval(compile(ast.parse(\"\"\"Module(body=[ImportFrom(module='dataclasses', names=[alias(name='dataclass', asname=None)], level=0), ClassDef(name='Entry', bases=[], keywords=[], body=[FunctionDef(name='__init__', args=arguments(args=[arg(arg='self', annotation=None), arg(arg='name', annotation=None)], vararg=None, kwonlyargs=[], kw_defaults=[], kwarg=None, defaults=[]), body=[Assign(targets=[Name(id='name', ctx=Store())], value=Name(id='str', ctx=Load()))], decorator_list=[], returns=None)], decorator_list=[Name(id='dataclass', ctx=Load())])])\"\"\"),\n\u001b[0;32m----> 2\u001b[0;31m             '<index>', 'exec'))\n\u001b[0m",
      "\u001b[0;32m<index>\u001b[0m in \u001b[0;36m<module>\u001b[0;34m\u001b[0m\n",
      "\u001b[0;31mNameError\u001b[0m: name 'Module' is not defined"
     ]
    }
   ],
   "source": [
    "#Try creating some code based on the AST module and test it out. What happens\n",
    "#when we assign a new method to a class, or a new value to a variable."
   ]
  },
  {
   "cell_type": "code",
   "execution_count": null,
   "metadata": {},
   "outputs": [],
   "source": [
    "ast.dump(ast.pa)"
   ]
  }
 ],
 "metadata": {
  "kernelspec": {
   "display_name": "Python 3",
   "language": "python",
   "name": "python3"
  },
  "language_info": {
   "codemirror_mode": {
    "name": "ipython",
    "version": 3
   },
   "file_extension": ".py",
   "mimetype": "text/x-python",
   "name": "python",
   "nbconvert_exporter": "python",
   "pygments_lexer": "ipython3",
   "version": "3.7.5"
  }
 },
 "nbformat": 4,
 "nbformat_minor": 4
}
