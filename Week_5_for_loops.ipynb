{
 "cells": [
  {
   "cell_type": "markdown",
   "metadata": {},
   "source": [
    "Lesson Title: for loops\n",
    "\n",
    "Sometimes we need the computer to do something more than once.\n",
    "\n",
    "Python uses a for loop to make this happen. For loops go over each element in a list or range of numbers once.\n",
    "\n",
    "Here is how we write a for loop:\n",
    "\n",
    "for [item] in [list]:\n",
    "\n",
    "    [statements to be executed]"
   ]
  },
  {
   "cell_type": "code",
   "execution_count": 1,
   "metadata": {},
   "outputs": [
    {
     "name": "stdout",
     "output_type": "stream",
     "text": [
      "1\n",
      "2\n",
      "3\n",
      "4\n",
      "5\n",
      "6\n",
      "7\n",
      "8\n",
      "9\n",
      "10\n"
     ]
    }
   ],
   "source": [
    "#In this example, we define a list containing the numbers one through ten\n",
    "#Then we create a for loop that prints each number.\n",
    "\n",
    "one_to_ten = [1,2,3,4,5,6,7,8,9,10]\n",
    "\n",
    "for i in one_to_ten:\n",
    "    print(i)"
   ]
  },
  {
   "cell_type": "code",
   "execution_count": 2,
   "metadata": {},
   "outputs": [
    {
     "name": "stdout",
     "output_type": "stream",
     "text": [
      "a\n",
      "b\n",
      "c\n",
      "d\n",
      "e\n",
      "f\n",
      "g\n"
     ]
    }
   ],
   "source": [
    "#Let's try another example using letters.\n",
    "#The following code creates a list of the letters 'a' through 'g' and prints each one.\n",
    "\n",
    "letters=['a','b','c','d','e','f','g']\n",
    "for i in letters:\n",
    "    print(i)"
   ]
  },
  {
   "cell_type": "markdown",
   "metadata": {},
   "source": [
    "So when we create a for loop covering a list using the print function,\n",
    "the computer will print each element in that list. But what if we wanted the loop to stop once it reached an odd number? "
   ]
  },
  {
   "cell_type": "code",
   "execution_count": null,
   "metadata": {},
   "outputs": [],
   "source": []
  }
 ],
 "metadata": {
  "kernelspec": {
   "display_name": "Python 3",
   "language": "python",
   "name": "python3"
  },
  "language_info": {
   "codemirror_mode": {
    "name": "ipython",
    "version": 3
   },
   "file_extension": ".py",
   "mimetype": "text/x-python",
   "name": "python",
   "nbconvert_exporter": "python",
   "pygments_lexer": "ipython3",
   "version": "3.7.4"
  }
 },
 "nbformat": 4,
 "nbformat_minor": 2
}
