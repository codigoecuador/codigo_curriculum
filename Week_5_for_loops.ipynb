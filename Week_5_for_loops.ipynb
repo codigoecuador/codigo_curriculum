{
 "cells": [
  {
   "cell_type": "markdown",
   "metadata": {},
   "source": [
    "Lesson Title: for loops\n",
    "\n",
    "Sometimes we need the computer to do something more than once.\n",
    "\n",
    "Python uses a for loop to make this happen. For loops go over each element in a list or range of numbers once.\n",
    "\n",
    "Here is how we write a for loop:\n",
    "\n",
    "for [item] in [list]:\n",
    "\n",
    "    [statements to be executed]"
   ]
  },
  {
   "cell_type": "code",
   "execution_count": 1,
   "metadata": {},
   "outputs": [
    {
     "name": "stdout",
     "output_type": "stream",
     "text": [
      "1\n",
      "2\n",
      "3\n",
      "4\n",
      "5\n",
      "6\n",
      "7\n",
      "8\n",
      "9\n",
      "10\n"
     ]
    }
   ],
   "source": [
    "#In this example, we define a list containing the numbers one through ten\n",
    "#Then we create a for loop that prints each number.\n",
    "\n",
    "one_to_ten = [1,2,3,4,5,6,7,8,9,10]\n",
    "\n",
    "for i in one_to_ten:\n",
    "    print(i)"
   ]
  },
  {
   "cell_type": "code",
   "execution_count": 2,
   "metadata": {},
   "outputs": [
    {
     "name": "stdout",
     "output_type": "stream",
     "text": [
      "a\n",
      "b\n",
      "c\n",
      "d\n",
      "e\n",
      "f\n",
      "g\n"
     ]
    }
   ],
   "source": [
    "#Let's try another example using letters.\n",
    "#The following code creates a list of the letters 'a' through 'g' and prints each one.\n",
    "\n",
    "letters=['a','b','c','d','e','f','g']\n",
    "for i in letters:\n",
    "    print(i)"
   ]
  },
  {
   "cell_type": "markdown",
   "metadata": {},
   "source": [
    "So when we create a for loop covering a list using the print function,\n",
    "the computer will print each element in that list. But what if we wanted the loop to stop once it reached an even number?\n",
    "\n",
    "As we know, we can use the modulus or % operator to determine whether a number is even or odd.\n",
    "We can add a condition called a \"break\" statement to make the loop stop once it finds an odd number."
   ]
  },
  {
   "cell_type": "code",
   "execution_count": 6,
   "metadata": {},
   "outputs": [
    {
     "name": "stdout",
     "output_type": "stream",
     "text": [
      "1\n",
      "2\n"
     ]
    }
   ],
   "source": [
    "one_to_ten = [1,2,3,4,5,6,7,8,9,10]\n",
    "for i in one_to_ten:\n",
    "    print(i)\n",
    "    if i % 2 == 0: #if i is even\n",
    "        break"
   ]
  },
  {
   "cell_type": "markdown",
   "metadata": {},
   "source": [
    "As you can see, the loop stops as soon as it reaches an even number.\n",
    "\n",
    "All the for loops so far say \"for i in [list]\". We do not have to use i in the for loops, we can actually use name we want. This can help us read the code. For example:"
   ]
  },
  {
   "cell_type": "code",
   "execution_count": 7,
   "metadata": {},
   "outputs": [
    {
     "name": "stdout",
     "output_type": "stream",
     "text": [
      "red\n",
      "green\n",
      "blue\n",
      "yellow\n",
      "orange\n",
      "brown\n",
      "black\n",
      "white\n"
     ]
    }
   ],
   "source": [
    "colors = ['red', 'green', 'blue', 'yellow', 'orange', 'brown', 'black', 'white']\n",
    "for color in colors:\n",
    "    print(color)"
   ]
  },
  {
   "cell_type": "markdown",
   "metadata": {},
   "source": [
    "What happens if we want to skip a certain color, but have the loop continue.\n",
    "We can do this using the \"continue\" statement. Please note that this statement is\n",
    "very rare in professional code.\n",
    "\n",
    "The following example skips the color yellow when we iterate through the list of colors:"
   ]
  },
  {
   "cell_type": "code",
   "execution_count": 10,
   "metadata": {},
   "outputs": [
    {
     "name": "stdout",
     "output_type": "stream",
     "text": [
      "red\n",
      "green\n",
      "blue\n",
      "orange\n",
      "brown\n",
      "black\n",
      "white\n"
     ]
    }
   ],
   "source": [
    "colors = ['red', 'green', 'blue', 'yellow', 'orange', 'brown', 'black', 'white']\n",
    "for color in colors:\n",
    "    if color != 'yellow':\n",
    "        print(color)\n",
    "    else:\n",
    "        continue"
   ]
  },
  {
   "cell_type": "markdown",
   "metadata": {},
   "source": [
    "As you can see, the list of colors is printed, but yellow is left out."
   ]
  },
  {
   "cell_type": "markdown",
   "metadata": {},
   "source": [
    "You can also set a for loop to run a specific number of times and no more. You can\n",
    "do this by making use of a python feature called a function. In this case we will use the built-in range function, which allows us to specify a range of numbers.\n",
    "\n",
    "\"for [item] in range(start, stop):\"\n",
    "    statement\n",
    "                       "
   ]
  },
  {
   "cell_type": "code",
   "execution_count": 5,
   "metadata": {},
   "outputs": [
    {
     "name": "stdout",
     "output_type": "stream",
     "text": [
      "0\n",
      "1\n",
      "2\n",
      "3\n",
      "4\n"
     ]
    }
   ],
   "source": [
    "for i in range(5):\n",
    "    print(i)"
   ]
  },
  {
   "cell_type": "markdown",
   "metadata": {},
   "source": [
    "Notice how we just typed that the range is 5, but the numbers started with zero.\n",
    "This is called zero indexing, and for loops use zero indexing in the same way as\n",
    "lists. The first element is always zero if we don't specify one. But what if we\n",
    "wanted to print the numbers 1 to 5?\n",
    "\n",
    "We can do this by specifying the starting and ending values to the for loop. Let's\n",
    "specify the range as starting at 1 and ending at 5."
   ]
  },
  {
   "cell_type": "code",
   "execution_count": 7,
   "metadata": {},
   "outputs": [
    {
     "name": "stdout",
     "output_type": "stream",
     "text": [
      "1\n",
      "2\n",
      "3\n",
      "4\n"
     ]
    }
   ],
   "source": [
    "for i in range(1, 5):\n",
    "    print(i)"
   ]
  },
  {
   "cell_type": "markdown",
   "metadata": {},
   "source": [
    "Wait?! What happened? Didn't we tell the computer we wanted to print from 1 to 5\n",
    "and it stopped at 4? Why?\n",
    "\n",
    "It turns out that the range stops one number before it reaches the last number.\n",
    "How would we get it to stop at 5? By specifying the range as starting at 1 \n",
    "and ending at 6."
   ]
  },
  {
   "cell_type": "code",
   "execution_count": 8,
   "metadata": {},
   "outputs": [
    {
     "name": "stdout",
     "output_type": "stream",
     "text": [
      "1\n",
      "2\n",
      "3\n",
      "4\n",
      "5\n"
     ]
    }
   ],
   "source": [
    "for i in range(1, 6):\n",
    "    print(i)"
   ]
  },
  {
   "cell_type": "code",
   "execution_count": null,
   "metadata": {},
   "outputs": [],
   "source": []
  }
 ],
 "metadata": {
  "kernelspec": {
   "display_name": "Python 3",
   "language": "python",
   "name": "python3"
  },
  "language_info": {
   "codemirror_mode": {
    "name": "ipython",
    "version": 3
   },
   "file_extension": ".py",
   "mimetype": "text/x-python",
   "name": "python",
   "nbconvert_exporter": "python",
   "pygments_lexer": "ipython3",
   "version": "3.7.4"
  }
 },
 "nbformat": 4,
 "nbformat_minor": 4
}
